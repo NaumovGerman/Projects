{
 "cells": [
  {
   "cell_type": "code",
   "execution_count": 1,
   "id": "88dcc144-4a12-4a82-b283-df77e34360ba",
   "metadata": {},
   "outputs": [],
   "source": [
    "import pandas as pd\n",
    "import numpy as np\n",
    "import seaborn as sns\n",
    "from scipy import stats\n",
    "import matplotlib.pyplot as plt\n",
    "\n",
    "from sklearn.preprocessing import LabelEncoder, MinMaxScaler, StandardScaler\n",
    "from sklearn.model_selection import train_test_split, StratifiedKFold, RandomizedSearchCV\n",
    "from sklearn.metrics import roc_auc_score, accuracy_score\n",
    "from sklearn.linear_model import LogisticRegression\n",
    "from sklearn.ensemble import RandomForestClassifier, VotingClassifier, StackingClassifier\n",
    "from sklearn.neighbors import KNeighborsClassifier\n",
    "from sklearn.calibration import CalibratedClassifierCV\n",
    "\n",
    "from lightgbm import LGBMClassifier\n",
    "from catboost import CatBoostClassifier\n",
    "from xgboost import XGBClassifier\n",
    "\n",
    "from get_metrics import get_metrics_classification\n",
    "import optuna\n",
    "from tqdm import tqdm_notebook\n",
    "import warnings\n",
    "from warnings import simplefilter\n",
    "warnings.filterwarnings(\"ignore\")\n",
    "simplefilter(\"ignore\", category=RuntimeWarning)\n",
    "\n",
    "N_FOLDS = 5\n",
    "RAND = 10"
   ]
  },
  {
   "cell_type": "markdown",
   "id": "44e554f9-6cd2-4c18-87bb-ed8341e46f5e",
   "metadata": {},
   "source": [
    "# Preparing"
   ]
  },
  {
   "cell_type": "markdown",
   "id": "64b3857d-f0cb-4e7c-a094-8dd0d5bfa3d2",
   "metadata": {},
   "source": [
    "- country - Country interviewee is in.\n",
    "- year - Year survey was done in.\n",
    "- uniqueid - Unique identifier for each interviewee\n",
    "- location_type\t- Type of location: Rural, Urban\n",
    "- cellphone_access - If interviewee has access to a cellphone: Yes, No\n",
    "- household_size - Number of people living in one house\n",
    "- age_of_respondent - The age of the interviewee\n",
    "- gender_of_respondent - Gender of interviewee: Male, Female\n",
    "- relationship_with_head - The interviewee’s relationship with the head of the house:Head of Household, Spouse, Child, Parent, Other relative, Other non-relatives, Don't know\n",
    "- marital_status - The martial status of the interviewee: Married/Living together, Divorced/Seperated, Widowed, Single/Never Married, Don't know\n",
    "- education_level - Highest level of education: No formal education, Primary education, Secondary education, Vocational/Specialised training, Tertiary education, Other/Dont know/RTA\n",
    "- job_type - Type of job interviewee has: Farming and Fishing, Self employed, Formally employed Government, Formally employed Private, Informally employed, Remittance Dependent, Government Dependent, Other Income, No Income, Dont Know/Refuse to answerrming and Fishi..."
   ]
  },
  {
   "cell_type": "code",
   "execution_count": 2,
   "id": "00af193b-d7bb-4f49-92c6-78e1336663b5",
   "metadata": {},
   "outputs": [],
   "source": [
    "df = pd.read_csv('../data/kaggle/affrica_fin_incl/Train.csv')"
   ]
  },
  {
   "cell_type": "code",
   "execution_count": 3,
   "id": "3ff435de-a895-4d80-ac72-3de58d7bd228",
   "metadata": {},
   "outputs": [],
   "source": [
    "def check_overfitting(metric_fun,\n",
    "                      y_train,\n",
    "                      y_test,\n",
    "                      X_train=None,\n",
    "                      X_test=None,\n",
    "                      model=None,\n",
    "                      y_train_proba=None,\n",
    "                      y_test_proba=None):\n",
    "    \"\"\"\n",
    "    Проверка на overfitting\n",
    "    \"\"\"\n",
    "    if metric_fun.__name__ == 'roc_auc_score':\n",
    "        y_pred_train = model.predict_proba(X_train)[:, 1]\n",
    "        y_pred_test = model.predict_proba(X_test)[:, 1]\n",
    "    else:\n",
    "        y_pred_train = model.predict(X_train)\n",
    "        y_pred_test = model.predict(X_test)\n",
    "        \n",
    "    value_train = metric_fun(y_train, y_pred_train)\n",
    "    value_test = metric_fun(y_test, y_pred_test)\n",
    "\n",
    "    print(f'{metric_fun.__name__} train: %.5f' % value_train)\n",
    "    print(f'{metric_fun.__name__} test: %.5f' % value_test)\n",
    "    print(f'delta = {(abs(value_train - value_test)/value_test*100):.1f} %')"
   ]
  },
  {
   "cell_type": "markdown",
   "id": "de704fb8-442e-4fce-bfe5-4f6dc77d1dce",
   "metadata": {},
   "source": [
    "# Exploratory data analysis"
   ]
  },
  {
   "cell_type": "code",
   "execution_count": 4,
   "id": "059e1876-0931-409a-b374-5765ff70cda4",
   "metadata": {},
   "outputs": [
    {
     "data": {
      "text/html": [
       "<div>\n",
       "<style scoped>\n",
       "    .dataframe tbody tr th:only-of-type {\n",
       "        vertical-align: middle;\n",
       "    }\n",
       "\n",
       "    .dataframe tbody tr th {\n",
       "        vertical-align: top;\n",
       "    }\n",
       "\n",
       "    .dataframe thead th {\n",
       "        text-align: right;\n",
       "    }\n",
       "</style>\n",
       "<table border=\"1\" class=\"dataframe\">\n",
       "  <thead>\n",
       "    <tr style=\"text-align: right;\">\n",
       "      <th></th>\n",
       "      <th>year</th>\n",
       "      <th>household_size</th>\n",
       "      <th>age_of_respondent</th>\n",
       "    </tr>\n",
       "  </thead>\n",
       "  <tbody>\n",
       "    <tr>\n",
       "      <th>count</th>\n",
       "      <td>23524.000000</td>\n",
       "      <td>23524.000000</td>\n",
       "      <td>23524.000000</td>\n",
       "    </tr>\n",
       "    <tr>\n",
       "      <th>mean</th>\n",
       "      <td>2016.975939</td>\n",
       "      <td>3.797483</td>\n",
       "      <td>38.805220</td>\n",
       "    </tr>\n",
       "    <tr>\n",
       "      <th>std</th>\n",
       "      <td>0.847371</td>\n",
       "      <td>2.227613</td>\n",
       "      <td>16.520569</td>\n",
       "    </tr>\n",
       "    <tr>\n",
       "      <th>min</th>\n",
       "      <td>2016.000000</td>\n",
       "      <td>1.000000</td>\n",
       "      <td>16.000000</td>\n",
       "    </tr>\n",
       "    <tr>\n",
       "      <th>25%</th>\n",
       "      <td>2016.000000</td>\n",
       "      <td>2.000000</td>\n",
       "      <td>26.000000</td>\n",
       "    </tr>\n",
       "    <tr>\n",
       "      <th>50%</th>\n",
       "      <td>2017.000000</td>\n",
       "      <td>3.000000</td>\n",
       "      <td>35.000000</td>\n",
       "    </tr>\n",
       "    <tr>\n",
       "      <th>75%</th>\n",
       "      <td>2018.000000</td>\n",
       "      <td>5.000000</td>\n",
       "      <td>49.000000</td>\n",
       "    </tr>\n",
       "    <tr>\n",
       "      <th>max</th>\n",
       "      <td>2018.000000</td>\n",
       "      <td>21.000000</td>\n",
       "      <td>100.000000</td>\n",
       "    </tr>\n",
       "  </tbody>\n",
       "</table>\n",
       "</div>"
      ],
      "text/plain": [
       "               year  household_size  age_of_respondent\n",
       "count  23524.000000    23524.000000       23524.000000\n",
       "mean    2016.975939        3.797483          38.805220\n",
       "std        0.847371        2.227613          16.520569\n",
       "min     2016.000000        1.000000          16.000000\n",
       "25%     2016.000000        2.000000          26.000000\n",
       "50%     2017.000000        3.000000          35.000000\n",
       "75%     2018.000000        5.000000          49.000000\n",
       "max     2018.000000       21.000000         100.000000"
      ]
     },
     "execution_count": 4,
     "metadata": {},
     "output_type": "execute_result"
    }
   ],
   "source": [
    "df.describe()"
   ]
  },
  {
   "cell_type": "code",
   "execution_count": 5,
   "id": "9f44235e-2ceb-4e9f-8fbc-3804a552af0e",
   "metadata": {},
   "outputs": [
    {
     "data": {
      "text/html": [
       "<div>\n",
       "<style scoped>\n",
       "    .dataframe tbody tr th:only-of-type {\n",
       "        vertical-align: middle;\n",
       "    }\n",
       "\n",
       "    .dataframe tbody tr th {\n",
       "        vertical-align: top;\n",
       "    }\n",
       "\n",
       "    .dataframe thead th {\n",
       "        text-align: right;\n",
       "    }\n",
       "</style>\n",
       "<table border=\"1\" class=\"dataframe\">\n",
       "  <thead>\n",
       "    <tr style=\"text-align: right;\">\n",
       "      <th></th>\n",
       "      <th>country</th>\n",
       "      <th>uniqueid</th>\n",
       "      <th>bank_account</th>\n",
       "      <th>location_type</th>\n",
       "      <th>cellphone_access</th>\n",
       "      <th>gender_of_respondent</th>\n",
       "      <th>relationship_with_head</th>\n",
       "      <th>marital_status</th>\n",
       "      <th>education_level</th>\n",
       "      <th>job_type</th>\n",
       "    </tr>\n",
       "  </thead>\n",
       "  <tbody>\n",
       "    <tr>\n",
       "      <th>count</th>\n",
       "      <td>23524</td>\n",
       "      <td>23524</td>\n",
       "      <td>23524</td>\n",
       "      <td>23524</td>\n",
       "      <td>23524</td>\n",
       "      <td>23524</td>\n",
       "      <td>23524</td>\n",
       "      <td>23524</td>\n",
       "      <td>23524</td>\n",
       "      <td>23524</td>\n",
       "    </tr>\n",
       "    <tr>\n",
       "      <th>unique</th>\n",
       "      <td>4</td>\n",
       "      <td>8735</td>\n",
       "      <td>2</td>\n",
       "      <td>2</td>\n",
       "      <td>2</td>\n",
       "      <td>2</td>\n",
       "      <td>6</td>\n",
       "      <td>5</td>\n",
       "      <td>6</td>\n",
       "      <td>10</td>\n",
       "    </tr>\n",
       "    <tr>\n",
       "      <th>top</th>\n",
       "      <td>Rwanda</td>\n",
       "      <td>uniqueid_1</td>\n",
       "      <td>No</td>\n",
       "      <td>Rural</td>\n",
       "      <td>Yes</td>\n",
       "      <td>Female</td>\n",
       "      <td>Head of Household</td>\n",
       "      <td>Married/Living together</td>\n",
       "      <td>Primary education</td>\n",
       "      <td>Self employed</td>\n",
       "    </tr>\n",
       "    <tr>\n",
       "      <th>freq</th>\n",
       "      <td>8735</td>\n",
       "      <td>4</td>\n",
       "      <td>20212</td>\n",
       "      <td>14343</td>\n",
       "      <td>17454</td>\n",
       "      <td>13877</td>\n",
       "      <td>12831</td>\n",
       "      <td>10749</td>\n",
       "      <td>12791</td>\n",
       "      <td>6437</td>\n",
       "    </tr>\n",
       "  </tbody>\n",
       "</table>\n",
       "</div>"
      ],
      "text/plain": [
       "       country    uniqueid bank_account location_type cellphone_access  \\\n",
       "count    23524       23524        23524         23524            23524   \n",
       "unique       4        8735            2             2                2   \n",
       "top     Rwanda  uniqueid_1           No         Rural              Yes   \n",
       "freq      8735           4        20212         14343            17454   \n",
       "\n",
       "       gender_of_respondent relationship_with_head           marital_status  \\\n",
       "count                 23524                  23524                    23524   \n",
       "unique                    2                      6                        5   \n",
       "top                  Female      Head of Household  Married/Living together   \n",
       "freq                  13877                  12831                    10749   \n",
       "\n",
       "          education_level       job_type  \n",
       "count               23524          23524  \n",
       "unique                  6             10  \n",
       "top     Primary education  Self employed  \n",
       "freq                12791           6437  "
      ]
     },
     "execution_count": 5,
     "metadata": {},
     "output_type": "execute_result"
    }
   ],
   "source": [
    "df.describe(include='object')"
   ]
  },
  {
   "cell_type": "code",
   "execution_count": 6,
   "id": "e4260de7-eff4-498c-9aca-8cbf07a6f96c",
   "metadata": {},
   "outputs": [
    {
     "name": "stdout",
     "output_type": "stream",
     "text": [
      "<class 'pandas.core.frame.DataFrame'>\n",
      "RangeIndex: 23524 entries, 0 to 23523\n",
      "Data columns (total 13 columns):\n",
      " #   Column                  Non-Null Count  Dtype \n",
      "---  ------                  --------------  ----- \n",
      " 0   country                 23524 non-null  object\n",
      " 1   year                    23524 non-null  int64 \n",
      " 2   uniqueid                23524 non-null  object\n",
      " 3   bank_account            23524 non-null  object\n",
      " 4   location_type           23524 non-null  object\n",
      " 5   cellphone_access        23524 non-null  object\n",
      " 6   household_size          23524 non-null  int64 \n",
      " 7   age_of_respondent       23524 non-null  int64 \n",
      " 8   gender_of_respondent    23524 non-null  object\n",
      " 9   relationship_with_head  23524 non-null  object\n",
      " 10  marital_status          23524 non-null  object\n",
      " 11  education_level         23524 non-null  object\n",
      " 12  job_type                23524 non-null  object\n",
      "dtypes: int64(3), object(10)\n",
      "memory usage: 2.3+ MB\n"
     ]
    }
   ],
   "source": [
    "df.info()"
   ]
  },
  {
   "cell_type": "code",
   "execution_count": 7,
   "id": "9b5a6a3a-cd97-4666-a37d-8090a0e9ec85",
   "metadata": {},
   "outputs": [
    {
     "data": {
      "text/plain": [
       "<Axes: xlabel='bank_account', ylabel='proportion'>"
      ]
     },
     "execution_count": 7,
     "metadata": {},
     "output_type": "execute_result"
    },
    {
     "data": {
      "image/png": "[encoded data removed]",
      "text/plain": [
       "<Figure size 640x480 with 1 Axes>"
      ]
     },
     "metadata": {},
     "output_type": "display_data"
    }
   ],
   "source": [
    "data = df['bank_account'].value_counts(normalize=True).mul(100).reset_index()\n",
    "sns.barplot(data=data, x='bank_account', y='proportion')"
   ]
  },
  {
   "cell_type": "code",
   "execution_count": 20,
   "id": "24efea8e-e7bf-46db-bed0-1a6c060fd0cd",
   "metadata": {},
   "outputs": [
    {
     "data": {
      "image/png": "[encoded data removed]",
      "text/plain": [
       "<Figure size 1400x700 with 1 Axes>"
      ]
     },
     "metadata": {},
     "output_type": "display_data"
    }
   ],
   "source": [
    "data = df.groupby('country')['bank_account'].value_counts(normalize=True).mul(100).reset_index()\n",
    "plt.figure(figsize=(14, 7))\n",
    "ax = sns.barplot(data=data, x='country', y='proportion', hue='bank_account', palette='rocket')\n",
    "for p in ax.patches:\n",
    "    percentage = '{:.1f}%'.format(p.get_height())\n",
    "    ax.annotate(percentage,\n",
    "                (p.get_x() + p.get_width() / 2., p.get_height()),  \n",
    "                ha='center', \n",
    "                va='center',\n",
    "                xytext=(0, 10),\n",
    "                textcoords='offset points', \n",
    "                fontsize=14)\n",
    "\n",
    "plt.title('Countries', fontsize=20)\n",
    "plt.xlabel('Country', fontsize=14)\n",
    "plt.ylabel('proportion', fontsize=14)\n",
    "\n",
    "plt.xticks(fontsize=14)\n",
    "plt.yticks(fontsize=14);"
   ]
  },
  {
   "cell_type": "code",
   "execution_count": 19,
   "id": "d157d630-3e14-4059-a5ad-c13e9e3f15a0",
   "metadata": {},
   "outputs": [
    {
     "data": {
      "image/png": "[encoded data removed]",
      "text/plain": [
       "<Figure size 1200x700 with 1 Axes>"
      ]
     },
     "metadata": {},
     "output_type": "display_data"
    }
   ],
   "source": [
    "data = df.groupby('location_type')['bank_account'].value_counts(normalize=True).mul(100).reset_index()\n",
    "plt.figure(figsize=(12, 7))\n",
    "ax = sns.barplot(data=data, x='location_type', y='proportion', hue='bank_account', palette='rocket')\n",
    "for p in ax.patches:\n",
    "    percentage = '{:.1f}%'.format(p.get_height())\n",
    "    ax.annotate(percentage,\n",
    "                (p.get_x() + p.get_width() / 2., p.get_height()),  \n",
    "                ha='center', \n",
    "                va='center',\n",
    "                xytext=(0, 10),\n",
    "                textcoords='offset points', \n",
    "                fontsize=14)\n",
    "\n",
    "plt.title('Locations', fontsize=20)\n",
    "plt.xlabel('location', fontsize=14)\n",
    "plt.ylabel('proportion', fontsize=14)\n",
    "\n",
    "plt.xticks(fontsize=14)\n",
    "plt.yticks(fontsize=14);\n",
    "plt.show()"
   ]
  },
  {
   "cell_type": "code",
   "execution_count": 18,
   "id": "6abad61c-725f-42a8-90d6-f10b37f8b980",
   "metadata": {},
   "outputs": [
    {
     "data": {
      "image/png": "[encoded data removed]",
      "text/plain": [
       "<Figure size 1400x700 with 1 Axes>"
      ]
     },
     "metadata": {},
     "output_type": "display_data"
    }
   ],
   "source": [
    "data = df.groupby('cellphone_access')['bank_account'].value_counts(normalize=True).mul(100).reset_index()\n",
    "plt.figure(figsize=(14, 7))\n",
    "ax = sns.barplot(data=data, x='cellphone_access', y='proportion', hue='bank_account', palette='rocket')\n",
    "for p in ax.patches:\n",
    "    percentage = '{:.1f}%'.format(p.get_height())\n",
    "    ax.annotate(percentage,\n",
    "                (p.get_x() + p.get_width() / 2., p.get_height()),  \n",
    "                ha='center', \n",
    "                va='center',\n",
    "                xytext=(0, 10),\n",
    "                textcoords='offset points', \n",
    "                fontsize=14)\n",
    "\n",
    "plt.title('Countries', fontsize=20)\n",
    "plt.xlabel('Cellphone', fontsize=14)\n",
    "plt.ylabel('proportion', fontsize=14)\n",
    "plt.show()"
   ]
  },
  {
   "cell_type": "code",
   "execution_count": 16,
   "id": "9e355839-e690-48f6-a9b2-8b59a23ffa9c",
   "metadata": {},
   "outputs": [
    {
     "data": {
      "image/png": "[encoded data removed]",
      "text/plain": [
       "<Figure size 1400x700 with 1 Axes>"
      ]
     },
     "metadata": {},
     "output_type": "display_data"
    }
   ],
   "source": [
    "data = df.groupby('job_type')['bank_account'].value_counts(normalize=True).mul(100).reset_index()\n",
    "plt.figure(figsize=(14, 7))\n",
    "ax = sns.barplot(data=data, x='proportion', y='job_type', hue='bank_account', palette='rocket')\n",
    "for p in ax.patches:\n",
    "    percentage = '{:.1f}%'.format(p.get_width())\n",
    "    ax.annotate(percentage,\n",
    "                (p.get_width(), p.get_y() + p.get_height() / 2.),  \n",
    "                ha='left', \n",
    "                va='center',\n",
    "                xytext=(10, 0),\n",
    "                textcoords='offset points', \n",
    "                fontsize=14)\n",
    "\n",
    "plt.title('Jobs', fontsize=20)\n",
    "plt.xlabel('proportion', fontsize=14)\n",
    "plt.ylabel('job', fontsize=14)\n",
    "\n",
    "plt.xticks(fontsize=14)\n",
    "plt.yticks(fontsize=14)\n",
    "plt.show()"
   ]
  },
  {
   "cell_type": "code",
   "execution_count": 17,
   "id": "9c39b777-4189-4153-ba27-f2e1e93ca6c6",
   "metadata": {},
   "outputs": [
    {
     "data": {
      "image/png": "[encoded data removed]",
      "text/plain": [
       "<Figure size 1400x700 with 1 Axes>"
      ]
     },
     "metadata": {},
     "output_type": "display_data"
    }
   ],
   "source": [
    "data = df.groupby('year')['bank_account'].value_counts(normalize=True).mul(100).reset_index()\n",
    "plt.figure(figsize=(14, 7))\n",
    "ax = sns.barplot(data=data, x='year', y='proportion', hue='bank_account', palette='rocket')\n",
    "for p in ax.patches:\n",
    "    percentage = '{:.1f}%'.format(p.get_height())\n",
    "    ax.annotate(percentage,\n",
    "                (p.get_x() + p.get_width() / 2., p.get_height()),  \n",
    "                ha='center', \n",
    "                va='center',\n",
    "                xytext=(0, 10),\n",
    "                textcoords='offset points', \n",
    "                fontsize=14)\n",
    "\n",
    "plt.title('Years', fontsize=20)\n",
    "plt.xlabel('Year', fontsize=14)\n",
    "plt.ylabel('proportion', fontsize=14)\n",
    "plt.show()"
   ]
  },
  {
   "cell_type": "code",
   "execution_count": 23,
   "id": "42704465-cd49-4b4a-be06-1935db802bae",
   "metadata": {},
   "outputs": [
    {
     "data": {
      "image/png": "[encoded data removed]",
      "text/plain": [
       "<Figure size 1400x700 with 1 Axes>"
      ]
     },
     "metadata": {},
     "output_type": "display_data"
    }
   ],
   "source": [
    "data = df.groupby('education_level')['bank_account'].value_counts(normalize=True).mul(100).reset_index()\n",
    "plt.figure(figsize=(14, 7))\n",
    "ax = sns.barplot(data=data, x='education_level', y='proportion', hue='bank_account', palette='rocket')\n",
    "for p in ax.patches:\n",
    "    percentage = '{:.1f}%'.format(p.get_height())\n",
    "    ax.annotate(percentage,\n",
    "                (p.get_x() + p.get_width() / 2., p.get_height()),  \n",
    "                ha='center', \n",
    "                va='center',\n",
    "                xytext=(0, 10),\n",
    "                textcoords='offset points', \n",
    "                fontsize=14)\n",
    "\n",
    "plt.title('Educations', fontsize=20)\n",
    "plt.xlabel('Education', fontsize=14)\n",
    "plt.ylabel('proportion', fontsize=14)\n",
    "plt.show()"
   ]
  },
  {
   "cell_type": "markdown",
   "id": "4f612dee-08dc-413a-ae1e-16c3a137e87e",
   "metadata": {},
   "source": [
    "# Feature engineering"
   ]
  },
  {
   "cell_type": "code",
   "execution_count": 24,
   "id": "0a9e39b5-8453-40e0-b6f3-7eab2d44123b",
   "metadata": {},
   "outputs": [
    {
     "data": {
      "text/plain": [
       "array([1, 0, 1, ..., 0, 0, 0])"
      ]
     },
     "execution_count": 24,
     "metadata": {},
     "output_type": "execute_result"
    }
   ],
   "source": [
    "y = LabelEncoder().fit_transform(df['bank_account'])\n",
    "y"
   ]
  },
  {
   "cell_type": "code",
   "execution_count": 25,
   "id": "708529c0-1c6b-401e-9825-fd9ec11659c1",
   "metadata": {},
   "outputs": [
    {
     "data": {
      "text/html": [
       "<div>\n",
       "<style scoped>\n",
       "    .dataframe tbody tr th:only-of-type {\n",
       "        vertical-align: middle;\n",
       "    }\n",
       "\n",
       "    .dataframe tbody tr th {\n",
       "        vertical-align: top;\n",
       "    }\n",
       "\n",
       "    .dataframe thead th {\n",
       "        text-align: right;\n",
       "    }\n",
       "</style>\n",
       "<table border=\"1\" class=\"dataframe\">\n",
       "  <thead>\n",
       "    <tr style=\"text-align: right;\">\n",
       "      <th></th>\n",
       "      <th>country</th>\n",
       "      <th>year</th>\n",
       "      <th>location_type</th>\n",
       "      <th>cellphone_access</th>\n",
       "      <th>household_size</th>\n",
       "      <th>age_of_respondent</th>\n",
       "      <th>gender_of_respondent</th>\n",
       "      <th>relationship_with_head</th>\n",
       "      <th>marital_status</th>\n",
       "      <th>education_level</th>\n",
       "      <th>job_type</th>\n",
       "    </tr>\n",
       "  </thead>\n",
       "  <tbody>\n",
       "    <tr>\n",
       "      <th>0</th>\n",
       "      <td>Kenya</td>\n",
       "      <td>2018</td>\n",
       "      <td>Rural</td>\n",
       "      <td>Yes</td>\n",
       "      <td>3</td>\n",
       "      <td>24</td>\n",
       "      <td>Female</td>\n",
       "      <td>Spouse</td>\n",
       "      <td>Married/Living together</td>\n",
       "      <td>Secondary education</td>\n",
       "      <td>Self employed</td>\n",
       "    </tr>\n",
       "    <tr>\n",
       "      <th>1</th>\n",
       "      <td>Kenya</td>\n",
       "      <td>2018</td>\n",
       "      <td>Rural</td>\n",
       "      <td>No</td>\n",
       "      <td>5</td>\n",
       "      <td>70</td>\n",
       "      <td>Female</td>\n",
       "      <td>Head of Household</td>\n",
       "      <td>Widowed</td>\n",
       "      <td>No formal education</td>\n",
       "      <td>Government Dependent</td>\n",
       "    </tr>\n",
       "    <tr>\n",
       "      <th>2</th>\n",
       "      <td>Kenya</td>\n",
       "      <td>2018</td>\n",
       "      <td>Urban</td>\n",
       "      <td>Yes</td>\n",
       "      <td>5</td>\n",
       "      <td>26</td>\n",
       "      <td>Male</td>\n",
       "      <td>Other relative</td>\n",
       "      <td>Single/Never Married</td>\n",
       "      <td>Vocational/Specialised training</td>\n",
       "      <td>Self employed</td>\n",
       "    </tr>\n",
       "    <tr>\n",
       "      <th>3</th>\n",
       "      <td>Kenya</td>\n",
       "      <td>2018</td>\n",
       "      <td>Rural</td>\n",
       "      <td>Yes</td>\n",
       "      <td>5</td>\n",
       "      <td>34</td>\n",
       "      <td>Female</td>\n",
       "      <td>Head of Household</td>\n",
       "      <td>Married/Living together</td>\n",
       "      <td>Primary education</td>\n",
       "      <td>Formally employed Private</td>\n",
       "    </tr>\n",
       "    <tr>\n",
       "      <th>4</th>\n",
       "      <td>Kenya</td>\n",
       "      <td>2018</td>\n",
       "      <td>Urban</td>\n",
       "      <td>No</td>\n",
       "      <td>8</td>\n",
       "      <td>26</td>\n",
       "      <td>Male</td>\n",
       "      <td>Child</td>\n",
       "      <td>Single/Never Married</td>\n",
       "      <td>Primary education</td>\n",
       "      <td>Informally employed</td>\n",
       "    </tr>\n",
       "    <tr>\n",
       "      <th>...</th>\n",
       "      <td>...</td>\n",
       "      <td>...</td>\n",
       "      <td>...</td>\n",
       "      <td>...</td>\n",
       "      <td>...</td>\n",
       "      <td>...</td>\n",
       "      <td>...</td>\n",
       "      <td>...</td>\n",
       "      <td>...</td>\n",
       "      <td>...</td>\n",
       "      <td>...</td>\n",
       "    </tr>\n",
       "    <tr>\n",
       "      <th>23519</th>\n",
       "      <td>Uganda</td>\n",
       "      <td>2018</td>\n",
       "      <td>Rural</td>\n",
       "      <td>Yes</td>\n",
       "      <td>4</td>\n",
       "      <td>48</td>\n",
       "      <td>Female</td>\n",
       "      <td>Head of Household</td>\n",
       "      <td>Divorced/Seperated</td>\n",
       "      <td>No formal education</td>\n",
       "      <td>Other Income</td>\n",
       "    </tr>\n",
       "    <tr>\n",
       "      <th>23520</th>\n",
       "      <td>Uganda</td>\n",
       "      <td>2018</td>\n",
       "      <td>Rural</td>\n",
       "      <td>Yes</td>\n",
       "      <td>2</td>\n",
       "      <td>27</td>\n",
       "      <td>Female</td>\n",
       "      <td>Head of Household</td>\n",
       "      <td>Single/Never Married</td>\n",
       "      <td>Secondary education</td>\n",
       "      <td>Other Income</td>\n",
       "    </tr>\n",
       "    <tr>\n",
       "      <th>23521</th>\n",
       "      <td>Uganda</td>\n",
       "      <td>2018</td>\n",
       "      <td>Rural</td>\n",
       "      <td>Yes</td>\n",
       "      <td>5</td>\n",
       "      <td>27</td>\n",
       "      <td>Female</td>\n",
       "      <td>Parent</td>\n",
       "      <td>Widowed</td>\n",
       "      <td>Primary education</td>\n",
       "      <td>Other Income</td>\n",
       "    </tr>\n",
       "    <tr>\n",
       "      <th>23522</th>\n",
       "      <td>Uganda</td>\n",
       "      <td>2018</td>\n",
       "      <td>Urban</td>\n",
       "      <td>Yes</td>\n",
       "      <td>7</td>\n",
       "      <td>30</td>\n",
       "      <td>Female</td>\n",
       "      <td>Parent</td>\n",
       "      <td>Divorced/Seperated</td>\n",
       "      <td>Secondary education</td>\n",
       "      <td>Self employed</td>\n",
       "    </tr>\n",
       "    <tr>\n",
       "      <th>23523</th>\n",
       "      <td>Uganda</td>\n",
       "      <td>2018</td>\n",
       "      <td>Rural</td>\n",
       "      <td>Yes</td>\n",
       "      <td>10</td>\n",
       "      <td>20</td>\n",
       "      <td>Male</td>\n",
       "      <td>Child</td>\n",
       "      <td>Single/Never Married</td>\n",
       "      <td>Secondary education</td>\n",
       "      <td>No Income</td>\n",
       "    </tr>\n",
       "  </tbody>\n",
       "</table>\n",
       "<p>23524 rows × 11 columns</p>\n",
       "</div>"
      ],
      "text/plain": [
       "      country  year location_type cellphone_access  household_size  \\\n",
       "0       Kenya  2018         Rural              Yes               3   \n",
       "1       Kenya  2018         Rural               No               5   \n",
       "2       Kenya  2018         Urban              Yes               5   \n",
       "3       Kenya  2018         Rural              Yes               5   \n",
       "4       Kenya  2018         Urban               No               8   \n",
       "...       ...   ...           ...              ...             ...   \n",
       "23519  Uganda  2018         Rural              Yes               4   \n",
       "23520  Uganda  2018         Rural              Yes               2   \n",
       "23521  Uganda  2018         Rural              Yes               5   \n",
       "23522  Uganda  2018         Urban              Yes               7   \n",
       "23523  Uganda  2018         Rural              Yes              10   \n",
       "\n",
       "       age_of_respondent gender_of_respondent relationship_with_head  \\\n",
       "0                     24               Female                 Spouse   \n",
       "1                     70               Female      Head of Household   \n",
       "2                     26                 Male         Other relative   \n",
       "3                     34               Female      Head of Household   \n",
       "4                     26                 Male                  Child   \n",
       "...                  ...                  ...                    ...   \n",
       "23519                 48               Female      Head of Household   \n",
       "23520                 27               Female      Head of Household   \n",
       "23521                 27               Female                 Parent   \n",
       "23522                 30               Female                 Parent   \n",
       "23523                 20                 Male                  Child   \n",
       "\n",
       "                marital_status                  education_level  \\\n",
       "0      Married/Living together              Secondary education   \n",
       "1                      Widowed              No formal education   \n",
       "2         Single/Never Married  Vocational/Specialised training   \n",
       "3      Married/Living together                Primary education   \n",
       "4         Single/Never Married                Primary education   \n",
       "...                        ...                              ...   \n",
       "23519       Divorced/Seperated              No formal education   \n",
       "23520     Single/Never Married              Secondary education   \n",
       "23521                  Widowed                Primary education   \n",
       "23522       Divorced/Seperated              Secondary education   \n",
       "23523     Single/Never Married              Secondary education   \n",
       "\n",
       "                        job_type  \n",
       "0                  Self employed  \n",
       "1           Government Dependent  \n",
       "2                  Self employed  \n",
       "3      Formally employed Private  \n",
       "4            Informally employed  \n",
       "...                          ...  \n",
       "23519               Other Income  \n",
       "23520               Other Income  \n",
       "23521               Other Income  \n",
       "23522              Self employed  \n",
       "23523                  No Income  \n",
       "\n",
       "[23524 rows x 11 columns]"
      ]
     },
     "execution_count": 25,
     "metadata": {},
     "output_type": "execute_result"
    }
   ],
   "source": [
    "X = df.drop(columns=['uniqueid', 'bank_account'])\n",
    "X"
   ]
  },
  {
   "cell_type": "code",
   "execution_count": 26,
   "id": "a2ea02c6-9b44-40a7-8380-cfad65200f5e",
   "metadata": {},
   "outputs": [],
   "source": [
    "X = pd.get_dummies(X)"
   ]
  },
  {
   "cell_type": "code",
   "execution_count": 27,
   "id": "000a4a4a-4dfa-454c-b944-61038983f345",
   "metadata": {},
   "outputs": [],
   "source": [
    "numeric_columns = X.select_dtypes('int').columns.to_list()"
   ]
  },
  {
   "cell_type": "code",
   "execution_count": 28,
   "id": "0bb8a2f5-e16b-428e-aa72-6d8fb78817fa",
   "metadata": {},
   "outputs": [],
   "source": [
    "sc = StandardScaler()\n",
    "X[numeric_columns] = sc.fit_transform(X[numeric_columns])"
   ]
  },
  {
   "cell_type": "code",
   "execution_count": 29,
   "id": "874f9174-4020-4f3f-aba9-165f855c6416",
   "metadata": {},
   "outputs": [],
   "source": [
    "X_train_main, X_test_main, y_train_main, y_test_main = train_test_split(X, y, test_size=0.23, stratify=y, random_state=RAND)\n",
    "X_train_main_, X_val_main, y_train_main_, y_val_main = train_test_split(X_train_main, y_train_main, test_size=0.13, stratify=y_train_main, random_state=RAND)"
   ]
  },
  {
   "cell_type": "markdown",
   "id": "23f15020-3e33-4aee-894d-c593ab227320",
   "metadata": {},
   "source": [
    "# Training"
   ]
  },
  {
   "cell_type": "code",
   "execution_count": 38,
   "id": "cb2c3d7b-41c8-4252-ad38-82e4287c62e4",
   "metadata": {},
   "outputs": [],
   "source": [
    "models = {\n",
    "    'LGBM': LGBMClassifier(random_state=RAND, is_unbalance=True),\n",
    "    'XGB': XGBClassifier(random_state=RAND),\n",
    "    'CatBoost': CatBoostClassifier(random_state=RAND, auto_class_weights='Balanced', verbose=False),\n",
    "    'Rand For': RandomForestClassifier(random_state=RAND, class_weight='balanced'),\n",
    "    'Log Reg': LogisticRegression(random_state=RAND, class_weight='balanced')\n",
    "}"
   ]
  },
  {
   "cell_type": "code",
   "execution_count": 195,
   "id": "2753d282-1e50-4c1d-9cda-3f9054278105",
   "metadata": {},
   "outputs": [
    {
     "name": "stdout",
     "output_type": "stream",
     "text": [
      "Model: LGBM,  score = 0.8591809453632651\n",
      "Model: XGB,  score = 0.8482054142353297\n",
      "Model: CatBoost,  score = 0.856445596268164\n",
      "Model: Rand For,  score = 0.8026867172505355\n",
      "Model: Log Reg,  score = 0.8511730751120326\n"
     ]
    }
   ],
   "source": [
    "cv = StratifiedKFold(n_splits=N_FOLDS, shuffle=True, random_state=RAND)\n",
    "models_keys = list(models.keys())\n",
    "models_values = list(models.values())\n",
    "scores = list()\n",
    "for i in range(len(models)):\n",
    "    to_train = models_values[i]\n",
    "    fold_score = list()\n",
    "    \n",
    "    for fold, (train_idx, val_idx) in enumerate(cv.split(X_train_main, y_train_main)):\n",
    "        X_train_, X_val_ = X_train_main.iloc[train_idx], X_train_main.iloc[val_idx]\n",
    "        y_train_, y_val_ = y_train_main[train_idx], y_train_main[val_idx]\n",
    "        to_train.fit(X_train_, y_train_)\n",
    "        \n",
    "        y_score_ = to_train.predict_proba(X_val_)\n",
    "        to_append = roc_auc_score(y_val_, y_score_[:, 1])\n",
    "        fold_score.append(to_append)\n",
    "        \n",
    "    scores.append(np.mean(fold_score))\n",
    "    print(f'Model: {models_keys[i]},  score = {scores[i]}')"
   ]
  },
  {
   "cell_type": "markdown",
   "id": "d0d80e58-38bd-40b8-ba56-23e393aa870c",
   "metadata": {},
   "source": [
    "# LGBM Baseline"
   ]
  },
  {
   "cell_type": "code",
   "execution_count": 31,
   "id": "42ddb10b-c2a0-450f-972e-cd0a8ba81b50",
   "metadata": {},
   "outputs": [],
   "source": [
    "meta_X = pd.DataFrame()\n",
    "meta_X_test = pd.DataFrame()"
   ]
  },
  {
   "cell_type": "code",
   "execution_count": 32,
   "id": "6d7f3627-93ed-4f03-abda-a6af1c28c4b1",
   "metadata": {},
   "outputs": [
    {
     "name": "stdout",
     "output_type": "stream",
     "text": [
      "Fold: 1 ROC-AUC SCORE 0.859\n",
      "---\n",
      "Fold: 2 ROC-AUC SCORE 0.853\n",
      "---\n",
      "Fold: 3 ROC-AUC SCORE 0.853\n",
      "---\n",
      "Fold: 4 ROC-AUC SCORE 0.858\n",
      "---\n",
      "Fold: 5 ROC-AUC SCORE 0.847\n",
      "---\n"
     ]
    }
   ],
   "source": [
    "pred_val = []\n",
    "pred_score_val = []\n",
    "\n",
    "cv = StratifiedKFold(n_splits=N_FOLDS, shuffle=True, random_state=RAND)\n",
    "for fold, (train_idx, val_idx) in enumerate(cv.split(X_train_main_, y_train_main_)):\n",
    "    X_train_, X_val_ = X_train_main_.iloc[train_idx], X_train_main_.iloc[val_idx]\n",
    "    y_train_, y_val_ = y_train_main_[train_idx], y_train_main_[val_idx]\n",
    "\n",
    "    model1 = LGBMClassifier(random_state=RAND, is_unbalance=True)\n",
    "    model1.fit(X_train_, y_train_, verbose=0)\n",
    "\n",
    "    y_pred_val = model1.predict(X_val_)\n",
    "    y_score_val = model1.predict_proba(X_val_)\n",
    "\n",
    "    print(\"Fold:\", fold + 1, \"ROC-AUC SCORE %.3f\" % roc_auc_score(y_val_, y_score_val[:, 1]))\n",
    "    print(\"---\")\n",
    "\n",
    "    pred_val.append(y_pred_val)\n",
    "    pred_score_val.append(y_score_val)\n",
    "\n",
    "model1.fit(X_train_main_, y_train_main_)\n",
    "\n",
    "meta_X['lgb_base'] = np.concatenate(pred_score_val)[:, 1]\n",
    "meta_X_test['lgb_base'] = model1.predict_proba(X_test_main)[:, 1]"
   ]
  },
  {
   "cell_type": "code",
   "execution_count": 33,
   "id": "a29f263d-7cc0-45f5-9a8c-775d8bf68b56",
   "metadata": {},
   "outputs": [
    {
     "name": "stdout",
     "output_type": "stream",
     "text": [
      "roc_auc_score train: 0.91892\n",
      "roc_auc_score test: 0.86581\n",
      "delta = 6.1 %\n"
     ]
    }
   ],
   "source": [
    "check_overfitting(model=model1, X_train=X_train_main_, y_train=y_train_main_, X_test=X_test_main, y_test=y_test_main, metric_fun=roc_auc_score)"
   ]
  },
  {
   "cell_type": "markdown",
   "id": "aca2e30f-6632-4758-8598-7c520091cbda",
   "metadata": {},
   "source": [
    "# LGBM Tuned"
   ]
  },
  {
   "cell_type": "code",
   "execution_count": 89,
   "id": "8ec25587-6703-43de-92e5-47104606f708",
   "metadata": {},
   "outputs": [
    {
     "data": {
      "text/plain": [
       "array([0, 0, 0, ..., 0, 0, 0])"
      ]
     },
     "execution_count": 89,
     "metadata": {},
     "output_type": "execute_result"
    }
   ],
   "source": [
    "y_train_main"
   ]
  },
  {
   "cell_type": "code",
   "execution_count": 109,
   "id": "3308323b-f6a8-4ffa-8d89-3638299ea97a",
   "metadata": {
    "scrolled": true
   },
   "outputs": [
    {
     "name": "stderr",
     "output_type": "stream",
     "text": [
      "[I 2024-03-22 14:08:29,084] A new study created in memory with name: no-name-9c851199-bee0-44b2-b7e7-8fbb5eb54538\n"
     ]
    },
    {
     "data": {
      "application/vnd.jupyter.widget-view+json": {
       "model_id": "d2e83d8343884a2c93635f70a4b962f9",
       "version_major": 2,
       "version_minor": 0
      },
      "text/plain": [
       "  0%|          | 0/30 [00:00<?, ?it/s]"
      ]
     },
     "metadata": {},
     "output_type": "display_data"
    },
    {
     "name": "stdout",
     "output_type": "stream",
     "text": [
      "[I 2024-03-22 14:08:32,655] Trial 0 finished with value: 0.8607313842906649 and parameters: {'n_estimators': 597, 'learning_rate': 0.007712784998233396, 'max_depth': 4, 'num_leaves': 927, 'subsample': 0.5570121724703487}. Best is trial 0 with value: 0.8607313842906649.\n",
      "[I 2024-03-22 14:08:41,869] Trial 1 finished with value: 0.8573616177325123 and parameters: {'n_estimators': 597, 'learning_rate': 0.007712784998233396, 'max_depth': 8, 'num_leaves': 730, 'subsample': 0.5523422665795101}. Best is trial 0 with value: 0.8607313842906649.\n",
      "[I 2024-03-22 14:08:55,555] Trial 2 finished with value: 0.8538515780429503 and parameters: {'n_estimators': 597, 'learning_rate': 0.007712784998233396, 'max_depth': 9, 'num_leaves': 751, 'subsample': 0.545426554817968}. Best is trial 0 with value: 0.8607313842906649.\n",
      "[I 2024-03-22 14:08:57,786] Trial 3 finished with value: 0.8550969025559383 and parameters: {'n_estimators': 597, 'learning_rate': 0.007712784998233396, 'max_depth': 3, 'num_leaves': 169, 'subsample': 0.9269606679754758}. Best is trial 0 with value: 0.8607313842906649.\n",
      "[I 2024-03-22 14:09:10,539] Trial 4 finished with value: 0.8516093039977278 and parameters: {'n_estimators': 597, 'learning_rate': 0.007712784998233396, 'max_depth': 10, 'num_leaves': 141, 'subsample': 0.9512000701099557}. Best is trial 0 with value: 0.8607313842906649.\n",
      "[I 2024-03-22 14:09:23,130] Trial 5 finished with value: 0.8538515780429503 and parameters: {'n_estimators': 597, 'learning_rate': 0.007712784998233396, 'max_depth': 9, 'num_leaves': 256, 'subsample': 0.8961327196697242}. Best is trial 0 with value: 0.8607313842906649.\n",
      "[I 2024-03-22 14:09:25,556] Trial 6 finished with value: 0.8550969025559383 and parameters: {'n_estimators': 597, 'learning_rate': 0.007712784998233396, 'max_depth': 3, 'num_leaves': 409, 'subsample': 0.7578545899298312}. Best is trial 0 with value: 0.8607313842906649.\n",
      "[I 2024-03-22 14:09:30,745] Trial 7 finished with value: 0.8599721358566722 and parameters: {'n_estimators': 597, 'learning_rate': 0.007712784998233396, 'max_depth': 6, 'num_leaves': 109, 'subsample': 0.6284472864467072}. Best is trial 0 with value: 0.8607313842906649.\n",
      "[I 2024-03-22 14:09:43,577] Trial 8 finished with value: 0.8538515780429503 and parameters: {'n_estimators': 597, 'learning_rate': 0.007712784998233396, 'max_depth': 9, 'num_leaves': 346, 'subsample': 0.8308113267432302}. Best is trial 0 with value: 0.8607313842906649.\n",
      "[I 2024-03-22 14:09:46,736] Trial 9 finished with value: 0.8607313842906649 and parameters: {'n_estimators': 597, 'learning_rate': 0.007712784998233396, 'max_depth': 4, 'num_leaves': 728, 'subsample': 0.6319316662061326}. Best is trial 0 with value: 0.8607313842906649.\n",
      "[I 2024-03-22 14:09:50,675] Trial 10 finished with value: 0.8611579590381335 and parameters: {'n_estimators': 597, 'learning_rate': 0.007712784998233396, 'max_depth': 5, 'num_leaves': 989, 'subsample': 0.686892292724801}. Best is trial 10 with value: 0.8611579590381335.\n",
      "[I 2024-03-22 14:09:54,645] Trial 11 finished with value: 0.8611579590381335 and parameters: {'n_estimators': 597, 'learning_rate': 0.007712784998233396, 'max_depth': 5, 'num_leaves': 998, 'subsample': 0.6761824388696855}. Best is trial 10 with value: 0.8611579590381335.\n",
      "[I 2024-03-22 14:09:59,677] Trial 12 finished with value: 0.8599721358566722 and parameters: {'n_estimators': 597, 'learning_rate': 0.007712784998233396, 'max_depth': 6, 'num_leaves': 994, 'subsample': 0.674878658993983}. Best is trial 10 with value: 0.8611579590381335.\n",
      "[I 2024-03-22 14:10:03,490] Trial 13 finished with value: 0.8611579590381335 and parameters: {'n_estimators': 597, 'learning_rate': 0.007712784998233396, 'max_depth': 5, 'num_leaves': 837, 'subsample': 0.7369329383735811}. Best is trial 10 with value: 0.8611579590381335.\n",
      "[I 2024-03-22 14:10:10,241] Trial 14 finished with value: 0.859603340156004 and parameters: {'n_estimators': 597, 'learning_rate': 0.007712784998233396, 'max_depth': 7, 'num_leaves': 572, 'subsample': 0.7396652654913747}. Best is trial 10 with value: 0.8611579590381335.\n",
      "[I 2024-03-22 14:10:14,148] Trial 15 finished with value: 0.8611579590381335 and parameters: {'n_estimators': 597, 'learning_rate': 0.007712784998233396, 'max_depth': 5, 'num_leaves': 618, 'subsample': 0.8269146149367257}. Best is trial 10 with value: 0.8611579590381335.\n",
      "[I 2024-03-22 14:10:18,211] Trial 16 finished with value: 0.8611579590381335 and parameters: {'n_estimators': 597, 'learning_rate': 0.007712784998233396, 'max_depth': 5, 'num_leaves': 871, 'subsample': 0.6665607755558116}. Best is trial 10 with value: 0.8611579590381335.\n",
      "[I 2024-03-22 14:10:21,446] Trial 17 finished with value: 0.863111080720034 and parameters: {'n_estimators': 597, 'learning_rate': 0.007712784998233396, 'max_depth': 7, 'num_leaves': 13, 'subsample': 0.8097157103137171}. Best is trial 17 with value: 0.863111080720034.\n",
      "[I 2024-03-22 14:10:25,924] Trial 18 finished with value: 0.8623196303200935 and parameters: {'n_estimators': 597, 'learning_rate': 0.007712784998233396, 'max_depth': 7, 'num_leaves': 30, 'subsample': 0.8057495486965853}. Best is trial 17 with value: 0.863111080720034.\n",
      "[I 2024-03-22 14:10:30,621] Trial 19 finished with value: 0.8620219005363883 and parameters: {'n_estimators': 597, 'learning_rate': 0.007712784998233396, 'max_depth': 7, 'num_leaves': 31, 'subsample': 0.8440419591097023}. Best is trial 17 with value: 0.863111080720034.\n",
      "[I 2024-03-22 14:10:34,183] Trial 20 finished with value: 0.863574224644592 and parameters: {'n_estimators': 597, 'learning_rate': 0.007712784998233396, 'max_depth': 8, 'num_leaves': 15, 'subsample': 0.9989299745959479}. Best is trial 20 with value: 0.863574224644592.\n",
      "[I 2024-03-22 14:10:39,802] Trial 21 finished with value: 0.8614476991111568 and parameters: {'n_estimators': 597, 'learning_rate': 0.007712784998233396, 'max_depth': 8, 'num_leaves': 40, 'subsample': 0.9981866175140416}. Best is trial 20 with value: 0.863574224644592.\n",
      "[I 2024-03-22 14:10:48,995] Trial 22 finished with value: 0.8573616177325123 and parameters: {'n_estimators': 597, 'learning_rate': 0.007712784998233396, 'max_depth': 8, 'num_leaves': 243, 'subsample': 0.7799455457021036}. Best is trial 20 with value: 0.863574224644592.\n",
      "[I 2024-03-22 14:10:51,988] Trial 23 finished with value: 0.8629838085481477 and parameters: {'n_estimators': 597, 'learning_rate': 0.007712784998233396, 'max_depth': 7, 'num_leaves': 12, 'subsample': 0.8823772446707803}. Best is trial 20 with value: 0.863574224644592.\n",
      "[I 2024-03-22 14:11:01,375] Trial 24 finished with value: 0.8573616177325123 and parameters: {'n_estimators': 597, 'learning_rate': 0.007712784998233396, 'max_depth': 8, 'num_leaves': 211, 'subsample': 0.8795440354830015}. Best is trial 20 with value: 0.863574224644592.\n",
      "[I 2024-03-22 14:11:06,580] Trial 25 finished with value: 0.8599721358566722 and parameters: {'n_estimators': 597, 'learning_rate': 0.007712784998233396, 'max_depth': 6, 'num_leaves': 91, 'subsample': 0.9941698268365816}. Best is trial 20 with value: 0.863574224644592.\n",
      "[I 2024-03-22 14:11:13,317] Trial 26 finished with value: 0.859603340156004 and parameters: {'n_estimators': 597, 'learning_rate': 0.007712784998233396, 'max_depth': 7, 'num_leaves': 349, 'subsample': 0.9416901185125819}. Best is trial 20 with value: 0.863574224644592.\n",
      "[I 2024-03-22 14:11:22,580] Trial 27 finished with value: 0.8573616177325123 and parameters: {'n_estimators': 597, 'learning_rate': 0.007712784998233396, 'max_depth': 8, 'num_leaves': 308, 'subsample': 0.8836078814491768}. Best is trial 20 with value: 0.863574224644592.\n",
      "[I 2024-03-22 14:11:38,977] Trial 28 finished with value: 0.8507588499280757 and parameters: {'n_estimators': 597, 'learning_rate': 0.007712784998233396, 'max_depth': 10, 'num_leaves': 422, 'subsample': 0.8613458063080845}. Best is trial 20 with value: 0.863574224644592.\n",
      "[I 2024-03-22 14:11:48,364] Trial 29 finished with value: 0.8558364550945747 and parameters: {'n_estimators': 597, 'learning_rate': 0.007712784998233396, 'max_depth': 9, 'num_leaves': 96, 'subsample': 0.9663837422928087}. Best is trial 20 with value: 0.863574224644592.\n"
     ]
    }
   ],
   "source": [
    "# def objective_lgb(trial, random_state):\n",
    "#     lgb_params = {\n",
    "#         \"n_estimators\": trial.suggest_categorical(\"n_estimators\", [597]),\n",
    "#         \"learning_rate\": trial.suggest_categorical(\"learning_rate\", [0.007712784998233396]),\n",
    "#             # 'n_estimators': trial.suggest_int('n_estimators', 300, 900),\n",
    "#             # \"learning_rate\": trial.suggest_float(\"learning_rate\", 0.001, 0.3, log=True)\n",
    "#         'max_depth': trial.suggest_int('max_depth', 3, 10),\n",
    "#         'num_leaves': trial.suggest_int('num_leaves', 10, 1000),\n",
    "#         'subsample': trial.suggest_uniform('subsample', 0.5, 1.0)\n",
    "#     }\n",
    "#     cv = StratifiedKFold(n_splits=N_FOLDS, random_state=RAND, shuffle=True)\n",
    "#     cv_predicts = np.empty(N_FOLDS)\n",
    "#     for fold, (train_idx, val_idx) in enumerate(cv.split(X_train_main, y_train_main)):\n",
    "#         X_train_, X_val_ = X_train_main.iloc[train_idx], X_train_main.iloc[val_idx]\n",
    "#         y_train_, y_val_ = y_train_main[train_idx], y_train_main[val_idx]\n",
    "        \n",
    "\n",
    "#         model = LGBMClassifier(**lgb_params, is_unbalance=True, random_state=RAND, metric='AUC')\n",
    "#         model.fit(X_train_, y_train_, verbose=0)\n",
    "\n",
    "#         prediction = model.predict_proba(X_val_)[:, 1]\n",
    "#         cv_predicts[fold] = roc_auc_score(y_val_, prediction)\n",
    "\n",
    "#     return np.mean(cv_predicts)\n",
    "\n",
    "# study = optuna.create_study(direction=\"maximize\")\n",
    "# pointer = lambda trial: objective_lgb(trial, random_state=RAND)\n",
    "# study.optimize(pointer, n_trials=30, show_progress_bar=True)"
   ]
  },
  {
   "cell_type": "code",
   "execution_count": 119,
   "id": "f17ffffa-f985-475c-b4fc-bf437258cf0b",
   "metadata": {
    "scrolled": true
   },
   "outputs": [
    {
     "name": "stderr",
     "output_type": "stream",
     "text": [
      "[I 2024-03-22 14:15:08,411] A new study created in memory with name: no-name-f97e1bd6-c3b1-429a-b521-11d209b2d8df\n"
     ]
    },
    {
     "data": {
      "application/vnd.jupyter.widget-view+json": {
       "model_id": "c66fb15a22fd4fd8a74c8438f8604568",
       "version_major": 2,
       "version_minor": 0
      },
      "text/plain": [
       "  0%|          | 0/35 [00:00<?, ?it/s]"
      ]
     },
     "metadata": {},
     "output_type": "display_data"
    },
    {
     "name": "stdout",
     "output_type": "stream",
     "text": [
      "[I 2024-03-22 14:15:10,660] Trial 0 finished with value: 0.8296956982651317 and parameters: {'n_estimators': 675, 'learning_rate': 0.1047713841177904, 'max_depth': 8, 'num_leaves': 165, 'subsample': 0.9115317118463382}. Best is trial 0 with value: 0.8296956982651317.\n",
      "[I 2024-03-22 14:15:12,046] Trial 1 finished with value: 0.8410336849126611 and parameters: {'n_estimators': 320, 'learning_rate': 0.11473373520076698, 'max_depth': 9, 'num_leaves': 803, 'subsample': 0.871769215553974}. Best is trial 1 with value: 0.8410336849126611.\n",
      "[I 2024-03-22 14:15:15,162] Trial 2 finished with value: 0.8633932665908319 and parameters: {'n_estimators': 575, 'learning_rate': 0.004293201024714793, 'max_depth': 9, 'num_leaves': 645, 'subsample': 0.8464222863725486}. Best is trial 2 with value: 0.8633932665908319.\n",
      "[I 2024-03-22 14:15:15,644] Trial 3 finished with value: 0.8664082925870562 and parameters: {'n_estimators': 653, 'learning_rate': 0.10943079409498205, 'max_depth': 3, 'num_leaves': 243, 'subsample': 0.946125457279967}. Best is trial 3 with value: 0.8664082925870562.\n",
      "[I 2024-03-22 14:15:17,411] Trial 4 finished with value: 0.8555728102722308 and parameters: {'n_estimators': 682, 'learning_rate': 0.030066552546084625, 'max_depth': 8, 'num_leaves': 325, 'subsample': 0.5089404908526659}. Best is trial 3 with value: 0.8664082925870562.\n",
      "[I 2024-03-22 14:15:18,052] Trial 5 finished with value: 0.868136907491558 and parameters: {'n_estimators': 962, 'learning_rate': 0.030502925792628872, 'max_depth': 3, 'num_leaves': 479, 'subsample': 0.754778652735406}. Best is trial 5 with value: 0.868136907491558.\n",
      "[I 2024-03-22 14:15:19,978] Trial 6 finished with value: 0.861891709199626 and parameters: {'n_estimators': 464, 'learning_rate': 0.0031955212001483486, 'max_depth': 8, 'num_leaves': 748, 'subsample': 0.8348856401080842}. Best is trial 5 with value: 0.868136907491558.\n",
      "[I 2024-03-22 14:15:22,254] Trial 7 finished with value: 0.8633456217355829 and parameters: {'n_estimators': 915, 'learning_rate': 0.01037139586187838, 'max_depth': 10, 'num_leaves': 75, 'subsample': 0.9175652697350232}. Best is trial 5 with value: 0.868136907491558.\n",
      "[I 2024-03-22 14:15:22,798] Trial 8 finished with value: 0.8599419923887344 and parameters: {'n_estimators': 590, 'learning_rate': 0.11037622810464658, 'max_depth': 4, 'num_leaves': 930, 'subsample': 0.5331754864964376}. Best is trial 5 with value: 0.868136907491558.\n",
      "[I 2024-03-22 14:15:24,183] Trial 9 finished with value: 0.8629063957262564 and parameters: {'n_estimators': 507, 'learning_rate': 0.0036364627825549918, 'max_depth': 7, 'num_leaves': 902, 'subsample': 0.8086014660812068}. Best is trial 5 with value: 0.868136907491558.\n",
      "[I 2024-03-22 14:15:25,434] Trial 10 finished with value: 0.8639411824261951 and parameters: {'n_estimators': 998, 'learning_rate': 0.03221648638250741, 'max_depth': 5, 'num_leaves': 427, 'subsample': 0.6634038714915924}. Best is trial 5 with value: 0.868136907491558.\n",
      "[I 2024-03-22 14:15:26,169] Trial 11 finished with value: 0.8624426028384422 and parameters: {'n_estimators': 800, 'learning_rate': 0.2260257117868845, 'max_depth': 3, 'num_leaves': 299, 'subsample': 0.6987021830189418}. Best is trial 5 with value: 0.868136907491558.\n",
      "[I 2024-03-22 14:15:26,934] Trial 12 finished with value: 0.8680937293414885 and parameters: {'n_estimators': 796, 'learning_rate': 0.042478300454507935, 'max_depth': 3, 'num_leaves': 548, 'subsample': 0.9924554292418715}. Best is trial 5 with value: 0.868136907491558.\n",
      "[I 2024-03-22 14:15:28,233] Trial 13 finished with value: 0.8503899433621783 and parameters: {'n_estimators': 821, 'learning_rate': 0.0010449768580148026, 'max_depth': 5, 'num_leaves': 509, 'subsample': 0.9987983343706489}. Best is trial 5 with value: 0.868136907491558.\n",
      "[I 2024-03-22 14:15:29,326] Trial 14 finished with value: 0.8665609050140255 and parameters: {'n_estimators': 810, 'learning_rate': 0.017495076352187503, 'max_depth': 5, 'num_leaves': 568, 'subsample': 0.6039668827751528}. Best is trial 5 with value: 0.868136907491558.\n",
      "[I 2024-03-22 14:15:30,342] Trial 15 finished with value: 0.8661507125883665 and parameters: {'n_estimators': 998, 'learning_rate': 0.04298507415560296, 'max_depth': 4, 'num_leaves': 416, 'subsample': 0.7479055578178326}. Best is trial 5 with value: 0.868136907491558.\n",
      "[I 2024-03-22 14:15:31,827] Trial 16 finished with value: 0.8654345508579052 and parameters: {'n_estimators': 890, 'learning_rate': 0.011435327719739248, 'max_depth': 6, 'num_leaves': 646, 'subsample': 0.7574814598787933}. Best is trial 5 with value: 0.868136907491558.\n",
      "[I 2024-03-22 14:15:32,562] Trial 17 finished with value: 0.8687265125752639 and parameters: {'n_estimators': 763, 'learning_rate': 0.05717548565946051, 'max_depth': 3, 'num_leaves': 644, 'subsample': 0.9864365441143284}. Best is trial 17 with value: 0.8687265125752639.\n",
      "[I 2024-03-22 14:15:33,531] Trial 18 finished with value: 0.8636530799421114 and parameters: {'n_estimators': 912, 'learning_rate': 0.06256105568819816, 'max_depth': 4, 'num_leaves': 733, 'subsample': 0.6114536432971232}. Best is trial 17 with value: 0.8687265125752639.\n",
      "[I 2024-03-22 14:15:34,876] Trial 19 finished with value: 0.8227752830402182 and parameters: {'n_estimators': 715, 'learning_rate': 0.2704176173914757, 'max_depth': 6, 'num_leaves': 404, 'subsample': 0.7860551218037332}. Best is trial 17 with value: 0.8687265125752639.\n",
      "[I 2024-03-22 14:15:35,845] Trial 20 finished with value: 0.8669629084801886 and parameters: {'n_estimators': 868, 'learning_rate': 0.018666842521693778, 'max_depth': 4, 'num_leaves': 636, 'subsample': 0.6914293373304116}. Best is trial 17 with value: 0.8687265125752639.\n",
      "[I 2024-03-22 14:15:36,564] Trial 21 finished with value: 0.8690563043076903 and parameters: {'n_estimators': 755, 'learning_rate': 0.05714894555435678, 'max_depth': 3, 'num_leaves': 519, 'subsample': 0.9592938771961879}. Best is trial 21 with value: 0.8690563043076903.\n",
      "[I 2024-03-22 14:15:37,315] Trial 22 finished with value: 0.8687175791649048 and parameters: {'n_estimators': 746, 'learning_rate': 0.06689425367344916, 'max_depth': 3, 'num_leaves': 464, 'subsample': 0.948867543331354}. Best is trial 21 with value: 0.8690563043076903.\n",
      "[I 2024-03-22 14:15:38,034] Trial 23 finished with value: 0.8689587812446026 and parameters: {'n_estimators': 730, 'learning_rate': 0.06340835662447797, 'max_depth': 3, 'num_leaves': 586, 'subsample': 0.9553561700879093}. Best is trial 21 with value: 0.8690563043076903.\n",
      "[I 2024-03-22 14:15:38,925] Trial 24 finished with value: 0.8498956279889701 and parameters: {'n_estimators': 760, 'learning_rate': 0.17566428093634862, 'max_depth': 4, 'num_leaves': 824, 'subsample': 0.8884085475936102}. Best is trial 21 with value: 0.8690563043076903.\n",
      "[I 2024-03-22 14:15:39,816] Trial 25 finished with value: 0.862630204455985 and parameters: {'n_estimators': 594, 'learning_rate': 0.06976545392780834, 'max_depth': 5, 'num_leaves': 597, 'subsample': 0.9598420866140073}. Best is trial 21 with value: 0.8690563043076903.\n",
      "[I 2024-03-22 14:15:40,550] Trial 26 finished with value: 0.864965546814048 and parameters: {'n_estimators': 726, 'learning_rate': 0.16266463793658026, 'max_depth': 3, 'num_leaves': 707, 'subsample': 0.9816262615257624}. Best is trial 21 with value: 0.8690563043076903.\n",
      "[I 2024-03-22 14:15:41,457] Trial 27 finished with value: 0.8656325747875337 and parameters: {'n_estimators': 834, 'learning_rate': 0.04862861834485209, 'max_depth': 4, 'num_leaves': 356, 'subsample': 0.9078589508199162}. Best is trial 21 with value: 0.8690563043076903.\n",
      "[I 2024-03-22 14:15:42,649] Trial 28 finished with value: 0.8673262005014621 and parameters: {'n_estimators': 620, 'learning_rate': 0.011343009250328277, 'max_depth': 6, 'num_leaves': 857, 'subsample': 0.9330868140416197}. Best is trial 21 with value: 0.8690563043076903.\n",
      "[I 2024-03-22 14:15:44,161] Trial 29 finished with value: 0.8439623546087465 and parameters: {'n_estimators': 683, 'learning_rate': 0.07856957261991754, 'max_depth': 7, 'num_leaves': 988, 'subsample': 0.8705857325250771}. Best is trial 21 with value: 0.8690563043076903.\n",
      "[I 2024-03-22 14:15:44,945] Trial 30 finished with value: 0.8672733444901702 and parameters: {'n_estimators': 779, 'learning_rate': 0.01959539080728984, 'max_depth': 3, 'num_leaves': 527, 'subsample': 0.9108402871444492}. Best is trial 21 with value: 0.8690563043076903.\n",
      "[I 2024-03-22 14:15:45,682] Trial 31 finished with value: 0.8696116646516863 and parameters: {'n_estimators': 739, 'learning_rate': 0.07415840856708014, 'max_depth': 3, 'num_leaves': 457, 'subsample': 0.9611489975066844}. Best is trial 31 with value: 0.8696116646516863.\n",
      "[I 2024-03-22 14:15:46,557] Trial 32 finished with value: 0.8557142559362512 and parameters: {'n_estimators': 728, 'learning_rate': 0.14470527289390975, 'max_depth': 4, 'num_leaves': 206, 'subsample': 0.9603716165434258}. Best is trial 31 with value: 0.8696116646516863.\n",
      "[I 2024-03-22 14:15:47,245] Trial 33 finished with value: 0.869793310662323 and parameters: {'n_estimators': 643, 'learning_rate': 0.10296213630956647, 'max_depth': 3, 'num_leaves': 695, 'subsample': 0.8679572866010189}. Best is trial 33 with value: 0.869793310662323.\n",
      "[I 2024-03-22 14:15:47,917] Trial 34 finished with value: 0.8706769738370188 and parameters: {'n_estimators': 634, 'learning_rate': 0.07759034001419247, 'max_depth': 3, 'num_leaves': 759, 'subsample': 0.864668774632936}. Best is trial 34 with value: 0.8706769738370188.\n"
     ]
    }
   ],
   "source": [
    "def objective_lgb(trial, random_state):\n",
    "    lgb_params = {\n",
    "        # \"n_estimators\": trial.suggest_categorical(\"n_estimators\", [305]),\n",
    "        # \"learning_rate\": trial.suggest_categorical(\"learning_rate\", [0.013284516577128046]),\n",
    "        'n_estimators': trial.suggest_int('n_estimators', 300, 1000),\n",
    "        \"learning_rate\": trial.suggest_float(\"learning_rate\", 0.001, 0.3, log=True),\n",
    "        'max_depth': trial.suggest_int('max_depth', 3, 10),\n",
    "        'num_leaves': trial.suggest_int('num_leaves', 10, 1000),\n",
    "        'subsample': trial.suggest_uniform('subsample', 0.5, 1.0)\n",
    "        # 'colsample_bytree': trial.suggest_uniform('colsample_bytree', 0.5, 1.0)\n",
    "    }\n",
    "    # pruning_callback = optuna.integration.LightGBMPruningCallback(\n",
    "    #         trial, \"l1\")\n",
    "    model = LGBMClassifier(**lgb_params, is_unbalance=True, random_state=RAND, metric='AUC')\n",
    "    model.fit(X_train_main_, y_train_main_, verbose=0)\n",
    "\n",
    "    preds = model.predict_proba(X_val_main)[:, 1]\n",
    "    score = roc_auc_score(y_val_main, preds)\n",
    "    return score\n",
    "\n",
    "study = optuna.create_study(direction=\"maximize\")\n",
    "pointer = lambda trial: objective_lgb(trial, random_state=RAND)\n",
    "study.optimize(pointer, n_trials=35, show_progress_bar=True)"
   ]
  },
  {
   "cell_type": "code",
   "execution_count": 120,
   "id": "88268041-57a6-4f18-996d-5636db5d554d",
   "metadata": {},
   "outputs": [
    {
     "data": {
      "text/plain": [
       "{'n_estimators': 634,\n",
       " 'learning_rate': 0.07759034001419247,\n",
       " 'max_depth': 3,\n",
       " 'num_leaves': 759,\n",
       " 'subsample': 0.864668774632936}"
      ]
     },
     "execution_count": 120,
     "metadata": {},
     "output_type": "execute_result"
    }
   ],
   "source": [
    "study.best_params"
   ]
  },
  {
   "cell_type": "markdown",
   "id": "72abc093-687e-4b63-9034-e6afe5eedcb0",
   "metadata": {},
   "source": [
    "Saved:\n",
    "{'n_estimators': 575,\n",
    " 'learning_rate': 0.0027213754476726384,\n",
    " 'max_depth': 9,\n",
    " 'num_leaves': 698,\n",
    " 'subsample': 0.5809036581178155,\n",
    " 'colsample_bytree': 0.5010681356698323}"
   ]
  },
  {
   "cell_type": "code",
   "execution_count": 121,
   "id": "1f35a296-6a2f-4736-8f73-a6be0c89fe1e",
   "metadata": {},
   "outputs": [
    {
     "data": {
      "application/vnd.plotly.v1+json": {
       "config": {
        "plotlyServerURL": "https://plot.ly"
       },
       "data": [
        {
         "mode": "markers",
         "name": "Objective Value",
         "type": "scatter",
         "x": [
          0,
          1,
          2,
          3,
          4,
          5,
          6,
          7,
          8,
          9,
          10,
          11,
          12,
          13,
          14,
          15,
          16,
          17,
          18,
          19,
          20,
          21,
          22,
          23,
          24,
          25,
          26,
          27,
          28,
          29,
          30,
          31,
          32,
          33,
          34
         ],
         "y": [
          0.8296956982651317,
          0.8410336849126611,
          0.8633932665908319,
          0.8664082925870562,
          0.8555728102722308,
          0.868136907491558,
          0.861891709199626,
          0.8633456217355829,
          0.8599419923887344,
          0.8629063957262564,
          0.8639411824261951,
          0.8624426028384422,
          0.8680937293414885,
          0.8503899433621783,
          0.8665609050140255,
          0.8661507125883665,
          0.8654345508579052,
          0.8687265125752639,
          0.8636530799421114,
          0.8227752830402182,
          0.8669629084801886,
          0.8690563043076903,
          0.8687175791649048,
          0.8689587812446026,
          0.8498956279889701,
          0.862630204455985,
          0.864965546814048,
          0.8656325747875337,
          0.8673262005014621,
          0.8439623546087465,
          0.8672733444901702,
          0.8696116646516863,
          0.8557142559362512,
          0.869793310662323,
          0.8706769738370188
         ]
        },
        {
         "mode": "lines",
         "name": "Best Value",
         "type": "scatter",
         "x": [
          0,
          1,
          2,
          3,
          4,
          5,
          6,
          7,
          8,
          9,
          10,
          11,
          12,
          13,
          14,
          15,
          16,
          17,
          18,
          19,
          20,
          21,
          22,
          23,
          24,
          25,
          26,
          27,
          28,
          29,
          30,
          31,
          32,
          33,
          34
         ],
         "y": [
          0.8296956982651317,
          0.8410336849126611,
          0.8633932665908319,
          0.8664082925870562,
          0.8664082925870562,
          0.868136907491558,
          0.868136907491558,
          0.868136907491558,
          0.868136907491558,
          0.868136907491558,
          0.868136907491558,
          0.868136907491558,
          0.868136907491558,
          0.868136907491558,
          0.868136907491558,
          0.868136907491558,
          0.868136907491558,
          0.8687265125752639,
          0.8687265125752639,
          0.8687265125752639,
          0.8687265125752639,
          0.8690563043076903,
          0.8690563043076903,
          0.8690563043076903,
          0.8690563043076903,
          0.8690563043076903,
          0.8690563043076903,
          0.8690563043076903,
          0.8690563043076903,
          0.8690563043076903,
          0.8690563043076903,
          0.8696116646516863,
          0.8696116646516863,
          0.869793310662323,
          0.8706769738370188
         ]
        },
        {
         "marker": {
          "color": "#cccccc"
         },
         "mode": "markers",
         "name": "Infeasible Trial",
         "showlegend": false,
         "type": "scatter",
         "x": [],
         "y": []
        }
       ],
       "layout": {
        "autosize": true,
        "template": {
         "data": {
          "bar": [
           {
            "error_x": {
             "color": "#2a3f5f"
            },
            "error_y": {
             "color": "#2a3f5f"
            },
            "marker": {
             "line": {
              "color": "#E5ECF6",
              "width": 0.5
             },
             "pattern": {
              "fillmode": "overlay",
              "size": 10,
              "solidity": 0.2
             }
            },
            "type": "bar"
           }
          ],
          "barpolar": [
           {
            "marker": {
             "line": {
              "color": "#E5ECF6",
              "width": 0.5
             },
             "pattern": {
              "fillmode": "overlay",
              "size": 10,
              "solidity": 0.2
             }
            },
            "type": "barpolar"
           }
          ],
          "carpet": [
           {
            "aaxis": {
             "endlinecolor": "#2a3f5f",
             "gridcolor": "white",
             "linecolor": "white",
             "minorgridcolor": "white",
             "startlinecolor": "#2a3f5f"
            },
            "baxis": {
             "endlinecolor": "#2a3f5f",
             "gridcolor": "white",
             "linecolor": "white",
             "minorgridcolor": "white",
             "startlinecolor": "#2a3f5f"
            },
            "type": "carpet"
           }
          ],
          "choropleth": [
           {
            "colorbar": {
             "outlinewidth": 0,
             "ticks": ""
            },
            "type": "choropleth"
           }
          ],
          "contour": [
           {
            "colorbar": {
             "outlinewidth": 0,
             "ticks": ""
            },
            "colorscale": [
             [
              0,
              "#0d0887"
             ],
             [
              0.1111111111111111,
              "#46039f"
             ],
             [
              0.2222222222222222,
              "#7201a8"
             ],
             [
              0.3333333333333333,
              "#9c179e"
             ],
             [
              0.4444444444444444,
              "#bd3786"
             ],
             [
              0.5555555555555556,
              "#d8576b"
             ],
             [
              0.6666666666666666,
              "#ed7953"
             ],
             [
              0.7777777777777778,
              "#fb9f3a"
             ],
             [
              0.8888888888888888,
              "#fdca26"
             ],
             [
              1,
              "#f0f921"
             ]
            ],
            "type": "contour"
           }
          ],
          "contourcarpet": [
           {
            "colorbar": {
             "outlinewidth": 0,
             "ticks": ""
            },
            "type": "contourcarpet"
           }
          ],
          "heatmap": [
           {
            "colorbar": {
             "outlinewidth": 0,
             "ticks": ""
            },
            "colorscale": [
             [
              0,
              "#0d0887"
             ],
             [
              0.1111111111111111,
              "#46039f"
             ],
             [
              0.2222222222222222,
              "#7201a8"
             ],
             [
              0.3333333333333333,
              "#9c179e"
             ],
             [
              0.4444444444444444,
              "#bd3786"
             ],
             [
              0.5555555555555556,
              "#d8576b"
             ],
             [
              0.6666666666666666,
              "#ed7953"
             ],
             [
              0.7777777777777778,
              "#fb9f3a"
             ],
             [
              0.8888888888888888,
              "#fdca26"
             ],
             [
              1,
              "#f0f921"
             ]
            ],
            "type": "heatmap"
           }
          ],
          "heatmapgl": [
           {
            "colorbar": {
             "outlinewidth": 0,
             "ticks": ""
            },
            "colorscale": [
             [
              0,
              "#0d0887"
             ],
             [
              0.1111111111111111,
              "#46039f"
             ],
             [
              0.2222222222222222,
              "#7201a8"
             ],
             [
              0.3333333333333333,
              "#9c179e"
             ],
             [
              0.4444444444444444,
              "#bd3786"
             ],
             [
              0.5555555555555556,
              "#d8576b"
             ],
             [
              0.6666666666666666,
              "#ed7953"
             ],
             [
              0.7777777777777778,
              "#fb9f3a"
             ],
             [
              0.8888888888888888,
              "#fdca26"
             ],
             [
              1,
              "#f0f921"
             ]
            ],
            "type": "heatmapgl"
           }
          ],
          "histogram": [
           {
            "marker": {
             "pattern": {
              "fillmode": "overlay",
              "size": 10,
              "solidity": 0.2
             }
            },
            "type": "histogram"
           }
          ],
          "histogram2d": [
           {
            "colorbar": {
             "outlinewidth": 0,
             "ticks": ""
            },
            "colorscale": [
             [
              0,
              "#0d0887"
             ],
             [
              0.1111111111111111,
              "#46039f"
             ],
             [
              0.2222222222222222,
              "#7201a8"
             ],
             [
              0.3333333333333333,
              "#9c179e"
             ],
             [
              0.4444444444444444,
              "#bd3786"
             ],
             [
              0.5555555555555556,
              "#d8576b"
             ],
             [
              0.6666666666666666,
              "#ed7953"
             ],
             [
              0.7777777777777778,
              "#fb9f3a"
             ],
             [
              0.8888888888888888,
              "#fdca26"
             ],
             [
              1,
              "#f0f921"
             ]
            ],
            "type": "histogram2d"
           }
          ],
          "histogram2dcontour": [
           {
            "colorbar": {
             "outlinewidth": 0,
             "ticks": ""
            },
            "colorscale": [
             [
              0,
              "#0d0887"
             ],
             [
              0.1111111111111111,
              "#46039f"
             ],
             [
              0.2222222222222222,
              "#7201a8"
             ],
             [
              0.3333333333333333,
              "#9c179e"
             ],
             [
              0.4444444444444444,
              "#bd3786"
             ],
             [
              0.5555555555555556,
              "#d8576b"
             ],
             [
              0.6666666666666666,
              "#ed7953"
             ],
             [
              0.7777777777777778,
              "#fb9f3a"
             ],
             [
              0.8888888888888888,
              "#fdca26"
             ],
             [
              1,
              "#f0f921"
             ]
            ],
            "type": "histogram2dcontour"
           }
          ],
          "mesh3d": [
           {
            "colorbar": {
             "outlinewidth": 0,
             "ticks": ""
            },
            "type": "mesh3d"
           }
          ],
          "parcoords": [
           {
            "line": {
             "colorbar": {
              "outlinewidth": 0,
              "ticks": ""
             }
            },
            "type": "parcoords"
           }
          ],
          "pie": [
           {
            "automargin": true,
            "type": "pie"
           }
          ],
          "scatter": [
           {
            "fillpattern": {
             "fillmode": "overlay",
             "size": 10,
             "solidity": 0.2
            },
            "type": "scatter"
           }
          ],
          "scatter3d": [
           {
            "line": {
             "colorbar": {
              "outlinewidth": 0,
              "ticks": ""
             }
            },
            "marker": {
             "colorbar": {
              "outlinewidth": 0,
              "ticks": ""
             }
            },
            "type": "scatter3d"
           }
          ],
          "scattercarpet": [
           {
            "marker": {
             "colorbar": {
              "outlinewidth": 0,
              "ticks": ""
             }
            },
            "type": "scattercarpet"
           }
          ],
          "scattergeo": [
           {
            "marker": {
             "colorbar": {
              "outlinewidth": 0,
              "ticks": ""
             }
            },
            "type": "scattergeo"
           }
          ],
          "scattergl": [
           {
            "marker": {
             "colorbar": {
              "outlinewidth": 0,
              "ticks": ""
             }
            },
            "type": "scattergl"
           }
          ],
          "scattermapbox": [
           {
            "marker": {
             "colorbar": {
              "outlinewidth": 0,
              "ticks": ""
             }
            },
            "type": "scattermapbox"
           }
          ],
          "scatterpolar": [
           {
            "marker": {
             "colorbar": {
              "outlinewidth": 0,
              "ticks": ""
             }
            },
            "type": "scatterpolar"
           }
          ],
          "scatterpolargl": [
           {
            "marker": {
             "colorbar": {
              "outlinewidth": 0,
              "ticks": ""
             }
            },
            "type": "scatterpolargl"
           }
          ],
          "scatterternary": [
           {
            "marker": {
             "colorbar": {
              "outlinewidth": 0,
              "ticks": ""
             }
            },
            "type": "scatterternary"
           }
          ],
          "surface": [
           {
            "colorbar": {
             "outlinewidth": 0,
             "ticks": ""
            },
            "colorscale": [
             [
              0,
              "#0d0887"
             ],
             [
              0.1111111111111111,
              "#46039f"
             ],
             [
              0.2222222222222222,
              "#7201a8"
             ],
             [
              0.3333333333333333,
              "#9c179e"
             ],
             [
              0.4444444444444444,
              "#bd3786"
             ],
             [
              0.5555555555555556,
              "#d8576b"
             ],
             [
              0.6666666666666666,
              "#ed7953"
             ],
             [
              0.7777777777777778,
              "#fb9f3a"
             ],
             [
              0.8888888888888888,
              "#fdca26"
             ],
             [
              1,
              "#f0f921"
             ]
            ],
            "type": "surface"
           }
          ],
          "table": [
           {
            "cells": {
             "fill": {
              "color": "#EBF0F8"
             },
             "line": {
              "color": "white"
             }
            },
            "header": {
             "fill": {
              "color": "#C8D4E3"
             },
             "line": {
              "color": "white"
             }
            },
            "type": "table"
           }
          ]
         },
         "layout": {
          "annotationdefaults": {
           "arrowcolor": "#2a3f5f",
           "arrowhead": 0,
           "arrowwidth": 1
          },
          "autotypenumbers": "strict",
          "coloraxis": {
           "colorbar": {
            "outlinewidth": 0,
            "ticks": ""
           }
          },
          "colorscale": {
           "diverging": [
            [
             0,
             "#8e0152"
            ],
            [
             0.1,
             "#c51b7d"
            ],
            [
             0.2,
             "#de77ae"
            ],
            [
             0.3,
             "#f1b6da"
            ],
            [
             0.4,
             "#fde0ef"
            ],
            [
             0.5,
             "#f7f7f7"
            ],
            [
             0.6,
             "#e6f5d0"
            ],
            [
             0.7,
             "#b8e186"
            ],
            [
             0.8,
             "#7fbc41"
            ],
            [
             0.9,
             "#4d9221"
            ],
            [
             1,
             "#276419"
            ]
           ],
           "sequential": [
            [
             0,
             "#0d0887"
            ],
            [
             0.1111111111111111,
             "#46039f"
            ],
            [
             0.2222222222222222,
             "#7201a8"
            ],
            [
             0.3333333333333333,
             "#9c179e"
            ],
            [
             0.4444444444444444,
             "#bd3786"
            ],
            [
             0.5555555555555556,
             "#d8576b"
            ],
            [
             0.6666666666666666,
             "#ed7953"
            ],
            [
             0.7777777777777778,
             "#fb9f3a"
            ],
            [
             0.8888888888888888,
             "#fdca26"
            ],
            [
             1,
             "#f0f921"
            ]
           ],
           "sequentialminus": [
            [
             0,
             "#0d0887"
            ],
            [
             0.1111111111111111,
             "#46039f"
            ],
            [
             0.2222222222222222,
             "#7201a8"
            ],
            [
             0.3333333333333333,
             "#9c179e"
            ],
            [
             0.4444444444444444,
             "#bd3786"
            ],
            [
             0.5555555555555556,
             "#d8576b"
            ],
            [
             0.6666666666666666,
             "#ed7953"
            ],
            [
             0.7777777777777778,
             "#fb9f3a"
            ],
            [
             0.8888888888888888,
             "#fdca26"
            ],
            [
             1,
             "#f0f921"
            ]
           ]
          },
          "colorway": [
           "#636efa",
           "#EF553B",
           "#00cc96",
           "#ab63fa",
           "#FFA15A",
           "#19d3f3",
           "#FF6692",
           "#B6E880",
           "#FF97FF",
           "#FECB52"
          ],
          "font": {
           "color": "#2a3f5f"
          },
          "geo": {
           "bgcolor": "white",
           "lakecolor": "white",
           "landcolor": "#E5ECF6",
           "showlakes": true,
           "showland": true,
           "subunitcolor": "white"
          },
          "hoverlabel": {
           "align": "left"
          },
          "hovermode": "closest",
          "mapbox": {
           "style": "light"
          },
          "paper_bgcolor": "white",
          "plot_bgcolor": "#E5ECF6",
          "polar": {
           "angularaxis": {
            "gridcolor": "white",
            "linecolor": "white",
            "ticks": ""
           },
           "bgcolor": "#E5ECF6",
           "radialaxis": {
            "gridcolor": "white",
            "linecolor": "white",
            "ticks": ""
           }
          },
          "scene": {
           "xaxis": {
            "backgroundcolor": "#E5ECF6",
            "gridcolor": "white",
            "gridwidth": 2,
            "linecolor": "white",
            "showbackground": true,
            "ticks": "",
            "zerolinecolor": "white"
           },
           "yaxis": {
            "backgroundcolor": "#E5ECF6",
            "gridcolor": "white",
            "gridwidth": 2,
            "linecolor": "white",
            "showbackground": true,
            "ticks": "",
            "zerolinecolor": "white"
           },
           "zaxis": {
            "backgroundcolor": "#E5ECF6",
            "gridcolor": "white",
            "gridwidth": 2,
            "linecolor": "white",
            "showbackground": true,
            "ticks": "",
            "zerolinecolor": "white"
           }
          },
          "shapedefaults": {
           "line": {
            "color": "#2a3f5f"
           }
          },
          "ternary": {
           "aaxis": {
            "gridcolor": "white",
            "linecolor": "white",
            "ticks": ""
           },
           "baxis": {
            "gridcolor": "white",
            "linecolor": "white",
            "ticks": ""
           },
           "bgcolor": "#E5ECF6",
           "caxis": {
            "gridcolor": "white",
            "linecolor": "white",
            "ticks": ""
           }
          },
          "title": {
           "x": 0.05
          },
          "xaxis": {
           "automargin": true,
           "gridcolor": "white",
           "linecolor": "white",
           "ticks": "",
           "title": {
            "standoff": 15
           },
           "zerolinecolor": "white",
           "zerolinewidth": 2
          },
          "yaxis": {
           "automargin": true,
           "gridcolor": "white",
           "linecolor": "white",
           "ticks": "",
           "title": {
            "standoff": 15
           },
           "zerolinecolor": "white",
           "zerolinewidth": 2
          }
         }
        },
        "title": {
         "text": "Optimization History Plot"
        },
        "xaxis": {
         "autorange": true,
         "range": [
          -2.074803149606299,
          36.074803149606296
         ],
         "title": {
          "text": "Trial"
         },
         "type": "linear"
        },
        "yaxis": {
         "autorange": true,
         "range": [
          0.8188222308870842,
          0.8746300259901528
         ],
         "title": {
          "text": "Objective Value"
         },
         "type": "linear"
        }
       }
      },
      "image/png": "[encoded data removed]",
      "text/html": [
       "<div>                            <div id=\"cc32882f-53d1-4690-91d7-a10ce15aaf9c\" class=\"plotly-graph-div\" style=\"height:525px; width:100%;\"></div>            <script type=\"text/javascript\">                require([\"plotly\"], function(Plotly) {                    window.PLOTLYENV=window.PLOTLYENV || {};                                    if (document.getElementById(\"cc32882f-53d1-4690-91d7-a10ce15aaf9c\")) {                    Plotly.newPlot(                        \"cc32882f-53d1-4690-91d7-a10ce15aaf9c\",                        [{\"mode\":\"markers\",\"name\":\"Objective Value\",\"x\":[0,1,2,3,4,5,6,7,8,9,10,11,12,13,14,15,16,17,18,19,20,21,22,23,24,25,26,27,28,29,30,31,32,33,34],\"y\":[0.8296956982651317,0.8410336849126611,0.8633932665908319,0.8664082925870562,0.8555728102722308,0.868136907491558,0.861891709199626,0.8633456217355829,0.8599419923887344,0.8629063957262564,0.8639411824261951,0.8624426028384422,0.8680937293414885,0.8503899433621783,0.8665609050140255,0.8661507125883665,0.8654345508579052,0.8687265125752639,0.8636530799421114,0.8227752830402182,0.8669629084801886,0.8690563043076903,0.8687175791649048,0.8689587812446026,0.8498956279889701,0.862630204455985,0.864965546814048,0.8656325747875337,0.8673262005014621,0.8439623546087465,0.8672733444901702,0.8696116646516863,0.8557142559362512,0.869793310662323,0.8706769738370188],\"type\":\"scatter\"},{\"mode\":\"lines\",\"name\":\"Best Value\",\"x\":[0,1,2,3,4,5,6,7,8,9,10,11,12,13,14,15,16,17,18,19,20,21,22,23,24,25,26,27,28,29,30,31,32,33,34],\"y\":[0.8296956982651317,0.8410336849126611,0.8633932665908319,0.8664082925870562,0.8664082925870562,0.868136907491558,0.868136907491558,0.868136907491558,0.868136907491558,0.868136907491558,0.868136907491558,0.868136907491558,0.868136907491558,0.868136907491558,0.868136907491558,0.868136907491558,0.868136907491558,0.8687265125752639,0.8687265125752639,0.8687265125752639,0.8687265125752639,0.8690563043076903,0.8690563043076903,0.8690563043076903,0.8690563043076903,0.8690563043076903,0.8690563043076903,0.8690563043076903,0.8690563043076903,0.8690563043076903,0.8690563043076903,0.8696116646516863,0.8696116646516863,0.869793310662323,0.8706769738370188],\"type\":\"scatter\"},{\"marker\":{\"color\":\"#cccccc\"},\"mode\":\"markers\",\"name\":\"Infeasible Trial\",\"showlegend\":false,\"x\":[],\"y\":[],\"type\":\"scatter\"}],                        {\"title\":{\"text\":\"Optimization History Plot\"},\"xaxis\":{\"title\":{\"text\":\"Trial\"}},\"yaxis\":{\"title\":{\"text\":\"Objective Value\"}},\"template\":{\"data\":{\"histogram2dcontour\":[{\"type\":\"histogram2dcontour\",\"colorbar\":{\"outlinewidth\":0,\"ticks\":\"\"},\"colorscale\":[[0.0,\"#0d0887\"],[0.1111111111111111,\"#46039f\"],[0.2222222222222222,\"#7201a8\"],[0.3333333333333333,\"#9c179e\"],[0.4444444444444444,\"#bd3786\"],[0.5555555555555556,\"#d8576b\"],[0.6666666666666666,\"#ed7953\"],[0.7777777777777778,\"#fb9f3a\"],[0.8888888888888888,\"#fdca26\"],[1.0,\"#f0f921\"]]}],\"choropleth\":[{\"type\":\"choropleth\",\"colorbar\":{\"outlinewidth\":0,\"ticks\":\"\"}}],\"histogram2d\":[{\"type\":\"histogram2d\",\"colorbar\":{\"outlinewidth\":0,\"ticks\":\"\"},\"colorscale\":[[0.0,\"#0d0887\"],[0.1111111111111111,\"#46039f\"],[0.2222222222222222,\"#7201a8\"],[0.3333333333333333,\"#9c179e\"],[0.4444444444444444,\"#bd3786\"],[0.5555555555555556,\"#d8576b\"],[0.6666666666666666,\"#ed7953\"],[0.7777777777777778,\"#fb9f3a\"],[0.8888888888888888,\"#fdca26\"],[1.0,\"#f0f921\"]]}],\"heatmap\":[{\"type\":\"heatmap\",\"colorbar\":{\"outlinewidth\":0,\"ticks\":\"\"},\"colorscale\":[[0.0,\"#0d0887\"],[0.1111111111111111,\"#46039f\"],[0.2222222222222222,\"#7201a8\"],[0.3333333333333333,\"#9c179e\"],[0.4444444444444444,\"#bd3786\"],[0.5555555555555556,\"#d8576b\"],[0.6666666666666666,\"#ed7953\"],[0.7777777777777778,\"#fb9f3a\"],[0.8888888888888888,\"#fdca26\"],[1.0,\"#f0f921\"]]}],\"heatmapgl\":[{\"type\":\"heatmapgl\",\"colorbar\":{\"outlinewidth\":0,\"ticks\":\"\"},\"colorscale\":[[0.0,\"#0d0887\"],[0.1111111111111111,\"#46039f\"],[0.2222222222222222,\"#7201a8\"],[0.3333333333333333,\"#9c179e\"],[0.4444444444444444,\"#bd3786\"],[0.5555555555555556,\"#d8576b\"],[0.6666666666666666,\"#ed7953\"],[0.7777777777777778,\"#fb9f3a\"],[0.8888888888888888,\"#fdca26\"],[1.0,\"#f0f921\"]]}],\"contourcarpet\":[{\"type\":\"contourcarpet\",\"colorbar\":{\"outlinewidth\":0,\"ticks\":\"\"}}],\"contour\":[{\"type\":\"contour\",\"colorbar\":{\"outlinewidth\":0,\"ticks\":\"\"},\"colorscale\":[[0.0,\"#0d0887\"],[0.1111111111111111,\"#46039f\"],[0.2222222222222222,\"#7201a8\"],[0.3333333333333333,\"#9c179e\"],[0.4444444444444444,\"#bd3786\"],[0.5555555555555556,\"#d8576b\"],[0.6666666666666666,\"#ed7953\"],[0.7777777777777778,\"#fb9f3a\"],[0.8888888888888888,\"#fdca26\"],[1.0,\"#f0f921\"]]}],\"surface\":[{\"type\":\"surface\",\"colorbar\":{\"outlinewidth\":0,\"ticks\":\"\"},\"colorscale\":[[0.0,\"#0d0887\"],[0.1111111111111111,\"#46039f\"],[0.2222222222222222,\"#7201a8\"],[0.3333333333333333,\"#9c179e\"],[0.4444444444444444,\"#bd3786\"],[0.5555555555555556,\"#d8576b\"],[0.6666666666666666,\"#ed7953\"],[0.7777777777777778,\"#fb9f3a\"],[0.8888888888888888,\"#fdca26\"],[1.0,\"#f0f921\"]]}],\"mesh3d\":[{\"type\":\"mesh3d\",\"colorbar\":{\"outlinewidth\":0,\"ticks\":\"\"}}],\"scatter\":[{\"fillpattern\":{\"fillmode\":\"overlay\",\"size\":10,\"solidity\":0.2},\"type\":\"scatter\"}],\"parcoords\":[{\"type\":\"parcoords\",\"line\":{\"colorbar\":{\"outlinewidth\":0,\"ticks\":\"\"}}}],\"scatterpolargl\":[{\"type\":\"scatterpolargl\",\"marker\":{\"colorbar\":{\"outlinewidth\":0,\"ticks\":\"\"}}}],\"bar\":[{\"error_x\":{\"color\":\"#2a3f5f\"},\"error_y\":{\"color\":\"#2a3f5f\"},\"marker\":{\"line\":{\"color\":\"#E5ECF6\",\"width\":0.5},\"pattern\":{\"fillmode\":\"overlay\",\"size\":10,\"solidity\":0.2}},\"type\":\"bar\"}],\"scattergeo\":[{\"type\":\"scattergeo\",\"marker\":{\"colorbar\":{\"outlinewidth\":0,\"ticks\":\"\"}}}],\"scatterpolar\":[{\"type\":\"scatterpolar\",\"marker\":{\"colorbar\":{\"outlinewidth\":0,\"ticks\":\"\"}}}],\"histogram\":[{\"marker\":{\"pattern\":{\"fillmode\":\"overlay\",\"size\":10,\"solidity\":0.2}},\"type\":\"histogram\"}],\"scattergl\":[{\"type\":\"scattergl\",\"marker\":{\"colorbar\":{\"outlinewidth\":0,\"ticks\":\"\"}}}],\"scatter3d\":[{\"type\":\"scatter3d\",\"line\":{\"colorbar\":{\"outlinewidth\":0,\"ticks\":\"\"}},\"marker\":{\"colorbar\":{\"outlinewidth\":0,\"ticks\":\"\"}}}],\"scattermapbox\":[{\"type\":\"scattermapbox\",\"marker\":{\"colorbar\":{\"outlinewidth\":0,\"ticks\":\"\"}}}],\"scatterternary\":[{\"type\":\"scatterternary\",\"marker\":{\"colorbar\":{\"outlinewidth\":0,\"ticks\":\"\"}}}],\"scattercarpet\":[{\"type\":\"scattercarpet\",\"marker\":{\"colorbar\":{\"outlinewidth\":0,\"ticks\":\"\"}}}],\"carpet\":[{\"aaxis\":{\"endlinecolor\":\"#2a3f5f\",\"gridcolor\":\"white\",\"linecolor\":\"white\",\"minorgridcolor\":\"white\",\"startlinecolor\":\"#2a3f5f\"},\"baxis\":{\"endlinecolor\":\"#2a3f5f\",\"gridcolor\":\"white\",\"linecolor\":\"white\",\"minorgridcolor\":\"white\",\"startlinecolor\":\"#2a3f5f\"},\"type\":\"carpet\"}],\"table\":[{\"cells\":{\"fill\":{\"color\":\"#EBF0F8\"},\"line\":{\"color\":\"white\"}},\"header\":{\"fill\":{\"color\":\"#C8D4E3\"},\"line\":{\"color\":\"white\"}},\"type\":\"table\"}],\"barpolar\":[{\"marker\":{\"line\":{\"color\":\"#E5ECF6\",\"width\":0.5},\"pattern\":{\"fillmode\":\"overlay\",\"size\":10,\"solidity\":0.2}},\"type\":\"barpolar\"}],\"pie\":[{\"automargin\":true,\"type\":\"pie\"}]},\"layout\":{\"autotypenumbers\":\"strict\",\"colorway\":[\"#636efa\",\"#EF553B\",\"#00cc96\",\"#ab63fa\",\"#FFA15A\",\"#19d3f3\",\"#FF6692\",\"#B6E880\",\"#FF97FF\",\"#FECB52\"],\"font\":{\"color\":\"#2a3f5f\"},\"hovermode\":\"closest\",\"hoverlabel\":{\"align\":\"left\"},\"paper_bgcolor\":\"white\",\"plot_bgcolor\":\"#E5ECF6\",\"polar\":{\"bgcolor\":\"#E5ECF6\",\"angularaxis\":{\"gridcolor\":\"white\",\"linecolor\":\"white\",\"ticks\":\"\"},\"radialaxis\":{\"gridcolor\":\"white\",\"linecolor\":\"white\",\"ticks\":\"\"}},\"ternary\":{\"bgcolor\":\"#E5ECF6\",\"aaxis\":{\"gridcolor\":\"white\",\"linecolor\":\"white\",\"ticks\":\"\"},\"baxis\":{\"gridcolor\":\"white\",\"linecolor\":\"white\",\"ticks\":\"\"},\"caxis\":{\"gridcolor\":\"white\",\"linecolor\":\"white\",\"ticks\":\"\"}},\"coloraxis\":{\"colorbar\":{\"outlinewidth\":0,\"ticks\":\"\"}},\"colorscale\":{\"sequential\":[[0.0,\"#0d0887\"],[0.1111111111111111,\"#46039f\"],[0.2222222222222222,\"#7201a8\"],[0.3333333333333333,\"#9c179e\"],[0.4444444444444444,\"#bd3786\"],[0.5555555555555556,\"#d8576b\"],[0.6666666666666666,\"#ed7953\"],[0.7777777777777778,\"#fb9f3a\"],[0.8888888888888888,\"#fdca26\"],[1.0,\"#f0f921\"]],\"sequentialminus\":[[0.0,\"#0d0887\"],[0.1111111111111111,\"#46039f\"],[0.2222222222222222,\"#7201a8\"],[0.3333333333333333,\"#9c179e\"],[0.4444444444444444,\"#bd3786\"],[0.5555555555555556,\"#d8576b\"],[0.6666666666666666,\"#ed7953\"],[0.7777777777777778,\"#fb9f3a\"],[0.8888888888888888,\"#fdca26\"],[1.0,\"#f0f921\"]],\"diverging\":[[0,\"#8e0152\"],[0.1,\"#c51b7d\"],[0.2,\"#de77ae\"],[0.3,\"#f1b6da\"],[0.4,\"#fde0ef\"],[0.5,\"#f7f7f7\"],[0.6,\"#e6f5d0\"],[0.7,\"#b8e186\"],[0.8,\"#7fbc41\"],[0.9,\"#4d9221\"],[1,\"#276419\"]]},\"xaxis\":{\"gridcolor\":\"white\",\"linecolor\":\"white\",\"ticks\":\"\",\"title\":{\"standoff\":15},\"zerolinecolor\":\"white\",\"automargin\":true,\"zerolinewidth\":2},\"yaxis\":{\"gridcolor\":\"white\",\"linecolor\":\"white\",\"ticks\":\"\",\"title\":{\"standoff\":15},\"zerolinecolor\":\"white\",\"automargin\":true,\"zerolinewidth\":2},\"scene\":{\"xaxis\":{\"backgroundcolor\":\"#E5ECF6\",\"gridcolor\":\"white\",\"linecolor\":\"white\",\"showbackground\":true,\"ticks\":\"\",\"zerolinecolor\":\"white\",\"gridwidth\":2},\"yaxis\":{\"backgroundcolor\":\"#E5ECF6\",\"gridcolor\":\"white\",\"linecolor\":\"white\",\"showbackground\":true,\"ticks\":\"\",\"zerolinecolor\":\"white\",\"gridwidth\":2},\"zaxis\":{\"backgroundcolor\":\"#E5ECF6\",\"gridcolor\":\"white\",\"linecolor\":\"white\",\"showbackground\":true,\"ticks\":\"\",\"zerolinecolor\":\"white\",\"gridwidth\":2}},\"shapedefaults\":{\"line\":{\"color\":\"#2a3f5f\"}},\"annotationdefaults\":{\"arrowcolor\":\"#2a3f5f\",\"arrowhead\":0,\"arrowwidth\":1},\"geo\":{\"bgcolor\":\"white\",\"landcolor\":\"#E5ECF6\",\"subunitcolor\":\"white\",\"showland\":true,\"showlakes\":true,\"lakecolor\":\"white\"},\"title\":{\"x\":0.05},\"mapbox\":{\"style\":\"light\"}}}},                        {\"responsive\": true}                    ).then(function(){\n",
       "                            \n",
       "var gd = document.getElementById('cc32882f-53d1-4690-91d7-a10ce15aaf9c');\n",
       "var x = new MutationObserver(function (mutations, observer) {{\n",
       "        var display = window.getComputedStyle(gd).display;\n",
       "        if (!display || display === 'none') {{\n",
       "            console.log([gd, 'removed!']);\n",
       "            Plotly.purge(gd);\n",
       "            observer.disconnect();\n",
       "        }}\n",
       "}});\n",
       "\n",
       "// Listen for the removal of the full notebook cells\n",
       "var notebookContainer = gd.closest('#notebook-container');\n",
       "if (notebookContainer) {{\n",
       "    x.observe(notebookContainer, {childList: true});\n",
       "}}\n",
       "\n",
       "// Listen for the clearing of the current output cell\n",
       "var outputEl = gd.closest('.output');\n",
       "if (outputEl) {{\n",
       "    x.observe(outputEl, {childList: true});\n",
       "}}\n",
       "\n",
       "                        })                };                });            </script>        </div>"
      ]
     },
     "metadata": {},
     "output_type": "display_data"
    }
   ],
   "source": [
    "optuna.visualization.plot_optimization_history(study)\n"
   ]
  },
  {
   "cell_type": "code",
   "execution_count": 122,
   "id": "ca3cda75-4f28-4e77-b6ce-052c29fe306d",
   "metadata": {},
   "outputs": [
    {
     "name": "stdout",
     "output_type": "stream",
     "text": [
      "Fold: 1 ROC-AUC SCORE 0.859\n",
      "---\n",
      "Fold: 2 ROC-AUC SCORE 0.851\n",
      "---\n",
      "Fold: 3 ROC-AUC SCORE 0.854\n",
      "---\n",
      "Fold: 4 ROC-AUC SCORE 0.856\n",
      "---\n",
      "Fold: 5 ROC-AUC SCORE 0.856\n",
      "---\n"
     ]
    }
   ],
   "source": [
    "pred_val = []\n",
    "pred_score_val = []\n",
    "\n",
    "cv = StratifiedKFold(n_splits=N_FOLDS, shuffle=True, random_state=RAND)\n",
    "for fold, (train_idx, val_idx) in enumerate(cv.split(X_train_main_, y_train_main_)):\n",
    "    X_train_, X_val_ = X_train_main_.iloc[train_idx], X_train_main_.iloc[val_idx]\n",
    "    y_train_, y_val_ = y_train_main_[train_idx], y_train_main_[val_idx]\n",
    "\n",
    "    model2 = LGBMClassifier(**study.best_params, is_unbalance=True, random_state=RAND, metric='AUC')\n",
    "    model2.fit(X_train_, y_train_, verbose=0)\n",
    "\n",
    "    y_pred_val = model2.predict(X_val_)\n",
    "    y_score_val = model2.predict_proba(X_val_)\n",
    "\n",
    "    print(\"Fold:\", fold + 1, \"ROC-AUC SCORE %.3f\" % roc_auc_score(y_val_, y_score_val[:, 1]))\n",
    "    print(\"---\")\n",
    "\n",
    "    pred_val.append(y_pred_val)\n",
    "    pred_score_val.append(y_score_val)\n",
    "\n",
    "# обучаем модель для предсказания на test\n",
    "model2.fit(X_train_main_, y_train_main_)\n",
    "\n",
    "meta_X['lgb_tuned'] = np.concatenate(pred_score_val)[:,1]\n",
    "meta_X_test['lgb_tuned'] = model2.predict_proba(X_test_main)[:,1]"
   ]
  },
  {
   "cell_type": "code",
   "execution_count": 123,
   "id": "18038360-64c7-4d68-b062-f044e1b8bd88",
   "metadata": {},
   "outputs": [
    {
     "name": "stdout",
     "output_type": "stream",
     "text": [
      "roc_auc_score train: 0.89476\n",
      "roc_auc_score test: 0.86493\n",
      "delta = 3.4 %\n"
     ]
    }
   ],
   "source": [
    "check_overfitting(model=model2, X_train=X_train_main, y_train=y_train_main, X_test=X_test_main, y_test=y_test_main, metric_fun=roc_auc_score)"
   ]
  },
  {
   "cell_type": "markdown",
   "id": "ba907a65-cccb-49e1-a56b-4fe87e43f7e7",
   "metadata": {},
   "source": [
    "# XGB Tuned"
   ]
  },
  {
   "cell_type": "code",
   "execution_count": 124,
   "id": "11030391-3699-485f-937a-458d3cc46d9c",
   "metadata": {
    "scrolled": true
   },
   "outputs": [
    {
     "name": "stderr",
     "output_type": "stream",
     "text": [
      "[I 2024-03-22 14:16:26,778] A new study created in memory with name: no-name-78f6c290-dbee-4f98-b1d6-5f173d14d800\n"
     ]
    },
    {
     "data": {
      "application/vnd.jupyter.widget-view+json": {
       "model_id": "873b4181e5c444b3adff231ff3fbd7e7",
       "version_major": 2,
       "version_minor": 0
      },
      "text/plain": [
       "  0%|          | 0/35 [00:00<?, ?it/s]"
      ]
     },
     "metadata": {},
     "output_type": "display_data"
    },
    {
     "name": "stdout",
     "output_type": "stream",
     "text": [
      "[I 2024-03-22 14:16:30,791] Trial 0 finished with value: 0.846360975290187 and parameters: {'n_estimators': 600, 'learning_rate': 0.039266989090754406, 'max_depth': 11, 'subsample': 0.5500757261812244, 'colsample_bytree': 0.9625119038814072}. Best is trial 0 with value: 0.846360975290187.\n",
      "[I 2024-03-22 14:16:32,809] Trial 1 finished with value: 0.8654427398174012 and parameters: {'n_estimators': 583, 'learning_rate': 0.032249262425918336, 'max_depth': 5, 'subsample': 0.8678074895993666, 'colsample_bytree': 0.8839683301073791}. Best is trial 1 with value: 0.8654427398174012.\n",
      "[I 2024-03-22 14:16:35,716] Trial 2 finished with value: 0.8282455079834912 and parameters: {'n_estimators': 483, 'learning_rate': 0.26627430251515016, 'max_depth': 13, 'subsample': 0.998293737018966, 'colsample_bytree': 0.9849522117359175}. Best is trial 1 with value: 0.8654427398174012.\n",
      "[I 2024-03-22 14:16:40,146] Trial 3 finished with value: 0.8667284064582601 and parameters: {'n_estimators': 808, 'learning_rate': 0.002565023206546384, 'max_depth': 10, 'subsample': 0.5957001114921163, 'colsample_bytree': 0.8419299736712053}. Best is trial 3 with value: 0.8667284064582601.\n",
      "[I 2024-03-22 14:16:43,741] Trial 4 finished with value: 0.8674780684775683 and parameters: {'n_estimators': 861, 'learning_rate': 0.006333897678076382, 'max_depth': 7, 'subsample': 0.6786157976100153, 'colsample_bytree': 0.9092993260166515}. Best is trial 4 with value: 0.8674780684775683.\n",
      "[I 2024-03-22 14:16:45,994] Trial 5 finished with value: 0.8658760102198214 and parameters: {'n_estimators': 757, 'learning_rate': 0.01910547685342653, 'max_depth': 4, 'subsample': 0.9879505597842192, 'colsample_bytree': 0.7124616573186161}. Best is trial 4 with value: 0.8674780684775683.\n",
      "[I 2024-03-22 14:16:49,849] Trial 6 finished with value: 0.8659214217224807 and parameters: {'n_estimators': 701, 'learning_rate': 0.0018835247919902307, 'max_depth': 10, 'subsample': 0.9272549418130822, 'colsample_bytree': 0.6720918693415869}. Best is trial 4 with value: 0.8674780684775683.\n",
      "[I 2024-03-22 14:16:55,525] Trial 7 finished with value: 0.828363131219887 and parameters: {'n_estimators': 789, 'learning_rate': 0.07767236427316364, 'max_depth': 15, 'subsample': 0.7912250656729498, 'colsample_bytree': 0.9205710803461649}. Best is trial 4 with value: 0.8674780684775683.\n",
      "[I 2024-03-22 14:17:00,312] Trial 8 finished with value: 0.867047775878601 and parameters: {'n_estimators': 874, 'learning_rate': 0.005006003180116683, 'max_depth': 10, 'subsample': 0.8123768358712004, 'colsample_bytree': 0.6297983950931214}. Best is trial 4 with value: 0.8674780684775683.\n",
      "[I 2024-03-22 14:17:03,656] Trial 9 finished with value: 0.8637818699414563 and parameters: {'n_estimators': 628, 'learning_rate': 0.0036468535009025714, 'max_depth': 9, 'subsample': 0.9003834843892218, 'colsample_bytree': 0.8264759197641789}. Best is trial 4 with value: 0.8674780684775683.\n",
      "[I 2024-03-22 14:17:05,414] Trial 10 finished with value: 0.8661886795823929 and parameters: {'n_estimators': 370, 'learning_rate': 0.008473731807582338, 'max_depth': 7, 'subsample': 0.6654683696151011, 'colsample_bytree': 0.5317835962089223}. Best is trial 4 with value: 0.8674780684775683.\n",
      "[I 2024-03-22 14:17:09,207] Trial 11 finished with value: 0.8684726548308904 and parameters: {'n_estimators': 898, 'learning_rate': 0.006326026743805709, 'max_depth': 7, 'subsample': 0.7319370726105698, 'colsample_bytree': 0.5886801823520146}. Best is trial 11 with value: 0.8684726548308904.\n",
      "[I 2024-03-22 14:17:12,816] Trial 12 finished with value: 0.868518810784413 and parameters: {'n_estimators': 875, 'learning_rate': 0.009257133555447699, 'max_depth': 7, 'subsample': 0.6834776977424097, 'colsample_bytree': 0.501241580670028}. Best is trial 12 with value: 0.868518810784413.\n",
      "[I 2024-03-22 14:17:16,495] Trial 13 finished with value: 0.8666963950711397 and parameters: {'n_estimators': 897, 'learning_rate': 0.011351705564268363, 'max_depth': 7, 'subsample': 0.7068212841184665, 'colsample_bytree': 0.50524972897258}. Best is trial 12 with value: 0.868518810784413.\n",
      "[I 2024-03-22 14:17:19,058] Trial 14 finished with value: 0.8501636302997456 and parameters: {'n_estimators': 707, 'learning_rate': 0.0012961727007644547, 'max_depth': 5, 'subsample': 0.7450428662413576, 'colsample_bytree': 0.5777747850659107}. Best is trial 12 with value: 0.868518810784413.\n",
      "[I 2024-03-22 14:17:20,592] Trial 15 finished with value: 0.8656965975617745 and parameters: {'n_estimators': 469, 'learning_rate': 0.01779387105073787, 'max_depth': 3, 'subsample': 0.5032567668465759, 'colsample_bytree': 0.5736612153455903}. Best is trial 12 with value: 0.868518810784413.\n",
      "[I 2024-03-22 14:17:24,387] Trial 16 finished with value: 0.8356974611247759 and parameters: {'n_estimators': 816, 'learning_rate': 0.08214943853168387, 'max_depth': 8, 'subsample': 0.6375064694708692, 'colsample_bytree': 0.7656257391129497}. Best is trial 12 with value: 0.868518810784413.\n",
      "[I 2024-03-22 14:17:26,972] Trial 17 finished with value: 0.8539968077946984 and parameters: {'n_estimators': 711, 'learning_rate': 0.0010069253936724077, 'max_depth': 6, 'subsample': 0.7804937139501361, 'colsample_bytree': 0.6117345763020834}. Best is trial 12 with value: 0.868518810784413.\n",
      "[I 2024-03-22 14:17:29,190] Trial 18 finished with value: 0.8661410347271439 and parameters: {'n_estimators': 301, 'learning_rate': 0.010402519346374135, 'max_depth': 12, 'subsample': 0.8363664370575534, 'colsample_bytree': 0.552908884579303}. Best is trial 12 with value: 0.868518810784413.\n",
      "[I 2024-03-22 14:17:33,004] Trial 19 finished with value: 0.8664403039741766 and parameters: {'n_estimators': 852, 'learning_rate': 0.003506203835567848, 'max_depth': 8, 'subsample': 0.7275979922204742, 'colsample_bytree': 0.6549179441943834}. Best is trial 12 with value: 0.868518810784413.\n",
      "[I 2024-03-22 14:17:35,222] Trial 20 finished with value: 0.8649275798200216 and parameters: {'n_estimators': 754, 'learning_rate': 0.03699057715242501, 'max_depth': 3, 'subsample': 0.6178627460886588, 'colsample_bytree': 0.7485170947900691}. Best is trial 12 with value: 0.868518810784413.\n",
      "[I 2024-03-22 14:17:38,458] Trial 21 finished with value: 0.867452012697354 and parameters: {'n_estimators': 849, 'learning_rate': 0.005910837324078753, 'max_depth': 6, 'subsample': 0.6863090939044182, 'colsample_bytree': 0.509279214089936}. Best is trial 12 with value: 0.868518810784413.\n",
      "[I 2024-03-22 14:17:42,405] Trial 22 finished with value: 0.8688329690487109 and parameters: {'n_estimators': 898, 'learning_rate': 0.007865774690487755, 'max_depth': 8, 'subsample': 0.6631035230845164, 'colsample_bytree': 0.6002782058072016}. Best is trial 22 with value: 0.8688329690487109.\n",
      "[I 2024-03-22 14:17:46,277] Trial 23 finished with value: 0.8644168865278217 and parameters: {'n_estimators': 898, 'learning_rate': 0.01489244835696012, 'max_depth': 8, 'subsample': 0.5781413810479602, 'colsample_bytree': 0.5771754610710373}. Best is trial 22 with value: 0.8688329690487109.\n",
      "[I 2024-03-22 14:17:50,253] Trial 24 finished with value: 0.8680512956422823 and parameters: {'n_estimators': 814, 'learning_rate': 0.007469427187304237, 'max_depth': 9, 'subsample': 0.7612468239120387, 'colsample_bytree': 0.6091060759615493}. Best is trial 22 with value: 0.8688329690487109.\n",
      "[I 2024-03-22 14:17:52,944] Trial 25 finished with value: 0.8622520234174464 and parameters: {'n_estimators': 669, 'learning_rate': 0.003991817299084317, 'max_depth': 6, 'subsample': 0.6465046777252973, 'colsample_bytree': 0.6910025085969718}. Best is trial 22 with value: 0.8688329690487109.\n",
      "[I 2024-03-22 14:17:55,474] Trial 26 finished with value: 0.856151993043851 and parameters: {'n_estimators': 758, 'learning_rate': 0.002258222359600497, 'max_depth': 5, 'subsample': 0.7209057961065669, 'colsample_bytree': 0.540331727760276}. Best is trial 22 with value: 0.8688329690487109.\n",
      "[I 2024-03-22 14:17:58,084] Trial 27 finished with value: 0.8641027282635237 and parameters: {'n_estimators': 514, 'learning_rate': 0.024194269125244236, 'max_depth': 9, 'subsample': 0.5410971720687257, 'colsample_bytree': 0.6336100704126995}. Best is trial 22 with value: 0.8688329690487109.\n",
      "[I 2024-03-22 14:18:01,536] Trial 28 finished with value: 0.8667812624695519 and parameters: {'n_estimators': 841, 'learning_rate': 0.012526503280707525, 'max_depth': 7, 'subsample': 0.6965057839017428, 'colsample_bytree': 0.5007668887630671}. Best is trial 22 with value: 0.8688329690487109.\n",
      "[I 2024-03-22 14:18:06,117] Trial 29 finished with value: 0.838684197988196 and parameters: {'n_estimators': 785, 'learning_rate': 0.0494114502976207, 'max_depth': 11, 'subsample': 0.5514872114621461, 'colsample_bytree': 0.7296829173612015}. Best is trial 22 with value: 0.8688329690487109.\n",
      "[I 2024-03-22 14:18:09,009] Trial 30 finished with value: 0.8661790017211703 and parameters: {'n_estimators': 899, 'learning_rate': 0.007906021464058489, 'max_depth': 4, 'subsample': 0.6204215695465599, 'colsample_bytree': 0.5942726394219188}. Best is trial 22 with value: 0.8688329690487109.\n",
      "[I 2024-03-22 14:18:13,198] Trial 31 finished with value: 0.8677698932159682 and parameters: {'n_estimators': 824, 'learning_rate': 0.006677429443797118, 'max_depth': 9, 'subsample': 0.7557316883109575, 'colsample_bytree': 0.6126367746417948}. Best is trial 22 with value: 0.8688329690487109.\n",
      "[I 2024-03-22 14:18:17,109] Trial 32 finished with value: 0.8680110952956661 and parameters: {'n_estimators': 865, 'learning_rate': 0.00836563750566921, 'max_depth': 8, 'subsample': 0.7615778193540801, 'colsample_bytree': 0.6538780588895069}. Best is trial 22 with value: 0.8688329690487109.\n",
      "[I 2024-03-22 14:18:20,730] Trial 33 finished with value: 0.8670745761096783 and parameters: {'n_estimators': 573, 'learning_rate': 0.00441330838266009, 'max_depth': 11, 'subsample': 0.8521516229949766, 'colsample_bytree': 0.550947918878425}. Best is trial 22 with value: 0.8688329690487109.\n",
      "[I 2024-03-22 14:18:24,767] Trial 34 finished with value: 0.864987880339946 and parameters: {'n_estimators': 790, 'learning_rate': 0.002722789516849286, 'max_depth': 9, 'subsample': 0.8088006937024136, 'colsample_bytree': 0.7859571745855941}. Best is trial 22 with value: 0.8688329690487109.\n"
     ]
    }
   ],
   "source": [
    "def objective_xgb(trial, random_state):\n",
    "    xgb_params = {\n",
    "        'n_estimators': trial.suggest_int('n_estimators', 300, 900),\n",
    "        \"learning_rate\": trial.suggest_float(\"learning_rate\", 0.001, 0.3, log=True),\n",
    "        'max_depth': trial.suggest_int('max_depth', 3, 15),\n",
    "        # 'num_leaves': trial.suggest_int('num_leaves', 10, 1000),\n",
    "        'subsample': trial.suggest_uniform('subsample', 0.5, 1.0),\n",
    "        'colsample_bytree': trial.suggest_uniform('colsample_bytree', 0.5, 1.0)\n",
    "    }\n",
    "\n",
    "    model = XGBClassifier(**xgb_params, random_state=RAND, objective='binary:logistic')\n",
    "    model.fit(X_train_main_, y_train_main_, eval_metric='auc', eval_set=[(X_val_main, y_val_main)], verbose=False)\n",
    "\n",
    "    preds = model.predict_proba(X_val_main)[:, 1]\n",
    "    score = roc_auc_score(y_val_main, preds)\n",
    "    return score\n",
    "\n",
    "study_xgb = optuna.create_study(direction=\"maximize\")\n",
    "pointer = lambda trial: objective_xgb(trial, random_state=RAND)\n",
    "study_xgb.optimize(pointer, n_trials=35, show_progress_bar=True)"
   ]
  },
  {
   "cell_type": "code",
   "execution_count": 125,
   "id": "e2223e04-1a0e-4cee-963a-0b5367cdca2d",
   "metadata": {},
   "outputs": [
    {
     "data": {
      "text/plain": [
       "{'n_estimators': 898,\n",
       " 'learning_rate': 0.007865774690487755,\n",
       " 'max_depth': 8,\n",
       " 'subsample': 0.6631035230845164,\n",
       " 'colsample_bytree': 0.6002782058072016}"
      ]
     },
     "execution_count": 125,
     "metadata": {},
     "output_type": "execute_result"
    }
   ],
   "source": [
    "study_xgb.best_params"
   ]
  },
  {
   "cell_type": "markdown",
   "id": "02f3b310-ff54-4681-b522-6dd1bdd6ad26",
   "metadata": {},
   "source": [
    "Saved:\n",
    "{'n_estimators': 745,\n",
    " 'learning_rate': 0.02093004760601575,\n",
    " 'max_depth': 4,\n",
    " 'subsample': 0.815587804415079,\n",
    " 'colsample_bytree': 0.9334191677923097}"
   ]
  },
  {
   "cell_type": "code",
   "execution_count": 126,
   "id": "8a4fe11a-727c-4bb5-b80d-06e6e183c19d",
   "metadata": {},
   "outputs": [
    {
     "data": {
      "application/vnd.plotly.v1+json": {
       "config": {
        "plotlyServerURL": "https://plot.ly"
       },
       "data": [
        {
         "mode": "markers",
         "name": "Objective Value",
         "type": "scatter",
         "x": [
          0,
          1,
          2,
          3,
          4,
          5,
          6,
          7,
          8,
          9,
          10,
          11,
          12,
          13,
          14,
          15,
          16,
          17,
          18,
          19,
          20,
          21,
          22,
          23,
          24,
          25,
          26,
          27,
          28,
          29,
          30,
          31,
          32,
          33,
          34
         ],
         "y": [
          0.846360975290187,
          0.8654427398174012,
          0.8282455079834912,
          0.8667284064582601,
          0.8674780684775683,
          0.8658760102198214,
          0.8659214217224807,
          0.828363131219887,
          0.867047775878601,
          0.8637818699414563,
          0.8661886795823929,
          0.8684726548308904,
          0.868518810784413,
          0.8666963950711397,
          0.8501636302997456,
          0.8656965975617745,
          0.8356974611247759,
          0.8539968077946984,
          0.8661410347271439,
          0.8664403039741766,
          0.8649275798200216,
          0.867452012697354,
          0.8688329690487109,
          0.8644168865278217,
          0.8680512956422823,
          0.8622520234174464,
          0.856151993043851,
          0.8641027282635237,
          0.8667812624695519,
          0.838684197988196,
          0.8661790017211703,
          0.8677698932159682,
          0.8680110952956661,
          0.8670745761096783,
          0.864987880339946
         ]
        },
        {
         "mode": "lines",
         "name": "Best Value",
         "type": "scatter",
         "x": [
          0,
          1,
          2,
          3,
          4,
          5,
          6,
          7,
          8,
          9,
          10,
          11,
          12,
          13,
          14,
          15,
          16,
          17,
          18,
          19,
          20,
          21,
          22,
          23,
          24,
          25,
          26,
          27,
          28,
          29,
          30,
          31,
          32,
          33,
          34
         ],
         "y": [
          0.846360975290187,
          0.8654427398174012,
          0.8654427398174012,
          0.8667284064582601,
          0.8674780684775683,
          0.8674780684775683,
          0.8674780684775683,
          0.8674780684775683,
          0.8674780684775683,
          0.8674780684775683,
          0.8674780684775683,
          0.8684726548308904,
          0.868518810784413,
          0.868518810784413,
          0.868518810784413,
          0.868518810784413,
          0.868518810784413,
          0.868518810784413,
          0.868518810784413,
          0.868518810784413,
          0.868518810784413,
          0.868518810784413,
          0.8688329690487109,
          0.8688329690487109,
          0.8688329690487109,
          0.8688329690487109,
          0.8688329690487109,
          0.8688329690487109,
          0.8688329690487109,
          0.8688329690487109,
          0.8688329690487109,
          0.8688329690487109,
          0.8688329690487109,
          0.8688329690487109,
          0.8688329690487109
         ]
        },
        {
         "marker": {
          "color": "#cccccc"
         },
         "mode": "markers",
         "name": "Infeasible Trial",
         "showlegend": false,
         "type": "scatter",
         "x": [],
         "y": []
        }
       ],
       "layout": {
        "autosize": true,
        "template": {
         "data": {
          "bar": [
           {
            "error_x": {
             "color": "#2a3f5f"
            },
            "error_y": {
             "color": "#2a3f5f"
            },
            "marker": {
             "line": {
              "color": "#E5ECF6",
              "width": 0.5
             },
             "pattern": {
              "fillmode": "overlay",
              "size": 10,
              "solidity": 0.2
             }
            },
            "type": "bar"
           }
          ],
          "barpolar": [
           {
            "marker": {
             "line": {
              "color": "#E5ECF6",
              "width": 0.5
             },
             "pattern": {
              "fillmode": "overlay",
              "size": 10,
              "solidity": 0.2
             }
            },
            "type": "barpolar"
           }
          ],
          "carpet": [
           {
            "aaxis": {
             "endlinecolor": "#2a3f5f",
             "gridcolor": "white",
             "linecolor": "white",
             "minorgridcolor": "white",
             "startlinecolor": "#2a3f5f"
            },
            "baxis": {
             "endlinecolor": "#2a3f5f",
             "gridcolor": "white",
             "linecolor": "white",
             "minorgridcolor": "white",
             "startlinecolor": "#2a3f5f"
            },
            "type": "carpet"
           }
          ],
          "choropleth": [
           {
            "colorbar": {
             "outlinewidth": 0,
             "ticks": ""
            },
            "type": "choropleth"
           }
          ],
          "contour": [
           {
            "colorbar": {
             "outlinewidth": 0,
             "ticks": ""
            },
            "colorscale": [
             [
              0,
              "#0d0887"
             ],
             [
              0.1111111111111111,
              "#46039f"
             ],
             [
              0.2222222222222222,
              "#7201a8"
             ],
             [
              0.3333333333333333,
              "#9c179e"
             ],
             [
              0.4444444444444444,
              "#bd3786"
             ],
             [
              0.5555555555555556,
              "#d8576b"
             ],
             [
              0.6666666666666666,
              "#ed7953"
             ],
             [
              0.7777777777777778,
              "#fb9f3a"
             ],
             [
              0.8888888888888888,
              "#fdca26"
             ],
             [
              1,
              "#f0f921"
             ]
            ],
            "type": "contour"
           }
          ],
          "contourcarpet": [
           {
            "colorbar": {
             "outlinewidth": 0,
             "ticks": ""
            },
            "type": "contourcarpet"
           }
          ],
          "heatmap": [
           {
            "colorbar": {
             "outlinewidth": 0,
             "ticks": ""
            },
            "colorscale": [
             [
              0,
              "#0d0887"
             ],
             [
              0.1111111111111111,
              "#46039f"
             ],
             [
              0.2222222222222222,
              "#7201a8"
             ],
             [
              0.3333333333333333,
              "#9c179e"
             ],
             [
              0.4444444444444444,
              "#bd3786"
             ],
             [
              0.5555555555555556,
              "#d8576b"
             ],
             [
              0.6666666666666666,
              "#ed7953"
             ],
             [
              0.7777777777777778,
              "#fb9f3a"
             ],
             [
              0.8888888888888888,
              "#fdca26"
             ],
             [
              1,
              "#f0f921"
             ]
            ],
            "type": "heatmap"
           }
          ],
          "heatmapgl": [
           {
            "colorbar": {
             "outlinewidth": 0,
             "ticks": ""
            },
            "colorscale": [
             [
              0,
              "#0d0887"
             ],
             [
              0.1111111111111111,
              "#46039f"
             ],
             [
              0.2222222222222222,
              "#7201a8"
             ],
             [
              0.3333333333333333,
              "#9c179e"
             ],
             [
              0.4444444444444444,
              "#bd3786"
             ],
             [
              0.5555555555555556,
              "#d8576b"
             ],
             [
              0.6666666666666666,
              "#ed7953"
             ],
             [
              0.7777777777777778,
              "#fb9f3a"
             ],
             [
              0.8888888888888888,
              "#fdca26"
             ],
             [
              1,
              "#f0f921"
             ]
            ],
            "type": "heatmapgl"
           }
          ],
          "histogram": [
           {
            "marker": {
             "pattern": {
              "fillmode": "overlay",
              "size": 10,
              "solidity": 0.2
             }
            },
            "type": "histogram"
           }
          ],
          "histogram2d": [
           {
            "colorbar": {
             "outlinewidth": 0,
             "ticks": ""
            },
            "colorscale": [
             [
              0,
              "#0d0887"
             ],
             [
              0.1111111111111111,
              "#46039f"
             ],
             [
              0.2222222222222222,
              "#7201a8"
             ],
             [
              0.3333333333333333,
              "#9c179e"
             ],
             [
              0.4444444444444444,
              "#bd3786"
             ],
             [
              0.5555555555555556,
              "#d8576b"
             ],
             [
              0.6666666666666666,
              "#ed7953"
             ],
             [
              0.7777777777777778,
              "#fb9f3a"
             ],
             [
              0.8888888888888888,
              "#fdca26"
             ],
             [
              1,
              "#f0f921"
             ]
            ],
            "type": "histogram2d"
           }
          ],
          "histogram2dcontour": [
           {
            "colorbar": {
             "outlinewidth": 0,
             "ticks": ""
            },
            "colorscale": [
             [
              0,
              "#0d0887"
             ],
             [
              0.1111111111111111,
              "#46039f"
             ],
             [
              0.2222222222222222,
              "#7201a8"
             ],
             [
              0.3333333333333333,
              "#9c179e"
             ],
             [
              0.4444444444444444,
              "#bd3786"
             ],
             [
              0.5555555555555556,
              "#d8576b"
             ],
             [
              0.6666666666666666,
              "#ed7953"
             ],
             [
              0.7777777777777778,
              "#fb9f3a"
             ],
             [
              0.8888888888888888,
              "#fdca26"
             ],
             [
              1,
              "#f0f921"
             ]
            ],
            "type": "histogram2dcontour"
           }
          ],
          "mesh3d": [
           {
            "colorbar": {
             "outlinewidth": 0,
             "ticks": ""
            },
            "type": "mesh3d"
           }
          ],
          "parcoords": [
           {
            "line": {
             "colorbar": {
              "outlinewidth": 0,
              "ticks": ""
             }
            },
            "type": "parcoords"
           }
          ],
          "pie": [
           {
            "automargin": true,
            "type": "pie"
           }
          ],
          "scatter": [
           {
            "fillpattern": {
             "fillmode": "overlay",
             "size": 10,
             "solidity": 0.2
            },
            "type": "scatter"
           }
          ],
          "scatter3d": [
           {
            "line": {
             "colorbar": {
              "outlinewidth": 0,
              "ticks": ""
             }
            },
            "marker": {
             "colorbar": {
              "outlinewidth": 0,
              "ticks": ""
             }
            },
            "type": "scatter3d"
           }
          ],
          "scattercarpet": [
           {
            "marker": {
             "colorbar": {
              "outlinewidth": 0,
              "ticks": ""
             }
            },
            "type": "scattercarpet"
           }
          ],
          "scattergeo": [
           {
            "marker": {
             "colorbar": {
              "outlinewidth": 0,
              "ticks": ""
             }
            },
            "type": "scattergeo"
           }
          ],
          "scattergl": [
           {
            "marker": {
             "colorbar": {
              "outlinewidth": 0,
              "ticks": ""
             }
            },
            "type": "scattergl"
           }
          ],
          "scattermapbox": [
           {
            "marker": {
             "colorbar": {
              "outlinewidth": 0,
              "ticks": ""
             }
            },
            "type": "scattermapbox"
           }
          ],
          "scatterpolar": [
           {
            "marker": {
             "colorbar": {
              "outlinewidth": 0,
              "ticks": ""
             }
            },
            "type": "scatterpolar"
           }
          ],
          "scatterpolargl": [
           {
            "marker": {
             "colorbar": {
              "outlinewidth": 0,
              "ticks": ""
             }
            },
            "type": "scatterpolargl"
           }
          ],
          "scatterternary": [
           {
            "marker": {
             "colorbar": {
              "outlinewidth": 0,
              "ticks": ""
             }
            },
            "type": "scatterternary"
           }
          ],
          "surface": [
           {
            "colorbar": {
             "outlinewidth": 0,
             "ticks": ""
            },
            "colorscale": [
             [
              0,
              "#0d0887"
             ],
             [
              0.1111111111111111,
              "#46039f"
             ],
             [
              0.2222222222222222,
              "#7201a8"
             ],
             [
              0.3333333333333333,
              "#9c179e"
             ],
             [
              0.4444444444444444,
              "#bd3786"
             ],
             [
              0.5555555555555556,
              "#d8576b"
             ],
             [
              0.6666666666666666,
              "#ed7953"
             ],
             [
              0.7777777777777778,
              "#fb9f3a"
             ],
             [
              0.8888888888888888,
              "#fdca26"
             ],
             [
              1,
              "#f0f921"
             ]
            ],
            "type": "surface"
           }
          ],
          "table": [
           {
            "cells": {
             "fill": {
              "color": "#EBF0F8"
             },
             "line": {
              "color": "white"
             }
            },
            "header": {
             "fill": {
              "color": "#C8D4E3"
             },
             "line": {
              "color": "white"
             }
            },
            "type": "table"
           }
          ]
         },
         "layout": {
          "annotationdefaults": {
           "arrowcolor": "#2a3f5f",
           "arrowhead": 0,
           "arrowwidth": 1
          },
          "autotypenumbers": "strict",
          "coloraxis": {
           "colorbar": {
            "outlinewidth": 0,
            "ticks": ""
           }
          },
          "colorscale": {
           "diverging": [
            [
             0,
             "#8e0152"
            ],
            [
             0.1,
             "#c51b7d"
            ],
            [
             0.2,
             "#de77ae"
            ],
            [
             0.3,
             "#f1b6da"
            ],
            [
             0.4,
             "#fde0ef"
            ],
            [
             0.5,
             "#f7f7f7"
            ],
            [
             0.6,
             "#e6f5d0"
            ],
            [
             0.7,
             "#b8e186"
            ],
            [
             0.8,
             "#7fbc41"
            ],
            [
             0.9,
             "#4d9221"
            ],
            [
             1,
             "#276419"
            ]
           ],
           "sequential": [
            [
             0,
             "#0d0887"
            ],
            [
             0.1111111111111111,
             "#46039f"
            ],
            [
             0.2222222222222222,
             "#7201a8"
            ],
            [
             0.3333333333333333,
             "#9c179e"
            ],
            [
             0.4444444444444444,
             "#bd3786"
            ],
            [
             0.5555555555555556,
             "#d8576b"
            ],
            [
             0.6666666666666666,
             "#ed7953"
            ],
            [
             0.7777777777777778,
             "#fb9f3a"
            ],
            [
             0.8888888888888888,
             "#fdca26"
            ],
            [
             1,
             "#f0f921"
            ]
           ],
           "sequentialminus": [
            [
             0,
             "#0d0887"
            ],
            [
             0.1111111111111111,
             "#46039f"
            ],
            [
             0.2222222222222222,
             "#7201a8"
            ],
            [
             0.3333333333333333,
             "#9c179e"
            ],
            [
             0.4444444444444444,
             "#bd3786"
            ],
            [
             0.5555555555555556,
             "#d8576b"
            ],
            [
             0.6666666666666666,
             "#ed7953"
            ],
            [
             0.7777777777777778,
             "#fb9f3a"
            ],
            [
             0.8888888888888888,
             "#fdca26"
            ],
            [
             1,
             "#f0f921"
            ]
           ]
          },
          "colorway": [
           "#636efa",
           "#EF553B",
           "#00cc96",
           "#ab63fa",
           "#FFA15A",
           "#19d3f3",
           "#FF6692",
           "#B6E880",
           "#FF97FF",
           "#FECB52"
          ],
          "font": {
           "color": "#2a3f5f"
          },
          "geo": {
           "bgcolor": "white",
           "lakecolor": "white",
           "landcolor": "#E5ECF6",
           "showlakes": true,
           "showland": true,
           "subunitcolor": "white"
          },
          "hoverlabel": {
           "align": "left"
          },
          "hovermode": "closest",
          "mapbox": {
           "style": "light"
          },
          "paper_bgcolor": "white",
          "plot_bgcolor": "#E5ECF6",
          "polar": {
           "angularaxis": {
            "gridcolor": "white",
            "linecolor": "white",
            "ticks": ""
           },
           "bgcolor": "#E5ECF6",
           "radialaxis": {
            "gridcolor": "white",
            "linecolor": "white",
            "ticks": ""
           }
          },
          "scene": {
           "xaxis": {
            "backgroundcolor": "#E5ECF6",
            "gridcolor": "white",
            "gridwidth": 2,
            "linecolor": "white",
            "showbackground": true,
            "ticks": "",
            "zerolinecolor": "white"
           },
           "yaxis": {
            "backgroundcolor": "#E5ECF6",
            "gridcolor": "white",
            "gridwidth": 2,
            "linecolor": "white",
            "showbackground": true,
            "ticks": "",
            "zerolinecolor": "white"
           },
           "zaxis": {
            "backgroundcolor": "#E5ECF6",
            "gridcolor": "white",
            "gridwidth": 2,
            "linecolor": "white",
            "showbackground": true,
            "ticks": "",
            "zerolinecolor": "white"
           }
          },
          "shapedefaults": {
           "line": {
            "color": "#2a3f5f"
           }
          },
          "ternary": {
           "aaxis": {
            "gridcolor": "white",
            "linecolor": "white",
            "ticks": ""
           },
           "baxis": {
            "gridcolor": "white",
            "linecolor": "white",
            "ticks": ""
           },
           "bgcolor": "#E5ECF6",
           "caxis": {
            "gridcolor": "white",
            "linecolor": "white",
            "ticks": ""
           }
          },
          "title": {
           "x": 0.05
          },
          "xaxis": {
           "automargin": true,
           "gridcolor": "white",
           "linecolor": "white",
           "ticks": "",
           "title": {
            "standoff": 15
           },
           "zerolinecolor": "white",
           "zerolinewidth": 2
          },
          "yaxis": {
           "automargin": true,
           "gridcolor": "white",
           "linecolor": "white",
           "ticks": "",
           "title": {
            "standoff": 15
           },
           "zerolinecolor": "white",
           "zerolinewidth": 2
          }
         }
        },
        "title": {
         "text": "Optimization History Plot"
        },
        "xaxis": {
         "autorange": true,
         "range": [
          -2.074803149606299,
          36.074803149606296
         ],
         "title": {
          "text": "Trial"
         },
         "type": "linear"
        },
        "yaxis": {
         "autorange": true,
         "range": [
          0.8248960573130604,
          0.8721824197191417
         ],
         "title": {
          "text": "Objective Value"
         },
         "type": "linear"
        }
       }
      },
      "image/png": "[encoded data removed]",
      "text/html": [
       "<div>                            <div id=\"9462946e-f406-49b4-88dc-7c7d7c85a76c\" class=\"plotly-graph-div\" style=\"height:525px; width:100%;\"></div>            <script type=\"text/javascript\">                require([\"plotly\"], function(Plotly) {                    window.PLOTLYENV=window.PLOTLYENV || {};                                    if (document.getElementById(\"9462946e-f406-49b4-88dc-7c7d7c85a76c\")) {                    Plotly.newPlot(                        \"9462946e-f406-49b4-88dc-7c7d7c85a76c\",                        [{\"mode\":\"markers\",\"name\":\"Objective Value\",\"x\":[0,1,2,3,4,5,6,7,8,9,10,11,12,13,14,15,16,17,18,19,20,21,22,23,24,25,26,27,28,29,30,31,32,33,34],\"y\":[0.846360975290187,0.8654427398174012,0.8282455079834912,0.8667284064582601,0.8674780684775683,0.8658760102198214,0.8659214217224807,0.828363131219887,0.867047775878601,0.8637818699414563,0.8661886795823929,0.8684726548308904,0.868518810784413,0.8666963950711397,0.8501636302997456,0.8656965975617745,0.8356974611247759,0.8539968077946984,0.8661410347271439,0.8664403039741766,0.8649275798200216,0.867452012697354,0.8688329690487109,0.8644168865278217,0.8680512956422823,0.8622520234174464,0.856151993043851,0.8641027282635237,0.8667812624695519,0.838684197988196,0.8661790017211703,0.8677698932159682,0.8680110952956661,0.8670745761096783,0.864987880339946],\"type\":\"scatter\"},{\"mode\":\"lines\",\"name\":\"Best Value\",\"x\":[0,1,2,3,4,5,6,7,8,9,10,11,12,13,14,15,16,17,18,19,20,21,22,23,24,25,26,27,28,29,30,31,32,33,34],\"y\":[0.846360975290187,0.8654427398174012,0.8654427398174012,0.8667284064582601,0.8674780684775683,0.8674780684775683,0.8674780684775683,0.8674780684775683,0.8674780684775683,0.8674780684775683,0.8674780684775683,0.8684726548308904,0.868518810784413,0.868518810784413,0.868518810784413,0.868518810784413,0.868518810784413,0.868518810784413,0.868518810784413,0.868518810784413,0.868518810784413,0.868518810784413,0.8688329690487109,0.8688329690487109,0.8688329690487109,0.8688329690487109,0.8688329690487109,0.8688329690487109,0.8688329690487109,0.8688329690487109,0.8688329690487109,0.8688329690487109,0.8688329690487109,0.8688329690487109,0.8688329690487109],\"type\":\"scatter\"},{\"marker\":{\"color\":\"#cccccc\"},\"mode\":\"markers\",\"name\":\"Infeasible Trial\",\"showlegend\":false,\"x\":[],\"y\":[],\"type\":\"scatter\"}],                        {\"title\":{\"text\":\"Optimization History Plot\"},\"xaxis\":{\"title\":{\"text\":\"Trial\"}},\"yaxis\":{\"title\":{\"text\":\"Objective Value\"}},\"template\":{\"data\":{\"histogram2dcontour\":[{\"type\":\"histogram2dcontour\",\"colorbar\":{\"outlinewidth\":0,\"ticks\":\"\"},\"colorscale\":[[0.0,\"#0d0887\"],[0.1111111111111111,\"#46039f\"],[0.2222222222222222,\"#7201a8\"],[0.3333333333333333,\"#9c179e\"],[0.4444444444444444,\"#bd3786\"],[0.5555555555555556,\"#d8576b\"],[0.6666666666666666,\"#ed7953\"],[0.7777777777777778,\"#fb9f3a\"],[0.8888888888888888,\"#fdca26\"],[1.0,\"#f0f921\"]]}],\"choropleth\":[{\"type\":\"choropleth\",\"colorbar\":{\"outlinewidth\":0,\"ticks\":\"\"}}],\"histogram2d\":[{\"type\":\"histogram2d\",\"colorbar\":{\"outlinewidth\":0,\"ticks\":\"\"},\"colorscale\":[[0.0,\"#0d0887\"],[0.1111111111111111,\"#46039f\"],[0.2222222222222222,\"#7201a8\"],[0.3333333333333333,\"#9c179e\"],[0.4444444444444444,\"#bd3786\"],[0.5555555555555556,\"#d8576b\"],[0.6666666666666666,\"#ed7953\"],[0.7777777777777778,\"#fb9f3a\"],[0.8888888888888888,\"#fdca26\"],[1.0,\"#f0f921\"]]}],\"heatmap\":[{\"type\":\"heatmap\",\"colorbar\":{\"outlinewidth\":0,\"ticks\":\"\"},\"colorscale\":[[0.0,\"#0d0887\"],[0.1111111111111111,\"#46039f\"],[0.2222222222222222,\"#7201a8\"],[0.3333333333333333,\"#9c179e\"],[0.4444444444444444,\"#bd3786\"],[0.5555555555555556,\"#d8576b\"],[0.6666666666666666,\"#ed7953\"],[0.7777777777777778,\"#fb9f3a\"],[0.8888888888888888,\"#fdca26\"],[1.0,\"#f0f921\"]]}],\"heatmapgl\":[{\"type\":\"heatmapgl\",\"colorbar\":{\"outlinewidth\":0,\"ticks\":\"\"},\"colorscale\":[[0.0,\"#0d0887\"],[0.1111111111111111,\"#46039f\"],[0.2222222222222222,\"#7201a8\"],[0.3333333333333333,\"#9c179e\"],[0.4444444444444444,\"#bd3786\"],[0.5555555555555556,\"#d8576b\"],[0.6666666666666666,\"#ed7953\"],[0.7777777777777778,\"#fb9f3a\"],[0.8888888888888888,\"#fdca26\"],[1.0,\"#f0f921\"]]}],\"contourcarpet\":[{\"type\":\"contourcarpet\",\"colorbar\":{\"outlinewidth\":0,\"ticks\":\"\"}}],\"contour\":[{\"type\":\"contour\",\"colorbar\":{\"outlinewidth\":0,\"ticks\":\"\"},\"colorscale\":[[0.0,\"#0d0887\"],[0.1111111111111111,\"#46039f\"],[0.2222222222222222,\"#7201a8\"],[0.3333333333333333,\"#9c179e\"],[0.4444444444444444,\"#bd3786\"],[0.5555555555555556,\"#d8576b\"],[0.6666666666666666,\"#ed7953\"],[0.7777777777777778,\"#fb9f3a\"],[0.8888888888888888,\"#fdca26\"],[1.0,\"#f0f921\"]]}],\"surface\":[{\"type\":\"surface\",\"colorbar\":{\"outlinewidth\":0,\"ticks\":\"\"},\"colorscale\":[[0.0,\"#0d0887\"],[0.1111111111111111,\"#46039f\"],[0.2222222222222222,\"#7201a8\"],[0.3333333333333333,\"#9c179e\"],[0.4444444444444444,\"#bd3786\"],[0.5555555555555556,\"#d8576b\"],[0.6666666666666666,\"#ed7953\"],[0.7777777777777778,\"#fb9f3a\"],[0.8888888888888888,\"#fdca26\"],[1.0,\"#f0f921\"]]}],\"mesh3d\":[{\"type\":\"mesh3d\",\"colorbar\":{\"outlinewidth\":0,\"ticks\":\"\"}}],\"scatter\":[{\"fillpattern\":{\"fillmode\":\"overlay\",\"size\":10,\"solidity\":0.2},\"type\":\"scatter\"}],\"parcoords\":[{\"type\":\"parcoords\",\"line\":{\"colorbar\":{\"outlinewidth\":0,\"ticks\":\"\"}}}],\"scatterpolargl\":[{\"type\":\"scatterpolargl\",\"marker\":{\"colorbar\":{\"outlinewidth\":0,\"ticks\":\"\"}}}],\"bar\":[{\"error_x\":{\"color\":\"#2a3f5f\"},\"error_y\":{\"color\":\"#2a3f5f\"},\"marker\":{\"line\":{\"color\":\"#E5ECF6\",\"width\":0.5},\"pattern\":{\"fillmode\":\"overlay\",\"size\":10,\"solidity\":0.2}},\"type\":\"bar\"}],\"scattergeo\":[{\"type\":\"scattergeo\",\"marker\":{\"colorbar\":{\"outlinewidth\":0,\"ticks\":\"\"}}}],\"scatterpolar\":[{\"type\":\"scatterpolar\",\"marker\":{\"colorbar\":{\"outlinewidth\":0,\"ticks\":\"\"}}}],\"histogram\":[{\"marker\":{\"pattern\":{\"fillmode\":\"overlay\",\"size\":10,\"solidity\":0.2}},\"type\":\"histogram\"}],\"scattergl\":[{\"type\":\"scattergl\",\"marker\":{\"colorbar\":{\"outlinewidth\":0,\"ticks\":\"\"}}}],\"scatter3d\":[{\"type\":\"scatter3d\",\"line\":{\"colorbar\":{\"outlinewidth\":0,\"ticks\":\"\"}},\"marker\":{\"colorbar\":{\"outlinewidth\":0,\"ticks\":\"\"}}}],\"scattermapbox\":[{\"type\":\"scattermapbox\",\"marker\":{\"colorbar\":{\"outlinewidth\":0,\"ticks\":\"\"}}}],\"scatterternary\":[{\"type\":\"scatterternary\",\"marker\":{\"colorbar\":{\"outlinewidth\":0,\"ticks\":\"\"}}}],\"scattercarpet\":[{\"type\":\"scattercarpet\",\"marker\":{\"colorbar\":{\"outlinewidth\":0,\"ticks\":\"\"}}}],\"carpet\":[{\"aaxis\":{\"endlinecolor\":\"#2a3f5f\",\"gridcolor\":\"white\",\"linecolor\":\"white\",\"minorgridcolor\":\"white\",\"startlinecolor\":\"#2a3f5f\"},\"baxis\":{\"endlinecolor\":\"#2a3f5f\",\"gridcolor\":\"white\",\"linecolor\":\"white\",\"minorgridcolor\":\"white\",\"startlinecolor\":\"#2a3f5f\"},\"type\":\"carpet\"}],\"table\":[{\"cells\":{\"fill\":{\"color\":\"#EBF0F8\"},\"line\":{\"color\":\"white\"}},\"header\":{\"fill\":{\"color\":\"#C8D4E3\"},\"line\":{\"color\":\"white\"}},\"type\":\"table\"}],\"barpolar\":[{\"marker\":{\"line\":{\"color\":\"#E5ECF6\",\"width\":0.5},\"pattern\":{\"fillmode\":\"overlay\",\"size\":10,\"solidity\":0.2}},\"type\":\"barpolar\"}],\"pie\":[{\"automargin\":true,\"type\":\"pie\"}]},\"layout\":{\"autotypenumbers\":\"strict\",\"colorway\":[\"#636efa\",\"#EF553B\",\"#00cc96\",\"#ab63fa\",\"#FFA15A\",\"#19d3f3\",\"#FF6692\",\"#B6E880\",\"#FF97FF\",\"#FECB52\"],\"font\":{\"color\":\"#2a3f5f\"},\"hovermode\":\"closest\",\"hoverlabel\":{\"align\":\"left\"},\"paper_bgcolor\":\"white\",\"plot_bgcolor\":\"#E5ECF6\",\"polar\":{\"bgcolor\":\"#E5ECF6\",\"angularaxis\":{\"gridcolor\":\"white\",\"linecolor\":\"white\",\"ticks\":\"\"},\"radialaxis\":{\"gridcolor\":\"white\",\"linecolor\":\"white\",\"ticks\":\"\"}},\"ternary\":{\"bgcolor\":\"#E5ECF6\",\"aaxis\":{\"gridcolor\":\"white\",\"linecolor\":\"white\",\"ticks\":\"\"},\"baxis\":{\"gridcolor\":\"white\",\"linecolor\":\"white\",\"ticks\":\"\"},\"caxis\":{\"gridcolor\":\"white\",\"linecolor\":\"white\",\"ticks\":\"\"}},\"coloraxis\":{\"colorbar\":{\"outlinewidth\":0,\"ticks\":\"\"}},\"colorscale\":{\"sequential\":[[0.0,\"#0d0887\"],[0.1111111111111111,\"#46039f\"],[0.2222222222222222,\"#7201a8\"],[0.3333333333333333,\"#9c179e\"],[0.4444444444444444,\"#bd3786\"],[0.5555555555555556,\"#d8576b\"],[0.6666666666666666,\"#ed7953\"],[0.7777777777777778,\"#fb9f3a\"],[0.8888888888888888,\"#fdca26\"],[1.0,\"#f0f921\"]],\"sequentialminus\":[[0.0,\"#0d0887\"],[0.1111111111111111,\"#46039f\"],[0.2222222222222222,\"#7201a8\"],[0.3333333333333333,\"#9c179e\"],[0.4444444444444444,\"#bd3786\"],[0.5555555555555556,\"#d8576b\"],[0.6666666666666666,\"#ed7953\"],[0.7777777777777778,\"#fb9f3a\"],[0.8888888888888888,\"#fdca26\"],[1.0,\"#f0f921\"]],\"diverging\":[[0,\"#8e0152\"],[0.1,\"#c51b7d\"],[0.2,\"#de77ae\"],[0.3,\"#f1b6da\"],[0.4,\"#fde0ef\"],[0.5,\"#f7f7f7\"],[0.6,\"#e6f5d0\"],[0.7,\"#b8e186\"],[0.8,\"#7fbc41\"],[0.9,\"#4d9221\"],[1,\"#276419\"]]},\"xaxis\":{\"gridcolor\":\"white\",\"linecolor\":\"white\",\"ticks\":\"\",\"title\":{\"standoff\":15},\"zerolinecolor\":\"white\",\"automargin\":true,\"zerolinewidth\":2},\"yaxis\":{\"gridcolor\":\"white\",\"linecolor\":\"white\",\"ticks\":\"\",\"title\":{\"standoff\":15},\"zerolinecolor\":\"white\",\"automargin\":true,\"zerolinewidth\":2},\"scene\":{\"xaxis\":{\"backgroundcolor\":\"#E5ECF6\",\"gridcolor\":\"white\",\"linecolor\":\"white\",\"showbackground\":true,\"ticks\":\"\",\"zerolinecolor\":\"white\",\"gridwidth\":2},\"yaxis\":{\"backgroundcolor\":\"#E5ECF6\",\"gridcolor\":\"white\",\"linecolor\":\"white\",\"showbackground\":true,\"ticks\":\"\",\"zerolinecolor\":\"white\",\"gridwidth\":2},\"zaxis\":{\"backgroundcolor\":\"#E5ECF6\",\"gridcolor\":\"white\",\"linecolor\":\"white\",\"showbackground\":true,\"ticks\":\"\",\"zerolinecolor\":\"white\",\"gridwidth\":2}},\"shapedefaults\":{\"line\":{\"color\":\"#2a3f5f\"}},\"annotationdefaults\":{\"arrowcolor\":\"#2a3f5f\",\"arrowhead\":0,\"arrowwidth\":1},\"geo\":{\"bgcolor\":\"white\",\"landcolor\":\"#E5ECF6\",\"subunitcolor\":\"white\",\"showland\":true,\"showlakes\":true,\"lakecolor\":\"white\"},\"title\":{\"x\":0.05},\"mapbox\":{\"style\":\"light\"}}}},                        {\"responsive\": true}                    ).then(function(){\n",
       "                            \n",
       "var gd = document.getElementById('9462946e-f406-49b4-88dc-7c7d7c85a76c');\n",
       "var x = new MutationObserver(function (mutations, observer) {{\n",
       "        var display = window.getComputedStyle(gd).display;\n",
       "        if (!display || display === 'none') {{\n",
       "            console.log([gd, 'removed!']);\n",
       "            Plotly.purge(gd);\n",
       "            observer.disconnect();\n",
       "        }}\n",
       "}});\n",
       "\n",
       "// Listen for the removal of the full notebook cells\n",
       "var notebookContainer = gd.closest('#notebook-container');\n",
       "if (notebookContainer) {{\n",
       "    x.observe(notebookContainer, {childList: true});\n",
       "}}\n",
       "\n",
       "// Listen for the clearing of the current output cell\n",
       "var outputEl = gd.closest('.output');\n",
       "if (outputEl) {{\n",
       "    x.observe(outputEl, {childList: true});\n",
       "}}\n",
       "\n",
       "                        })                };                });            </script>        </div>"
      ]
     },
     "metadata": {},
     "output_type": "display_data"
    }
   ],
   "source": [
    "optuna.visualization.plot_optimization_history(study_xgb)"
   ]
  },
  {
   "cell_type": "code",
   "execution_count": 127,
   "id": "a45d0cbc-c7ec-4ec8-a0b5-d76c9d6f10b5",
   "metadata": {},
   "outputs": [
    {
     "name": "stdout",
     "output_type": "stream",
     "text": [
      "Fold: 1 ROC-AUC SCORE 0.867\n",
      "---\n",
      "Fold: 2 ROC-AUC SCORE 0.864\n",
      "---\n",
      "Fold: 3 ROC-AUC SCORE 0.857\n",
      "---\n",
      "Fold: 4 ROC-AUC SCORE 0.859\n",
      "---\n",
      "Fold: 5 ROC-AUC SCORE 0.853\n",
      "---\n"
     ]
    }
   ],
   "source": [
    "pred_val = []\n",
    "pred_score_val = []\n",
    "\n",
    "cv = StratifiedKFold(n_splits=N_FOLDS, shuffle=True, random_state=RAND)\n",
    "for fold, (train_idx, val_idx) in enumerate(cv.split(X_train_main_, y_train_main_)):\n",
    "    X_train_, X_val_ = X_train_main_.iloc[train_idx], X_train_main_.iloc[val_idx]\n",
    "    y_train_, y_val_ = y_train_main_[train_idx], y_train_main_[val_idx]\n",
    "\n",
    "    model3 = XGBClassifier(**study_xgb.best_params, random_state=RAND, objective='binary:logistic')\n",
    "    model3.fit(X_train_, y_train_, eval_metric='auc', eval_set=[(X_val_main, y_val_main)], verbose=0)\n",
    "\n",
    "    y_pred_val = model3.predict(X_val_)\n",
    "    y_score_val = model3.predict_proba(X_val_)\n",
    "\n",
    "    print(\"Fold:\", fold + 1, \"ROC-AUC SCORE %.3f\" % roc_auc_score(y_val_, y_score_val[:, 1]))\n",
    "    print(\"---\")\n",
    "\n",
    "    pred_val.append(y_pred_val)\n",
    "    pred_score_val.append(y_score_val)\n",
    "\n",
    "# обучаем модель для предсказания на test\n",
    "model3.fit(X_train_main_, y_train_main_)\n",
    "\n",
    "meta_X['xgb_tuned'] = np.concatenate(pred_score_val)[:,1]\n",
    "meta_X_test['xgb_tuned'] = model3.predict_proba(X_test_main)[:,1]"
   ]
  },
  {
   "cell_type": "code",
   "execution_count": 128,
   "id": "34c3fdc3-4087-4e68-ba26-9dd04d9289d1",
   "metadata": {},
   "outputs": [
    {
     "name": "stdout",
     "output_type": "stream",
     "text": [
      "roc_auc_score train: 0.91811\n",
      "roc_auc_score test: 0.86570\n",
      "delta = 6.1 %\n"
     ]
    }
   ],
   "source": [
    "check_overfitting(model=model3, X_train=X_train_main_, y_train=y_train_main_, X_test=X_test_main, y_test=y_test_main, metric_fun=roc_auc_score)"
   ]
  },
  {
   "cell_type": "markdown",
   "id": "0cbf5322-9969-4fd6-832b-fedcf9db5e6c",
   "metadata": {},
   "source": [
    "# Catboost Baseline"
   ]
  },
  {
   "cell_type": "code",
   "execution_count": 129,
   "id": "0d23f6ce-ef40-4c0b-8ad4-e97264e9de4d",
   "metadata": {},
   "outputs": [
    {
     "name": "stdout",
     "output_type": "stream",
     "text": [
      "Fold: 1 ROC-AUC SCORE 0.857\n",
      "---\n",
      "Fold: 2 ROC-AUC SCORE 0.852\n",
      "---\n",
      "Fold: 3 ROC-AUC SCORE 0.853\n",
      "---\n",
      "Fold: 4 ROC-AUC SCORE 0.852\n",
      "---\n",
      "Fold: 5 ROC-AUC SCORE 0.848\n",
      "---\n"
     ]
    }
   ],
   "source": [
    "pred_val = []\n",
    "pred_score_val = []\n",
    "\n",
    "cv = StratifiedKFold(n_splits=N_FOLDS, shuffle=True, random_state=RAND)\n",
    "for fold, (train_idx, val_idx) in enumerate(cv.split(X_train_main_, y_train_main_)):\n",
    "    X_train_, X_val_ = X_train_main_.iloc[train_idx], X_train_main_.iloc[val_idx]\n",
    "    y_train_, y_val_ = y_train_main_[train_idx], y_train_main_[val_idx]\n",
    "\n",
    "    model4 = CatBoostClassifier(random_state=RAND, auto_class_weights='Balanced', verbose=False)\n",
    "    model4.fit(X_train_,\n",
    "              y_train_,\n",
    "              verbose=False)\n",
    "\n",
    "    y_pred_val = model4.predict(X_val_)\n",
    "    y_score_val = model4.predict_proba(X_val_)\n",
    "\n",
    "    print(\"Fold:\", fold + 1, \"ROC-AUC SCORE %.3f\" % roc_auc_score(y_val_, y_score_val[:, 1]))\n",
    "    print(\"---\")\n",
    "\n",
    "    # holdout list\n",
    "    pred_val.append(y_pred_val)\n",
    "    pred_score_val.append(y_score_val)\n",
    "\n",
    "# обучаем модель для предсказания на test\n",
    "model4.fit(X_train_main_, y_train_main_)\n",
    "\n",
    "meta_X['cb_base'] = np.concatenate(pred_score_val)[:,1]\n",
    "meta_X_test['cb_base'] = model4.predict_proba(X_test_main)[:,1]"
   ]
  },
  {
   "cell_type": "code",
   "execution_count": 130,
   "id": "597a6fe6-4c3b-4bd3-8e45-60f42e1ca707",
   "metadata": {},
   "outputs": [
    {
     "name": "stdout",
     "output_type": "stream",
     "text": [
      "roc_auc_score train: 0.93292\n",
      "roc_auc_score test: 0.86214\n",
      "delta = 8.2 %\n"
     ]
    }
   ],
   "source": [
    "check_overfitting(model=model4, X_train=X_train_main_, y_train=y_train_main_, X_test=X_test_main, y_test=y_test_main, metric_fun=roc_auc_score)"
   ]
  },
  {
   "cell_type": "markdown",
   "id": "8a89046a-7976-4c5b-bef0-dd08c1d35384",
   "metadata": {},
   "source": [
    "# Random Forest Tuned"
   ]
  },
  {
   "cell_type": "code",
   "execution_count": 75,
   "id": "ced85815-f41d-4da4-a7e9-949fe6fee07b",
   "metadata": {
    "scrolled": true
   },
   "outputs": [
    {
     "name": "stderr",
     "output_type": "stream",
     "text": [
      "[I 2024-03-22 09:34:17,744] A new study created in memory with name: no-name-3094db72-9e1e-404b-8e94-108d2ec85fc1\n"
     ]
    },
    {
     "data": {
      "application/vnd.jupyter.widget-view+json": {
       "model_id": "cb01f9aa7af74630a5d007f741f26064",
       "version_major": 2,
       "version_minor": 0
      },
      "text/plain": [
       "  0%|          | 0/40 [00:00<?, ?it/s]"
      ]
     },
     "metadata": {},
     "output_type": "display_data"
    },
    {
     "name": "stdout",
     "output_type": "stream",
     "text": [
      "[I 2024-03-22 09:34:19,550] Trial 0 finished with value: 0.8673984122351988 and parameters: {'n_estimators': 654, 'max_depth': 11, 'bootstrap': True, 'min_samples_leaf': 7, 'min_samples_split': 2, 'max_samples': 0.7748291825290545, 'max_features': 'sqrt', 'n_jobs': -1}. Best is trial 0 with value: 0.8673984122351988.\n",
      "[I 2024-03-22 09:34:20,232] Trial 1 finished with value: 0.8666033387132316 and parameters: {'n_estimators': 222, 'max_depth': 14, 'bootstrap': True, 'min_samples_leaf': 6, 'min_samples_split': 5, 'max_samples': 0.6904538650111491, 'max_features': 'sqrt', 'n_jobs': -1}. Best is trial 0 with value: 0.8673984122351988.\n",
      "[I 2024-03-22 09:34:21,977] Trial 2 finished with value: 0.8524647279180984 and parameters: {'n_estimators': 713, 'max_depth': 5, 'bootstrap': True, 'min_samples_leaf': 5, 'min_samples_split': 17, 'max_samples': 0.7643923939518127, 'max_features': 'sqrt', 'n_jobs': -1}. Best is trial 0 with value: 0.8673984122351988.\n",
      "[I 2024-03-22 09:34:24,224] Trial 3 finished with value: 0.8647571005723338 and parameters: {'n_estimators': 828, 'max_depth': 9, 'bootstrap': True, 'min_samples_leaf': 8, 'min_samples_split': 12, 'max_samples': 0.9727606583217907, 'max_features': 'log2', 'n_jobs': -1}. Best is trial 0 with value: 0.8673984122351988.\n",
      "[I 2024-03-22 09:34:26,328] Trial 4 finished with value: 0.8578716745379937 and parameters: {'n_estimators': 843, 'max_depth': 6, 'bootstrap': True, 'min_samples_leaf': 5, 'min_samples_split': 2, 'max_samples': 0.8897084283064267, 'max_features': 'log2', 'n_jobs': -1}. Best is trial 0 with value: 0.8673984122351988.\n",
      "[I 2024-03-22 09:34:27,444] Trial 5 finished with value: 0.8657650870411948 and parameters: {'n_estimators': 384, 'max_depth': 10, 'bootstrap': True, 'min_samples_leaf': 3, 'min_samples_split': 7, 'max_samples': 0.710623954581648, 'max_features': 'sqrt', 'n_jobs': -1}. Best is trial 0 with value: 0.8673984122351988.\n",
      "[I 2024-03-22 09:34:28,748] Trial 6 finished with value: 0.8682746309012619 and parameters: {'n_estimators': 478, 'max_depth': 15, 'bootstrap': True, 'min_samples_leaf': 10, 'min_samples_split': 3, 'max_samples': 0.5613311166787599, 'max_features': 'sqrt', 'n_jobs': -1}. Best is trial 6 with value: 0.8682746309012619.\n",
      "[I 2024-03-22 09:34:29,401] Trial 7 finished with value: 0.8604608746404303 and parameters: {'n_estimators': 251, 'max_depth': 7, 'bootstrap': True, 'min_samples_leaf': 5, 'min_samples_split': 13, 'max_samples': 0.7161766662314801, 'max_features': 'log2', 'n_jobs': -1}. Best is trial 6 with value: 0.8682746309012619.\n",
      "[I 2024-03-22 09:34:31,836] Trial 8 finished with value: 0.8667269175565335 and parameters: {'n_estimators': 766, 'max_depth': 13, 'bootstrap': True, 'min_samples_leaf': 1, 'min_samples_split': 15, 'max_samples': 0.9418145960096602, 'max_features': 'sqrt', 'n_jobs': -1}. Best is trial 6 with value: 0.8682746309012619.\n",
      "[I 2024-03-22 09:34:33,647] Trial 9 finished with value: 0.8680736291681803 and parameters: {'n_estimators': 712, 'max_depth': 13, 'bootstrap': True, 'min_samples_leaf': 8, 'min_samples_split': 15, 'max_samples': 0.3663439382786437, 'max_features': 'log2', 'n_jobs': -1}. Best is trial 6 with value: 0.8682746309012619.\n",
      "[I 2024-03-22 09:34:34,813] Trial 10 finished with value: 0.8424972753098403 and parameters: {'n_estimators': 508, 'max_depth': 3, 'bootstrap': True, 'min_samples_leaf': 10, 'min_samples_split': 9, 'max_samples': 0.49231287260146606, 'max_features': 'sqrt', 'n_jobs': -1}. Best is trial 6 with value: 0.8682746309012619.\n",
      "[I 2024-03-22 09:34:36,272] Trial 11 finished with value: 0.8675406023500825 and parameters: {'n_estimators': 582, 'max_depth': 15, 'bootstrap': True, 'min_samples_leaf': 10, 'min_samples_split': 19, 'max_samples': 0.3058526865017626, 'max_features': 'log2', 'n_jobs': -1}. Best is trial 6 with value: 0.8682746309012619.\n",
      "[I 2024-03-22 09:34:37,348] Trial 12 finished with value: 0.868122762925156 and parameters: {'n_estimators': 405, 'max_depth': 12, 'bootstrap': True, 'min_samples_leaf': 9, 'min_samples_split': 10, 'max_samples': 0.5053656288311573, 'max_features': 'log2', 'n_jobs': -1}. Best is trial 6 with value: 0.8682746309012619.\n",
      "[I 2024-03-22 09:34:38,350] Trial 13 finished with value: 0.8674706239689356 and parameters: {'n_estimators': 369, 'max_depth': 11, 'bootstrap': True, 'min_samples_leaf': 9, 'min_samples_split': 6, 'max_samples': 0.565391713718912, 'max_features': 'log2', 'n_jobs': -1}. Best is trial 6 with value: 0.8682746309012619.\n",
      "[I 2024-03-22 09:34:38,717] Trial 14 finished with value: 0.867149021196005 and parameters: {'n_estimators': 116, 'max_depth': 15, 'bootstrap': True, 'min_samples_leaf': 10, 'min_samples_split': 9, 'max_samples': 0.5185615859904922, 'max_features': 'sqrt', 'n_jobs': -1}. Best is trial 6 with value: 0.8682746309012619.\n",
      "[I 2024-03-22 09:34:39,759] Trial 15 finished with value: 0.8682411306124151 and parameters: {'n_estimators': 403, 'max_depth': 12, 'bootstrap': True, 'min_samples_leaf': 8, 'min_samples_split': 9, 'max_samples': 0.440287240314406, 'max_features': 'log2', 'n_jobs': -1}. Best is trial 6 with value: 0.8682746309012619.\n",
      "[I 2024-03-22 09:34:41,058] Trial 16 finished with value: 0.8649536356002359 and parameters: {'n_estimators': 503, 'max_depth': 9, 'bootstrap': True, 'min_samples_leaf': 7, 'min_samples_split': 4, 'max_samples': 0.4086640690680985, 'max_features': 'sqrt', 'n_jobs': -1}. Best is trial 6 with value: 0.8682746309012619.\n",
      "[I 2024-03-22 09:34:41,851] Trial 17 finished with value: 0.8678324270884825 and parameters: {'n_estimators': 281, 'max_depth': 13, 'bootstrap': True, 'min_samples_leaf': 8, 'min_samples_split': 4, 'max_samples': 0.6052449987337287, 'max_features': 'log2', 'n_jobs': -1}. Best is trial 6 with value: 0.8682746309012619.\n",
      "[I 2024-03-22 09:34:43,396] Trial 18 finished with value: 0.8680914959888988 and parameters: {'n_estimators': 585, 'max_depth': 15, 'bootstrap': True, 'min_samples_leaf': 9, 'min_samples_split': 7, 'max_samples': 0.4399358258975876, 'max_features': 'sqrt', 'n_jobs': -1}. Best is trial 6 with value: 0.8682746309012619.\n",
      "[I 2024-03-22 09:34:44,621] Trial 19 finished with value: 0.8672041105598866 and parameters: {'n_estimators': 421, 'max_depth': 12, 'bootstrap': True, 'min_samples_leaf': 3, 'min_samples_split': 8, 'max_samples': 0.6301073497159543, 'max_features': 'log2', 'n_jobs': -1}. Best is trial 6 with value: 0.8682746309012619.\n",
      "[I 2024-03-22 09:34:45,431] Trial 20 finished with value: 0.8628944845124443 and parameters: {'n_estimators': 322, 'max_depth': 8, 'bootstrap': True, 'min_samples_leaf': 7, 'min_samples_split': 11, 'max_samples': 0.33096956533318633, 'max_features': 'log2', 'n_jobs': -1}. Best is trial 6 with value: 0.8682746309012619.\n",
      "[I 2024-03-22 09:34:46,592] Trial 21 finished with value: 0.8687533128063414 and parameters: {'n_estimators': 438, 'max_depth': 12, 'bootstrap': True, 'min_samples_leaf': 9, 'min_samples_split': 10, 'max_samples': 0.47472594740305935, 'max_features': 'log2', 'n_jobs': -1}. Best is trial 21 with value: 0.8687533128063414.\n",
      "[I 2024-03-22 09:34:48,048] Trial 22 finished with value: 0.8673857565705233 and parameters: {'n_estimators': 557, 'max_depth': 11, 'bootstrap': True, 'min_samples_leaf': 9, 'min_samples_split': 13, 'max_samples': 0.43038896886213174, 'max_features': 'log2', 'n_jobs': -1}. Best is trial 21 with value: 0.8687533128063414.\n",
      "[I 2024-03-22 09:34:49,197] Trial 23 finished with value: 0.8681123406130702 and parameters: {'n_estimators': 417, 'max_depth': 14, 'bootstrap': True, 'min_samples_leaf': 10, 'min_samples_split': 11, 'max_samples': 0.581923549134249, 'max_features': 'log2', 'n_jobs': -1}. Best is trial 21 with value: 0.8687533128063414.\n",
      "[I 2024-03-22 09:34:50,410] Trial 24 finished with value: 0.8671817770339888 and parameters: {'n_estimators': 457, 'max_depth': 12, 'bootstrap': True, 'min_samples_leaf': 8, 'min_samples_split': 4, 'max_samples': 0.47918877857656483, 'max_features': 'log2', 'n_jobs': -1}. Best is trial 21 with value: 0.8687533128063414.\n",
      "[I 2024-03-22 09:34:51,277] Trial 25 finished with value: 0.8674795573792948 and parameters: {'n_estimators': 326, 'max_depth': 14, 'bootstrap': True, 'min_samples_leaf': 6, 'min_samples_split': 14, 'max_samples': 0.3820654706919724, 'max_features': 'log2', 'n_jobs': -1}. Best is trial 21 with value: 0.8687533128063414.\n",
      "[I 2024-03-22 09:34:51,808] Trial 26 finished with value: 0.8660680785425439 and parameters: {'n_estimators': 185, 'max_depth': 10, 'bootstrap': True, 'min_samples_leaf': 9, 'min_samples_split': 9, 'max_samples': 0.5422104561349251, 'max_features': 'sqrt', 'n_jobs': -1}. Best is trial 21 with value: 0.8687533128063414.\n",
      "[I 2024-03-22 09:34:53,026] Trial 27 finished with value: 0.8662303688307357 and parameters: {'n_estimators': 470, 'max_depth': 10, 'bootstrap': True, 'min_samples_leaf': 10, 'min_samples_split': 20, 'max_samples': 0.45832457173976515, 'max_features': 'log2', 'n_jobs': -1}. Best is trial 21 with value: 0.8687533128063414.\n",
      "[I 2024-03-22 09:34:54,604] Trial 28 finished with value: 0.8676805591123763 and parameters: {'n_estimators': 536, 'max_depth': 13, 'bootstrap': True, 'min_samples_leaf': 7, 'min_samples_split': 6, 'max_samples': 0.666292896218547, 'max_features': 'sqrt', 'n_jobs': -1}. Best is trial 21 with value: 0.8687533128063414.\n",
      "[I 2024-03-22 09:34:56,275] Trial 29 finished with value: 0.8677981823487723 and parameters: {'n_estimators': 638, 'max_depth': 11, 'bootstrap': True, 'min_samples_leaf': 8, 'min_samples_split': 3, 'max_samples': 0.36142473948228926, 'max_features': 'sqrt', 'n_jobs': -1}. Best is trial 21 with value: 0.8687533128063414.\n",
      "[I 2024-03-22 09:34:57,214] Trial 30 finished with value: 0.8672517554151356 and parameters: {'n_estimators': 328, 'max_depth': 14, 'bootstrap': True, 'min_samples_leaf': 9, 'min_samples_split': 2, 'max_samples': 0.6295878321442061, 'max_features': 'log2', 'n_jobs': -1}. Best is trial 21 with value: 0.8687533128063414.\n",
      "[I 2024-03-22 09:34:58,330] Trial 31 finished with value: 0.8677118260486334 and parameters: {'n_estimators': 410, 'max_depth': 12, 'bootstrap': True, 'min_samples_leaf': 9, 'min_samples_split': 10, 'max_samples': 0.5147726020982599, 'max_features': 'log2', 'n_jobs': -1}. Best is trial 21 with value: 0.8687533128063414.\n",
      "[I 2024-03-22 09:34:59,604] Trial 32 finished with value: 0.8671646546641336 and parameters: {'n_estimators': 465, 'max_depth': 12, 'bootstrap': True, 'min_samples_leaf': 10, 'min_samples_split': 10, 'max_samples': 0.5520268878657928, 'max_features': 'log2', 'n_jobs': -1}. Best is trial 21 with value: 0.8687533128063414.\n",
      "[I 2024-03-22 09:35:01,238] Trial 33 finished with value: 0.8671371099821926 and parameters: {'n_estimators': 620, 'max_depth': 11, 'bootstrap': True, 'min_samples_leaf': 6, 'min_samples_split': 8, 'max_samples': 0.47540921375156964, 'max_features': 'log2', 'n_jobs': -1}. Best is trial 21 with value: 0.8687533128063414.\n",
      "[I 2024-03-22 09:35:02,201] Trial 34 finished with value: 0.8633180770536422 and parameters: {'n_estimators': 376, 'max_depth': 8, 'bootstrap': True, 'min_samples_leaf': 8, 'min_samples_split': 12, 'max_samples': 0.40935585913331174, 'max_features': 'log2', 'n_jobs': -1}. Best is trial 21 with value: 0.8687533128063414.\n",
      "[I 2024-03-22 09:35:03,435] Trial 35 finished with value: 0.8679373946602028 and parameters: {'n_estimators': 452, 'max_depth': 14, 'bootstrap': True, 'min_samples_leaf': 9, 'min_samples_split': 16, 'max_samples': 0.5086265312948699, 'max_features': 'log2', 'n_jobs': -1}. Best is trial 21 with value: 0.8687533128063414.\n",
      "[I 2024-03-22 09:35:04,059] Trial 36 finished with value: 0.8660658451899541 and parameters: {'n_estimators': 200, 'max_depth': 10, 'bootstrap': True, 'min_samples_leaf': 7, 'min_samples_split': 6, 'max_samples': 0.7561667643616501, 'max_features': 'sqrt', 'n_jobs': -1}. Best is trial 21 with value: 0.8687533128063414.\n",
      "[I 2024-03-22 09:35:04,909] Trial 37 finished with value: 0.8671512545485949 and parameters: {'n_estimators': 290, 'max_depth': 13, 'bootstrap': True, 'min_samples_leaf': 8, 'min_samples_split': 12, 'max_samples': 0.5935001212320498, 'max_features': 'log2', 'n_jobs': -1}. Best is trial 21 with value: 0.8687533128063414.\n",
      "[I 2024-03-22 09:35:05,827] Trial 38 finished with value: 0.8519890238164721 and parameters: {'n_estimators': 347, 'max_depth': 5, 'bootstrap': True, 'min_samples_leaf': 4, 'min_samples_split': 10, 'max_samples': 0.8455161287510601, 'max_features': 'sqrt', 'n_jobs': -1}. Best is trial 21 with value: 0.8687533128063414.\n",
      "[I 2024-03-22 09:35:07,645] Trial 39 finished with value: 0.8644809093020625 and parameters: {'n_estimators': 687, 'max_depth': 9, 'bootstrap': True, 'min_samples_leaf': 10, 'min_samples_split': 8, 'max_samples': 0.6677854206628063, 'max_features': 'log2', 'n_jobs': -1}. Best is trial 21 with value: 0.8687533128063414.\n"
     ]
    }
   ],
   "source": [
    "def objective_rf(trial, random_state):\n",
    "    rf_params = {\n",
    "        'n_estimators': trial.suggest_int('n_estimators', 100, 900),\n",
    "        \"max_depth\": trial.suggest_int(\"max_depth\", 3, 15),\n",
    "        'bootstrap': trial.suggest_categorical(\"bootstrap\", [True]),\n",
    "        'min_samples_leaf': trial.suggest_int('min_samples_leaf', 1, 10),\n",
    "        'min_samples_split': trial.suggest_int('min_samples_split', 2, 20),\n",
    "        'max_samples': trial.suggest_float('max_samples', 0.3, 0.99),\n",
    "        'max_features': trial.suggest_categorical(\"max_features\", ['sqrt', 'log2']),\n",
    "        'n_jobs': trial.suggest_categorical(\"n_jobs\", [-1])\n",
    "    }\n",
    "\n",
    "    model = RandomForestClassifier(**rf_params, random_state=RAND, class_weight='balanced')\n",
    "    model.fit(X_train_main_, y_train_main_)\n",
    "\n",
    "    preds = model.predict_proba(X_val_main)[:, 1]\n",
    "    score = roc_auc_score(y_val_main, preds)\n",
    "    return score\n",
    "\n",
    "study_rf = optuna.create_study(direction=\"maximize\")\n",
    "pointer = lambda trial: objective_rf(trial, random_state=RAND)\n",
    "study_rf.optimize(pointer, n_trials=40, show_progress_bar=True)"
   ]
  },
  {
   "cell_type": "code",
   "execution_count": 76,
   "id": "c2e421c1-807f-46c0-a08d-0f8c5f2afd8f",
   "metadata": {},
   "outputs": [
    {
     "data": {
      "text/plain": [
       "{'n_estimators': 438,\n",
       " 'max_depth': 12,\n",
       " 'bootstrap': True,\n",
       " 'min_samples_leaf': 9,\n",
       " 'min_samples_split': 10,\n",
       " 'max_samples': 0.47472594740305935,\n",
       " 'max_features': 'log2',\n",
       " 'n_jobs': -1}"
      ]
     },
     "execution_count": 76,
     "metadata": {},
     "output_type": "execute_result"
    }
   ],
   "source": [
    "study_rf.best_params"
   ]
  },
  {
   "cell_type": "markdown",
   "id": "6de774b8-8f99-4406-aefe-514075c16304",
   "metadata": {},
   "source": [
    "Saved:\n",
    "{'n_estimators': 730,\n",
    " 'max_depth': 13,\n",
    " 'bootstrap': True,\n",
    " 'min_samples_leaf': 7,\n",
    " 'min_samples_split': 14,\n",
    " 'max_samples': 0.8053623789842076,\n",
    " 'max_features': 'sqrt',\n",
    " 'n_jobs': -1}"
   ]
  },
  {
   "cell_type": "code",
   "execution_count": 77,
   "id": "12329846-8358-471f-b55c-2bfb22e7047e",
   "metadata": {},
   "outputs": [
    {
     "data": {
      "application/vnd.plotly.v1+json": {
       "config": {
        "plotlyServerURL": "https://plot.ly"
       },
       "data": [
        {
         "mode": "markers",
         "name": "Objective Value",
         "type": "scatter",
         "x": [
          0,
          1,
          2,
          3,
          4,
          5,
          6,
          7,
          8,
          9,
          10,
          11,
          12,
          13,
          14,
          15,
          16,
          17,
          18,
          19,
          20,
          21,
          22,
          23,
          24,
          25,
          26,
          27,
          28,
          29,
          30,
          31,
          32,
          33,
          34,
          35,
          36,
          37,
          38,
          39
         ],
         "y": [
          0.8673984122351988,
          0.8666033387132316,
          0.8524647279180984,
          0.8647571005723338,
          0.8578716745379937,
          0.8657650870411948,
          0.8682746309012619,
          0.8604608746404303,
          0.8667269175565335,
          0.8680736291681803,
          0.8424972753098403,
          0.8675406023500825,
          0.868122762925156,
          0.8674706239689356,
          0.867149021196005,
          0.8682411306124151,
          0.8649536356002359,
          0.8678324270884825,
          0.8680914959888988,
          0.8672041105598866,
          0.8628944845124443,
          0.8687533128063414,
          0.8673857565705233,
          0.8681123406130702,
          0.8671817770339888,
          0.8674795573792948,
          0.8660680785425439,
          0.8662303688307357,
          0.8676805591123763,
          0.8677981823487723,
          0.8672517554151356,
          0.8677118260486334,
          0.8671646546641336,
          0.8671371099821926,
          0.8633180770536422,
          0.8679373946602028,
          0.8660658451899541,
          0.8671512545485949,
          0.8519890238164721,
          0.8644809093020625
         ]
        },
        {
         "mode": "lines",
         "name": "Best Value",
         "type": "scatter",
         "x": [
          0,
          1,
          2,
          3,
          4,
          5,
          6,
          7,
          8,
          9,
          10,
          11,
          12,
          13,
          14,
          15,
          16,
          17,
          18,
          19,
          20,
          21,
          22,
          23,
          24,
          25,
          26,
          27,
          28,
          29,
          30,
          31,
          32,
          33,
          34,
          35,
          36,
          37,
          38,
          39
         ],
         "y": [
          0.8673984122351988,
          0.8673984122351988,
          0.8673984122351988,
          0.8673984122351988,
          0.8673984122351988,
          0.8673984122351988,
          0.8682746309012619,
          0.8682746309012619,
          0.8682746309012619,
          0.8682746309012619,
          0.8682746309012619,
          0.8682746309012619,
          0.8682746309012619,
          0.8682746309012619,
          0.8682746309012619,
          0.8682746309012619,
          0.8682746309012619,
          0.8682746309012619,
          0.8682746309012619,
          0.8682746309012619,
          0.8682746309012619,
          0.8687533128063414,
          0.8687533128063414,
          0.8687533128063414,
          0.8687533128063414,
          0.8687533128063414,
          0.8687533128063414,
          0.8687533128063414,
          0.8687533128063414,
          0.8687533128063414,
          0.8687533128063414,
          0.8687533128063414,
          0.8687533128063414,
          0.8687533128063414,
          0.8687533128063414,
          0.8687533128063414,
          0.8687533128063414,
          0.8687533128063414,
          0.8687533128063414,
          0.8687533128063414
         ]
        },
        {
         "marker": {
          "color": "#cccccc"
         },
         "mode": "markers",
         "name": "Infeasible Trial",
         "showlegend": false,
         "type": "scatter",
         "x": [],
         "y": []
        }
       ],
       "layout": {
        "autosize": true,
        "template": {
         "data": {
          "bar": [
           {
            "error_x": {
             "color": "#2a3f5f"
            },
            "error_y": {
             "color": "#2a3f5f"
            },
            "marker": {
             "line": {
              "color": "#E5ECF6",
              "width": 0.5
             },
             "pattern": {
              "fillmode": "overlay",
              "size": 10,
              "solidity": 0.2
             }
            },
            "type": "bar"
           }
          ],
          "barpolar": [
           {
            "marker": {
             "line": {
              "color": "#E5ECF6",
              "width": 0.5
             },
             "pattern": {
              "fillmode": "overlay",
              "size": 10,
              "solidity": 0.2
             }
            },
            "type": "barpolar"
           }
          ],
          "carpet": [
           {
            "aaxis": {
             "endlinecolor": "#2a3f5f",
             "gridcolor": "white",
             "linecolor": "white",
             "minorgridcolor": "white",
             "startlinecolor": "#2a3f5f"
            },
            "baxis": {
             "endlinecolor": "#2a3f5f",
             "gridcolor": "white",
             "linecolor": "white",
             "minorgridcolor": "white",
             "startlinecolor": "#2a3f5f"
            },
            "type": "carpet"
           }
          ],
          "choropleth": [
           {
            "colorbar": {
             "outlinewidth": 0,
             "ticks": ""
            },
            "type": "choropleth"
           }
          ],
          "contour": [
           {
            "colorbar": {
             "outlinewidth": 0,
             "ticks": ""
            },
            "colorscale": [
             [
              0,
              "#0d0887"
             ],
             [
              0.1111111111111111,
              "#46039f"
             ],
             [
              0.2222222222222222,
              "#7201a8"
             ],
             [
              0.3333333333333333,
              "#9c179e"
             ],
             [
              0.4444444444444444,
              "#bd3786"
             ],
             [
              0.5555555555555556,
              "#d8576b"
             ],
             [
              0.6666666666666666,
              "#ed7953"
             ],
             [
              0.7777777777777778,
              "#fb9f3a"
             ],
             [
              0.8888888888888888,
              "#fdca26"
             ],
             [
              1,
              "#f0f921"
             ]
            ],
            "type": "contour"
           }
          ],
          "contourcarpet": [
           {
            "colorbar": {
             "outlinewidth": 0,
             "ticks": ""
            },
            "type": "contourcarpet"
           }
          ],
          "heatmap": [
           {
            "colorbar": {
             "outlinewidth": 0,
             "ticks": ""
            },
            "colorscale": [
             [
              0,
              "#0d0887"
             ],
             [
              0.1111111111111111,
              "#46039f"
             ],
             [
              0.2222222222222222,
              "#7201a8"
             ],
             [
              0.3333333333333333,
              "#9c179e"
             ],
             [
              0.4444444444444444,
              "#bd3786"
             ],
             [
              0.5555555555555556,
              "#d8576b"
             ],
             [
              0.6666666666666666,
              "#ed7953"
             ],
             [
              0.7777777777777778,
              "#fb9f3a"
             ],
             [
              0.8888888888888888,
              "#fdca26"
             ],
             [
              1,
              "#f0f921"
             ]
            ],
            "type": "heatmap"
           }
          ],
          "heatmapgl": [
           {
            "colorbar": {
             "outlinewidth": 0,
             "ticks": ""
            },
            "colorscale": [
             [
              0,
              "#0d0887"
             ],
             [
              0.1111111111111111,
              "#46039f"
             ],
             [
              0.2222222222222222,
              "#7201a8"
             ],
             [
              0.3333333333333333,
              "#9c179e"
             ],
             [
              0.4444444444444444,
              "#bd3786"
             ],
             [
              0.5555555555555556,
              "#d8576b"
             ],
             [
              0.6666666666666666,
              "#ed7953"
             ],
             [
              0.7777777777777778,
              "#fb9f3a"
             ],
             [
              0.8888888888888888,
              "#fdca26"
             ],
             [
              1,
              "#f0f921"
             ]
            ],
            "type": "heatmapgl"
           }
          ],
          "histogram": [
           {
            "marker": {
             "pattern": {
              "fillmode": "overlay",
              "size": 10,
              "solidity": 0.2
             }
            },
            "type": "histogram"
           }
          ],
          "histogram2d": [
           {
            "colorbar": {
             "outlinewidth": 0,
             "ticks": ""
            },
            "colorscale": [
             [
              0,
              "#0d0887"
             ],
             [
              0.1111111111111111,
              "#46039f"
             ],
             [
              0.2222222222222222,
              "#7201a8"
             ],
             [
              0.3333333333333333,
              "#9c179e"
             ],
             [
              0.4444444444444444,
              "#bd3786"
             ],
             [
              0.5555555555555556,
              "#d8576b"
             ],
             [
              0.6666666666666666,
              "#ed7953"
             ],
             [
              0.7777777777777778,
              "#fb9f3a"
             ],
             [
              0.8888888888888888,
              "#fdca26"
             ],
             [
              1,
              "#f0f921"
             ]
            ],
            "type": "histogram2d"
           }
          ],
          "histogram2dcontour": [
           {
            "colorbar": {
             "outlinewidth": 0,
             "ticks": ""
            },
            "colorscale": [
             [
              0,
              "#0d0887"
             ],
             [
              0.1111111111111111,
              "#46039f"
             ],
             [
              0.2222222222222222,
              "#7201a8"
             ],
             [
              0.3333333333333333,
              "#9c179e"
             ],
             [
              0.4444444444444444,
              "#bd3786"
             ],
             [
              0.5555555555555556,
              "#d8576b"
             ],
             [
              0.6666666666666666,
              "#ed7953"
             ],
             [
              0.7777777777777778,
              "#fb9f3a"
             ],
             [
              0.8888888888888888,
              "#fdca26"
             ],
             [
              1,
              "#f0f921"
             ]
            ],
            "type": "histogram2dcontour"
           }
          ],
          "mesh3d": [
           {
            "colorbar": {
             "outlinewidth": 0,
             "ticks": ""
            },
            "type": "mesh3d"
           }
          ],
          "parcoords": [
           {
            "line": {
             "colorbar": {
              "outlinewidth": 0,
              "ticks": ""
             }
            },
            "type": "parcoords"
           }
          ],
          "pie": [
           {
            "automargin": true,
            "type": "pie"
           }
          ],
          "scatter": [
           {
            "fillpattern": {
             "fillmode": "overlay",
             "size": 10,
             "solidity": 0.2
            },
            "type": "scatter"
           }
          ],
          "scatter3d": [
           {
            "line": {
             "colorbar": {
              "outlinewidth": 0,
              "ticks": ""
             }
            },
            "marker": {
             "colorbar": {
              "outlinewidth": 0,
              "ticks": ""
             }
            },
            "type": "scatter3d"
           }
          ],
          "scattercarpet": [
           {
            "marker": {
             "colorbar": {
              "outlinewidth": 0,
              "ticks": ""
             }
            },
            "type": "scattercarpet"
           }
          ],
          "scattergeo": [
           {
            "marker": {
             "colorbar": {
              "outlinewidth": 0,
              "ticks": ""
             }
            },
            "type": "scattergeo"
           }
          ],
          "scattergl": [
           {
            "marker": {
             "colorbar": {
              "outlinewidth": 0,
              "ticks": ""
             }
            },
            "type": "scattergl"
           }
          ],
          "scattermapbox": [
           {
            "marker": {
             "colorbar": {
              "outlinewidth": 0,
              "ticks": ""
             }
            },
            "type": "scattermapbox"
           }
          ],
          "scatterpolar": [
           {
            "marker": {
             "colorbar": {
              "outlinewidth": 0,
              "ticks": ""
             }
            },
            "type": "scatterpolar"
           }
          ],
          "scatterpolargl": [
           {
            "marker": {
             "colorbar": {
              "outlinewidth": 0,
              "ticks": ""
             }
            },
            "type": "scatterpolargl"
           }
          ],
          "scatterternary": [
           {
            "marker": {
             "colorbar": {
              "outlinewidth": 0,
              "ticks": ""
             }
            },
            "type": "scatterternary"
           }
          ],
          "surface": [
           {
            "colorbar": {
             "outlinewidth": 0,
             "ticks": ""
            },
            "colorscale": [
             [
              0,
              "#0d0887"
             ],
             [
              0.1111111111111111,
              "#46039f"
             ],
             [
              0.2222222222222222,
              "#7201a8"
             ],
             [
              0.3333333333333333,
              "#9c179e"
             ],
             [
              0.4444444444444444,
              "#bd3786"
             ],
             [
              0.5555555555555556,
              "#d8576b"
             ],
             [
              0.6666666666666666,
              "#ed7953"
             ],
             [
              0.7777777777777778,
              "#fb9f3a"
             ],
             [
              0.8888888888888888,
              "#fdca26"
             ],
             [
              1,
              "#f0f921"
             ]
            ],
            "type": "surface"
           }
          ],
          "table": [
           {
            "cells": {
             "fill": {
              "color": "#EBF0F8"
             },
             "line": {
              "color": "white"
             }
            },
            "header": {
             "fill": {
              "color": "#C8D4E3"
             },
             "line": {
              "color": "white"
             }
            },
            "type": "table"
           }
          ]
         },
         "layout": {
          "annotationdefaults": {
           "arrowcolor": "#2a3f5f",
           "arrowhead": 0,
           "arrowwidth": 1
          },
          "autotypenumbers": "strict",
          "coloraxis": {
           "colorbar": {
            "outlinewidth": 0,
            "ticks": ""
           }
          },
          "colorscale": {
           "diverging": [
            [
             0,
             "#8e0152"
            ],
            [
             0.1,
             "#c51b7d"
            ],
            [
             0.2,
             "#de77ae"
            ],
            [
             0.3,
             "#f1b6da"
            ],
            [
             0.4,
             "#fde0ef"
            ],
            [
             0.5,
             "#f7f7f7"
            ],
            [
             0.6,
             "#e6f5d0"
            ],
            [
             0.7,
             "#b8e186"
            ],
            [
             0.8,
             "#7fbc41"
            ],
            [
             0.9,
             "#4d9221"
            ],
            [
             1,
             "#276419"
            ]
           ],
           "sequential": [
            [
             0,
             "#0d0887"
            ],
            [
             0.1111111111111111,
             "#46039f"
            ],
            [
             0.2222222222222222,
             "#7201a8"
            ],
            [
             0.3333333333333333,
             "#9c179e"
            ],
            [
             0.4444444444444444,
             "#bd3786"
            ],
            [
             0.5555555555555556,
             "#d8576b"
            ],
            [
             0.6666666666666666,
             "#ed7953"
            ],
            [
             0.7777777777777778,
             "#fb9f3a"
            ],
            [
             0.8888888888888888,
             "#fdca26"
            ],
            [
             1,
             "#f0f921"
            ]
           ],
           "sequentialminus": [
            [
             0,
             "#0d0887"
            ],
            [
             0.1111111111111111,
             "#46039f"
            ],
            [
             0.2222222222222222,
             "#7201a8"
            ],
            [
             0.3333333333333333,
             "#9c179e"
            ],
            [
             0.4444444444444444,
             "#bd3786"
            ],
            [
             0.5555555555555556,
             "#d8576b"
            ],
            [
             0.6666666666666666,
             "#ed7953"
            ],
            [
             0.7777777777777778,
             "#fb9f3a"
            ],
            [
             0.8888888888888888,
             "#fdca26"
            ],
            [
             1,
             "#f0f921"
            ]
           ]
          },
          "colorway": [
           "#636efa",
           "#EF553B",
           "#00cc96",
           "#ab63fa",
           "#FFA15A",
           "#19d3f3",
           "#FF6692",
           "#B6E880",
           "#FF97FF",
           "#FECB52"
          ],
          "font": {
           "color": "#2a3f5f"
          },
          "geo": {
           "bgcolor": "white",
           "lakecolor": "white",
           "landcolor": "#E5ECF6",
           "showlakes": true,
           "showland": true,
           "subunitcolor": "white"
          },
          "hoverlabel": {
           "align": "left"
          },
          "hovermode": "closest",
          "mapbox": {
           "style": "light"
          },
          "paper_bgcolor": "white",
          "plot_bgcolor": "#E5ECF6",
          "polar": {
           "angularaxis": {
            "gridcolor": "white",
            "linecolor": "white",
            "ticks": ""
           },
           "bgcolor": "#E5ECF6",
           "radialaxis": {
            "gridcolor": "white",
            "linecolor": "white",
            "ticks": ""
           }
          },
          "scene": {
           "xaxis": {
            "backgroundcolor": "#E5ECF6",
            "gridcolor": "white",
            "gridwidth": 2,
            "linecolor": "white",
            "showbackground": true,
            "ticks": "",
            "zerolinecolor": "white"
           },
           "yaxis": {
            "backgroundcolor": "#E5ECF6",
            "gridcolor": "white",
            "gridwidth": 2,
            "linecolor": "white",
            "showbackground": true,
            "ticks": "",
            "zerolinecolor": "white"
           },
           "zaxis": {
            "backgroundcolor": "#E5ECF6",
            "gridcolor": "white",
            "gridwidth": 2,
            "linecolor": "white",
            "showbackground": true,
            "ticks": "",
            "zerolinecolor": "white"
           }
          },
          "shapedefaults": {
           "line": {
            "color": "#2a3f5f"
           }
          },
          "ternary": {
           "aaxis": {
            "gridcolor": "white",
            "linecolor": "white",
            "ticks": ""
           },
           "baxis": {
            "gridcolor": "white",
            "linecolor": "white",
            "ticks": ""
           },
           "bgcolor": "#E5ECF6",
           "caxis": {
            "gridcolor": "white",
            "linecolor": "white",
            "ticks": ""
           }
          },
          "title": {
           "x": 0.05
          },
          "xaxis": {
           "automargin": true,
           "gridcolor": "white",
           "linecolor": "white",
           "ticks": "",
           "title": {
            "standoff": 15
           },
           "zerolinecolor": "white",
           "zerolinewidth": 2
          },
          "yaxis": {
           "automargin": true,
           "gridcolor": "white",
           "linecolor": "white",
           "ticks": "",
           "title": {
            "standoff": 15
           },
           "zerolinecolor": "white",
           "zerolinewidth": 2
          }
         }
        },
        "title": {
         "text": "Optimization History Plot"
        },
        "xaxis": {
         "autorange": true,
         "range": [
          -2.3799212598425195,
          41.37992125984252
         ],
         "title": {
          "text": "Trial"
         },
         "type": "linear"
        },
        "yaxis": {
         "autorange": true,
         "range": [
          0.8403305149339154,
          0.8709200731822663
         ],
         "title": {
          "text": "Objective Value"
         },
         "type": "linear"
        }
       }
      },
      "image/png": "[encoded data removed]",
      "text/html": [
       "<div>                            <div id=\"8407d9ba-692a-4f0d-bb3e-18376e7b7f6a\" class=\"plotly-graph-div\" style=\"height:525px; width:100%;\"></div>            <script type=\"text/javascript\">                require([\"plotly\"], function(Plotly) {                    window.PLOTLYENV=window.PLOTLYENV || {};                                    if (document.getElementById(\"8407d9ba-692a-4f0d-bb3e-18376e7b7f6a\")) {                    Plotly.newPlot(                        \"8407d9ba-692a-4f0d-bb3e-18376e7b7f6a\",                        [{\"mode\":\"markers\",\"name\":\"Objective Value\",\"x\":[0,1,2,3,4,5,6,7,8,9,10,11,12,13,14,15,16,17,18,19,20,21,22,23,24,25,26,27,28,29,30,31,32,33,34,35,36,37,38,39],\"y\":[0.8673984122351988,0.8666033387132316,0.8524647279180984,0.8647571005723338,0.8578716745379937,0.8657650870411948,0.8682746309012619,0.8604608746404303,0.8667269175565335,0.8680736291681803,0.8424972753098403,0.8675406023500825,0.868122762925156,0.8674706239689356,0.867149021196005,0.8682411306124151,0.8649536356002359,0.8678324270884825,0.8680914959888988,0.8672041105598866,0.8628944845124443,0.8687533128063414,0.8673857565705233,0.8681123406130702,0.8671817770339888,0.8674795573792948,0.8660680785425439,0.8662303688307357,0.8676805591123763,0.8677981823487723,0.8672517554151356,0.8677118260486334,0.8671646546641336,0.8671371099821926,0.8633180770536422,0.8679373946602028,0.8660658451899541,0.8671512545485949,0.8519890238164721,0.8644809093020625],\"type\":\"scatter\"},{\"mode\":\"lines\",\"name\":\"Best Value\",\"x\":[0,1,2,3,4,5,6,7,8,9,10,11,12,13,14,15,16,17,18,19,20,21,22,23,24,25,26,27,28,29,30,31,32,33,34,35,36,37,38,39],\"y\":[0.8673984122351988,0.8673984122351988,0.8673984122351988,0.8673984122351988,0.8673984122351988,0.8673984122351988,0.8682746309012619,0.8682746309012619,0.8682746309012619,0.8682746309012619,0.8682746309012619,0.8682746309012619,0.8682746309012619,0.8682746309012619,0.8682746309012619,0.8682746309012619,0.8682746309012619,0.8682746309012619,0.8682746309012619,0.8682746309012619,0.8682746309012619,0.8687533128063414,0.8687533128063414,0.8687533128063414,0.8687533128063414,0.8687533128063414,0.8687533128063414,0.8687533128063414,0.8687533128063414,0.8687533128063414,0.8687533128063414,0.8687533128063414,0.8687533128063414,0.8687533128063414,0.8687533128063414,0.8687533128063414,0.8687533128063414,0.8687533128063414,0.8687533128063414,0.8687533128063414],\"type\":\"scatter\"},{\"marker\":{\"color\":\"#cccccc\"},\"mode\":\"markers\",\"name\":\"Infeasible Trial\",\"showlegend\":false,\"x\":[],\"y\":[],\"type\":\"scatter\"}],                        {\"title\":{\"text\":\"Optimization History Plot\"},\"xaxis\":{\"title\":{\"text\":\"Trial\"}},\"yaxis\":{\"title\":{\"text\":\"Objective Value\"}},\"template\":{\"data\":{\"histogram2dcontour\":[{\"type\":\"histogram2dcontour\",\"colorbar\":{\"outlinewidth\":0,\"ticks\":\"\"},\"colorscale\":[[0.0,\"#0d0887\"],[0.1111111111111111,\"#46039f\"],[0.2222222222222222,\"#7201a8\"],[0.3333333333333333,\"#9c179e\"],[0.4444444444444444,\"#bd3786\"],[0.5555555555555556,\"#d8576b\"],[0.6666666666666666,\"#ed7953\"],[0.7777777777777778,\"#fb9f3a\"],[0.8888888888888888,\"#fdca26\"],[1.0,\"#f0f921\"]]}],\"choropleth\":[{\"type\":\"choropleth\",\"colorbar\":{\"outlinewidth\":0,\"ticks\":\"\"}}],\"histogram2d\":[{\"type\":\"histogram2d\",\"colorbar\":{\"outlinewidth\":0,\"ticks\":\"\"},\"colorscale\":[[0.0,\"#0d0887\"],[0.1111111111111111,\"#46039f\"],[0.2222222222222222,\"#7201a8\"],[0.3333333333333333,\"#9c179e\"],[0.4444444444444444,\"#bd3786\"],[0.5555555555555556,\"#d8576b\"],[0.6666666666666666,\"#ed7953\"],[0.7777777777777778,\"#fb9f3a\"],[0.8888888888888888,\"#fdca26\"],[1.0,\"#f0f921\"]]}],\"heatmap\":[{\"type\":\"heatmap\",\"colorbar\":{\"outlinewidth\":0,\"ticks\":\"\"},\"colorscale\":[[0.0,\"#0d0887\"],[0.1111111111111111,\"#46039f\"],[0.2222222222222222,\"#7201a8\"],[0.3333333333333333,\"#9c179e\"],[0.4444444444444444,\"#bd3786\"],[0.5555555555555556,\"#d8576b\"],[0.6666666666666666,\"#ed7953\"],[0.7777777777777778,\"#fb9f3a\"],[0.8888888888888888,\"#fdca26\"],[1.0,\"#f0f921\"]]}],\"heatmapgl\":[{\"type\":\"heatmapgl\",\"colorbar\":{\"outlinewidth\":0,\"ticks\":\"\"},\"colorscale\":[[0.0,\"#0d0887\"],[0.1111111111111111,\"#46039f\"],[0.2222222222222222,\"#7201a8\"],[0.3333333333333333,\"#9c179e\"],[0.4444444444444444,\"#bd3786\"],[0.5555555555555556,\"#d8576b\"],[0.6666666666666666,\"#ed7953\"],[0.7777777777777778,\"#fb9f3a\"],[0.8888888888888888,\"#fdca26\"],[1.0,\"#f0f921\"]]}],\"contourcarpet\":[{\"type\":\"contourcarpet\",\"colorbar\":{\"outlinewidth\":0,\"ticks\":\"\"}}],\"contour\":[{\"type\":\"contour\",\"colorbar\":{\"outlinewidth\":0,\"ticks\":\"\"},\"colorscale\":[[0.0,\"#0d0887\"],[0.1111111111111111,\"#46039f\"],[0.2222222222222222,\"#7201a8\"],[0.3333333333333333,\"#9c179e\"],[0.4444444444444444,\"#bd3786\"],[0.5555555555555556,\"#d8576b\"],[0.6666666666666666,\"#ed7953\"],[0.7777777777777778,\"#fb9f3a\"],[0.8888888888888888,\"#fdca26\"],[1.0,\"#f0f921\"]]}],\"surface\":[{\"type\":\"surface\",\"colorbar\":{\"outlinewidth\":0,\"ticks\":\"\"},\"colorscale\":[[0.0,\"#0d0887\"],[0.1111111111111111,\"#46039f\"],[0.2222222222222222,\"#7201a8\"],[0.3333333333333333,\"#9c179e\"],[0.4444444444444444,\"#bd3786\"],[0.5555555555555556,\"#d8576b\"],[0.6666666666666666,\"#ed7953\"],[0.7777777777777778,\"#fb9f3a\"],[0.8888888888888888,\"#fdca26\"],[1.0,\"#f0f921\"]]}],\"mesh3d\":[{\"type\":\"mesh3d\",\"colorbar\":{\"outlinewidth\":0,\"ticks\":\"\"}}],\"scatter\":[{\"fillpattern\":{\"fillmode\":\"overlay\",\"size\":10,\"solidity\":0.2},\"type\":\"scatter\"}],\"parcoords\":[{\"type\":\"parcoords\",\"line\":{\"colorbar\":{\"outlinewidth\":0,\"ticks\":\"\"}}}],\"scatterpolargl\":[{\"type\":\"scatterpolargl\",\"marker\":{\"colorbar\":{\"outlinewidth\":0,\"ticks\":\"\"}}}],\"bar\":[{\"error_x\":{\"color\":\"#2a3f5f\"},\"error_y\":{\"color\":\"#2a3f5f\"},\"marker\":{\"line\":{\"color\":\"#E5ECF6\",\"width\":0.5},\"pattern\":{\"fillmode\":\"overlay\",\"size\":10,\"solidity\":0.2}},\"type\":\"bar\"}],\"scattergeo\":[{\"type\":\"scattergeo\",\"marker\":{\"colorbar\":{\"outlinewidth\":0,\"ticks\":\"\"}}}],\"scatterpolar\":[{\"type\":\"scatterpolar\",\"marker\":{\"colorbar\":{\"outlinewidth\":0,\"ticks\":\"\"}}}],\"histogram\":[{\"marker\":{\"pattern\":{\"fillmode\":\"overlay\",\"size\":10,\"solidity\":0.2}},\"type\":\"histogram\"}],\"scattergl\":[{\"type\":\"scattergl\",\"marker\":{\"colorbar\":{\"outlinewidth\":0,\"ticks\":\"\"}}}],\"scatter3d\":[{\"type\":\"scatter3d\",\"line\":{\"colorbar\":{\"outlinewidth\":0,\"ticks\":\"\"}},\"marker\":{\"colorbar\":{\"outlinewidth\":0,\"ticks\":\"\"}}}],\"scattermapbox\":[{\"type\":\"scattermapbox\",\"marker\":{\"colorbar\":{\"outlinewidth\":0,\"ticks\":\"\"}}}],\"scatterternary\":[{\"type\":\"scatterternary\",\"marker\":{\"colorbar\":{\"outlinewidth\":0,\"ticks\":\"\"}}}],\"scattercarpet\":[{\"type\":\"scattercarpet\",\"marker\":{\"colorbar\":{\"outlinewidth\":0,\"ticks\":\"\"}}}],\"carpet\":[{\"aaxis\":{\"endlinecolor\":\"#2a3f5f\",\"gridcolor\":\"white\",\"linecolor\":\"white\",\"minorgridcolor\":\"white\",\"startlinecolor\":\"#2a3f5f\"},\"baxis\":{\"endlinecolor\":\"#2a3f5f\",\"gridcolor\":\"white\",\"linecolor\":\"white\",\"minorgridcolor\":\"white\",\"startlinecolor\":\"#2a3f5f\"},\"type\":\"carpet\"}],\"table\":[{\"cells\":{\"fill\":{\"color\":\"#EBF0F8\"},\"line\":{\"color\":\"white\"}},\"header\":{\"fill\":{\"color\":\"#C8D4E3\"},\"line\":{\"color\":\"white\"}},\"type\":\"table\"}],\"barpolar\":[{\"marker\":{\"line\":{\"color\":\"#E5ECF6\",\"width\":0.5},\"pattern\":{\"fillmode\":\"overlay\",\"size\":10,\"solidity\":0.2}},\"type\":\"barpolar\"}],\"pie\":[{\"automargin\":true,\"type\":\"pie\"}]},\"layout\":{\"autotypenumbers\":\"strict\",\"colorway\":[\"#636efa\",\"#EF553B\",\"#00cc96\",\"#ab63fa\",\"#FFA15A\",\"#19d3f3\",\"#FF6692\",\"#B6E880\",\"#FF97FF\",\"#FECB52\"],\"font\":{\"color\":\"#2a3f5f\"},\"hovermode\":\"closest\",\"hoverlabel\":{\"align\":\"left\"},\"paper_bgcolor\":\"white\",\"plot_bgcolor\":\"#E5ECF6\",\"polar\":{\"bgcolor\":\"#E5ECF6\",\"angularaxis\":{\"gridcolor\":\"white\",\"linecolor\":\"white\",\"ticks\":\"\"},\"radialaxis\":{\"gridcolor\":\"white\",\"linecolor\":\"white\",\"ticks\":\"\"}},\"ternary\":{\"bgcolor\":\"#E5ECF6\",\"aaxis\":{\"gridcolor\":\"white\",\"linecolor\":\"white\",\"ticks\":\"\"},\"baxis\":{\"gridcolor\":\"white\",\"linecolor\":\"white\",\"ticks\":\"\"},\"caxis\":{\"gridcolor\":\"white\",\"linecolor\":\"white\",\"ticks\":\"\"}},\"coloraxis\":{\"colorbar\":{\"outlinewidth\":0,\"ticks\":\"\"}},\"colorscale\":{\"sequential\":[[0.0,\"#0d0887\"],[0.1111111111111111,\"#46039f\"],[0.2222222222222222,\"#7201a8\"],[0.3333333333333333,\"#9c179e\"],[0.4444444444444444,\"#bd3786\"],[0.5555555555555556,\"#d8576b\"],[0.6666666666666666,\"#ed7953\"],[0.7777777777777778,\"#fb9f3a\"],[0.8888888888888888,\"#fdca26\"],[1.0,\"#f0f921\"]],\"sequentialminus\":[[0.0,\"#0d0887\"],[0.1111111111111111,\"#46039f\"],[0.2222222222222222,\"#7201a8\"],[0.3333333333333333,\"#9c179e\"],[0.4444444444444444,\"#bd3786\"],[0.5555555555555556,\"#d8576b\"],[0.6666666666666666,\"#ed7953\"],[0.7777777777777778,\"#fb9f3a\"],[0.8888888888888888,\"#fdca26\"],[1.0,\"#f0f921\"]],\"diverging\":[[0,\"#8e0152\"],[0.1,\"#c51b7d\"],[0.2,\"#de77ae\"],[0.3,\"#f1b6da\"],[0.4,\"#fde0ef\"],[0.5,\"#f7f7f7\"],[0.6,\"#e6f5d0\"],[0.7,\"#b8e186\"],[0.8,\"#7fbc41\"],[0.9,\"#4d9221\"],[1,\"#276419\"]]},\"xaxis\":{\"gridcolor\":\"white\",\"linecolor\":\"white\",\"ticks\":\"\",\"title\":{\"standoff\":15},\"zerolinecolor\":\"white\",\"automargin\":true,\"zerolinewidth\":2},\"yaxis\":{\"gridcolor\":\"white\",\"linecolor\":\"white\",\"ticks\":\"\",\"title\":{\"standoff\":15},\"zerolinecolor\":\"white\",\"automargin\":true,\"zerolinewidth\":2},\"scene\":{\"xaxis\":{\"backgroundcolor\":\"#E5ECF6\",\"gridcolor\":\"white\",\"linecolor\":\"white\",\"showbackground\":true,\"ticks\":\"\",\"zerolinecolor\":\"white\",\"gridwidth\":2},\"yaxis\":{\"backgroundcolor\":\"#E5ECF6\",\"gridcolor\":\"white\",\"linecolor\":\"white\",\"showbackground\":true,\"ticks\":\"\",\"zerolinecolor\":\"white\",\"gridwidth\":2},\"zaxis\":{\"backgroundcolor\":\"#E5ECF6\",\"gridcolor\":\"white\",\"linecolor\":\"white\",\"showbackground\":true,\"ticks\":\"\",\"zerolinecolor\":\"white\",\"gridwidth\":2}},\"shapedefaults\":{\"line\":{\"color\":\"#2a3f5f\"}},\"annotationdefaults\":{\"arrowcolor\":\"#2a3f5f\",\"arrowhead\":0,\"arrowwidth\":1},\"geo\":{\"bgcolor\":\"white\",\"landcolor\":\"#E5ECF6\",\"subunitcolor\":\"white\",\"showland\":true,\"showlakes\":true,\"lakecolor\":\"white\"},\"title\":{\"x\":0.05},\"mapbox\":{\"style\":\"light\"}}}},                        {\"responsive\": true}                    ).then(function(){\n",
       "                            \n",
       "var gd = document.getElementById('8407d9ba-692a-4f0d-bb3e-18376e7b7f6a');\n",
       "var x = new MutationObserver(function (mutations, observer) {{\n",
       "        var display = window.getComputedStyle(gd).display;\n",
       "        if (!display || display === 'none') {{\n",
       "            console.log([gd, 'removed!']);\n",
       "            Plotly.purge(gd);\n",
       "            observer.disconnect();\n",
       "        }}\n",
       "}});\n",
       "\n",
       "// Listen for the removal of the full notebook cells\n",
       "var notebookContainer = gd.closest('#notebook-container');\n",
       "if (notebookContainer) {{\n",
       "    x.observe(notebookContainer, {childList: true});\n",
       "}}\n",
       "\n",
       "// Listen for the clearing of the current output cell\n",
       "var outputEl = gd.closest('.output');\n",
       "if (outputEl) {{\n",
       "    x.observe(outputEl, {childList: true});\n",
       "}}\n",
       "\n",
       "                        })                };                });            </script>        </div>"
      ]
     },
     "metadata": {},
     "output_type": "display_data"
    }
   ],
   "source": [
    "optuna.visualization.plot_optimization_history(study_rf)"
   ]
  },
  {
   "cell_type": "code",
   "execution_count": 78,
   "id": "680ac483-45c0-48d9-a689-1cfba9ac8947",
   "metadata": {},
   "outputs": [
    {
     "name": "stdout",
     "output_type": "stream",
     "text": [
      "Fold: 1 ROC-AUC SCORE 0.869\n",
      "---\n",
      "Fold: 2 ROC-AUC SCORE 0.860\n",
      "---\n",
      "Fold: 3 ROC-AUC SCORE 0.856\n",
      "---\n",
      "Fold: 4 ROC-AUC SCORE 0.858\n",
      "---\n",
      "Fold: 5 ROC-AUC SCORE 0.853\n",
      "---\n"
     ]
    }
   ],
   "source": [
    "pred_val = []\n",
    "pred_score_val = []\n",
    "\n",
    "cv = StratifiedKFold(n_splits=N_FOLDS, shuffle=True, random_state=RAND)\n",
    "for fold, (train_idx, val_idx) in enumerate(cv.split(X_train_main_, y_train_main_)):\n",
    "    X_train_, X_val_ = X_train_main_.iloc[train_idx], X_train_main_.iloc[val_idx]\n",
    "    y_train_, y_val_ = y_train_main_[train_idx], y_train_main_[val_idx]\n",
    "\n",
    "    model5 = RandomForestClassifier(**study_rf.best_params, random_state=RAND, class_weight='balanced')\n",
    "    model5.fit(X_train_, y_train_)\n",
    "\n",
    "    y_pred_val = model5.predict(X_val_)\n",
    "    y_score_val = model5.predict_proba(X_val_)\n",
    "\n",
    "    print(\"Fold:\", fold + 1, \"ROC-AUC SCORE %.3f\" % roc_auc_score(y_val_, y_score_val[:, 1]))\n",
    "    print(\"---\")\n",
    "\n",
    "    pred_val.append(y_pred_val)\n",
    "    pred_score_val.append(y_score_val)\n",
    "\n",
    "# обучаем модель для предсказания на test\n",
    "model5.fit(X_train_main_, y_train_main_)\n",
    "\n",
    "meta_X['xgb_tuned'] = np.concatenate(pred_score_val)[:,1]\n",
    "meta_X_test['xgb_tuned'] = model5.predict_proba(X_test_main)[:,1]"
   ]
  },
  {
   "cell_type": "code",
   "execution_count": 79,
   "id": "3b2bae73-3f5c-4fc9-8915-59b90351d224",
   "metadata": {},
   "outputs": [
    {
     "name": "stdout",
     "output_type": "stream",
     "text": [
      "roc_auc_score train: 0.88428\n",
      "roc_auc_score test: 0.86563\n",
      "delta = 2.2 %\n"
     ]
    }
   ],
   "source": [
    "check_overfitting(model=model5, X_train=X_train_main_, y_train=y_train_main_, X_test=X_test_main, y_test=y_test_main, metric_fun=roc_auc_score)"
   ]
  },
  {
   "cell_type": "markdown",
   "id": "c9863966-24a8-4c86-9d28-b5d7e09388b4",
   "metadata": {
    "jp-MarkdownHeadingCollapsed": true
   },
   "source": [
    "# Logistic Regression"
   ]
  },
  {
   "cell_type": "code",
   "execution_count": 80,
   "id": "e409a705-02f9-4142-a82b-02bac73d06d6",
   "metadata": {},
   "outputs": [
    {
     "name": "stdout",
     "output_type": "stream",
     "text": [
      "Fold: 1 ROC-AUC SCORE 0.856\n",
      "---\n",
      "Fold: 2 ROC-AUC SCORE 0.851\n",
      "---\n",
      "Fold: 3 ROC-AUC SCORE 0.844\n",
      "---\n",
      "Fold: 4 ROC-AUC SCORE 0.847\n",
      "---\n",
      "Fold: 5 ROC-AUC SCORE 0.844\n",
      "---\n"
     ]
    }
   ],
   "source": [
    "pred_val = []\n",
    "pred_score_val = []\n",
    "\n",
    "cv = StratifiedKFold(n_splits=N_FOLDS, shuffle=True, random_state=RAND)\n",
    "for fold, (train_idx, val_idx) in enumerate(cv.split(X_train_main_, y_train_main_)):\n",
    "    X_train_, X_val_ = X_train_main_.iloc[train_idx], X_train_main_.iloc[val_idx]\n",
    "    y_train_, y_val_ = y_train_main_[train_idx], y_train_main_[val_idx]\n",
    "\n",
    "    model6 = LogisticRegression(class_weight='balanced', random_state=RAND)\n",
    "    model6.fit(X_train_, y_train_)\n",
    "\n",
    "    y_pred_val = model6.predict(X_val_)\n",
    "    y_score_val = model6.predict_proba(X_val_)\n",
    "\n",
    "    print(\"Fold:\", fold + 1, \"ROC-AUC SCORE %.3f\" % roc_auc_score(y_val_, y_score_val[:, 1]))\n",
    "    print(\"---\")\n",
    "\n",
    "    # holdout list\n",
    "    pred_val.append(y_pred_val)\n",
    "    pred_score_val.append(y_score_val)\n",
    "\n",
    "# обучаем модель для предсказания на test\n",
    "model6.fit(X_train_main_, y_train_main_)\n",
    "\n",
    "meta_X['cb_base'] = np.concatenate(pred_score_val)[:,1]\n",
    "meta_X_test['cb_base'] = model6.predict_proba(X_test_main)[:,1]"
   ]
  },
  {
   "cell_type": "code",
   "execution_count": 81,
   "id": "934f646f-623f-490d-90b4-b621043c4369",
   "metadata": {},
   "outputs": [
    {
     "name": "stdout",
     "output_type": "stream",
     "text": [
      "roc_auc_score train: 0.85112\n",
      "roc_auc_score test: 0.85501\n",
      "delta = 0.5 %\n"
     ]
    }
   ],
   "source": [
    "check_overfitting(model=model6, X_train=X_train_main_, y_train=y_train_main_, X_test=X_test_main, y_test=y_test_main, metric_fun=roc_auc_score)"
   ]
  },
  {
   "cell_type": "markdown",
   "id": "ab779c85-a62d-420f-bb72-03b74330d915",
   "metadata": {},
   "source": [
    "# Voting"
   ]
  },
  {
   "cell_type": "code",
   "execution_count": 82,
   "id": "2be4c0f9-a2b8-4f16-aed8-c4887c41c198",
   "metadata": {},
   "outputs": [],
   "source": [
    "clb_lg1 = CalibratedClassifierCV(base_estimator=model1, method='isotonic', cv=3)\n",
    "clb_lg2 = CalibratedClassifierCV(base_estimator=model2, method='isotonic', cv=3)\n",
    "clb_xg1 = CalibratedClassifierCV(base_estimator=model3, method='isotonic', cv=3)\n",
    "clb_cb1 = CalibratedClassifierCV(base_estimator=model4, method='isotonic', cv=3)\n",
    "clb_rf1 = CalibratedClassifierCV(base_estimator=model5, method='isotonic', cv=3)\n",
    "clb_lr1 = CalibratedClassifierCV(base_estimator=model6, method='isotonic', cv=3)"
   ]
  },
  {
   "cell_type": "code",
   "execution_count": 83,
   "id": "7193a50c-2115-47a5-b301-238bd24271e1",
   "metadata": {},
   "outputs": [
    {
     "data": {
      "text/html": [
       "<style>#sk-container-id-1 {color: black;}#sk-container-id-1 pre{padding: 0;}#sk-container-id-1 div.sk-toggleable {background-color: white;}#sk-container-id-1 label.sk-toggleable__label {cursor: pointer;display: block;width: 100%;margin-bottom: 0;padding: 0.3em;box-sizing: border-box;text-align: center;}#sk-container-id-1 label.sk-toggleable__label-arrow:before {content: \"▸\";float: left;margin-right: 0.25em;color: #696969;}#sk-container-id-1 label.sk-toggleable__label-arrow:hover:before {color: black;}#sk-container-id-1 div.sk-estimator:hover label.sk-toggleable__label-arrow:before {color: black;}#sk-container-id-1 div.sk-toggleable__content {max-height: 0;max-width: 0;overflow: hidden;text-align: left;background-color: #f0f8ff;}#sk-container-id-1 div.sk-toggleable__content pre {margin: 0.2em;color: black;border-radius: 0.25em;background-color: #f0f8ff;}#sk-container-id-1 input.sk-toggleable__control:checked~div.sk-toggleable__content {max-height: 200px;max-width: 100%;overflow: auto;}#sk-container-id-1 input.sk-toggleable__control:checked~label.sk-toggleable__label-arrow:before {content: \"▾\";}#sk-container-id-1 div.sk-estimator input.sk-toggleable__control:checked~label.sk-toggleable__label {background-color: #d4ebff;}#sk-container-id-1 div.sk-label input.sk-toggleable__control:checked~label.sk-toggleable__label {background-color: #d4ebff;}#sk-container-id-1 input.sk-hidden--visually {border: 0;clip: rect(1px 1px 1px 1px);clip: rect(1px, 1px, 1px, 1px);height: 1px;margin: -1px;overflow: hidden;padding: 0;position: absolute;width: 1px;}#sk-container-id-1 div.sk-estimator {font-family: monospace;background-color: #f0f8ff;border: 1px dotted black;border-radius: 0.25em;box-sizing: border-box;margin-bottom: 0.5em;}#sk-container-id-1 div.sk-estimator:hover {background-color: #d4ebff;}#sk-container-id-1 div.sk-parallel-item::after {content: \"\";width: 100%;border-bottom: 1px solid gray;flex-grow: 1;}#sk-container-id-1 div.sk-label:hover label.sk-toggleable__label {background-color: #d4ebff;}#sk-container-id-1 div.sk-serial::before {content: \"\";position: absolute;border-left: 1px solid gray;box-sizing: border-box;top: 0;bottom: 0;left: 50%;z-index: 0;}#sk-container-id-1 div.sk-serial {display: flex;flex-direction: column;align-items: center;background-color: white;padding-right: 0.2em;padding-left: 0.2em;position: relative;}#sk-container-id-1 div.sk-item {position: relative;z-index: 1;}#sk-container-id-1 div.sk-parallel {display: flex;align-items: stretch;justify-content: center;background-color: white;position: relative;}#sk-container-id-1 div.sk-item::before, #sk-container-id-1 div.sk-parallel-item::before {content: \"\";position: absolute;border-left: 1px solid gray;box-sizing: border-box;top: 0;bottom: 0;left: 50%;z-index: -1;}#sk-container-id-1 div.sk-parallel-item {display: flex;flex-direction: column;z-index: 1;position: relative;background-color: white;}#sk-container-id-1 div.sk-parallel-item:first-child::after {align-self: flex-end;width: 50%;}#sk-container-id-1 div.sk-parallel-item:last-child::after {align-self: flex-start;width: 50%;}#sk-container-id-1 div.sk-parallel-item:only-child::after {width: 0;}#sk-container-id-1 div.sk-dashed-wrapped {border: 1px dashed gray;margin: 0 0.4em 0.5em 0.4em;box-sizing: border-box;padding-bottom: 0.4em;background-color: white;}#sk-container-id-1 div.sk-label label {font-family: monospace;font-weight: bold;display: inline-block;line-height: 1.2em;}#sk-container-id-1 div.sk-label-container {text-align: center;}#sk-container-id-1 div.sk-container {/* jupyter's `normalize.less` sets `[hidden] { display: none; }` but bootstrap.min.css set `[hidden] { display: none !important; }` so we also need the `!important` here to be able to override the default hidden behavior on the sphinx rendered scikit-learn.org. See: https://github.com/scikit-learn/scikit-learn/issues/21755 */display: inline-block !important;position: relative;}#sk-container-id-1 div.sk-text-repr-fallback {display: none;}</style><div id=\"sk-container-id-1\" class=\"sk-top-container\"><div class=\"sk-text-repr-fallback\"><pre>VotingClassifier(estimators=[(&#x27;lg1&#x27;,\n",
       "                              CalibratedClassifierCV(base_estimator=LGBMClassifier(is_unbalance=True,\n",
       "                                                                                   random_state=10),\n",
       "                                                     cv=3, method=&#x27;isotonic&#x27;)),\n",
       "                             (&#x27;lg2&#x27;,\n",
       "                              CalibratedClassifierCV(base_estimator=LGBMClassifier(colsample_bytree=0.9037652295592555,\n",
       "                                                                                   is_unbalance=True,\n",
       "                                                                                   learning_rate=0.011678935028593318,\n",
       "                                                                                   max_depth=9,\n",
       "                                                                                   metric=&#x27;AUC&#x27;,\n",
       "                                                                                   n_estimators=839,\n",
       "                                                                                   num_leaves...\n",
       "                              CalibratedClassifierCV(base_estimator=RandomForestClassifier(class_weight=&#x27;balanced&#x27;,\n",
       "                                                                                           max_depth=12,\n",
       "                                                                                           max_features=&#x27;log2&#x27;,\n",
       "                                                                                           max_samples=0.47472594740305935,\n",
       "                                                                                           min_samples_leaf=9,\n",
       "                                                                                           min_samples_split=10,\n",
       "                                                                                           n_estimators=438,\n",
       "                                                                                           n_jobs=-1,\n",
       "                                                                                           random_state=10),\n",
       "                                                     cv=3, method=&#x27;isotonic&#x27;)),\n",
       "                             (&#x27;lr1&#x27;,\n",
       "                              CalibratedClassifierCV(base_estimator=LogisticRegression(class_weight=&#x27;balanced&#x27;,\n",
       "                                                                                       random_state=10),\n",
       "                                                     cv=3,\n",
       "                                                     method=&#x27;isotonic&#x27;))],\n",
       "                 voting=&#x27;soft&#x27;)</pre><b>In a Jupyter environment, please rerun this cell to show the HTML representation or trust the notebook. <br />On GitHub, the HTML representation is unable to render, please try loading this page with nbviewer.org.</b></div><div class=\"sk-container\" hidden><div class=\"sk-item sk-dashed-wrapped\"><div class=\"sk-label-container\"><div class=\"sk-label sk-toggleable\"><input class=\"sk-toggleable__control sk-hidden--visually\" id=\"sk-estimator-id-1\" type=\"checkbox\" ><label for=\"sk-estimator-id-1\" class=\"sk-toggleable__label sk-toggleable__label-arrow\">VotingClassifier</label><div class=\"sk-toggleable__content\"><pre>VotingClassifier(estimators=[(&#x27;lg1&#x27;,\n",
       "                              CalibratedClassifierCV(base_estimator=LGBMClassifier(is_unbalance=True,\n",
       "                                                                                   random_state=10),\n",
       "                                                     cv=3, method=&#x27;isotonic&#x27;)),\n",
       "                             (&#x27;lg2&#x27;,\n",
       "                              CalibratedClassifierCV(base_estimator=LGBMClassifier(colsample_bytree=0.9037652295592555,\n",
       "                                                                                   is_unbalance=True,\n",
       "                                                                                   learning_rate=0.011678935028593318,\n",
       "                                                                                   max_depth=9,\n",
       "                                                                                   metric=&#x27;AUC&#x27;,\n",
       "                                                                                   n_estimators=839,\n",
       "                                                                                   num_leaves...\n",
       "                              CalibratedClassifierCV(base_estimator=RandomForestClassifier(class_weight=&#x27;balanced&#x27;,\n",
       "                                                                                           max_depth=12,\n",
       "                                                                                           max_features=&#x27;log2&#x27;,\n",
       "                                                                                           max_samples=0.47472594740305935,\n",
       "                                                                                           min_samples_leaf=9,\n",
       "                                                                                           min_samples_split=10,\n",
       "                                                                                           n_estimators=438,\n",
       "                                                                                           n_jobs=-1,\n",
       "                                                                                           random_state=10),\n",
       "                                                     cv=3, method=&#x27;isotonic&#x27;)),\n",
       "                             (&#x27;lr1&#x27;,\n",
       "                              CalibratedClassifierCV(base_estimator=LogisticRegression(class_weight=&#x27;balanced&#x27;,\n",
       "                                                                                       random_state=10),\n",
       "                                                     cv=3,\n",
       "                                                     method=&#x27;isotonic&#x27;))],\n",
       "                 voting=&#x27;soft&#x27;)</pre></div></div></div><div class=\"sk-parallel\"><div class=\"sk-parallel-item\"><div class=\"sk-item\"><div class=\"sk-label-container\"><div class=\"sk-label sk-toggleable\"><label>lg1</label></div></div><div class=\"sk-serial\"><div class=\"sk-item sk-dashed-wrapped\"><div class=\"sk-parallel\"><div class=\"sk-parallel-item\"><div class=\"sk-item\"><div class=\"sk-label-container\"><div class=\"sk-label sk-toggleable\"><input class=\"sk-toggleable__control sk-hidden--visually\" id=\"sk-estimator-id-2\" type=\"checkbox\" ><label for=\"sk-estimator-id-2\" class=\"sk-toggleable__label sk-toggleable__label-arrow\">base_estimator: LGBMClassifier</label><div class=\"sk-toggleable__content\"><pre>LGBMClassifier(is_unbalance=True, random_state=10)</pre></div></div></div><div class=\"sk-serial\"><div class=\"sk-item\"><div class=\"sk-estimator sk-toggleable\"><input class=\"sk-toggleable__control sk-hidden--visually\" id=\"sk-estimator-id-3\" type=\"checkbox\" ><label for=\"sk-estimator-id-3\" class=\"sk-toggleable__label sk-toggleable__label-arrow\">LGBMClassifier</label><div class=\"sk-toggleable__content\"><pre>LGBMClassifier(is_unbalance=True, random_state=10)</pre></div></div></div></div></div></div></div></div></div></div></div><div class=\"sk-parallel-item\"><div class=\"sk-item\"><div class=\"sk-label-container\"><div class=\"sk-label sk-toggleable\"><label>lg2</label></div></div><div class=\"sk-serial\"><div class=\"sk-item sk-dashed-wrapped\"><div class=\"sk-parallel\"><div class=\"sk-parallel-item\"><div class=\"sk-item\"><div class=\"sk-label-container\"><div class=\"sk-label sk-toggleable\"><input class=\"sk-toggleable__control sk-hidden--visually\" id=\"sk-estimator-id-4\" type=\"checkbox\" ><label for=\"sk-estimator-id-4\" class=\"sk-toggleable__label sk-toggleable__label-arrow\">base_estimator: LGBMClassifier</label><div class=\"sk-toggleable__content\"><pre>LGBMClassifier(colsample_bytree=0.9037652295592555, is_unbalance=True,\n",
       "               learning_rate=0.011678935028593318, max_depth=9, metric=&#x27;AUC&#x27;,\n",
       "               n_estimators=839, num_leaves=10, random_state=10,\n",
       "               subsample=0.6513626864817773)</pre></div></div></div><div class=\"sk-serial\"><div class=\"sk-item\"><div class=\"sk-estimator sk-toggleable\"><input class=\"sk-toggleable__control sk-hidden--visually\" id=\"sk-estimator-id-5\" type=\"checkbox\" ><label for=\"sk-estimator-id-5\" class=\"sk-toggleable__label sk-toggleable__label-arrow\">LGBMClassifier</label><div class=\"sk-toggleable__content\"><pre>LGBMClassifier(colsample_bytree=0.9037652295592555, is_unbalance=True,\n",
       "               learning_rate=0.011678935028593318, max_depth=9, metric=&#x27;AUC&#x27;,\n",
       "               n_estimators=839, num_leaves=10, random_state=10,\n",
       "               subsample=0.6513626864817773)</pre></div></div></div></div></div></div></div></div></div></div></div><div class=\"sk-parallel-item\"><div class=\"sk-item\"><div class=\"sk-label-container\"><div class=\"sk-label sk-toggleable\"><label>xg1</label></div></div><div class=\"sk-serial\"><div class=\"sk-item sk-dashed-wrapped\"><div class=\"sk-parallel\"><div class=\"sk-parallel-item\"><div class=\"sk-item\"><div class=\"sk-label-container\"><div class=\"sk-label sk-toggleable\"><input class=\"sk-toggleable__control sk-hidden--visually\" id=\"sk-estimator-id-6\" type=\"checkbox\" ><label for=\"sk-estimator-id-6\" class=\"sk-toggleable__label sk-toggleable__label-arrow\">base_estimator: XGBClassifier</label><div class=\"sk-toggleable__content\"><pre>XGBClassifier(base_score=None, booster=None, callbacks=None,\n",
       "              colsample_bylevel=None, colsample_bynode=None,\n",
       "              colsample_bytree=0.5288589524991305, device=None,\n",
       "              early_stopping_rounds=None, enable_categorical=False,\n",
       "              eval_metric=None, feature_types=None, gamma=None,\n",
       "              grow_policy=None, importance_type=None,\n",
       "              interaction_constraints=None, learning_rate=0.005042694687300145,\n",
       "              max_bin=None, max_cat_threshold=None, max_cat_to_onehot=None,\n",
       "              max_delta_step=None, max_depth=13, max_leaves=None,\n",
       "              min_child_weight=None, missing=nan, monotone_constraints=None,\n",
       "              multi_strategy=None, n_estimators=499, n_jobs=None,\n",
       "              num_parallel_tree=None, random_state=10, ...)</pre></div></div></div><div class=\"sk-serial\"><div class=\"sk-item\"><div class=\"sk-estimator sk-toggleable\"><input class=\"sk-toggleable__control sk-hidden--visually\" id=\"sk-estimator-id-7\" type=\"checkbox\" ><label for=\"sk-estimator-id-7\" class=\"sk-toggleable__label sk-toggleable__label-arrow\">XGBClassifier</label><div class=\"sk-toggleable__content\"><pre>XGBClassifier(base_score=None, booster=None, callbacks=None,\n",
       "              colsample_bylevel=None, colsample_bynode=None,\n",
       "              colsample_bytree=0.5288589524991305, device=None,\n",
       "              early_stopping_rounds=None, enable_categorical=False,\n",
       "              eval_metric=None, feature_types=None, gamma=None,\n",
       "              grow_policy=None, importance_type=None,\n",
       "              interaction_constraints=None, learning_rate=0.005042694687300145,\n",
       "              max_bin=None, max_cat_threshold=None, max_cat_to_onehot=None,\n",
       "              max_delta_step=None, max_depth=13, max_leaves=None,\n",
       "              min_child_weight=None, missing=nan, monotone_constraints=None,\n",
       "              multi_strategy=None, n_estimators=499, n_jobs=None,\n",
       "              num_parallel_tree=None, random_state=10, ...)</pre></div></div></div></div></div></div></div></div></div></div></div><div class=\"sk-parallel-item\"><div class=\"sk-item\"><div class=\"sk-label-container\"><div class=\"sk-label sk-toggleable\"><label>cb1</label></div></div><div class=\"sk-serial\"><div class=\"sk-item sk-dashed-wrapped\"><div class=\"sk-parallel\"><div class=\"sk-parallel-item\"><div class=\"sk-item\"><div class=\"sk-label-container\"><div class=\"sk-label sk-toggleable\"><input class=\"sk-toggleable__control sk-hidden--visually\" id=\"sk-estimator-id-8\" type=\"checkbox\" ><label for=\"sk-estimator-id-8\" class=\"sk-toggleable__label sk-toggleable__label-arrow\">base_estimator: CatBoostClassifier</label><div class=\"sk-toggleable__content\"><pre>&lt;catboost.core.CatBoostClassifier object at 0x000002038073B350&gt;</pre></div></div></div><div class=\"sk-serial\"><div class=\"sk-item\"><div class=\"sk-estimator sk-toggleable\"><input class=\"sk-toggleable__control sk-hidden--visually\" id=\"sk-estimator-id-9\" type=\"checkbox\" ><label for=\"sk-estimator-id-9\" class=\"sk-toggleable__label sk-toggleable__label-arrow\">CatBoostClassifier</label><div class=\"sk-toggleable__content\"><pre>&lt;catboost.core.CatBoostClassifier object at 0x000002038073B350&gt;</pre></div></div></div></div></div></div></div></div></div></div></div><div class=\"sk-parallel-item\"><div class=\"sk-item\"><div class=\"sk-label-container\"><div class=\"sk-label sk-toggleable\"><label>rf1</label></div></div><div class=\"sk-serial\"><div class=\"sk-item sk-dashed-wrapped\"><div class=\"sk-parallel\"><div class=\"sk-parallel-item\"><div class=\"sk-item\"><div class=\"sk-label-container\"><div class=\"sk-label sk-toggleable\"><input class=\"sk-toggleable__control sk-hidden--visually\" id=\"sk-estimator-id-10\" type=\"checkbox\" ><label for=\"sk-estimator-id-10\" class=\"sk-toggleable__label sk-toggleable__label-arrow\">base_estimator: RandomForestClassifier</label><div class=\"sk-toggleable__content\"><pre>RandomForestClassifier(class_weight=&#x27;balanced&#x27;, max_depth=12,\n",
       "                       max_features=&#x27;log2&#x27;, max_samples=0.47472594740305935,\n",
       "                       min_samples_leaf=9, min_samples_split=10,\n",
       "                       n_estimators=438, n_jobs=-1, random_state=10)</pre></div></div></div><div class=\"sk-serial\"><div class=\"sk-item\"><div class=\"sk-estimator sk-toggleable\"><input class=\"sk-toggleable__control sk-hidden--visually\" id=\"sk-estimator-id-11\" type=\"checkbox\" ><label for=\"sk-estimator-id-11\" class=\"sk-toggleable__label sk-toggleable__label-arrow\">RandomForestClassifier</label><div class=\"sk-toggleable__content\"><pre>RandomForestClassifier(class_weight=&#x27;balanced&#x27;, max_depth=12,\n",
       "                       max_features=&#x27;log2&#x27;, max_samples=0.47472594740305935,\n",
       "                       min_samples_leaf=9, min_samples_split=10,\n",
       "                       n_estimators=438, n_jobs=-1, random_state=10)</pre></div></div></div></div></div></div></div></div></div></div></div><div class=\"sk-parallel-item\"><div class=\"sk-item\"><div class=\"sk-label-container\"><div class=\"sk-label sk-toggleable\"><label>lr1</label></div></div><div class=\"sk-serial\"><div class=\"sk-item sk-dashed-wrapped\"><div class=\"sk-parallel\"><div class=\"sk-parallel-item\"><div class=\"sk-item\"><div class=\"sk-label-container\"><div class=\"sk-label sk-toggleable\"><input class=\"sk-toggleable__control sk-hidden--visually\" id=\"sk-estimator-id-12\" type=\"checkbox\" ><label for=\"sk-estimator-id-12\" class=\"sk-toggleable__label sk-toggleable__label-arrow\">base_estimator: LogisticRegression</label><div class=\"sk-toggleable__content\"><pre>LogisticRegression(class_weight=&#x27;balanced&#x27;, random_state=10)</pre></div></div></div><div class=\"sk-serial\"><div class=\"sk-item\"><div class=\"sk-estimator sk-toggleable\"><input class=\"sk-toggleable__control sk-hidden--visually\" id=\"sk-estimator-id-13\" type=\"checkbox\" ><label for=\"sk-estimator-id-13\" class=\"sk-toggleable__label sk-toggleable__label-arrow\">LogisticRegression</label><div class=\"sk-toggleable__content\"><pre>LogisticRegression(class_weight=&#x27;balanced&#x27;, random_state=10)</pre></div></div></div></div></div></div></div></div></div></div></div></div></div></div></div>"
      ],
      "text/plain": [
       "VotingClassifier(estimators=[('lg1',\n",
       "                              CalibratedClassifierCV(base_estimator=LGBMClassifier(is_unbalance=True,\n",
       "                                                                                   random_state=10),\n",
       "                                                     cv=3, method='isotonic')),\n",
       "                             ('lg2',\n",
       "                              CalibratedClassifierCV(base_estimator=LGBMClassifier(colsample_bytree=0.9037652295592555,\n",
       "                                                                                   is_unbalance=True,\n",
       "                                                                                   learning_rate=0.011678935028593318,\n",
       "                                                                                   max_depth=9,\n",
       "                                                                                   metric='AUC',\n",
       "                                                                                   n_estimators=839,\n",
       "                                                                                   num_leaves...\n",
       "                              CalibratedClassifierCV(base_estimator=RandomForestClassifier(class_weight='balanced',\n",
       "                                                                                           max_depth=12,\n",
       "                                                                                           max_features='log2',\n",
       "                                                                                           max_samples=0.47472594740305935,\n",
       "                                                                                           min_samples_leaf=9,\n",
       "                                                                                           min_samples_split=10,\n",
       "                                                                                           n_estimators=438,\n",
       "                                                                                           n_jobs=-1,\n",
       "                                                                                           random_state=10),\n",
       "                                                     cv=3, method='isotonic')),\n",
       "                             ('lr1',\n",
       "                              CalibratedClassifierCV(base_estimator=LogisticRegression(class_weight='balanced',\n",
       "                                                                                       random_state=10),\n",
       "                                                     cv=3,\n",
       "                                                     method='isotonic'))],\n",
       "                 voting='soft')"
      ]
     },
     "execution_count": 83,
     "metadata": {},
     "output_type": "execute_result"
    }
   ],
   "source": [
    "vt_clf = VotingClassifier(estimators=[('lg1', clb_lg1), ('lg2', clb_lg2), ('xg1', clb_xg1), ('cb1', clb_cb1), ('rf1', clb_rf1), ('lr1', clb_lr1)], voting='soft')\n",
    "vt_clf.fit(X_train_main_, y_train_main_)"
   ]
  },
  {
   "cell_type": "code",
   "execution_count": 84,
   "id": "7d749c6c-a0c8-49d1-826a-845be0341de1",
   "metadata": {},
   "outputs": [],
   "source": [
    "y_predicted = vt_clf.predict(X_test_main)\n",
    "y_score = vt_clf.predict_proba(X_test_main)"
   ]
  },
  {
   "cell_type": "code",
   "execution_count": 85,
   "id": "4b32c329-45be-499f-a038-627574693812",
   "metadata": {},
   "outputs": [
    {
     "data": {
      "text/html": [
       "<div>\n",
       "<style scoped>\n",
       "    .dataframe tbody tr th:only-of-type {\n",
       "        vertical-align: middle;\n",
       "    }\n",
       "\n",
       "    .dataframe tbody tr th {\n",
       "        vertical-align: top;\n",
       "    }\n",
       "\n",
       "    .dataframe thead th {\n",
       "        text-align: right;\n",
       "    }\n",
       "</style>\n",
       "<table border=\"1\" class=\"dataframe\">\n",
       "  <thead>\n",
       "    <tr style=\"text-align: right;\">\n",
       "      <th></th>\n",
       "      <th>model</th>\n",
       "      <th>Accuracy</th>\n",
       "      <th>ROC_AUC</th>\n",
       "      <th>Precision</th>\n",
       "      <th>Recall</th>\n",
       "      <th>f1</th>\n",
       "      <th>Logloss</th>\n",
       "    </tr>\n",
       "  </thead>\n",
       "  <tbody>\n",
       "    <tr>\n",
       "      <th>0</th>\n",
       "      <td>VotingClassifier_soft</td>\n",
       "      <td>0.888006</td>\n",
       "      <td>0.868215</td>\n",
       "      <td>0.729412</td>\n",
       "      <td>0.325459</td>\n",
       "      <td>0.450091</td>\n",
       "      <td>0.278353</td>\n",
       "    </tr>\n",
       "  </tbody>\n",
       "</table>\n",
       "</div>"
      ],
      "text/plain": [
       "                   model  Accuracy   ROC_AUC  Precision    Recall        f1  \\\n",
       "0  VotingClassifier_soft  0.888006  0.868215   0.729412  0.325459  0.450091   \n",
       "\n",
       "    Logloss  \n",
       "0  0.278353  "
      ]
     },
     "execution_count": 85,
     "metadata": {},
     "output_type": "execute_result"
    }
   ],
   "source": [
    "metrics = get_metrics_classification(y_test_main, y_predicted, y_score, name='VotingClassifier_soft')\n",
    "metrics"
   ]
  },
  {
   "cell_type": "code",
   "execution_count": 86,
   "id": "d9cffe6b-d7e8-4486-a977-6055522aeca5",
   "metadata": {},
   "outputs": [
    {
     "name": "stdout",
     "output_type": "stream",
     "text": [
      "roc_auc_score train: 0.90540\n",
      "roc_auc_score test: 0.86821\n",
      "delta = 4.3 %\n"
     ]
    }
   ],
   "source": [
    "check_overfitting(model=vt_clf, X_train=X_train_main_, X_test=X_test_main, y_train=y_train_main_, y_test=y_test_main, metric_fun=roc_auc_score)"
   ]
  },
  {
   "cell_type": "markdown",
   "id": "ad287f22-766a-4ce6-b643-5f9446c69937",
   "metadata": {},
   "source": [
    "# Combining"
   ]
  },
  {
   "cell_type": "markdown",
   "id": "3e7ba362-12fc-4de2-83b5-4d2c181475f1",
   "metadata": {},
   "source": [
    "нужно переобучать для правильного meta_X_test"
   ]
  },
  {
   "cell_type": "code",
   "execution_count": 90,
   "id": "fcb17d25-b344-4151-a8c1-42ef0192950b",
   "metadata": {},
   "outputs": [
    {
     "data": {
      "text/html": [
       "<style>#sk-container-id-2 {color: black;}#sk-container-id-2 pre{padding: 0;}#sk-container-id-2 div.sk-toggleable {background-color: white;}#sk-container-id-2 label.sk-toggleable__label {cursor: pointer;display: block;width: 100%;margin-bottom: 0;padding: 0.3em;box-sizing: border-box;text-align: center;}#sk-container-id-2 label.sk-toggleable__label-arrow:before {content: \"▸\";float: left;margin-right: 0.25em;color: #696969;}#sk-container-id-2 label.sk-toggleable__label-arrow:hover:before {color: black;}#sk-container-id-2 div.sk-estimator:hover label.sk-toggleable__label-arrow:before {color: black;}#sk-container-id-2 div.sk-toggleable__content {max-height: 0;max-width: 0;overflow: hidden;text-align: left;background-color: #f0f8ff;}#sk-container-id-2 div.sk-toggleable__content pre {margin: 0.2em;color: black;border-radius: 0.25em;background-color: #f0f8ff;}#sk-container-id-2 input.sk-toggleable__control:checked~div.sk-toggleable__content {max-height: 200px;max-width: 100%;overflow: auto;}#sk-container-id-2 input.sk-toggleable__control:checked~label.sk-toggleable__label-arrow:before {content: \"▾\";}#sk-container-id-2 div.sk-estimator input.sk-toggleable__control:checked~label.sk-toggleable__label {background-color: #d4ebff;}#sk-container-id-2 div.sk-label input.sk-toggleable__control:checked~label.sk-toggleable__label {background-color: #d4ebff;}#sk-container-id-2 input.sk-hidden--visually {border: 0;clip: rect(1px 1px 1px 1px);clip: rect(1px, 1px, 1px, 1px);height: 1px;margin: -1px;overflow: hidden;padding: 0;position: absolute;width: 1px;}#sk-container-id-2 div.sk-estimator {font-family: monospace;background-color: #f0f8ff;border: 1px dotted black;border-radius: 0.25em;box-sizing: border-box;margin-bottom: 0.5em;}#sk-container-id-2 div.sk-estimator:hover {background-color: #d4ebff;}#sk-container-id-2 div.sk-parallel-item::after {content: \"\";width: 100%;border-bottom: 1px solid gray;flex-grow: 1;}#sk-container-id-2 div.sk-label:hover label.sk-toggleable__label {background-color: #d4ebff;}#sk-container-id-2 div.sk-serial::before {content: \"\";position: absolute;border-left: 1px solid gray;box-sizing: border-box;top: 0;bottom: 0;left: 50%;z-index: 0;}#sk-container-id-2 div.sk-serial {display: flex;flex-direction: column;align-items: center;background-color: white;padding-right: 0.2em;padding-left: 0.2em;position: relative;}#sk-container-id-2 div.sk-item {position: relative;z-index: 1;}#sk-container-id-2 div.sk-parallel {display: flex;align-items: stretch;justify-content: center;background-color: white;position: relative;}#sk-container-id-2 div.sk-item::before, #sk-container-id-2 div.sk-parallel-item::before {content: \"\";position: absolute;border-left: 1px solid gray;box-sizing: border-box;top: 0;bottom: 0;left: 50%;z-index: -1;}#sk-container-id-2 div.sk-parallel-item {display: flex;flex-direction: column;z-index: 1;position: relative;background-color: white;}#sk-container-id-2 div.sk-parallel-item:first-child::after {align-self: flex-end;width: 50%;}#sk-container-id-2 div.sk-parallel-item:last-child::after {align-self: flex-start;width: 50%;}#sk-container-id-2 div.sk-parallel-item:only-child::after {width: 0;}#sk-container-id-2 div.sk-dashed-wrapped {border: 1px dashed gray;margin: 0 0.4em 0.5em 0.4em;box-sizing: border-box;padding-bottom: 0.4em;background-color: white;}#sk-container-id-2 div.sk-label label {font-family: monospace;font-weight: bold;display: inline-block;line-height: 1.2em;}#sk-container-id-2 div.sk-label-container {text-align: center;}#sk-container-id-2 div.sk-container {/* jupyter's `normalize.less` sets `[hidden] { display: none; }` but bootstrap.min.css set `[hidden] { display: none !important; }` so we also need the `!important` here to be able to override the default hidden behavior on the sphinx rendered scikit-learn.org. See: https://github.com/scikit-learn/scikit-learn/issues/21755 */display: inline-block !important;position: relative;}#sk-container-id-2 div.sk-text-repr-fallback {display: none;}</style><div id=\"sk-container-id-2\" class=\"sk-top-container\"><div class=\"sk-text-repr-fallback\"><pre>KNeighborsClassifier()</pre><b>In a Jupyter environment, please rerun this cell to show the HTML representation or trust the notebook. <br />On GitHub, the HTML representation is unable to render, please try loading this page with nbviewer.org.</b></div><div class=\"sk-container\" hidden><div class=\"sk-item\"><div class=\"sk-estimator sk-toggleable\"><input class=\"sk-toggleable__control sk-hidden--visually\" id=\"sk-estimator-id-14\" type=\"checkbox\" checked><label for=\"sk-estimator-id-14\" class=\"sk-toggleable__label sk-toggleable__label-arrow\">KNeighborsClassifier</label><div class=\"sk-toggleable__content\"><pre>KNeighborsClassifier()</pre></div></div></div></div></div>"
      ],
      "text/plain": [
       "KNeighborsClassifier()"
      ]
     },
     "execution_count": 90,
     "metadata": {},
     "output_type": "execute_result"
    }
   ],
   "source": [
    "st_clf = KNeighborsClassifier()\n",
    "st_clf.fit(meta_X, y_train_main_)"
   ]
  },
  {
   "cell_type": "code",
   "execution_count": 91,
   "id": "2813a66e-edce-436e-a5e5-2a4c9c52ce64",
   "metadata": {},
   "outputs": [],
   "source": [
    "y_predicted = st_clf.predict(meta_X_test)\n",
    "y_score = st_clf.predict_proba(meta_X_test)"
   ]
  },
  {
   "cell_type": "code",
   "execution_count": 94,
   "id": "165200d9-991e-45de-8e82-3851eba1101c",
   "metadata": {},
   "outputs": [
    {
     "data": {
      "text/html": [
       "<div>\n",
       "<style scoped>\n",
       "    .dataframe tbody tr th:only-of-type {\n",
       "        vertical-align: middle;\n",
       "    }\n",
       "\n",
       "    .dataframe tbody tr th {\n",
       "        vertical-align: top;\n",
       "    }\n",
       "\n",
       "    .dataframe thead th {\n",
       "        text-align: right;\n",
       "    }\n",
       "</style>\n",
       "<table border=\"1\" class=\"dataframe\">\n",
       "  <thead>\n",
       "    <tr style=\"text-align: right;\">\n",
       "      <th></th>\n",
       "      <th>model</th>\n",
       "      <th>Accuracy</th>\n",
       "      <th>ROC_AUC</th>\n",
       "      <th>Precision</th>\n",
       "      <th>Recall</th>\n",
       "      <th>f1</th>\n",
       "      <th>Logloss</th>\n",
       "    </tr>\n",
       "  </thead>\n",
       "  <tbody>\n",
       "    <tr>\n",
       "      <th>0</th>\n",
       "      <td>VotingClassifier_soft</td>\n",
       "      <td>0.888006</td>\n",
       "      <td>0.868215</td>\n",
       "      <td>0.729412</td>\n",
       "      <td>0.325459</td>\n",
       "      <td>0.450091</td>\n",
       "      <td>0.278353</td>\n",
       "    </tr>\n",
       "    <tr>\n",
       "      <th>0</th>\n",
       "      <td>Hand Stacking KNN</td>\n",
       "      <td>0.843837</td>\n",
       "      <td>0.487715</td>\n",
       "      <td>0.097087</td>\n",
       "      <td>0.013123</td>\n",
       "      <td>0.023121</td>\n",
       "      <td>2.743805</td>\n",
       "    </tr>\n",
       "  </tbody>\n",
       "</table>\n",
       "</div>"
      ],
      "text/plain": [
       "                   model  Accuracy   ROC_AUC  Precision    Recall        f1  \\\n",
       "0  VotingClassifier_soft  0.888006  0.868215   0.729412  0.325459  0.450091   \n",
       "0      Hand Stacking KNN  0.843837  0.487715   0.097087  0.013123  0.023121   \n",
       "\n",
       "    Logloss  \n",
       "0  0.278353  \n",
       "0  2.743805  "
      ]
     },
     "execution_count": 94,
     "metadata": {},
     "output_type": "execute_result"
    }
   ],
   "source": [
    "metrics = pd.concat([metrics, get_metrics_classification(y_test_main, y_predicted, y_score, name='Hand Stacking KNN')])\n",
    "metrics"
   ]
  },
  {
   "cell_type": "code",
   "execution_count": 96,
   "id": "8aaeaaed-bded-4f22-bd45-9002e086ec03",
   "metadata": {},
   "outputs": [
    {
     "data": {
      "text/html": [
       "<style>#sk-container-id-3 {color: black;}#sk-container-id-3 pre{padding: 0;}#sk-container-id-3 div.sk-toggleable {background-color: white;}#sk-container-id-3 label.sk-toggleable__label {cursor: pointer;display: block;width: 100%;margin-bottom: 0;padding: 0.3em;box-sizing: border-box;text-align: center;}#sk-container-id-3 label.sk-toggleable__label-arrow:before {content: \"▸\";float: left;margin-right: 0.25em;color: #696969;}#sk-container-id-3 label.sk-toggleable__label-arrow:hover:before {color: black;}#sk-container-id-3 div.sk-estimator:hover label.sk-toggleable__label-arrow:before {color: black;}#sk-container-id-3 div.sk-toggleable__content {max-height: 0;max-width: 0;overflow: hidden;text-align: left;background-color: #f0f8ff;}#sk-container-id-3 div.sk-toggleable__content pre {margin: 0.2em;color: black;border-radius: 0.25em;background-color: #f0f8ff;}#sk-container-id-3 input.sk-toggleable__control:checked~div.sk-toggleable__content {max-height: 200px;max-width: 100%;overflow: auto;}#sk-container-id-3 input.sk-toggleable__control:checked~label.sk-toggleable__label-arrow:before {content: \"▾\";}#sk-container-id-3 div.sk-estimator input.sk-toggleable__control:checked~label.sk-toggleable__label {background-color: #d4ebff;}#sk-container-id-3 div.sk-label input.sk-toggleable__control:checked~label.sk-toggleable__label {background-color: #d4ebff;}#sk-container-id-3 input.sk-hidden--visually {border: 0;clip: rect(1px 1px 1px 1px);clip: rect(1px, 1px, 1px, 1px);height: 1px;margin: -1px;overflow: hidden;padding: 0;position: absolute;width: 1px;}#sk-container-id-3 div.sk-estimator {font-family: monospace;background-color: #f0f8ff;border: 1px dotted black;border-radius: 0.25em;box-sizing: border-box;margin-bottom: 0.5em;}#sk-container-id-3 div.sk-estimator:hover {background-color: #d4ebff;}#sk-container-id-3 div.sk-parallel-item::after {content: \"\";width: 100%;border-bottom: 1px solid gray;flex-grow: 1;}#sk-container-id-3 div.sk-label:hover label.sk-toggleable__label {background-color: #d4ebff;}#sk-container-id-3 div.sk-serial::before {content: \"\";position: absolute;border-left: 1px solid gray;box-sizing: border-box;top: 0;bottom: 0;left: 50%;z-index: 0;}#sk-container-id-3 div.sk-serial {display: flex;flex-direction: column;align-items: center;background-color: white;padding-right: 0.2em;padding-left: 0.2em;position: relative;}#sk-container-id-3 div.sk-item {position: relative;z-index: 1;}#sk-container-id-3 div.sk-parallel {display: flex;align-items: stretch;justify-content: center;background-color: white;position: relative;}#sk-container-id-3 div.sk-item::before, #sk-container-id-3 div.sk-parallel-item::before {content: \"\";position: absolute;border-left: 1px solid gray;box-sizing: border-box;top: 0;bottom: 0;left: 50%;z-index: -1;}#sk-container-id-3 div.sk-parallel-item {display: flex;flex-direction: column;z-index: 1;position: relative;background-color: white;}#sk-container-id-3 div.sk-parallel-item:first-child::after {align-self: flex-end;width: 50%;}#sk-container-id-3 div.sk-parallel-item:last-child::after {align-self: flex-start;width: 50%;}#sk-container-id-3 div.sk-parallel-item:only-child::after {width: 0;}#sk-container-id-3 div.sk-dashed-wrapped {border: 1px dashed gray;margin: 0 0.4em 0.5em 0.4em;box-sizing: border-box;padding-bottom: 0.4em;background-color: white;}#sk-container-id-3 div.sk-label label {font-family: monospace;font-weight: bold;display: inline-block;line-height: 1.2em;}#sk-container-id-3 div.sk-label-container {text-align: center;}#sk-container-id-3 div.sk-container {/* jupyter's `normalize.less` sets `[hidden] { display: none; }` but bootstrap.min.css set `[hidden] { display: none !important; }` so we also need the `!important` here to be able to override the default hidden behavior on the sphinx rendered scikit-learn.org. See: https://github.com/scikit-learn/scikit-learn/issues/21755 */display: inline-block !important;position: relative;}#sk-container-id-3 div.sk-text-repr-fallback {display: none;}</style><div id=\"sk-container-id-3\" class=\"sk-top-container\"><div class=\"sk-text-repr-fallback\"><pre>LogisticRegression(class_weight=&#x27;balanced&#x27;, random_state=10)</pre><b>In a Jupyter environment, please rerun this cell to show the HTML representation or trust the notebook. <br />On GitHub, the HTML representation is unable to render, please try loading this page with nbviewer.org.</b></div><div class=\"sk-container\" hidden><div class=\"sk-item\"><div class=\"sk-estimator sk-toggleable\"><input class=\"sk-toggleable__control sk-hidden--visually\" id=\"sk-estimator-id-15\" type=\"checkbox\" checked><label for=\"sk-estimator-id-15\" class=\"sk-toggleable__label sk-toggleable__label-arrow\">LogisticRegression</label><div class=\"sk-toggleable__content\"><pre>LogisticRegression(class_weight=&#x27;balanced&#x27;, random_state=10)</pre></div></div></div></div></div>"
      ],
      "text/plain": [
       "LogisticRegression(class_weight='balanced', random_state=10)"
      ]
     },
     "execution_count": 96,
     "metadata": {},
     "output_type": "execute_result"
    }
   ],
   "source": [
    "st_clf = LogisticRegression(random_state=RAND, class_weight='balanced')\n",
    "st_clf.fit(meta_X, y_train_main_)"
   ]
  },
  {
   "cell_type": "code",
   "execution_count": 97,
   "id": "d980ed2c-4d48-4d3b-ab87-438c515db133",
   "metadata": {},
   "outputs": [],
   "source": [
    "y_predicted = st_clf.predict(meta_X_test)\n",
    "y_score = st_clf.predict_proba(meta_X_test)"
   ]
  },
  {
   "cell_type": "code",
   "execution_count": 98,
   "id": "642f9a7a-27a1-4873-8a35-6179c37a9364",
   "metadata": {},
   "outputs": [
    {
     "data": {
      "text/html": [
       "<div>\n",
       "<style scoped>\n",
       "    .dataframe tbody tr th:only-of-type {\n",
       "        vertical-align: middle;\n",
       "    }\n",
       "\n",
       "    .dataframe tbody tr th {\n",
       "        vertical-align: top;\n",
       "    }\n",
       "\n",
       "    .dataframe thead th {\n",
       "        text-align: right;\n",
       "    }\n",
       "</style>\n",
       "<table border=\"1\" class=\"dataframe\">\n",
       "  <thead>\n",
       "    <tr style=\"text-align: right;\">\n",
       "      <th></th>\n",
       "      <th>model</th>\n",
       "      <th>Accuracy</th>\n",
       "      <th>ROC_AUC</th>\n",
       "      <th>Precision</th>\n",
       "      <th>Recall</th>\n",
       "      <th>f1</th>\n",
       "      <th>Logloss</th>\n",
       "    </tr>\n",
       "  </thead>\n",
       "  <tbody>\n",
       "    <tr>\n",
       "      <th>0</th>\n",
       "      <td>VotingClassifier_soft</td>\n",
       "      <td>0.888006</td>\n",
       "      <td>0.868215</td>\n",
       "      <td>0.729412</td>\n",
       "      <td>0.325459</td>\n",
       "      <td>0.450091</td>\n",
       "      <td>0.278353</td>\n",
       "    </tr>\n",
       "    <tr>\n",
       "      <th>0</th>\n",
       "      <td>Hand Stacking KNN</td>\n",
       "      <td>0.843837</td>\n",
       "      <td>0.487715</td>\n",
       "      <td>0.097087</td>\n",
       "      <td>0.013123</td>\n",
       "      <td>0.023121</td>\n",
       "      <td>2.743805</td>\n",
       "    </tr>\n",
       "    <tr>\n",
       "      <th>0</th>\n",
       "      <td>Hand Stacking Log Reg</td>\n",
       "      <td>0.403807</td>\n",
       "      <td>0.313105</td>\n",
       "      <td>0.068929</td>\n",
       "      <td>0.258530</td>\n",
       "      <td>0.108840</td>\n",
       "      <td>0.697226</td>\n",
       "    </tr>\n",
       "  </tbody>\n",
       "</table>\n",
       "</div>"
      ],
      "text/plain": [
       "                   model  Accuracy   ROC_AUC  Precision    Recall        f1  \\\n",
       "0  VotingClassifier_soft  0.888006  0.868215   0.729412  0.325459  0.450091   \n",
       "0      Hand Stacking KNN  0.843837  0.487715   0.097087  0.013123  0.023121   \n",
       "0  Hand Stacking Log Reg  0.403807  0.313105   0.068929  0.258530  0.108840   \n",
       "\n",
       "    Logloss  \n",
       "0  0.278353  \n",
       "0  2.743805  \n",
       "0  0.697226  "
      ]
     },
     "execution_count": 98,
     "metadata": {},
     "output_type": "execute_result"
    }
   ],
   "source": [
    "metrics = pd.concat([metrics, get_metrics_classification(y_test_main, y_predicted, y_score, name='Hand Stacking Log Reg')])\n",
    "metrics"
   ]
  },
  {
   "cell_type": "markdown",
   "id": "600896a2-a043-4184-802f-4532ede462c2",
   "metadata": {},
   "source": [
    "# Stacking"
   ]
  },
  {
   "cell_type": "code",
   "execution_count": 30,
   "id": "b3e5ed1a-9340-42ba-9413-c26b502b2a2c",
   "metadata": {},
   "outputs": [
    {
     "ename": "NameError",
     "evalue": "name 'study' is not defined",
     "output_type": "error",
     "traceback": [
      "\u001b[1;31m---------------------------------------------------------------------------\u001b[0m",
      "\u001b[1;31mNameError\u001b[0m                                 Traceback (most recent call last)",
      "Cell \u001b[1;32mIn[30], line 3\u001b[0m\n\u001b[0;32m      1\u001b[0m estimators \u001b[38;5;241m=\u001b[39m \u001b[38;5;28mlist\u001b[39m()\n\u001b[0;32m      2\u001b[0m estimators\u001b[38;5;241m.\u001b[39mappend((\u001b[38;5;124m'\u001b[39m\u001b[38;5;124mLGBM Baseline\u001b[39m\u001b[38;5;124m'\u001b[39m, LGBMClassifier(random_state\u001b[38;5;241m=\u001b[39mRAND, is_unbalance\u001b[38;5;241m=\u001b[39m\u001b[38;5;28;01mTrue\u001b[39;00m)))\n\u001b[1;32m----> 3\u001b[0m estimators\u001b[38;5;241m.\u001b[39mappend((\u001b[38;5;124m'\u001b[39m\u001b[38;5;124mLGBM Tuned\u001b[39m\u001b[38;5;124m'\u001b[39m, LGBMClassifier(\u001b[38;5;241m*\u001b[39m\u001b[38;5;241m*\u001b[39m\u001b[43mstudy\u001b[49m\u001b[38;5;241m.\u001b[39mbest_params, is_unbalance\u001b[38;5;241m=\u001b[39m\u001b[38;5;28;01mTrue\u001b[39;00m, random_state\u001b[38;5;241m=\u001b[39mRAND, metric\u001b[38;5;241m=\u001b[39m\u001b[38;5;124m'\u001b[39m\u001b[38;5;124mAUC\u001b[39m\u001b[38;5;124m'\u001b[39m)))\n\u001b[0;32m      4\u001b[0m estimators\u001b[38;5;241m.\u001b[39mappend((\u001b[38;5;124m'\u001b[39m\u001b[38;5;124mXGB Tuned\u001b[39m\u001b[38;5;124m'\u001b[39m, XGBClassifier(\u001b[38;5;241m*\u001b[39m\u001b[38;5;241m*\u001b[39mstudy_xgb\u001b[38;5;241m.\u001b[39mbest_params, random_state\u001b[38;5;241m=\u001b[39mRAND, objective\u001b[38;5;241m=\u001b[39m\u001b[38;5;124m'\u001b[39m\u001b[38;5;124mbinary:logistic\u001b[39m\u001b[38;5;124m'\u001b[39m)))\n\u001b[0;32m      5\u001b[0m estimators\u001b[38;5;241m.\u001b[39mappend((\u001b[38;5;124m'\u001b[39m\u001b[38;5;124mCatboost Baseline\u001b[39m\u001b[38;5;124m'\u001b[39m, CatBoostClassifier(random_state\u001b[38;5;241m=\u001b[39mRAND, auto_class_weights\u001b[38;5;241m=\u001b[39m\u001b[38;5;124m'\u001b[39m\u001b[38;5;124mBalanced\u001b[39m\u001b[38;5;124m'\u001b[39m, verbose\u001b[38;5;241m=\u001b[39m\u001b[38;5;28;01mFalse\u001b[39;00m)))\n",
      "\u001b[1;31mNameError\u001b[0m: name 'study' is not defined"
     ]
    }
   ],
   "source": [
    "estimators = list()\n",
    "estimators.append(('LGBM Baseline', LGBMClassifier(random_state=RAND, is_unbalance=True)))\n",
    "estimators.append(('LGBM Tuned', LGBMClassifier(**study.best_params, is_unbalance=True, random_state=RAND, metric='AUC')))\n",
    "estimators.append(('XGB Tuned', XGBClassifier(**study_xgb.best_params, random_state=RAND, objective='binary:logistic')))\n",
    "estimators.append(('Catboost Baseline', CatBoostClassifier(random_state=RAND, auto_class_weights='Balanced', verbose=False)))\n",
    "estimators.append(('Random Forest Tuned', RandomForestClassifier(**study_rf.best_params, random_state=RAND, class_weight='balanced')))\n",
    "estimators.append(('Logistic Regression', LogisticRegression(class_weight='balanced', random_state=RAND)))\n",
    "meta_model = KNeighborsClassifier()"
   ]
  },
  {
   "cell_type": "code",
   "execution_count": 101,
   "id": "36d6d035-1241-4e2e-87fc-7b16241f3fda",
   "metadata": {},
   "outputs": [
    {
     "data": {
      "text/html": [
       "<style>#sk-container-id-4 {color: black;}#sk-container-id-4 pre{padding: 0;}#sk-container-id-4 div.sk-toggleable {background-color: white;}#sk-container-id-4 label.sk-toggleable__label {cursor: pointer;display: block;width: 100%;margin-bottom: 0;padding: 0.3em;box-sizing: border-box;text-align: center;}#sk-container-id-4 label.sk-toggleable__label-arrow:before {content: \"▸\";float: left;margin-right: 0.25em;color: #696969;}#sk-container-id-4 label.sk-toggleable__label-arrow:hover:before {color: black;}#sk-container-id-4 div.sk-estimator:hover label.sk-toggleable__label-arrow:before {color: black;}#sk-container-id-4 div.sk-toggleable__content {max-height: 0;max-width: 0;overflow: hidden;text-align: left;background-color: #f0f8ff;}#sk-container-id-4 div.sk-toggleable__content pre {margin: 0.2em;color: black;border-radius: 0.25em;background-color: #f0f8ff;}#sk-container-id-4 input.sk-toggleable__control:checked~div.sk-toggleable__content {max-height: 200px;max-width: 100%;overflow: auto;}#sk-container-id-4 input.sk-toggleable__control:checked~label.sk-toggleable__label-arrow:before {content: \"▾\";}#sk-container-id-4 div.sk-estimator input.sk-toggleable__control:checked~label.sk-toggleable__label {background-color: #d4ebff;}#sk-container-id-4 div.sk-label input.sk-toggleable__control:checked~label.sk-toggleable__label {background-color: #d4ebff;}#sk-container-id-4 input.sk-hidden--visually {border: 0;clip: rect(1px 1px 1px 1px);clip: rect(1px, 1px, 1px, 1px);height: 1px;margin: -1px;overflow: hidden;padding: 0;position: absolute;width: 1px;}#sk-container-id-4 div.sk-estimator {font-family: monospace;background-color: #f0f8ff;border: 1px dotted black;border-radius: 0.25em;box-sizing: border-box;margin-bottom: 0.5em;}#sk-container-id-4 div.sk-estimator:hover {background-color: #d4ebff;}#sk-container-id-4 div.sk-parallel-item::after {content: \"\";width: 100%;border-bottom: 1px solid gray;flex-grow: 1;}#sk-container-id-4 div.sk-label:hover label.sk-toggleable__label {background-color: #d4ebff;}#sk-container-id-4 div.sk-serial::before {content: \"\";position: absolute;border-left: 1px solid gray;box-sizing: border-box;top: 0;bottom: 0;left: 50%;z-index: 0;}#sk-container-id-4 div.sk-serial {display: flex;flex-direction: column;align-items: center;background-color: white;padding-right: 0.2em;padding-left: 0.2em;position: relative;}#sk-container-id-4 div.sk-item {position: relative;z-index: 1;}#sk-container-id-4 div.sk-parallel {display: flex;align-items: stretch;justify-content: center;background-color: white;position: relative;}#sk-container-id-4 div.sk-item::before, #sk-container-id-4 div.sk-parallel-item::before {content: \"\";position: absolute;border-left: 1px solid gray;box-sizing: border-box;top: 0;bottom: 0;left: 50%;z-index: -1;}#sk-container-id-4 div.sk-parallel-item {display: flex;flex-direction: column;z-index: 1;position: relative;background-color: white;}#sk-container-id-4 div.sk-parallel-item:first-child::after {align-self: flex-end;width: 50%;}#sk-container-id-4 div.sk-parallel-item:last-child::after {align-self: flex-start;width: 50%;}#sk-container-id-4 div.sk-parallel-item:only-child::after {width: 0;}#sk-container-id-4 div.sk-dashed-wrapped {border: 1px dashed gray;margin: 0 0.4em 0.5em 0.4em;box-sizing: border-box;padding-bottom: 0.4em;background-color: white;}#sk-container-id-4 div.sk-label label {font-family: monospace;font-weight: bold;display: inline-block;line-height: 1.2em;}#sk-container-id-4 div.sk-label-container {text-align: center;}#sk-container-id-4 div.sk-container {/* jupyter's `normalize.less` sets `[hidden] { display: none; }` but bootstrap.min.css set `[hidden] { display: none !important; }` so we also need the `!important` here to be able to override the default hidden behavior on the sphinx rendered scikit-learn.org. See: https://github.com/scikit-learn/scikit-learn/issues/21755 */display: inline-block !important;position: relative;}#sk-container-id-4 div.sk-text-repr-fallback {display: none;}</style><div id=\"sk-container-id-4\" class=\"sk-top-container\"><div class=\"sk-text-repr-fallback\"><pre>StackingClassifier(cv=5,\n",
       "                   estimators=[(&#x27;LGBM Baseline&#x27;,\n",
       "                                LGBMClassifier(is_unbalance=True,\n",
       "                                               random_state=10)),\n",
       "                               (&#x27;LGBM Tuned&#x27;,\n",
       "                                LGBMClassifier(colsample_bytree=0.9037652295592555,\n",
       "                                               is_unbalance=True,\n",
       "                                               learning_rate=0.011678935028593318,\n",
       "                                               max_depth=9, metric=&#x27;AUC&#x27;,\n",
       "                                               n_estimators=839, num_leaves=10,\n",
       "                                               random_state=10,\n",
       "                                               subsample=0.6513626864817773)),\n",
       "                               (&#x27;XGB Tuned&#x27;,\n",
       "                                XGBClassifier(b...\n",
       "                                &lt;catboost.core.CatBoostClassifier object at 0x000002038223F5F0&gt;),\n",
       "                               (&#x27;Random Forest Tuned&#x27;,\n",
       "                                RandomForestClassifier(class_weight=&#x27;balanced&#x27;,\n",
       "                                                       max_depth=12,\n",
       "                                                       max_features=&#x27;log2&#x27;,\n",
       "                                                       max_samples=0.47472594740305935,\n",
       "                                                       min_samples_leaf=9,\n",
       "                                                       min_samples_split=10,\n",
       "                                                       n_estimators=438,\n",
       "                                                       n_jobs=-1,\n",
       "                                                       random_state=10)),\n",
       "                               (&#x27;Logistic Regression&#x27;,\n",
       "                                LogisticRegression(class_weight=&#x27;balanced&#x27;,\n",
       "                                                   random_state=10))],\n",
       "                   final_estimator=KNeighborsClassifier())</pre><b>In a Jupyter environment, please rerun this cell to show the HTML representation or trust the notebook. <br />On GitHub, the HTML representation is unable to render, please try loading this page with nbviewer.org.</b></div><div class=\"sk-container\" hidden><div class=\"sk-item sk-dashed-wrapped\"><div class=\"sk-label-container\"><div class=\"sk-label sk-toggleable\"><input class=\"sk-toggleable__control sk-hidden--visually\" id=\"sk-estimator-id-16\" type=\"checkbox\" ><label for=\"sk-estimator-id-16\" class=\"sk-toggleable__label sk-toggleable__label-arrow\">StackingClassifier</label><div class=\"sk-toggleable__content\"><pre>StackingClassifier(cv=5,\n",
       "                   estimators=[(&#x27;LGBM Baseline&#x27;,\n",
       "                                LGBMClassifier(is_unbalance=True,\n",
       "                                               random_state=10)),\n",
       "                               (&#x27;LGBM Tuned&#x27;,\n",
       "                                LGBMClassifier(colsample_bytree=0.9037652295592555,\n",
       "                                               is_unbalance=True,\n",
       "                                               learning_rate=0.011678935028593318,\n",
       "                                               max_depth=9, metric=&#x27;AUC&#x27;,\n",
       "                                               n_estimators=839, num_leaves=10,\n",
       "                                               random_state=10,\n",
       "                                               subsample=0.6513626864817773)),\n",
       "                               (&#x27;XGB Tuned&#x27;,\n",
       "                                XGBClassifier(b...\n",
       "                                &lt;catboost.core.CatBoostClassifier object at 0x000002038223F5F0&gt;),\n",
       "                               (&#x27;Random Forest Tuned&#x27;,\n",
       "                                RandomForestClassifier(class_weight=&#x27;balanced&#x27;,\n",
       "                                                       max_depth=12,\n",
       "                                                       max_features=&#x27;log2&#x27;,\n",
       "                                                       max_samples=0.47472594740305935,\n",
       "                                                       min_samples_leaf=9,\n",
       "                                                       min_samples_split=10,\n",
       "                                                       n_estimators=438,\n",
       "                                                       n_jobs=-1,\n",
       "                                                       random_state=10)),\n",
       "                               (&#x27;Logistic Regression&#x27;,\n",
       "                                LogisticRegression(class_weight=&#x27;balanced&#x27;,\n",
       "                                                   random_state=10))],\n",
       "                   final_estimator=KNeighborsClassifier())</pre></div></div></div><div class=\"sk-serial\"><div class=\"sk-item\"><div class=\"sk-parallel\"><div class=\"sk-parallel-item\"><div class=\"sk-item\"><div class=\"sk-label-container\"><div class=\"sk-label sk-toggleable\"><label>LGBM Baseline</label></div></div><div class=\"sk-serial\"><div class=\"sk-item\"><div class=\"sk-estimator sk-toggleable\"><input class=\"sk-toggleable__control sk-hidden--visually\" id=\"sk-estimator-id-17\" type=\"checkbox\" ><label for=\"sk-estimator-id-17\" class=\"sk-toggleable__label sk-toggleable__label-arrow\">LGBMClassifier</label><div class=\"sk-toggleable__content\"><pre>LGBMClassifier(is_unbalance=True, random_state=10)</pre></div></div></div></div></div></div><div class=\"sk-parallel-item\"><div class=\"sk-item\"><div class=\"sk-label-container\"><div class=\"sk-label sk-toggleable\"><label>LGBM Tuned</label></div></div><div class=\"sk-serial\"><div class=\"sk-item\"><div class=\"sk-estimator sk-toggleable\"><input class=\"sk-toggleable__control sk-hidden--visually\" id=\"sk-estimator-id-18\" type=\"checkbox\" ><label for=\"sk-estimator-id-18\" class=\"sk-toggleable__label sk-toggleable__label-arrow\">LGBMClassifier</label><div class=\"sk-toggleable__content\"><pre>LGBMClassifier(colsample_bytree=0.9037652295592555, is_unbalance=True,\n",
       "               learning_rate=0.011678935028593318, max_depth=9, metric=&#x27;AUC&#x27;,\n",
       "               n_estimators=839, num_leaves=10, random_state=10,\n",
       "               subsample=0.6513626864817773)</pre></div></div></div></div></div></div><div class=\"sk-parallel-item\"><div class=\"sk-item\"><div class=\"sk-label-container\"><div class=\"sk-label sk-toggleable\"><label>XGB Tuned</label></div></div><div class=\"sk-serial\"><div class=\"sk-item\"><div class=\"sk-estimator sk-toggleable\"><input class=\"sk-toggleable__control sk-hidden--visually\" id=\"sk-estimator-id-19\" type=\"checkbox\" ><label for=\"sk-estimator-id-19\" class=\"sk-toggleable__label sk-toggleable__label-arrow\">XGBClassifier</label><div class=\"sk-toggleable__content\"><pre>XGBClassifier(base_score=None, booster=None, callbacks=None,\n",
       "              colsample_bylevel=None, colsample_bynode=None,\n",
       "              colsample_bytree=0.5288589524991305, device=None,\n",
       "              early_stopping_rounds=None, enable_categorical=False,\n",
       "              eval_metric=None, feature_types=None, gamma=None,\n",
       "              grow_policy=None, importance_type=None,\n",
       "              interaction_constraints=None, learning_rate=0.005042694687300145,\n",
       "              max_bin=None, max_cat_threshold=None, max_cat_to_onehot=None,\n",
       "              max_delta_step=None, max_depth=13, max_leaves=None,\n",
       "              min_child_weight=None, missing=nan, monotone_constraints=None,\n",
       "              multi_strategy=None, n_estimators=499, n_jobs=None,\n",
       "              num_parallel_tree=None, random_state=10, ...)</pre></div></div></div></div></div></div><div class=\"sk-parallel-item\"><div class=\"sk-item\"><div class=\"sk-label-container\"><div class=\"sk-label sk-toggleable\"><label>Catboost Baseline</label></div></div><div class=\"sk-serial\"><div class=\"sk-item\"><div class=\"sk-estimator sk-toggleable\"><input class=\"sk-toggleable__control sk-hidden--visually\" id=\"sk-estimator-id-20\" type=\"checkbox\" ><label for=\"sk-estimator-id-20\" class=\"sk-toggleable__label sk-toggleable__label-arrow\">CatBoostClassifier</label><div class=\"sk-toggleable__content\"><pre>&lt;catboost.core.CatBoostClassifier object at 0x000002038223F5F0&gt;</pre></div></div></div></div></div></div><div class=\"sk-parallel-item\"><div class=\"sk-item\"><div class=\"sk-label-container\"><div class=\"sk-label sk-toggleable\"><label>Random Forest Tuned</label></div></div><div class=\"sk-serial\"><div class=\"sk-item\"><div class=\"sk-estimator sk-toggleable\"><input class=\"sk-toggleable__control sk-hidden--visually\" id=\"sk-estimator-id-21\" type=\"checkbox\" ><label for=\"sk-estimator-id-21\" class=\"sk-toggleable__label sk-toggleable__label-arrow\">RandomForestClassifier</label><div class=\"sk-toggleable__content\"><pre>RandomForestClassifier(class_weight=&#x27;balanced&#x27;, max_depth=12,\n",
       "                       max_features=&#x27;log2&#x27;, max_samples=0.47472594740305935,\n",
       "                       min_samples_leaf=9, min_samples_split=10,\n",
       "                       n_estimators=438, n_jobs=-1, random_state=10)</pre></div></div></div></div></div></div><div class=\"sk-parallel-item\"><div class=\"sk-item\"><div class=\"sk-label-container\"><div class=\"sk-label sk-toggleable\"><label>Logistic Regression</label></div></div><div class=\"sk-serial\"><div class=\"sk-item\"><div class=\"sk-estimator sk-toggleable\"><input class=\"sk-toggleable__control sk-hidden--visually\" id=\"sk-estimator-id-22\" type=\"checkbox\" ><label for=\"sk-estimator-id-22\" class=\"sk-toggleable__label sk-toggleable__label-arrow\">LogisticRegression</label><div class=\"sk-toggleable__content\"><pre>LogisticRegression(class_weight=&#x27;balanced&#x27;, random_state=10)</pre></div></div></div></div></div></div></div></div><div class=\"sk-item\"><div class=\"sk-parallel\"><div class=\"sk-parallel-item\"><div class=\"sk-item\"><div class=\"sk-label-container\"><div class=\"sk-label sk-toggleable\"><label>final_estimator</label></div></div><div class=\"sk-serial\"><div class=\"sk-item\"><div class=\"sk-estimator sk-toggleable\"><input class=\"sk-toggleable__control sk-hidden--visually\" id=\"sk-estimator-id-23\" type=\"checkbox\" ><label for=\"sk-estimator-id-23\" class=\"sk-toggleable__label sk-toggleable__label-arrow\">KNeighborsClassifier</label><div class=\"sk-toggleable__content\"><pre>KNeighborsClassifier()</pre></div></div></div></div></div></div></div></div></div></div></div></div>"
      ],
      "text/plain": [
       "StackingClassifier(cv=5,\n",
       "                   estimators=[('LGBM Baseline',\n",
       "                                LGBMClassifier(is_unbalance=True,\n",
       "                                               random_state=10)),\n",
       "                               ('LGBM Tuned',\n",
       "                                LGBMClassifier(colsample_bytree=0.9037652295592555,\n",
       "                                               is_unbalance=True,\n",
       "                                               learning_rate=0.011678935028593318,\n",
       "                                               max_depth=9, metric='AUC',\n",
       "                                               n_estimators=839, num_leaves=10,\n",
       "                                               random_state=10,\n",
       "                                               subsample=0.6513626864817773)),\n",
       "                               ('XGB Tuned',\n",
       "                                XGBClassifier(b...\n",
       "                                <catboost.core.CatBoostClassifier object at 0x000002038223F5F0>),\n",
       "                               ('Random Forest Tuned',\n",
       "                                RandomForestClassifier(class_weight='balanced',\n",
       "                                                       max_depth=12,\n",
       "                                                       max_features='log2',\n",
       "                                                       max_samples=0.47472594740305935,\n",
       "                                                       min_samples_leaf=9,\n",
       "                                                       min_samples_split=10,\n",
       "                                                       n_estimators=438,\n",
       "                                                       n_jobs=-1,\n",
       "                                                       random_state=10)),\n",
       "                               ('Logistic Regression',\n",
       "                                LogisticRegression(class_weight='balanced',\n",
       "                                                   random_state=10))],\n",
       "                   final_estimator=KNeighborsClassifier())"
      ]
     },
     "execution_count": 101,
     "metadata": {},
     "output_type": "execute_result"
    }
   ],
   "source": [
    "SC = StackingClassifier(estimators=estimators, final_estimator=meta_model, cv=5)\n",
    "SC.fit(X_train_main_, y_train_main_)"
   ]
  },
  {
   "cell_type": "code",
   "execution_count": 115,
   "id": "78dd2549-9b67-4988-a191-a7aa7533a13b",
   "metadata": {},
   "outputs": [],
   "source": [
    "y_pred = SC.predict(X_test_main)\n",
    "y_score = SC.predict_proba(X_test_main)"
   ]
  },
  {
   "cell_type": "code",
   "execution_count": 116,
   "id": "16196a9a-94b3-47b3-a6d9-98f420553d84",
   "metadata": {},
   "outputs": [
    {
     "data": {
      "text/html": [
       "<div>\n",
       "<style scoped>\n",
       "    .dataframe tbody tr th:only-of-type {\n",
       "        vertical-align: middle;\n",
       "    }\n",
       "\n",
       "    .dataframe tbody tr th {\n",
       "        vertical-align: top;\n",
       "    }\n",
       "\n",
       "    .dataframe thead th {\n",
       "        text-align: right;\n",
       "    }\n",
       "</style>\n",
       "<table border=\"1\" class=\"dataframe\">\n",
       "  <thead>\n",
       "    <tr style=\"text-align: right;\">\n",
       "      <th></th>\n",
       "      <th>model</th>\n",
       "      <th>Accuracy</th>\n",
       "      <th>ROC_AUC</th>\n",
       "      <th>Precision</th>\n",
       "      <th>Recall</th>\n",
       "      <th>f1</th>\n",
       "      <th>Logloss</th>\n",
       "    </tr>\n",
       "  </thead>\n",
       "  <tbody>\n",
       "    <tr>\n",
       "      <th>0</th>\n",
       "      <td>VotingClassifier_soft</td>\n",
       "      <td>0.888006</td>\n",
       "      <td>0.868215</td>\n",
       "      <td>0.729412</td>\n",
       "      <td>0.325459</td>\n",
       "      <td>0.450091</td>\n",
       "      <td>0.278353</td>\n",
       "    </tr>\n",
       "    <tr>\n",
       "      <th>0</th>\n",
       "      <td>Hand Stacking KNN</td>\n",
       "      <td>0.843837</td>\n",
       "      <td>0.487715</td>\n",
       "      <td>0.097087</td>\n",
       "      <td>0.013123</td>\n",
       "      <td>0.023121</td>\n",
       "      <td>2.743805</td>\n",
       "    </tr>\n",
       "    <tr>\n",
       "      <th>0</th>\n",
       "      <td>Hand Stacking Log Reg</td>\n",
       "      <td>0.403807</td>\n",
       "      <td>0.313105</td>\n",
       "      <td>0.068929</td>\n",
       "      <td>0.258530</td>\n",
       "      <td>0.108840</td>\n",
       "      <td>0.697226</td>\n",
       "    </tr>\n",
       "    <tr>\n",
       "      <th>0</th>\n",
       "      <td>Auto Stacking KNN</td>\n",
       "      <td>0.879320</td>\n",
       "      <td>0.782404</td>\n",
       "      <td>0.605825</td>\n",
       "      <td>0.409449</td>\n",
       "      <td>0.488645</td>\n",
       "      <td>1.624579</td>\n",
       "    </tr>\n",
       "  </tbody>\n",
       "</table>\n",
       "</div>"
      ],
      "text/plain": [
       "                   model  Accuracy   ROC_AUC  Precision    Recall        f1  \\\n",
       "0  VotingClassifier_soft  0.888006  0.868215   0.729412  0.325459  0.450091   \n",
       "0      Hand Stacking KNN  0.843837  0.487715   0.097087  0.013123  0.023121   \n",
       "0  Hand Stacking Log Reg  0.403807  0.313105   0.068929  0.258530  0.108840   \n",
       "0      Auto Stacking KNN  0.879320  0.782404   0.605825  0.409449  0.488645   \n",
       "\n",
       "    Logloss  \n",
       "0  0.278353  \n",
       "0  2.743805  \n",
       "0  0.697226  \n",
       "0  1.624579  "
      ]
     },
     "execution_count": 116,
     "metadata": {},
     "output_type": "execute_result"
    }
   ],
   "source": [
    "metrics = pd.concat([metrics, get_metrics_classification(y_test_main, y_pred, y_score, name='Auto Stacking KNN')])\n",
    "metrics"
   ]
  },
  {
   "cell_type": "code",
   "execution_count": 117,
   "id": "6c32d654-68c0-40d2-b461-a6570c6a91a5",
   "metadata": {},
   "outputs": [
    {
     "name": "stdout",
     "output_type": "stream",
     "text": [
      "roc_auc_score train: 0.81055\n",
      "roc_auc_score test: 0.78240\n",
      "delta = 3.6 %\n"
     ]
    }
   ],
   "source": [
    "check_overfitting(model=SC, X_train=X_train_main_, X_test=X_test_main, y_train=y_train_main_, y_test=y_test_main, metric_fun=roc_auc_score)"
   ]
  },
  {
   "cell_type": "code",
   "execution_count": 106,
   "id": "005aef96-dc92-469e-b57d-f28012e9ef53",
   "metadata": {},
   "outputs": [],
   "source": [
    "estimators = list()\n",
    "estimators.append(('LGBM Baseline', LGBMClassifier(random_state=RAND, is_unbalance=True)))\n",
    "estimators.append(('LGBM Tuned', LGBMClassifier(**study.best_params, is_unbalance=True, random_state=RAND, metric='AUC')))\n",
    "estimators.append(('XGB Tuned', XGBClassifier(**study_xgb.best_params, random_state=RAND, objective='binary:logistic')))\n",
    "estimators.append(('Catboost Baseline', CatBoostClassifier(random_state=RAND, auto_class_weights='Balanced', verbose=False)))\n",
    "estimators.append(('Random Forest Tuned', RandomForestClassifier(**study_rf.best_params, random_state=RAND, class_weight='balanced')))\n",
    "estimators.append(('Logistic Regression', LogisticRegression(class_weight='balanced', random_state=RAND)))\n",
    "meta_model = LogisticRegression(class_weight='balanced', random_state=RAND) # Stacking_sklearn2"
   ]
  },
  {
   "cell_type": "code",
   "execution_count": 107,
   "id": "cc8ab015-2221-49d1-831b-0732e1d09689",
   "metadata": {},
   "outputs": [
    {
     "data": {
      "text/html": [
       "<style>#sk-container-id-5 {color: black;}#sk-container-id-5 pre{padding: 0;}#sk-container-id-5 div.sk-toggleable {background-color: white;}#sk-container-id-5 label.sk-toggleable__label {cursor: pointer;display: block;width: 100%;margin-bottom: 0;padding: 0.3em;box-sizing: border-box;text-align: center;}#sk-container-id-5 label.sk-toggleable__label-arrow:before {content: \"▸\";float: left;margin-right: 0.25em;color: #696969;}#sk-container-id-5 label.sk-toggleable__label-arrow:hover:before {color: black;}#sk-container-id-5 div.sk-estimator:hover label.sk-toggleable__label-arrow:before {color: black;}#sk-container-id-5 div.sk-toggleable__content {max-height: 0;max-width: 0;overflow: hidden;text-align: left;background-color: #f0f8ff;}#sk-container-id-5 div.sk-toggleable__content pre {margin: 0.2em;color: black;border-radius: 0.25em;background-color: #f0f8ff;}#sk-container-id-5 input.sk-toggleable__control:checked~div.sk-toggleable__content {max-height: 200px;max-width: 100%;overflow: auto;}#sk-container-id-5 input.sk-toggleable__control:checked~label.sk-toggleable__label-arrow:before {content: \"▾\";}#sk-container-id-5 div.sk-estimator input.sk-toggleable__control:checked~label.sk-toggleable__label {background-color: #d4ebff;}#sk-container-id-5 div.sk-label input.sk-toggleable__control:checked~label.sk-toggleable__label {background-color: #d4ebff;}#sk-container-id-5 input.sk-hidden--visually {border: 0;clip: rect(1px 1px 1px 1px);clip: rect(1px, 1px, 1px, 1px);height: 1px;margin: -1px;overflow: hidden;padding: 0;position: absolute;width: 1px;}#sk-container-id-5 div.sk-estimator {font-family: monospace;background-color: #f0f8ff;border: 1px dotted black;border-radius: 0.25em;box-sizing: border-box;margin-bottom: 0.5em;}#sk-container-id-5 div.sk-estimator:hover {background-color: #d4ebff;}#sk-container-id-5 div.sk-parallel-item::after {content: \"\";width: 100%;border-bottom: 1px solid gray;flex-grow: 1;}#sk-container-id-5 div.sk-label:hover label.sk-toggleable__label {background-color: #d4ebff;}#sk-container-id-5 div.sk-serial::before {content: \"\";position: absolute;border-left: 1px solid gray;box-sizing: border-box;top: 0;bottom: 0;left: 50%;z-index: 0;}#sk-container-id-5 div.sk-serial {display: flex;flex-direction: column;align-items: center;background-color: white;padding-right: 0.2em;padding-left: 0.2em;position: relative;}#sk-container-id-5 div.sk-item {position: relative;z-index: 1;}#sk-container-id-5 div.sk-parallel {display: flex;align-items: stretch;justify-content: center;background-color: white;position: relative;}#sk-container-id-5 div.sk-item::before, #sk-container-id-5 div.sk-parallel-item::before {content: \"\";position: absolute;border-left: 1px solid gray;box-sizing: border-box;top: 0;bottom: 0;left: 50%;z-index: -1;}#sk-container-id-5 div.sk-parallel-item {display: flex;flex-direction: column;z-index: 1;position: relative;background-color: white;}#sk-container-id-5 div.sk-parallel-item:first-child::after {align-self: flex-end;width: 50%;}#sk-container-id-5 div.sk-parallel-item:last-child::after {align-self: flex-start;width: 50%;}#sk-container-id-5 div.sk-parallel-item:only-child::after {width: 0;}#sk-container-id-5 div.sk-dashed-wrapped {border: 1px dashed gray;margin: 0 0.4em 0.5em 0.4em;box-sizing: border-box;padding-bottom: 0.4em;background-color: white;}#sk-container-id-5 div.sk-label label {font-family: monospace;font-weight: bold;display: inline-block;line-height: 1.2em;}#sk-container-id-5 div.sk-label-container {text-align: center;}#sk-container-id-5 div.sk-container {/* jupyter's `normalize.less` sets `[hidden] { display: none; }` but bootstrap.min.css set `[hidden] { display: none !important; }` so we also need the `!important` here to be able to override the default hidden behavior on the sphinx rendered scikit-learn.org. See: https://github.com/scikit-learn/scikit-learn/issues/21755 */display: inline-block !important;position: relative;}#sk-container-id-5 div.sk-text-repr-fallback {display: none;}</style><div id=\"sk-container-id-5\" class=\"sk-top-container\"><div class=\"sk-text-repr-fallback\"><pre>StackingClassifier(cv=5,\n",
       "                   estimators=[(&#x27;LGBM Baseline&#x27;,\n",
       "                                LGBMClassifier(is_unbalance=True,\n",
       "                                               random_state=10)),\n",
       "                               (&#x27;LGBM Tuned&#x27;,\n",
       "                                LGBMClassifier(colsample_bytree=0.9037652295592555,\n",
       "                                               is_unbalance=True,\n",
       "                                               learning_rate=0.011678935028593318,\n",
       "                                               max_depth=9, metric=&#x27;AUC&#x27;,\n",
       "                                               n_estimators=839, num_leaves=10,\n",
       "                                               random_state=10,\n",
       "                                               subsample=0.6513626864817773)),\n",
       "                               (&#x27;XGB Tuned&#x27;,\n",
       "                                XGBClassifier(b...\n",
       "                                RandomForestClassifier(class_weight=&#x27;balanced&#x27;,\n",
       "                                                       max_depth=12,\n",
       "                                                       max_features=&#x27;log2&#x27;,\n",
       "                                                       max_samples=0.47472594740305935,\n",
       "                                                       min_samples_leaf=9,\n",
       "                                                       min_samples_split=10,\n",
       "                                                       n_estimators=438,\n",
       "                                                       n_jobs=-1,\n",
       "                                                       random_state=10)),\n",
       "                               (&#x27;Logistic Regression&#x27;,\n",
       "                                LogisticRegression(class_weight=&#x27;balanced&#x27;,\n",
       "                                                   random_state=10))],\n",
       "                   final_estimator=LogisticRegression(class_weight=&#x27;balanced&#x27;,\n",
       "                                                      random_state=10))</pre><b>In a Jupyter environment, please rerun this cell to show the HTML representation or trust the notebook. <br />On GitHub, the HTML representation is unable to render, please try loading this page with nbviewer.org.</b></div><div class=\"sk-container\" hidden><div class=\"sk-item sk-dashed-wrapped\"><div class=\"sk-label-container\"><div class=\"sk-label sk-toggleable\"><input class=\"sk-toggleable__control sk-hidden--visually\" id=\"sk-estimator-id-24\" type=\"checkbox\" ><label for=\"sk-estimator-id-24\" class=\"sk-toggleable__label sk-toggleable__label-arrow\">StackingClassifier</label><div class=\"sk-toggleable__content\"><pre>StackingClassifier(cv=5,\n",
       "                   estimators=[(&#x27;LGBM Baseline&#x27;,\n",
       "                                LGBMClassifier(is_unbalance=True,\n",
       "                                               random_state=10)),\n",
       "                               (&#x27;LGBM Tuned&#x27;,\n",
       "                                LGBMClassifier(colsample_bytree=0.9037652295592555,\n",
       "                                               is_unbalance=True,\n",
       "                                               learning_rate=0.011678935028593318,\n",
       "                                               max_depth=9, metric=&#x27;AUC&#x27;,\n",
       "                                               n_estimators=839, num_leaves=10,\n",
       "                                               random_state=10,\n",
       "                                               subsample=0.6513626864817773)),\n",
       "                               (&#x27;XGB Tuned&#x27;,\n",
       "                                XGBClassifier(b...\n",
       "                                RandomForestClassifier(class_weight=&#x27;balanced&#x27;,\n",
       "                                                       max_depth=12,\n",
       "                                                       max_features=&#x27;log2&#x27;,\n",
       "                                                       max_samples=0.47472594740305935,\n",
       "                                                       min_samples_leaf=9,\n",
       "                                                       min_samples_split=10,\n",
       "                                                       n_estimators=438,\n",
       "                                                       n_jobs=-1,\n",
       "                                                       random_state=10)),\n",
       "                               (&#x27;Logistic Regression&#x27;,\n",
       "                                LogisticRegression(class_weight=&#x27;balanced&#x27;,\n",
       "                                                   random_state=10))],\n",
       "                   final_estimator=LogisticRegression(class_weight=&#x27;balanced&#x27;,\n",
       "                                                      random_state=10))</pre></div></div></div><div class=\"sk-serial\"><div class=\"sk-item\"><div class=\"sk-parallel\"><div class=\"sk-parallel-item\"><div class=\"sk-item\"><div class=\"sk-label-container\"><div class=\"sk-label sk-toggleable\"><label>LGBM Baseline</label></div></div><div class=\"sk-serial\"><div class=\"sk-item\"><div class=\"sk-estimator sk-toggleable\"><input class=\"sk-toggleable__control sk-hidden--visually\" id=\"sk-estimator-id-25\" type=\"checkbox\" ><label for=\"sk-estimator-id-25\" class=\"sk-toggleable__label sk-toggleable__label-arrow\">LGBMClassifier</label><div class=\"sk-toggleable__content\"><pre>LGBMClassifier(is_unbalance=True, random_state=10)</pre></div></div></div></div></div></div><div class=\"sk-parallel-item\"><div class=\"sk-item\"><div class=\"sk-label-container\"><div class=\"sk-label sk-toggleable\"><label>LGBM Tuned</label></div></div><div class=\"sk-serial\"><div class=\"sk-item\"><div class=\"sk-estimator sk-toggleable\"><input class=\"sk-toggleable__control sk-hidden--visually\" id=\"sk-estimator-id-26\" type=\"checkbox\" ><label for=\"sk-estimator-id-26\" class=\"sk-toggleable__label sk-toggleable__label-arrow\">LGBMClassifier</label><div class=\"sk-toggleable__content\"><pre>LGBMClassifier(colsample_bytree=0.9037652295592555, is_unbalance=True,\n",
       "               learning_rate=0.011678935028593318, max_depth=9, metric=&#x27;AUC&#x27;,\n",
       "               n_estimators=839, num_leaves=10, random_state=10,\n",
       "               subsample=0.6513626864817773)</pre></div></div></div></div></div></div><div class=\"sk-parallel-item\"><div class=\"sk-item\"><div class=\"sk-label-container\"><div class=\"sk-label sk-toggleable\"><label>XGB Tuned</label></div></div><div class=\"sk-serial\"><div class=\"sk-item\"><div class=\"sk-estimator sk-toggleable\"><input class=\"sk-toggleable__control sk-hidden--visually\" id=\"sk-estimator-id-27\" type=\"checkbox\" ><label for=\"sk-estimator-id-27\" class=\"sk-toggleable__label sk-toggleable__label-arrow\">XGBClassifier</label><div class=\"sk-toggleable__content\"><pre>XGBClassifier(base_score=None, booster=None, callbacks=None,\n",
       "              colsample_bylevel=None, colsample_bynode=None,\n",
       "              colsample_bytree=0.5288589524991305, device=None,\n",
       "              early_stopping_rounds=None, enable_categorical=False,\n",
       "              eval_metric=None, feature_types=None, gamma=None,\n",
       "              grow_policy=None, importance_type=None,\n",
       "              interaction_constraints=None, learning_rate=0.005042694687300145,\n",
       "              max_bin=None, max_cat_threshold=None, max_cat_to_onehot=None,\n",
       "              max_delta_step=None, max_depth=13, max_leaves=None,\n",
       "              min_child_weight=None, missing=nan, monotone_constraints=None,\n",
       "              multi_strategy=None, n_estimators=499, n_jobs=None,\n",
       "              num_parallel_tree=None, random_state=10, ...)</pre></div></div></div></div></div></div><div class=\"sk-parallel-item\"><div class=\"sk-item\"><div class=\"sk-label-container\"><div class=\"sk-label sk-toggleable\"><label>Catboost Baseline</label></div></div><div class=\"sk-serial\"><div class=\"sk-item\"><div class=\"sk-estimator sk-toggleable\"><input class=\"sk-toggleable__control sk-hidden--visually\" id=\"sk-estimator-id-28\" type=\"checkbox\" ><label for=\"sk-estimator-id-28\" class=\"sk-toggleable__label sk-toggleable__label-arrow\">CatBoostClassifier</label><div class=\"sk-toggleable__content\"><pre>&lt;catboost.core.CatBoostClassifier object at 0x0000020381776A20&gt;</pre></div></div></div></div></div></div><div class=\"sk-parallel-item\"><div class=\"sk-item\"><div class=\"sk-label-container\"><div class=\"sk-label sk-toggleable\"><label>Random Forest Tuned</label></div></div><div class=\"sk-serial\"><div class=\"sk-item\"><div class=\"sk-estimator sk-toggleable\"><input class=\"sk-toggleable__control sk-hidden--visually\" id=\"sk-estimator-id-29\" type=\"checkbox\" ><label for=\"sk-estimator-id-29\" class=\"sk-toggleable__label sk-toggleable__label-arrow\">RandomForestClassifier</label><div class=\"sk-toggleable__content\"><pre>RandomForestClassifier(class_weight=&#x27;balanced&#x27;, max_depth=12,\n",
       "                       max_features=&#x27;log2&#x27;, max_samples=0.47472594740305935,\n",
       "                       min_samples_leaf=9, min_samples_split=10,\n",
       "                       n_estimators=438, n_jobs=-1, random_state=10)</pre></div></div></div></div></div></div><div class=\"sk-parallel-item\"><div class=\"sk-item\"><div class=\"sk-label-container\"><div class=\"sk-label sk-toggleable\"><label>Logistic Regression</label></div></div><div class=\"sk-serial\"><div class=\"sk-item\"><div class=\"sk-estimator sk-toggleable\"><input class=\"sk-toggleable__control sk-hidden--visually\" id=\"sk-estimator-id-30\" type=\"checkbox\" ><label for=\"sk-estimator-id-30\" class=\"sk-toggleable__label sk-toggleable__label-arrow\">LogisticRegression</label><div class=\"sk-toggleable__content\"><pre>LogisticRegression(class_weight=&#x27;balanced&#x27;, random_state=10)</pre></div></div></div></div></div></div></div></div><div class=\"sk-item\"><div class=\"sk-parallel\"><div class=\"sk-parallel-item\"><div class=\"sk-item\"><div class=\"sk-label-container\"><div class=\"sk-label sk-toggleable\"><label>final_estimator</label></div></div><div class=\"sk-serial\"><div class=\"sk-item\"><div class=\"sk-estimator sk-toggleable\"><input class=\"sk-toggleable__control sk-hidden--visually\" id=\"sk-estimator-id-31\" type=\"checkbox\" ><label for=\"sk-estimator-id-31\" class=\"sk-toggleable__label sk-toggleable__label-arrow\">LogisticRegression</label><div class=\"sk-toggleable__content\"><pre>LogisticRegression(class_weight=&#x27;balanced&#x27;, random_state=10)</pre></div></div></div></div></div></div></div></div></div></div></div></div>"
      ],
      "text/plain": [
       "StackingClassifier(cv=5,\n",
       "                   estimators=[('LGBM Baseline',\n",
       "                                LGBMClassifier(is_unbalance=True,\n",
       "                                               random_state=10)),\n",
       "                               ('LGBM Tuned',\n",
       "                                LGBMClassifier(colsample_bytree=0.9037652295592555,\n",
       "                                               is_unbalance=True,\n",
       "                                               learning_rate=0.011678935028593318,\n",
       "                                               max_depth=9, metric='AUC',\n",
       "                                               n_estimators=839, num_leaves=10,\n",
       "                                               random_state=10,\n",
       "                                               subsample=0.6513626864817773)),\n",
       "                               ('XGB Tuned',\n",
       "                                XGBClassifier(b...\n",
       "                                RandomForestClassifier(class_weight='balanced',\n",
       "                                                       max_depth=12,\n",
       "                                                       max_features='log2',\n",
       "                                                       max_samples=0.47472594740305935,\n",
       "                                                       min_samples_leaf=9,\n",
       "                                                       min_samples_split=10,\n",
       "                                                       n_estimators=438,\n",
       "                                                       n_jobs=-1,\n",
       "                                                       random_state=10)),\n",
       "                               ('Logistic Regression',\n",
       "                                LogisticRegression(class_weight='balanced',\n",
       "                                                   random_state=10))],\n",
       "                   final_estimator=LogisticRegression(class_weight='balanced',\n",
       "                                                      random_state=10))"
      ]
     },
     "execution_count": 107,
     "metadata": {},
     "output_type": "execute_result"
    }
   ],
   "source": [
    "SC2 = StackingClassifier(estimators=estimators, final_estimator=meta_model, cv=5)\n",
    "SC2.fit(X_train_main_, y_train_main_)"
   ]
  },
  {
   "cell_type": "code",
   "execution_count": 118,
   "id": "42c6f7e0-7605-42a0-9e19-1e953654f414",
   "metadata": {},
   "outputs": [],
   "source": [
    "y_pred = SC2.predict(X_test_main)\n",
    "y_score = SC2.predict_proba(X_test_main)"
   ]
  },
  {
   "cell_type": "code",
   "execution_count": 119,
   "id": "e5fc9164-8e32-4a39-941d-db07c45094f5",
   "metadata": {},
   "outputs": [
    {
     "data": {
      "text/html": [
       "<div>\n",
       "<style scoped>\n",
       "    .dataframe tbody tr th:only-of-type {\n",
       "        vertical-align: middle;\n",
       "    }\n",
       "\n",
       "    .dataframe tbody tr th {\n",
       "        vertical-align: top;\n",
       "    }\n",
       "\n",
       "    .dataframe thead th {\n",
       "        text-align: right;\n",
       "    }\n",
       "</style>\n",
       "<table border=\"1\" class=\"dataframe\">\n",
       "  <thead>\n",
       "    <tr style=\"text-align: right;\">\n",
       "      <th></th>\n",
       "      <th>model</th>\n",
       "      <th>Accuracy</th>\n",
       "      <th>ROC_AUC</th>\n",
       "      <th>Precision</th>\n",
       "      <th>Recall</th>\n",
       "      <th>f1</th>\n",
       "      <th>Logloss</th>\n",
       "    </tr>\n",
       "  </thead>\n",
       "  <tbody>\n",
       "    <tr>\n",
       "      <th>0</th>\n",
       "      <td>VotingClassifier_soft</td>\n",
       "      <td>0.888006</td>\n",
       "      <td>0.868215</td>\n",
       "      <td>0.729412</td>\n",
       "      <td>0.325459</td>\n",
       "      <td>0.450091</td>\n",
       "      <td>0.278353</td>\n",
       "    </tr>\n",
       "    <tr>\n",
       "      <th>0</th>\n",
       "      <td>Hand Stacking KNN</td>\n",
       "      <td>0.843837</td>\n",
       "      <td>0.487715</td>\n",
       "      <td>0.097087</td>\n",
       "      <td>0.013123</td>\n",
       "      <td>0.023121</td>\n",
       "      <td>2.743805</td>\n",
       "    </tr>\n",
       "    <tr>\n",
       "      <th>0</th>\n",
       "      <td>Hand Stacking Log Reg</td>\n",
       "      <td>0.403807</td>\n",
       "      <td>0.313105</td>\n",
       "      <td>0.068929</td>\n",
       "      <td>0.258530</td>\n",
       "      <td>0.108840</td>\n",
       "      <td>0.697226</td>\n",
       "    </tr>\n",
       "    <tr>\n",
       "      <th>0</th>\n",
       "      <td>Auto Stacking KNN</td>\n",
       "      <td>0.879320</td>\n",
       "      <td>0.782404</td>\n",
       "      <td>0.605825</td>\n",
       "      <td>0.409449</td>\n",
       "      <td>0.488645</td>\n",
       "      <td>1.624579</td>\n",
       "    </tr>\n",
       "    <tr>\n",
       "      <th>0</th>\n",
       "      <td>Auto Stacking Log Reg</td>\n",
       "      <td>0.792645</td>\n",
       "      <td>0.867892</td>\n",
       "      <td>0.384021</td>\n",
       "      <td>0.782152</td>\n",
       "      <td>0.515125</td>\n",
       "      <td>0.458712</td>\n",
       "    </tr>\n",
       "  </tbody>\n",
       "</table>\n",
       "</div>"
      ],
      "text/plain": [
       "                   model  Accuracy   ROC_AUC  Precision    Recall        f1  \\\n",
       "0  VotingClassifier_soft  0.888006  0.868215   0.729412  0.325459  0.450091   \n",
       "0      Hand Stacking KNN  0.843837  0.487715   0.097087  0.013123  0.023121   \n",
       "0  Hand Stacking Log Reg  0.403807  0.313105   0.068929  0.258530  0.108840   \n",
       "0      Auto Stacking KNN  0.879320  0.782404   0.605825  0.409449  0.488645   \n",
       "0  Auto Stacking Log Reg  0.792645  0.867892   0.384021  0.782152  0.515125   \n",
       "\n",
       "    Logloss  \n",
       "0  0.278353  \n",
       "0  2.743805  \n",
       "0  0.697226  \n",
       "0  1.624579  \n",
       "0  0.458712  "
      ]
     },
     "execution_count": 119,
     "metadata": {},
     "output_type": "execute_result"
    }
   ],
   "source": [
    "metrics = pd.concat([metrics, get_metrics_classification(y_test_main, y_pred, y_score, name='Auto Stacking Log Reg')])\n",
    "metrics"
   ]
  },
  {
   "cell_type": "markdown",
   "id": "2adf295e-bbc5-4e68-b904-3dcdf39dc440",
   "metadata": {},
   "source": [
    "# Blending"
   ]
  },
  {
   "cell_type": "code",
   "execution_count": 120,
   "id": "11c26871-80f4-4350-8f79-a2a323483b84",
   "metadata": {},
   "outputs": [],
   "source": [
    "from sklearn.base import BaseEstimator, ClassifierMixin\n",
    "\n",
    "\n",
    "class BlendingClassifier(BaseEstimator, ClassifierMixin):\n",
    "    def __init__(self, models, ens_model):\n",
    "        \"\"\"\n",
    "        models - базовые модели для стекинга\n",
    "        ens_model - мета-модель\n",
    "        \"\"\"\n",
    "        self.models = models\n",
    "        self.ens_model = ens_model\n",
    "\n",
    "    def fit(self,\n",
    "            X: pd.DataFrame,\n",
    "            y: pd.Series,\n",
    "            test_size: float = 0.15,\n",
    "            random_state: int = 10):\n",
    "        \"\"\"\n",
    "        Обучение ансамбля моделей\n",
    "        \"\"\"\n",
    "        X_train, X_val, y_train, y_val = train_test_split(\n",
    "            X, y, stratify=y, test_size=test_size, random_state=random_state)\n",
    "\n",
    "        # список с новыми признаками на validation\n",
    "        meta_X = list()\n",
    "\n",
    "        for model in self.models:\n",
    "            # обучение на train датасете\n",
    "            model.fit(X_train, y_train)\n",
    "            # ответы на validation выборке\n",
    "            yhat = model.predict(X_val)\n",
    "            # преобразование в столбец\n",
    "            yhat = yhat.reshape(len(yhat), 1)\n",
    "            # запись в новый датасет\n",
    "            meta_X.append(yhat)\n",
    "\n",
    "        meta_X = np.hstack(meta_X)\n",
    "        # обучение мета-алгоритма\n",
    "        self.ens_model.fit(meta_X, y_val)\n",
    "        return self\n",
    "\n",
    "    def predict(self, X: pd.DataFrame) -> np.array:\n",
    "        \"\"\"\n",
    "        получение прогнозов - классов\n",
    "        \"\"\"\n",
    "        meta_X = list()\n",
    "        \n",
    "        for model in self.models:\n",
    "            # ответы на test выборке\n",
    "            yhat = model.predict(X)      \n",
    "            yhat = yhat.reshape(len(yhat), 1)\n",
    "            meta_X.append(yhat)\n",
    "        meta_X = np.hstack(meta_X)\n",
    "        return self.ens_model.predict(meta_X)\n",
    "\n",
    "    def predict_proba(self, X: pd.DataFrame) -> np.array:\n",
    "        \"\"\"\n",
    "        получение прогнозов - вероятностей\n",
    "        \"\"\"\n",
    "        meta_X = list()\n",
    "        \n",
    "        for model in self.models:\n",
    "            # ответы на test выборке\n",
    "            yhat = model.predict(X)\n",
    "            yhat = yhat.reshape(len(yhat), 1)\n",
    "            meta_X.append(yhat)\n",
    "        meta_X = np.hstack(meta_X)\n",
    "        \n",
    "        return self.ens_model.predict_proba(meta_X)"
   ]
  },
  {
   "cell_type": "code",
   "execution_count": 121,
   "id": "6ac6a674-8d7e-41cb-bde5-40ca7b294c73",
   "metadata": {},
   "outputs": [],
   "source": [
    "clb_lg1 = CalibratedClassifierCV(base_estimator=model1, method='isotonic', cv=3)\n",
    "clb_lg2 = CalibratedClassifierCV(base_estimator=model2, method='isotonic', cv=3)\n",
    "clb_xg1 = CalibratedClassifierCV(base_estimator=model3, method='isotonic', cv=3)\n",
    "clb_cb1 = CalibratedClassifierCV(base_estimator=model4, method='isotonic', cv=3)\n",
    "clb_rf1 = CalibratedClassifierCV(base_estimator=model5, method='isotonic', cv=3)\n",
    "clb_lr1 = CalibratedClassifierCV(base_estimator=model6, method='isotonic', cv=3)\n",
    "models = [clb_lg1, clb_lg2, clb_xg1, clb_cb1, clb_rf1, clb_lr1]\n",
    "meta_model = KNeighborsClassifier()"
   ]
  },
  {
   "cell_type": "code",
   "execution_count": 122,
   "id": "db0c015b-9fe5-42a7-8164-bfbc4a79b792",
   "metadata": {
    "scrolled": true
   },
   "outputs": [
    {
     "data": {
      "text/html": [
       "<style>#sk-container-id-6 {color: black;}#sk-container-id-6 pre{padding: 0;}#sk-container-id-6 div.sk-toggleable {background-color: white;}#sk-container-id-6 label.sk-toggleable__label {cursor: pointer;display: block;width: 100%;margin-bottom: 0;padding: 0.3em;box-sizing: border-box;text-align: center;}#sk-container-id-6 label.sk-toggleable__label-arrow:before {content: \"▸\";float: left;margin-right: 0.25em;color: #696969;}#sk-container-id-6 label.sk-toggleable__label-arrow:hover:before {color: black;}#sk-container-id-6 div.sk-estimator:hover label.sk-toggleable__label-arrow:before {color: black;}#sk-container-id-6 div.sk-toggleable__content {max-height: 0;max-width: 0;overflow: hidden;text-align: left;background-color: #f0f8ff;}#sk-container-id-6 div.sk-toggleable__content pre {margin: 0.2em;color: black;border-radius: 0.25em;background-color: #f0f8ff;}#sk-container-id-6 input.sk-toggleable__control:checked~div.sk-toggleable__content {max-height: 200px;max-width: 100%;overflow: auto;}#sk-container-id-6 input.sk-toggleable__control:checked~label.sk-toggleable__label-arrow:before {content: \"▾\";}#sk-container-id-6 div.sk-estimator input.sk-toggleable__control:checked~label.sk-toggleable__label {background-color: #d4ebff;}#sk-container-id-6 div.sk-label input.sk-toggleable__control:checked~label.sk-toggleable__label {background-color: #d4ebff;}#sk-container-id-6 input.sk-hidden--visually {border: 0;clip: rect(1px 1px 1px 1px);clip: rect(1px, 1px, 1px, 1px);height: 1px;margin: -1px;overflow: hidden;padding: 0;position: absolute;width: 1px;}#sk-container-id-6 div.sk-estimator {font-family: monospace;background-color: #f0f8ff;border: 1px dotted black;border-radius: 0.25em;box-sizing: border-box;margin-bottom: 0.5em;}#sk-container-id-6 div.sk-estimator:hover {background-color: #d4ebff;}#sk-container-id-6 div.sk-parallel-item::after {content: \"\";width: 100%;border-bottom: 1px solid gray;flex-grow: 1;}#sk-container-id-6 div.sk-label:hover label.sk-toggleable__label {background-color: #d4ebff;}#sk-container-id-6 div.sk-serial::before {content: \"\";position: absolute;border-left: 1px solid gray;box-sizing: border-box;top: 0;bottom: 0;left: 50%;z-index: 0;}#sk-container-id-6 div.sk-serial {display: flex;flex-direction: column;align-items: center;background-color: white;padding-right: 0.2em;padding-left: 0.2em;position: relative;}#sk-container-id-6 div.sk-item {position: relative;z-index: 1;}#sk-container-id-6 div.sk-parallel {display: flex;align-items: stretch;justify-content: center;background-color: white;position: relative;}#sk-container-id-6 div.sk-item::before, #sk-container-id-6 div.sk-parallel-item::before {content: \"\";position: absolute;border-left: 1px solid gray;box-sizing: border-box;top: 0;bottom: 0;left: 50%;z-index: -1;}#sk-container-id-6 div.sk-parallel-item {display: flex;flex-direction: column;z-index: 1;position: relative;background-color: white;}#sk-container-id-6 div.sk-parallel-item:first-child::after {align-self: flex-end;width: 50%;}#sk-container-id-6 div.sk-parallel-item:last-child::after {align-self: flex-start;width: 50%;}#sk-container-id-6 div.sk-parallel-item:only-child::after {width: 0;}#sk-container-id-6 div.sk-dashed-wrapped {border: 1px dashed gray;margin: 0 0.4em 0.5em 0.4em;box-sizing: border-box;padding-bottom: 0.4em;background-color: white;}#sk-container-id-6 div.sk-label label {font-family: monospace;font-weight: bold;display: inline-block;line-height: 1.2em;}#sk-container-id-6 div.sk-label-container {text-align: center;}#sk-container-id-6 div.sk-container {/* jupyter's `normalize.less` sets `[hidden] { display: none; }` but bootstrap.min.css set `[hidden] { display: none !important; }` so we also need the `!important` here to be able to override the default hidden behavior on the sphinx rendered scikit-learn.org. See: https://github.com/scikit-learn/scikit-learn/issues/21755 */display: inline-block !important;position: relative;}#sk-container-id-6 div.sk-text-repr-fallback {display: none;}</style><div id=\"sk-container-id-6\" class=\"sk-top-container\"><div class=\"sk-text-repr-fallback\"><pre>BlendingClassifier(ens_model=KNeighborsClassifier(),\n",
       "                   models=[CalibratedClassifierCV(base_estimator=LGBMClassifier(is_unbalance=True,\n",
       "                                                                                random_state=10),\n",
       "                                                  cv=3, method=&#x27;isotonic&#x27;),\n",
       "                           CalibratedClassifierCV(base_estimator=LGBMClassifier(colsample_bytree=0.9037652295592555,\n",
       "                                                                                is_unbalance=True,\n",
       "                                                                                learning_rate=0.011678935028593318,\n",
       "                                                                                max_depth=9,\n",
       "                                                                                metric=&#x27;AUC&#x27;,\n",
       "                                                                                n_estimator...\n",
       "                           CalibratedClassifierCV(base_estimator=RandomForestClassifier(class_weight=&#x27;balanced&#x27;,\n",
       "                                                                                        max_depth=12,\n",
       "                                                                                        max_features=&#x27;log2&#x27;,\n",
       "                                                                                        max_samples=0.47472594740305935,\n",
       "                                                                                        min_samples_leaf=9,\n",
       "                                                                                        min_samples_split=10,\n",
       "                                                                                        n_estimators=438,\n",
       "                                                                                        n_jobs=-1,\n",
       "                                                                                        random_state=10),\n",
       "                                                  cv=3, method=&#x27;isotonic&#x27;),\n",
       "                           CalibratedClassifierCV(base_estimator=LogisticRegression(class_weight=&#x27;balanced&#x27;,\n",
       "                                                                                    random_state=10),\n",
       "                                                  cv=3, method=&#x27;isotonic&#x27;)])</pre><b>In a Jupyter environment, please rerun this cell to show the HTML representation or trust the notebook. <br />On GitHub, the HTML representation is unable to render, please try loading this page with nbviewer.org.</b></div><div class=\"sk-container\" hidden><div class=\"sk-item sk-dashed-wrapped\"><div class=\"sk-label-container\"><div class=\"sk-label sk-toggleable\"><input class=\"sk-toggleable__control sk-hidden--visually\" id=\"sk-estimator-id-32\" type=\"checkbox\" ><label for=\"sk-estimator-id-32\" class=\"sk-toggleable__label sk-toggleable__label-arrow\">BlendingClassifier</label><div class=\"sk-toggleable__content\"><pre>BlendingClassifier(ens_model=KNeighborsClassifier(),\n",
       "                   models=[CalibratedClassifierCV(base_estimator=LGBMClassifier(is_unbalance=True,\n",
       "                                                                                random_state=10),\n",
       "                                                  cv=3, method=&#x27;isotonic&#x27;),\n",
       "                           CalibratedClassifierCV(base_estimator=LGBMClassifier(colsample_bytree=0.9037652295592555,\n",
       "                                                                                is_unbalance=True,\n",
       "                                                                                learning_rate=0.011678935028593318,\n",
       "                                                                                max_depth=9,\n",
       "                                                                                metric=&#x27;AUC&#x27;,\n",
       "                                                                                n_estimator...\n",
       "                           CalibratedClassifierCV(base_estimator=RandomForestClassifier(class_weight=&#x27;balanced&#x27;,\n",
       "                                                                                        max_depth=12,\n",
       "                                                                                        max_features=&#x27;log2&#x27;,\n",
       "                                                                                        max_samples=0.47472594740305935,\n",
       "                                                                                        min_samples_leaf=9,\n",
       "                                                                                        min_samples_split=10,\n",
       "                                                                                        n_estimators=438,\n",
       "                                                                                        n_jobs=-1,\n",
       "                                                                                        random_state=10),\n",
       "                                                  cv=3, method=&#x27;isotonic&#x27;),\n",
       "                           CalibratedClassifierCV(base_estimator=LogisticRegression(class_weight=&#x27;balanced&#x27;,\n",
       "                                                                                    random_state=10),\n",
       "                                                  cv=3, method=&#x27;isotonic&#x27;)])</pre></div></div></div><div class=\"sk-parallel\"><div class=\"sk-parallel-item\"><div class=\"sk-item\"><div class=\"sk-label-container\"><div class=\"sk-label sk-toggleable\"><input class=\"sk-toggleable__control sk-hidden--visually\" id=\"sk-estimator-id-33\" type=\"checkbox\" ><label for=\"sk-estimator-id-33\" class=\"sk-toggleable__label sk-toggleable__label-arrow\">ens_model: KNeighborsClassifier</label><div class=\"sk-toggleable__content\"><pre>KNeighborsClassifier()</pre></div></div></div><div class=\"sk-serial\"><div class=\"sk-item\"><div class=\"sk-estimator sk-toggleable\"><input class=\"sk-toggleable__control sk-hidden--visually\" id=\"sk-estimator-id-34\" type=\"checkbox\" ><label for=\"sk-estimator-id-34\" class=\"sk-toggleable__label sk-toggleable__label-arrow\">KNeighborsClassifier</label><div class=\"sk-toggleable__content\"><pre>KNeighborsClassifier()</pre></div></div></div></div></div></div></div></div></div></div>"
      ],
      "text/plain": [
       "BlendingClassifier(ens_model=KNeighborsClassifier(),\n",
       "                   models=[CalibratedClassifierCV(base_estimator=LGBMClassifier(is_unbalance=True,\n",
       "                                                                                random_state=10),\n",
       "                                                  cv=3, method='isotonic'),\n",
       "                           CalibratedClassifierCV(base_estimator=LGBMClassifier(colsample_bytree=0.9037652295592555,\n",
       "                                                                                is_unbalance=True,\n",
       "                                                                                learning_rate=0.011678935028593318,\n",
       "                                                                                max_depth=9,\n",
       "                                                                                metric='AUC',\n",
       "                                                                                n_estimator...\n",
       "                           CalibratedClassifierCV(base_estimator=RandomForestClassifier(class_weight='balanced',\n",
       "                                                                                        max_depth=12,\n",
       "                                                                                        max_features='log2',\n",
       "                                                                                        max_samples=0.47472594740305935,\n",
       "                                                                                        min_samples_leaf=9,\n",
       "                                                                                        min_samples_split=10,\n",
       "                                                                                        n_estimators=438,\n",
       "                                                                                        n_jobs=-1,\n",
       "                                                                                        random_state=10),\n",
       "                                                  cv=3, method='isotonic'),\n",
       "                           CalibratedClassifierCV(base_estimator=LogisticRegression(class_weight='balanced',\n",
       "                                                                                    random_state=10),\n",
       "                                                  cv=3, method='isotonic')])"
      ]
     },
     "execution_count": 122,
     "metadata": {},
     "output_type": "execute_result"
    }
   ],
   "source": [
    "blended = BlendingClassifier(models, meta_model)\n",
    "blended.fit(X=X_train_main_, y=y_train_main_, random_state=RAND)"
   ]
  },
  {
   "cell_type": "code",
   "execution_count": 123,
   "id": "d40678e4-efc1-4f33-a6f6-330fa35cff94",
   "metadata": {},
   "outputs": [],
   "source": [
    "y_pred = blended.predict(X_test_main)\n",
    "y_score = blended.predict_proba(X_test_main)"
   ]
  },
  {
   "cell_type": "code",
   "execution_count": 124,
   "id": "9235188a-1f75-4d43-b563-33429a0e1eed",
   "metadata": {},
   "outputs": [
    {
     "data": {
      "text/html": [
       "<div>\n",
       "<style scoped>\n",
       "    .dataframe tbody tr th:only-of-type {\n",
       "        vertical-align: middle;\n",
       "    }\n",
       "\n",
       "    .dataframe tbody tr th {\n",
       "        vertical-align: top;\n",
       "    }\n",
       "\n",
       "    .dataframe thead th {\n",
       "        text-align: right;\n",
       "    }\n",
       "</style>\n",
       "<table border=\"1\" class=\"dataframe\">\n",
       "  <thead>\n",
       "    <tr style=\"text-align: right;\">\n",
       "      <th></th>\n",
       "      <th>model</th>\n",
       "      <th>Accuracy</th>\n",
       "      <th>ROC_AUC</th>\n",
       "      <th>Precision</th>\n",
       "      <th>Recall</th>\n",
       "      <th>f1</th>\n",
       "      <th>Logloss</th>\n",
       "    </tr>\n",
       "  </thead>\n",
       "  <tbody>\n",
       "    <tr>\n",
       "      <th>0</th>\n",
       "      <td>VotingClassifier_soft</td>\n",
       "      <td>0.888006</td>\n",
       "      <td>0.868215</td>\n",
       "      <td>0.729412</td>\n",
       "      <td>0.325459</td>\n",
       "      <td>0.450091</td>\n",
       "      <td>0.278353</td>\n",
       "    </tr>\n",
       "    <tr>\n",
       "      <th>0</th>\n",
       "      <td>Hand Stacking KNN</td>\n",
       "      <td>0.843837</td>\n",
       "      <td>0.487715</td>\n",
       "      <td>0.097087</td>\n",
       "      <td>0.013123</td>\n",
       "      <td>0.023121</td>\n",
       "      <td>2.743805</td>\n",
       "    </tr>\n",
       "    <tr>\n",
       "      <th>0</th>\n",
       "      <td>Hand Stacking Log Reg</td>\n",
       "      <td>0.403807</td>\n",
       "      <td>0.313105</td>\n",
       "      <td>0.068929</td>\n",
       "      <td>0.258530</td>\n",
       "      <td>0.108840</td>\n",
       "      <td>0.697226</td>\n",
       "    </tr>\n",
       "    <tr>\n",
       "      <th>0</th>\n",
       "      <td>Auto Stacking KNN</td>\n",
       "      <td>0.879320</td>\n",
       "      <td>0.782404</td>\n",
       "      <td>0.605825</td>\n",
       "      <td>0.409449</td>\n",
       "      <td>0.488645</td>\n",
       "      <td>1.624579</td>\n",
       "    </tr>\n",
       "    <tr>\n",
       "      <th>0</th>\n",
       "      <td>Auto Stacking Log Reg</td>\n",
       "      <td>0.792645</td>\n",
       "      <td>0.867892</td>\n",
       "      <td>0.384021</td>\n",
       "      <td>0.782152</td>\n",
       "      <td>0.515125</td>\n",
       "      <td>0.458712</td>\n",
       "    </tr>\n",
       "    <tr>\n",
       "      <th>0</th>\n",
       "      <td>Blending KNN</td>\n",
       "      <td>0.862687</td>\n",
       "      <td>0.659287</td>\n",
       "      <td>0.585586</td>\n",
       "      <td>0.085302</td>\n",
       "      <td>0.148912</td>\n",
       "      <td>0.421638</td>\n",
       "    </tr>\n",
       "  </tbody>\n",
       "</table>\n",
       "</div>"
      ],
      "text/plain": [
       "                   model  Accuracy   ROC_AUC  Precision    Recall        f1  \\\n",
       "0  VotingClassifier_soft  0.888006  0.868215   0.729412  0.325459  0.450091   \n",
       "0      Hand Stacking KNN  0.843837  0.487715   0.097087  0.013123  0.023121   \n",
       "0  Hand Stacking Log Reg  0.403807  0.313105   0.068929  0.258530  0.108840   \n",
       "0      Auto Stacking KNN  0.879320  0.782404   0.605825  0.409449  0.488645   \n",
       "0  Auto Stacking Log Reg  0.792645  0.867892   0.384021  0.782152  0.515125   \n",
       "0           Blending KNN  0.862687  0.659287   0.585586  0.085302  0.148912   \n",
       "\n",
       "    Logloss  \n",
       "0  0.278353  \n",
       "0  2.743805  \n",
       "0  0.697226  \n",
       "0  1.624579  \n",
       "0  0.458712  \n",
       "0  0.421638  "
      ]
     },
     "execution_count": 124,
     "metadata": {},
     "output_type": "execute_result"
    }
   ],
   "source": [
    "metrics = pd.concat([metrics, get_metrics_classification(y_test_main, y_pred, y_score, name='Blending KNN')])\n",
    "metrics"
   ]
  },
  {
   "cell_type": "code",
   "execution_count": 125,
   "id": "fa40096b-aade-40df-9a17-8005606369a4",
   "metadata": {},
   "outputs": [],
   "source": [
    "clb_lg1 = CalibratedClassifierCV(base_estimator=model1, method='isotonic', cv=3)\n",
    "clb_lg2 = CalibratedClassifierCV(base_estimator=model2, method='isotonic', cv=3)\n",
    "clb_xg1 = CalibratedClassifierCV(base_estimator=model3, method='isotonic', cv=3)\n",
    "clb_cb1 = CalibratedClassifierCV(base_estimator=model4, method='isotonic', cv=3)\n",
    "clb_rf1 = CalibratedClassifierCV(base_estimator=model5, method='isotonic', cv=3)\n",
    "clb_lr1 = CalibratedClassifierCV(base_estimator=model6, method='isotonic', cv=3)\n",
    "models = [clb_lg1, clb_lg2, clb_xg1, clb_cb1, clb_rf1, clb_lr1]\n",
    "meta_model = LogisticRegression(class_weight='balanced', random_state=RAND)"
   ]
  },
  {
   "cell_type": "code",
   "execution_count": 126,
   "id": "9fd1ca79-e8a9-46d5-b8e8-9a1c72a3c072",
   "metadata": {},
   "outputs": [
    {
     "data": {
      "text/html": [
       "<style>#sk-container-id-7 {color: black;}#sk-container-id-7 pre{padding: 0;}#sk-container-id-7 div.sk-toggleable {background-color: white;}#sk-container-id-7 label.sk-toggleable__label {cursor: pointer;display: block;width: 100%;margin-bottom: 0;padding: 0.3em;box-sizing: border-box;text-align: center;}#sk-container-id-7 label.sk-toggleable__label-arrow:before {content: \"▸\";float: left;margin-right: 0.25em;color: #696969;}#sk-container-id-7 label.sk-toggleable__label-arrow:hover:before {color: black;}#sk-container-id-7 div.sk-estimator:hover label.sk-toggleable__label-arrow:before {color: black;}#sk-container-id-7 div.sk-toggleable__content {max-height: 0;max-width: 0;overflow: hidden;text-align: left;background-color: #f0f8ff;}#sk-container-id-7 div.sk-toggleable__content pre {margin: 0.2em;color: black;border-radius: 0.25em;background-color: #f0f8ff;}#sk-container-id-7 input.sk-toggleable__control:checked~div.sk-toggleable__content {max-height: 200px;max-width: 100%;overflow: auto;}#sk-container-id-7 input.sk-toggleable__control:checked~label.sk-toggleable__label-arrow:before {content: \"▾\";}#sk-container-id-7 div.sk-estimator input.sk-toggleable__control:checked~label.sk-toggleable__label {background-color: #d4ebff;}#sk-container-id-7 div.sk-label input.sk-toggleable__control:checked~label.sk-toggleable__label {background-color: #d4ebff;}#sk-container-id-7 input.sk-hidden--visually {border: 0;clip: rect(1px 1px 1px 1px);clip: rect(1px, 1px, 1px, 1px);height: 1px;margin: -1px;overflow: hidden;padding: 0;position: absolute;width: 1px;}#sk-container-id-7 div.sk-estimator {font-family: monospace;background-color: #f0f8ff;border: 1px dotted black;border-radius: 0.25em;box-sizing: border-box;margin-bottom: 0.5em;}#sk-container-id-7 div.sk-estimator:hover {background-color: #d4ebff;}#sk-container-id-7 div.sk-parallel-item::after {content: \"\";width: 100%;border-bottom: 1px solid gray;flex-grow: 1;}#sk-container-id-7 div.sk-label:hover label.sk-toggleable__label {background-color: #d4ebff;}#sk-container-id-7 div.sk-serial::before {content: \"\";position: absolute;border-left: 1px solid gray;box-sizing: border-box;top: 0;bottom: 0;left: 50%;z-index: 0;}#sk-container-id-7 div.sk-serial {display: flex;flex-direction: column;align-items: center;background-color: white;padding-right: 0.2em;padding-left: 0.2em;position: relative;}#sk-container-id-7 div.sk-item {position: relative;z-index: 1;}#sk-container-id-7 div.sk-parallel {display: flex;align-items: stretch;justify-content: center;background-color: white;position: relative;}#sk-container-id-7 div.sk-item::before, #sk-container-id-7 div.sk-parallel-item::before {content: \"\";position: absolute;border-left: 1px solid gray;box-sizing: border-box;top: 0;bottom: 0;left: 50%;z-index: -1;}#sk-container-id-7 div.sk-parallel-item {display: flex;flex-direction: column;z-index: 1;position: relative;background-color: white;}#sk-container-id-7 div.sk-parallel-item:first-child::after {align-self: flex-end;width: 50%;}#sk-container-id-7 div.sk-parallel-item:last-child::after {align-self: flex-start;width: 50%;}#sk-container-id-7 div.sk-parallel-item:only-child::after {width: 0;}#sk-container-id-7 div.sk-dashed-wrapped {border: 1px dashed gray;margin: 0 0.4em 0.5em 0.4em;box-sizing: border-box;padding-bottom: 0.4em;background-color: white;}#sk-container-id-7 div.sk-label label {font-family: monospace;font-weight: bold;display: inline-block;line-height: 1.2em;}#sk-container-id-7 div.sk-label-container {text-align: center;}#sk-container-id-7 div.sk-container {/* jupyter's `normalize.less` sets `[hidden] { display: none; }` but bootstrap.min.css set `[hidden] { display: none !important; }` so we also need the `!important` here to be able to override the default hidden behavior on the sphinx rendered scikit-learn.org. See: https://github.com/scikit-learn/scikit-learn/issues/21755 */display: inline-block !important;position: relative;}#sk-container-id-7 div.sk-text-repr-fallback {display: none;}</style><div id=\"sk-container-id-7\" class=\"sk-top-container\"><div class=\"sk-text-repr-fallback\"><pre>BlendingClassifier(ens_model=LogisticRegression(class_weight=&#x27;balanced&#x27;,\n",
       "                                                random_state=10),\n",
       "                   models=[CalibratedClassifierCV(base_estimator=LGBMClassifier(is_unbalance=True,\n",
       "                                                                                random_state=10),\n",
       "                                                  cv=3, method=&#x27;isotonic&#x27;),\n",
       "                           CalibratedClassifierCV(base_estimator=LGBMClassifier(colsample_bytree=0.9037652295592555,\n",
       "                                                                                is_unbalance=True,\n",
       "                                                                                learning_rate=0.011678935028593318...\n",
       "                           CalibratedClassifierCV(base_estimator=RandomForestClassifier(class_weight=&#x27;balanced&#x27;,\n",
       "                                                                                        max_depth=12,\n",
       "                                                                                        max_features=&#x27;log2&#x27;,\n",
       "                                                                                        max_samples=0.47472594740305935,\n",
       "                                                                                        min_samples_leaf=9,\n",
       "                                                                                        min_samples_split=10,\n",
       "                                                                                        n_estimators=438,\n",
       "                                                                                        n_jobs=-1,\n",
       "                                                                                        random_state=10),\n",
       "                                                  cv=3, method=&#x27;isotonic&#x27;),\n",
       "                           CalibratedClassifierCV(base_estimator=LogisticRegression(class_weight=&#x27;balanced&#x27;,\n",
       "                                                                                    random_state=10),\n",
       "                                                  cv=3, method=&#x27;isotonic&#x27;)])</pre><b>In a Jupyter environment, please rerun this cell to show the HTML representation or trust the notebook. <br />On GitHub, the HTML representation is unable to render, please try loading this page with nbviewer.org.</b></div><div class=\"sk-container\" hidden><div class=\"sk-item sk-dashed-wrapped\"><div class=\"sk-label-container\"><div class=\"sk-label sk-toggleable\"><input class=\"sk-toggleable__control sk-hidden--visually\" id=\"sk-estimator-id-35\" type=\"checkbox\" ><label for=\"sk-estimator-id-35\" class=\"sk-toggleable__label sk-toggleable__label-arrow\">BlendingClassifier</label><div class=\"sk-toggleable__content\"><pre>BlendingClassifier(ens_model=LogisticRegression(class_weight=&#x27;balanced&#x27;,\n",
       "                                                random_state=10),\n",
       "                   models=[CalibratedClassifierCV(base_estimator=LGBMClassifier(is_unbalance=True,\n",
       "                                                                                random_state=10),\n",
       "                                                  cv=3, method=&#x27;isotonic&#x27;),\n",
       "                           CalibratedClassifierCV(base_estimator=LGBMClassifier(colsample_bytree=0.9037652295592555,\n",
       "                                                                                is_unbalance=True,\n",
       "                                                                                learning_rate=0.011678935028593318...\n",
       "                           CalibratedClassifierCV(base_estimator=RandomForestClassifier(class_weight=&#x27;balanced&#x27;,\n",
       "                                                                                        max_depth=12,\n",
       "                                                                                        max_features=&#x27;log2&#x27;,\n",
       "                                                                                        max_samples=0.47472594740305935,\n",
       "                                                                                        min_samples_leaf=9,\n",
       "                                                                                        min_samples_split=10,\n",
       "                                                                                        n_estimators=438,\n",
       "                                                                                        n_jobs=-1,\n",
       "                                                                                        random_state=10),\n",
       "                                                  cv=3, method=&#x27;isotonic&#x27;),\n",
       "                           CalibratedClassifierCV(base_estimator=LogisticRegression(class_weight=&#x27;balanced&#x27;,\n",
       "                                                                                    random_state=10),\n",
       "                                                  cv=3, method=&#x27;isotonic&#x27;)])</pre></div></div></div><div class=\"sk-parallel\"><div class=\"sk-parallel-item\"><div class=\"sk-item\"><div class=\"sk-label-container\"><div class=\"sk-label sk-toggleable\"><input class=\"sk-toggleable__control sk-hidden--visually\" id=\"sk-estimator-id-36\" type=\"checkbox\" ><label for=\"sk-estimator-id-36\" class=\"sk-toggleable__label sk-toggleable__label-arrow\">ens_model: LogisticRegression</label><div class=\"sk-toggleable__content\"><pre>LogisticRegression(class_weight=&#x27;balanced&#x27;, random_state=10)</pre></div></div></div><div class=\"sk-serial\"><div class=\"sk-item\"><div class=\"sk-estimator sk-toggleable\"><input class=\"sk-toggleable__control sk-hidden--visually\" id=\"sk-estimator-id-37\" type=\"checkbox\" ><label for=\"sk-estimator-id-37\" class=\"sk-toggleable__label sk-toggleable__label-arrow\">LogisticRegression</label><div class=\"sk-toggleable__content\"><pre>LogisticRegression(class_weight=&#x27;balanced&#x27;, random_state=10)</pre></div></div></div></div></div></div></div></div></div></div>"
      ],
      "text/plain": [
       "BlendingClassifier(ens_model=LogisticRegression(class_weight='balanced',\n",
       "                                                random_state=10),\n",
       "                   models=[CalibratedClassifierCV(base_estimator=LGBMClassifier(is_unbalance=True,\n",
       "                                                                                random_state=10),\n",
       "                                                  cv=3, method='isotonic'),\n",
       "                           CalibratedClassifierCV(base_estimator=LGBMClassifier(colsample_bytree=0.9037652295592555,\n",
       "                                                                                is_unbalance=True,\n",
       "                                                                                learning_rate=0.011678935028593318...\n",
       "                           CalibratedClassifierCV(base_estimator=RandomForestClassifier(class_weight='balanced',\n",
       "                                                                                        max_depth=12,\n",
       "                                                                                        max_features='log2',\n",
       "                                                                                        max_samples=0.47472594740305935,\n",
       "                                                                                        min_samples_leaf=9,\n",
       "                                                                                        min_samples_split=10,\n",
       "                                                                                        n_estimators=438,\n",
       "                                                                                        n_jobs=-1,\n",
       "                                                                                        random_state=10),\n",
       "                                                  cv=3, method='isotonic'),\n",
       "                           CalibratedClassifierCV(base_estimator=LogisticRegression(class_weight='balanced',\n",
       "                                                                                    random_state=10),\n",
       "                                                  cv=3, method='isotonic')])"
      ]
     },
     "execution_count": 126,
     "metadata": {},
     "output_type": "execute_result"
    }
   ],
   "source": [
    "blended = BlendingClassifier(models, meta_model)\n",
    "blended.fit(X=X_train_main_, y=y_train_main_, random_state=RAND)"
   ]
  },
  {
   "cell_type": "code",
   "execution_count": 127,
   "id": "ae579fd9-ca94-40b2-8ae5-80f3f163465c",
   "metadata": {},
   "outputs": [],
   "source": [
    "y_pred = blended.predict(X_test_main)\n",
    "y_score = blended.predict_proba(X_test_main)"
   ]
  },
  {
   "cell_type": "code",
   "execution_count": 128,
   "id": "34577dfb-6bc8-46c6-b229-d07701e189cd",
   "metadata": {},
   "outputs": [
    {
     "data": {
      "text/html": [
       "<div>\n",
       "<style scoped>\n",
       "    .dataframe tbody tr th:only-of-type {\n",
       "        vertical-align: middle;\n",
       "    }\n",
       "\n",
       "    .dataframe tbody tr th {\n",
       "        vertical-align: top;\n",
       "    }\n",
       "\n",
       "    .dataframe thead th {\n",
       "        text-align: right;\n",
       "    }\n",
       "</style>\n",
       "<table border=\"1\" class=\"dataframe\">\n",
       "  <thead>\n",
       "    <tr style=\"text-align: right;\">\n",
       "      <th></th>\n",
       "      <th>model</th>\n",
       "      <th>Accuracy</th>\n",
       "      <th>ROC_AUC</th>\n",
       "      <th>Precision</th>\n",
       "      <th>Recall</th>\n",
       "      <th>f1</th>\n",
       "      <th>Logloss</th>\n",
       "    </tr>\n",
       "  </thead>\n",
       "  <tbody>\n",
       "    <tr>\n",
       "      <th>0</th>\n",
       "      <td>VotingClassifier_soft</td>\n",
       "      <td>0.888006</td>\n",
       "      <td>0.868215</td>\n",
       "      <td>0.729412</td>\n",
       "      <td>0.325459</td>\n",
       "      <td>0.450091</td>\n",
       "      <td>0.278353</td>\n",
       "    </tr>\n",
       "    <tr>\n",
       "      <th>0</th>\n",
       "      <td>Hand Stacking KNN</td>\n",
       "      <td>0.843837</td>\n",
       "      <td>0.487715</td>\n",
       "      <td>0.097087</td>\n",
       "      <td>0.013123</td>\n",
       "      <td>0.023121</td>\n",
       "      <td>2.743805</td>\n",
       "    </tr>\n",
       "    <tr>\n",
       "      <th>0</th>\n",
       "      <td>Hand Stacking Log Reg</td>\n",
       "      <td>0.403807</td>\n",
       "      <td>0.313105</td>\n",
       "      <td>0.068929</td>\n",
       "      <td>0.258530</td>\n",
       "      <td>0.108840</td>\n",
       "      <td>0.697226</td>\n",
       "    </tr>\n",
       "    <tr>\n",
       "      <th>0</th>\n",
       "      <td>Auto Stacking KNN</td>\n",
       "      <td>0.879320</td>\n",
       "      <td>0.782404</td>\n",
       "      <td>0.605825</td>\n",
       "      <td>0.409449</td>\n",
       "      <td>0.488645</td>\n",
       "      <td>1.624579</td>\n",
       "    </tr>\n",
       "    <tr>\n",
       "      <th>0</th>\n",
       "      <td>Auto Stacking Log Reg</td>\n",
       "      <td>0.792645</td>\n",
       "      <td>0.867892</td>\n",
       "      <td>0.384021</td>\n",
       "      <td>0.782152</td>\n",
       "      <td>0.515125</td>\n",
       "      <td>0.458712</td>\n",
       "    </tr>\n",
       "    <tr>\n",
       "      <th>0</th>\n",
       "      <td>Blending KNN</td>\n",
       "      <td>0.862687</td>\n",
       "      <td>0.659287</td>\n",
       "      <td>0.585586</td>\n",
       "      <td>0.085302</td>\n",
       "      <td>0.148912</td>\n",
       "      <td>0.421638</td>\n",
       "    </tr>\n",
       "    <tr>\n",
       "      <th>0</th>\n",
       "      <td>Blending Log Reg</td>\n",
       "      <td>0.887082</td>\n",
       "      <td>0.684869</td>\n",
       "      <td>0.665208</td>\n",
       "      <td>0.398950</td>\n",
       "      <td>0.498769</td>\n",
       "      <td>0.575834</td>\n",
       "    </tr>\n",
       "  </tbody>\n",
       "</table>\n",
       "</div>"
      ],
      "text/plain": [
       "                   model  Accuracy   ROC_AUC  Precision    Recall        f1  \\\n",
       "0  VotingClassifier_soft  0.888006  0.868215   0.729412  0.325459  0.450091   \n",
       "0      Hand Stacking KNN  0.843837  0.487715   0.097087  0.013123  0.023121   \n",
       "0  Hand Stacking Log Reg  0.403807  0.313105   0.068929  0.258530  0.108840   \n",
       "0      Auto Stacking KNN  0.879320  0.782404   0.605825  0.409449  0.488645   \n",
       "0  Auto Stacking Log Reg  0.792645  0.867892   0.384021  0.782152  0.515125   \n",
       "0           Blending KNN  0.862687  0.659287   0.585586  0.085302  0.148912   \n",
       "0       Blending Log Reg  0.887082  0.684869   0.665208  0.398950  0.498769   \n",
       "\n",
       "    Logloss  \n",
       "0  0.278353  \n",
       "0  2.743805  \n",
       "0  0.697226  \n",
       "0  1.624579  \n",
       "0  0.458712  \n",
       "0  0.421638  \n",
       "0  0.575834  "
      ]
     },
     "execution_count": 128,
     "metadata": {},
     "output_type": "execute_result"
    }
   ],
   "source": [
    "metrics = pd.concat([metrics, get_metrics_classification(y_test_main, y_pred, y_score, name='Blending Log Reg')])\n",
    "metrics"
   ]
  },
  {
   "cell_type": "markdown",
   "id": "04af8a9d-6e0f-4d1b-ac8f-9e55cd274f00",
   "metadata": {
    "jp-MarkdownHeadingCollapsed": true
   },
   "source": [
    "# Test submission"
   ]
  },
  {
   "cell_type": "code",
   "execution_count": 310,
   "id": "f977a15d-4ec1-49fc-98ab-9297bad3f3a4",
   "metadata": {},
   "outputs": [],
   "source": [
    "test = pd.read_csv('../data/kaggle/affrica_fin_incl/Test.csv')\n",
    "checker = test.copy()\n",
    "checker.drop(columns='uniqueid', inplace=True)\n",
    "checker = pd.get_dummies(checker)\n",
    "checker[numeric_columns] = sc.transform(checker[numeric_columns])"
   ]
  },
  {
   "cell_type": "code",
   "execution_count": 315,
   "id": "8ef5dfb7-be52-42d9-a134-14c190b7429e",
   "metadata": {},
   "outputs": [],
   "source": [
    "test['bank_account'] = model6.predict(checker)\n",
    "submission = pd.DataFrame({\"uniqueid\": test[\"uniqueid\"] + \" x \" + test[\"country\"],\n",
    "                           \"bank_account\": test.bank_account})\n",
    "submission.to_csv('6_sumb.csv', index = False)"
   ]
  },
  {
   "cell_type": "code",
   "execution_count": 312,
   "id": "04c2f794-d4f8-4d2d-a4cc-0a904f19184a",
   "metadata": {},
   "outputs": [
    {
     "data": {
      "text/html": [
       "<div>\n",
       "<style scoped>\n",
       "    .dataframe tbody tr th:only-of-type {\n",
       "        vertical-align: middle;\n",
       "    }\n",
       "\n",
       "    .dataframe tbody tr th {\n",
       "        vertical-align: top;\n",
       "    }\n",
       "\n",
       "    .dataframe thead th {\n",
       "        text-align: right;\n",
       "    }\n",
       "</style>\n",
       "<table border=\"1\" class=\"dataframe\">\n",
       "  <thead>\n",
       "    <tr style=\"text-align: right;\">\n",
       "      <th></th>\n",
       "      <th>model</th>\n",
       "      <th>Accuracy</th>\n",
       "      <th>ROC_AUC</th>\n",
       "      <th>Precision</th>\n",
       "      <th>Recall</th>\n",
       "      <th>f1</th>\n",
       "      <th>Logloss</th>\n",
       "    </tr>\n",
       "  </thead>\n",
       "  <tbody>\n",
       "    <tr>\n",
       "      <th>0</th>\n",
       "      <td>LGBM Baseline</td>\n",
       "      <td>0.872875</td>\n",
       "      <td>0.799159</td>\n",
       "      <td>0.738255</td>\n",
       "      <td>0.150892</td>\n",
       "      <td>0.250569</td>\n",
       "      <td>0.385490</td>\n",
       "    </tr>\n",
       "    <tr>\n",
       "      <th>0</th>\n",
       "      <td>LGBM Tuned</td>\n",
       "      <td>0.880410</td>\n",
       "      <td>0.847495</td>\n",
       "      <td>0.772277</td>\n",
       "      <td>0.213992</td>\n",
       "      <td>0.335124</td>\n",
       "      <td>0.315372</td>\n",
       "    </tr>\n",
       "    <tr>\n",
       "      <th>0</th>\n",
       "      <td>XGB Tuned</td>\n",
       "      <td>0.861476</td>\n",
       "      <td>0.848149</td>\n",
       "      <td>0.875000</td>\n",
       "      <td>0.019204</td>\n",
       "      <td>0.037584</td>\n",
       "      <td>0.479110</td>\n",
       "    </tr>\n",
       "    <tr>\n",
       "      <th>0</th>\n",
       "      <td>Catboost Baseline</td>\n",
       "      <td>0.872295</td>\n",
       "      <td>0.838464</td>\n",
       "      <td>0.854167</td>\n",
       "      <td>0.112483</td>\n",
       "      <td>0.198788</td>\n",
       "      <td>0.377549</td>\n",
       "    </tr>\n",
       "    <tr>\n",
       "      <th>0</th>\n",
       "      <td>Rand For Tuned</td>\n",
       "      <td>0.883114</td>\n",
       "      <td>0.855856</td>\n",
       "      <td>0.632479</td>\n",
       "      <td>0.406036</td>\n",
       "      <td>0.494570</td>\n",
       "      <td>0.332283</td>\n",
       "    </tr>\n",
       "    <tr>\n",
       "      <th>0</th>\n",
       "      <td>Log Reg Baseline</td>\n",
       "      <td>0.626352</td>\n",
       "      <td>0.847655</td>\n",
       "      <td>0.257740</td>\n",
       "      <td>0.879287</td>\n",
       "      <td>0.398632</td>\n",
       "      <td>0.662171</td>\n",
       "    </tr>\n",
       "  </tbody>\n",
       "</table>\n",
       "</div>"
      ],
      "text/plain": [
       "               model  Accuracy   ROC_AUC  Precision    Recall        f1  \\\n",
       "0      LGBM Baseline  0.872875  0.799159   0.738255  0.150892  0.250569   \n",
       "0         LGBM Tuned  0.880410  0.847495   0.772277  0.213992  0.335124   \n",
       "0          XGB Tuned  0.861476  0.848149   0.875000  0.019204  0.037584   \n",
       "0  Catboost Baseline  0.872295  0.838464   0.854167  0.112483  0.198788   \n",
       "0     Rand For Tuned  0.883114  0.855856   0.632479  0.406036  0.494570   \n",
       "0   Log Reg Baseline  0.626352  0.847655   0.257740  0.879287  0.398632   \n",
       "\n",
       "    Logloss  \n",
       "0  0.385490  \n",
       "0  0.315372  \n",
       "0  0.479110  \n",
       "0  0.377549  \n",
       "0  0.332283  \n",
       "0  0.662171  "
      ]
     },
     "execution_count": 312,
     "metadata": {},
     "output_type": "execute_result"
    }
   ],
   "source": [
    "metrics_test"
   ]
  },
  {
   "cell_type": "code",
   "execution_count": null,
   "id": "42678e36-1916-4d76-9c14-8315a68366c7",
   "metadata": {},
   "outputs": [],
   "source": []
  }
 ],
 "metadata": {
  "kernelspec": {
   "display_name": "Python 3 (ipykernel)",
   "language": "python",
   "name": "python3"
  },
  "language_info": {
   "codemirror_mode": {
    "name": "ipython",
    "version": 3
   },
   "file_extension": ".py",
   "mimetype": "text/x-python",
   "name": "python",
   "nbconvert_exporter": "python",
   "pygments_lexer": "ipython3",
   "version": "3.12.1"
  }
 },
 "nbformat": 4,
 "nbformat_minor": 5
}
