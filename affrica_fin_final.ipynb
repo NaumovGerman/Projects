{
 "cells": [
  {
   "cell_type": "code",
   "execution_count": 172,
   "id": "88dcc144-4a12-4a82-b283-df77e34360ba",
   "metadata": {},
   "outputs": [],
   "source": [
    "import pandas as pd\n",
    "import numpy as np\n",
    "import seaborn as sns\n",
    "from scipy import stats\n",
    "import matplotlib.pyplot as plt\n",
    "N_FOLDS = 5\n",
    "RAND = 10\n",
    "\n",
    "from sklearn.preprocessing import LabelEncoder, MinMaxScaler, StandardScaler\n",
    "from lightgbm import LGBMClassifier\n",
    "from catboost import CatBoostClassifier\n",
    "from xgboost import XGBClassifier\n",
    "\n",
    "from sklearn.model_selection import train_test_split, StratifiedKFold, RandomizedSearchCV\n",
    "import warnings\n",
    "from warnings import simplefilter\n",
    "warnings.filterwarnings(\"ignore\")\n",
    "simplefilter(\"ignore\", category=RuntimeWarning)\n",
    "from get_metrics import get_metrics_classification, get_metrics_regression\n",
    "from sklearn.metrics import roc_auc_score, accuracy_score\n",
    "import optuna\n",
    "from tqdm import tqdm_notebook\n",
    "from sklearn.linear_model import LogisticRegression\n",
    "from sklearn.ensemble import RandomForestClassifier, VotingClassifier, StackingClassifier\n",
    "from sklearn.neighbors import KNeighborsClassifier\n",
    "from sklearn.calibration import CalibratedClassifierCV"
   ]
  },
  {
   "cell_type": "markdown",
   "id": "44e554f9-6cd2-4c18-87bb-ed8341e46f5e",
   "metadata": {
    "jp-MarkdownHeadingCollapsed": true
   },
   "source": [
    "# Preparing"
   ]
  },
  {
   "cell_type": "markdown",
   "id": "64b3857d-f0cb-4e7c-a094-8dd0d5bfa3d2",
   "metadata": {},
   "source": [
    "- country - Country interviewee is in.\n",
    "- year - Year survey was done in.\n",
    "- uniqueid - Unique identifier for each interviewee\n",
    "- location_type\t- Type of location: Rural, Urban\n",
    "- cellphone_access - If interviewee has access to a cellphone: Yes, No\n",
    "- household_size - Number of people living in one house\n",
    "- age_of_respondent - The age of the interviewee\n",
    "- gender_of_respondent - Gender of interviewee: Male, Female\n",
    "- relationship_with_head - The interviewee’s relationship with the head of the house:Head of Household, Spouse, Child, Parent, Other relative, Other non-relatives, Don't know\n",
    "- marital_status - The martial status of the interviewee: Married/Living together, Divorced/Seperated, Widowed, Single/Never Married, Don't know\n",
    "- education_level - Highest level of education: No formal education, Primary education, Secondary education, Vocational/Specialised training, Tertiary education, Other/Dont know/RTA\n",
    "- job_type - Type of job interviewee has: Farming and Fishing, Self employed, Formally employed Government, Formally employed Private, Informally employed, Remittance Dependent, Government Dependent, Other Income, No Income, Dont Know/Refuse to answerrming and Fishi..."
   ]
  },
  {
   "cell_type": "code",
   "execution_count": 48,
   "id": "00af193b-d7bb-4f49-92c6-78e1336663b5",
   "metadata": {},
   "outputs": [],
   "source": [
    "df = pd.read_csv('../data/kaggle/affrica_fin_incl/Train.csv')"
   ]
  },
  {
   "cell_type": "code",
   "execution_count": 49,
   "id": "3ff435de-a895-4d80-ac72-3de58d7bd228",
   "metadata": {},
   "outputs": [],
   "source": [
    "def check_overfitting(metric_fun,\n",
    "                      y_train,\n",
    "                      y_test,\n",
    "                      X_train=None,\n",
    "                      X_test=None,\n",
    "                      model=None,\n",
    "                      y_train_proba=None,\n",
    "                      y_test_proba=None):\n",
    "    \"\"\"\n",
    "    Проверка на overfitting\n",
    "    \"\"\"\n",
    "    if metric_fun.__name__ == 'roc_auc_score':\n",
    "        y_pred_train = model.predict_proba(X_train)[:, 1]\n",
    "        y_pred_test = model.predict_proba(X_test)[:, 1]\n",
    "    else:\n",
    "        y_pred_train = model.predict(X_train)\n",
    "        y_pred_test = model.predict(X_test)\n",
    "        \n",
    "    value_train = metric_fun(y_train, y_pred_train)\n",
    "    value_test = metric_fun(y_test, y_pred_test)\n",
    "\n",
    "    print(f'{metric_fun.__name__} train: %.3f' % value_train)\n",
    "    print(f'{metric_fun.__name__} test: %.3f' % value_test)\n",
    "    print(f'delta = {(abs(value_train - value_test)/value_test*100):.1f} %')"
   ]
  },
  {
   "cell_type": "markdown",
   "id": "de704fb8-442e-4fce-bfe5-4f6dc77d1dce",
   "metadata": {
    "jp-MarkdownHeadingCollapsed": true
   },
   "source": [
    "# Exploratory data analysis"
   ]
  },
  {
   "cell_type": "code",
   "execution_count": null,
   "id": "059e1876-0931-409a-b374-5765ff70cda4",
   "metadata": {},
   "outputs": [],
   "source": [
    "df.describe()"
   ]
  },
  {
   "cell_type": "code",
   "execution_count": null,
   "id": "9f44235e-2ceb-4e9f-8fbc-3804a552af0e",
   "metadata": {},
   "outputs": [],
   "source": [
    "df.describe(include='object')"
   ]
  },
  {
   "cell_type": "code",
   "execution_count": null,
   "id": "e4260de7-eff4-498c-9aca-8cbf07a6f96c",
   "metadata": {},
   "outputs": [],
   "source": [
    "df.info()"
   ]
  },
  {
   "cell_type": "code",
   "execution_count": null,
   "id": "9b5a6a3a-cd97-4666-a37d-8090a0e9ec85",
   "metadata": {},
   "outputs": [],
   "source": [
    "data = df['bank_account'].value_counts(normalize=True).mul(100).reset_index()\n",
    "sns.barplot(data=data, x='bank_account', y='proportion')"
   ]
  },
  {
   "cell_type": "code",
   "execution_count": null,
   "id": "24efea8e-e7bf-46db-bed0-1a6c060fd0cd",
   "metadata": {},
   "outputs": [],
   "source": [
    "data = df.groupby('country')['bank_account'].value_counts(normalize=True).mul(100).reset_index()\n",
    "plt.figure(figsize=(14, 7))\n",
    "ax = sns.barplot(data=data, x='country', y='proportion', hue='bank_account', palette='rocket')\n",
    "for p in ax.patches:\n",
    "    percentage = '{:.1f}%'.format(p.get_height())\n",
    "    ax.annotate(percentage,\n",
    "                (p.get_x() + p.get_width() / 2., p.get_height()),  \n",
    "                ha='center', \n",
    "                va='center',\n",
    "                xytext=(0, 10),\n",
    "                textcoords='offset points', \n",
    "                fontsize=14)\n",
    "\n",
    "plt.title('Country_target', fontsize=20)\n",
    "plt.xlabel('Country', fontsize=14)\n",
    "plt.ylabel('proportion', fontsize=14)\n",
    "\n",
    "plt.xticks(fontsize=14)\n",
    "plt.yticks(fontsize=14);"
   ]
  },
  {
   "cell_type": "code",
   "execution_count": null,
   "id": "d157d630-3e14-4059-a5ad-c13e9e3f15a0",
   "metadata": {},
   "outputs": [],
   "source": [
    "data = df.groupby('location_type')['bank_account'].value_counts(normalize=True).mul(100).reset_index()\n",
    "plt.figure(figsize=(12, 7))\n",
    "ax = sns.barplot(data=data, x='location_type', y='proportion', hue='bank_account', palette='rocket')\n",
    "for p in ax.patches:\n",
    "    percentage = '{:.1f}%'.format(p.get_height())\n",
    "    ax.annotate(percentage,\n",
    "                (p.get_x() + p.get_width() / 2., p.get_height()),  \n",
    "                ha='center', \n",
    "                va='center',\n",
    "                xytext=(0, 10),\n",
    "                textcoords='offset points', \n",
    "                fontsize=14)\n",
    "\n",
    "plt.title('Location_target', fontsize=20)\n",
    "plt.xlabel('location', fontsize=14)\n",
    "plt.ylabel('proportion', fontsize=14)\n",
    "\n",
    "plt.xticks(fontsize=14)\n",
    "plt.yticks(fontsize=14);\n",
    "plt.show()"
   ]
  },
  {
   "cell_type": "code",
   "execution_count": null,
   "id": "6abad61c-725f-42a8-90d6-f10b37f8b980",
   "metadata": {},
   "outputs": [],
   "source": [
    "data = df.groupby('cellphone_access')['bank_account'].value_counts(normalize=True).mul(100).reset_index()\n",
    "plt.figure(figsize=(14, 7))\n",
    "ax = sns.barplot(data=data, x='cellphone_access', y='proportion', hue='bank_account', palette='rocket')\n",
    "for p in ax.patches:\n",
    "    percentage = '{:.1f}%'.format(p.get_height())\n",
    "    ax.annotate(percentage,\n",
    "                (p.get_x() + p.get_width() / 2., p.get_height()),  \n",
    "                ha='center', \n",
    "                va='center',\n",
    "                xytext=(0, 10),\n",
    "                textcoords='offset points', \n",
    "                fontsize=14)\n",
    "\n",
    "plt.title('Country_target', fontsize=20)\n",
    "plt.xlabel('Country', fontsize=14)\n",
    "plt.ylabel('proportion', fontsize=14)\n",
    "plt.show()"
   ]
  },
  {
   "cell_type": "code",
   "execution_count": null,
   "id": "9e355839-e690-48f6-a9b2-8b59a23ffa9c",
   "metadata": {},
   "outputs": [],
   "source": [
    "data = df.groupby('job_type')['bank_account'].value_counts(normalize=True).mul(100).reset_index()\n",
    "plt.figure(figsize=(14, 7))\n",
    "ax = sns.barplot(data=data, x='proportion', y='job_type', hue='bank_account', palette='rocket')\n",
    "for p in ax.patches:\n",
    "    percentage = '{:.1f}%'.format(p.get_width())\n",
    "    ax.annotate(percentage,\n",
    "                (p.get_width(), p.get_y() + p.get_height() / 2.),  \n",
    "                ha='left', \n",
    "                va='center',\n",
    "                xytext=(10, 0),\n",
    "                textcoords='offset points', \n",
    "                fontsize=14)\n",
    "\n",
    "plt.title('Job_target', fontsize=20)\n",
    "plt.xlabel('proportion', fontsize=14)\n",
    "plt.ylabel('job', fontsize=14)\n",
    "\n",
    "plt.xticks(fontsize=14)\n",
    "plt.yticks(fontsize=14)\n",
    "plt.show()"
   ]
  },
  {
   "cell_type": "code",
   "execution_count": null,
   "id": "9c39b777-4189-4153-ba27-f2e1e93ca6c6",
   "metadata": {},
   "outputs": [],
   "source": [
    "data = df.groupby('year')['bank_account'].value_counts(normalize=True).mul(100).reset_index()\n",
    "plt.figure(figsize=(14, 7))\n",
    "ax = sns.barplot(data=data, x='year', y='proportion', hue='bank_account', palette='rocket')\n",
    "for p in ax.patches:\n",
    "    percentage = '{:.1f}%'.format(p.get_height())\n",
    "    ax.annotate(percentage,\n",
    "                (p.get_x() + p.get_width() / 2., p.get_height()),  \n",
    "                ha='center', \n",
    "                va='center',\n",
    "                xytext=(0, 10),\n",
    "                textcoords='offset points', \n",
    "                fontsize=14)\n",
    "\n",
    "plt.title('Country_target', fontsize=20)\n",
    "plt.xlabel('Country', fontsize=14)\n",
    "plt.ylabel('proportion', fontsize=14)\n",
    "plt.show()"
   ]
  },
  {
   "cell_type": "markdown",
   "id": "4f612dee-08dc-413a-ae1e-16c3a137e87e",
   "metadata": {
    "jp-MarkdownHeadingCollapsed": true
   },
   "source": [
    "# Feature engineering"
   ]
  },
  {
   "cell_type": "code",
   "execution_count": 187,
   "id": "0a9e39b5-8453-40e0-b6f3-7eab2d44123b",
   "metadata": {},
   "outputs": [
    {
     "data": {
      "text/plain": [
       "array([1, 0, 1, ..., 0, 0, 0])"
      ]
     },
     "execution_count": 187,
     "metadata": {},
     "output_type": "execute_result"
    }
   ],
   "source": [
    "y = LabelEncoder().fit_transform(df['bank_account'])\n",
    "y"
   ]
  },
  {
   "cell_type": "code",
   "execution_count": 188,
   "id": "708529c0-1c6b-401e-9825-fd9ec11659c1",
   "metadata": {},
   "outputs": [
    {
     "data": {
      "text/html": [
       "<div>\n",
       "<style scoped>\n",
       "    .dataframe tbody tr th:only-of-type {\n",
       "        vertical-align: middle;\n",
       "    }\n",
       "\n",
       "    .dataframe tbody tr th {\n",
       "        vertical-align: top;\n",
       "    }\n",
       "\n",
       "    .dataframe thead th {\n",
       "        text-align: right;\n",
       "    }\n",
       "</style>\n",
       "<table border=\"1\" class=\"dataframe\">\n",
       "  <thead>\n",
       "    <tr style=\"text-align: right;\">\n",
       "      <th></th>\n",
       "      <th>country</th>\n",
       "      <th>year</th>\n",
       "      <th>location_type</th>\n",
       "      <th>cellphone_access</th>\n",
       "      <th>household_size</th>\n",
       "      <th>age_of_respondent</th>\n",
       "      <th>gender_of_respondent</th>\n",
       "      <th>relationship_with_head</th>\n",
       "      <th>marital_status</th>\n",
       "      <th>education_level</th>\n",
       "      <th>job_type</th>\n",
       "    </tr>\n",
       "  </thead>\n",
       "  <tbody>\n",
       "    <tr>\n",
       "      <th>0</th>\n",
       "      <td>Kenya</td>\n",
       "      <td>2018</td>\n",
       "      <td>Rural</td>\n",
       "      <td>Yes</td>\n",
       "      <td>3</td>\n",
       "      <td>24</td>\n",
       "      <td>Female</td>\n",
       "      <td>Spouse</td>\n",
       "      <td>Married/Living together</td>\n",
       "      <td>Secondary education</td>\n",
       "      <td>Self employed</td>\n",
       "    </tr>\n",
       "    <tr>\n",
       "      <th>1</th>\n",
       "      <td>Kenya</td>\n",
       "      <td>2018</td>\n",
       "      <td>Rural</td>\n",
       "      <td>No</td>\n",
       "      <td>5</td>\n",
       "      <td>70</td>\n",
       "      <td>Female</td>\n",
       "      <td>Head of Household</td>\n",
       "      <td>Widowed</td>\n",
       "      <td>No formal education</td>\n",
       "      <td>Government Dependent</td>\n",
       "    </tr>\n",
       "    <tr>\n",
       "      <th>2</th>\n",
       "      <td>Kenya</td>\n",
       "      <td>2018</td>\n",
       "      <td>Urban</td>\n",
       "      <td>Yes</td>\n",
       "      <td>5</td>\n",
       "      <td>26</td>\n",
       "      <td>Male</td>\n",
       "      <td>Other relative</td>\n",
       "      <td>Single/Never Married</td>\n",
       "      <td>Vocational/Specialised training</td>\n",
       "      <td>Self employed</td>\n",
       "    </tr>\n",
       "    <tr>\n",
       "      <th>3</th>\n",
       "      <td>Kenya</td>\n",
       "      <td>2018</td>\n",
       "      <td>Rural</td>\n",
       "      <td>Yes</td>\n",
       "      <td>5</td>\n",
       "      <td>34</td>\n",
       "      <td>Female</td>\n",
       "      <td>Head of Household</td>\n",
       "      <td>Married/Living together</td>\n",
       "      <td>Primary education</td>\n",
       "      <td>Formally employed Private</td>\n",
       "    </tr>\n",
       "    <tr>\n",
       "      <th>4</th>\n",
       "      <td>Kenya</td>\n",
       "      <td>2018</td>\n",
       "      <td>Urban</td>\n",
       "      <td>No</td>\n",
       "      <td>8</td>\n",
       "      <td>26</td>\n",
       "      <td>Male</td>\n",
       "      <td>Child</td>\n",
       "      <td>Single/Never Married</td>\n",
       "      <td>Primary education</td>\n",
       "      <td>Informally employed</td>\n",
       "    </tr>\n",
       "    <tr>\n",
       "      <th>...</th>\n",
       "      <td>...</td>\n",
       "      <td>...</td>\n",
       "      <td>...</td>\n",
       "      <td>...</td>\n",
       "      <td>...</td>\n",
       "      <td>...</td>\n",
       "      <td>...</td>\n",
       "      <td>...</td>\n",
       "      <td>...</td>\n",
       "      <td>...</td>\n",
       "      <td>...</td>\n",
       "    </tr>\n",
       "    <tr>\n",
       "      <th>23519</th>\n",
       "      <td>Uganda</td>\n",
       "      <td>2018</td>\n",
       "      <td>Rural</td>\n",
       "      <td>Yes</td>\n",
       "      <td>4</td>\n",
       "      <td>48</td>\n",
       "      <td>Female</td>\n",
       "      <td>Head of Household</td>\n",
       "      <td>Divorced/Seperated</td>\n",
       "      <td>No formal education</td>\n",
       "      <td>Other Income</td>\n",
       "    </tr>\n",
       "    <tr>\n",
       "      <th>23520</th>\n",
       "      <td>Uganda</td>\n",
       "      <td>2018</td>\n",
       "      <td>Rural</td>\n",
       "      <td>Yes</td>\n",
       "      <td>2</td>\n",
       "      <td>27</td>\n",
       "      <td>Female</td>\n",
       "      <td>Head of Household</td>\n",
       "      <td>Single/Never Married</td>\n",
       "      <td>Secondary education</td>\n",
       "      <td>Other Income</td>\n",
       "    </tr>\n",
       "    <tr>\n",
       "      <th>23521</th>\n",
       "      <td>Uganda</td>\n",
       "      <td>2018</td>\n",
       "      <td>Rural</td>\n",
       "      <td>Yes</td>\n",
       "      <td>5</td>\n",
       "      <td>27</td>\n",
       "      <td>Female</td>\n",
       "      <td>Parent</td>\n",
       "      <td>Widowed</td>\n",
       "      <td>Primary education</td>\n",
       "      <td>Other Income</td>\n",
       "    </tr>\n",
       "    <tr>\n",
       "      <th>23522</th>\n",
       "      <td>Uganda</td>\n",
       "      <td>2018</td>\n",
       "      <td>Urban</td>\n",
       "      <td>Yes</td>\n",
       "      <td>7</td>\n",
       "      <td>30</td>\n",
       "      <td>Female</td>\n",
       "      <td>Parent</td>\n",
       "      <td>Divorced/Seperated</td>\n",
       "      <td>Secondary education</td>\n",
       "      <td>Self employed</td>\n",
       "    </tr>\n",
       "    <tr>\n",
       "      <th>23523</th>\n",
       "      <td>Uganda</td>\n",
       "      <td>2018</td>\n",
       "      <td>Rural</td>\n",
       "      <td>Yes</td>\n",
       "      <td>10</td>\n",
       "      <td>20</td>\n",
       "      <td>Male</td>\n",
       "      <td>Child</td>\n",
       "      <td>Single/Never Married</td>\n",
       "      <td>Secondary education</td>\n",
       "      <td>No Income</td>\n",
       "    </tr>\n",
       "  </tbody>\n",
       "</table>\n",
       "<p>23524 rows × 11 columns</p>\n",
       "</div>"
      ],
      "text/plain": [
       "      country  year location_type cellphone_access  household_size  \\\n",
       "0       Kenya  2018         Rural              Yes               3   \n",
       "1       Kenya  2018         Rural               No               5   \n",
       "2       Kenya  2018         Urban              Yes               5   \n",
       "3       Kenya  2018         Rural              Yes               5   \n",
       "4       Kenya  2018         Urban               No               8   \n",
       "...       ...   ...           ...              ...             ...   \n",
       "23519  Uganda  2018         Rural              Yes               4   \n",
       "23520  Uganda  2018         Rural              Yes               2   \n",
       "23521  Uganda  2018         Rural              Yes               5   \n",
       "23522  Uganda  2018         Urban              Yes               7   \n",
       "23523  Uganda  2018         Rural              Yes              10   \n",
       "\n",
       "       age_of_respondent gender_of_respondent relationship_with_head  \\\n",
       "0                     24               Female                 Spouse   \n",
       "1                     70               Female      Head of Household   \n",
       "2                     26                 Male         Other relative   \n",
       "3                     34               Female      Head of Household   \n",
       "4                     26                 Male                  Child   \n",
       "...                  ...                  ...                    ...   \n",
       "23519                 48               Female      Head of Household   \n",
       "23520                 27               Female      Head of Household   \n",
       "23521                 27               Female                 Parent   \n",
       "23522                 30               Female                 Parent   \n",
       "23523                 20                 Male                  Child   \n",
       "\n",
       "                marital_status                  education_level  \\\n",
       "0      Married/Living together              Secondary education   \n",
       "1                      Widowed              No formal education   \n",
       "2         Single/Never Married  Vocational/Specialised training   \n",
       "3      Married/Living together                Primary education   \n",
       "4         Single/Never Married                Primary education   \n",
       "...                        ...                              ...   \n",
       "23519       Divorced/Seperated              No formal education   \n",
       "23520     Single/Never Married              Secondary education   \n",
       "23521                  Widowed                Primary education   \n",
       "23522       Divorced/Seperated              Secondary education   \n",
       "23523     Single/Never Married              Secondary education   \n",
       "\n",
       "                        job_type  \n",
       "0                  Self employed  \n",
       "1           Government Dependent  \n",
       "2                  Self employed  \n",
       "3      Formally employed Private  \n",
       "4            Informally employed  \n",
       "...                          ...  \n",
       "23519               Other Income  \n",
       "23520               Other Income  \n",
       "23521               Other Income  \n",
       "23522              Self employed  \n",
       "23523                  No Income  \n",
       "\n",
       "[23524 rows x 11 columns]"
      ]
     },
     "execution_count": 188,
     "metadata": {},
     "output_type": "execute_result"
    }
   ],
   "source": [
    "X = df.drop(columns=['uniqueid', 'bank_account'])\n",
    "X"
   ]
  },
  {
   "cell_type": "code",
   "execution_count": 189,
   "id": "a2ea02c6-9b44-40a7-8380-cfad65200f5e",
   "metadata": {},
   "outputs": [],
   "source": [
    "X = pd.get_dummies(X)"
   ]
  },
  {
   "cell_type": "code",
   "execution_count": 190,
   "id": "000a4a4a-4dfa-454c-b944-61038983f345",
   "metadata": {},
   "outputs": [],
   "source": [
    "numeric_columns = X.select_dtypes('int').columns.to_list()\n",
    "category_columns = X.select_dtypes('object').columns.to_list()"
   ]
  },
  {
   "cell_type": "code",
   "execution_count": 205,
   "id": "874f9174-4020-4f3f-aba9-165f855c6416",
   "metadata": {},
   "outputs": [],
   "source": [
    "X_train_main, X_test_main, y_train_main, y_test_main = train_test_split(X, y, test_size=0.22, stratify=y, random_state=RAND)\n",
    "X_train_main_, X_val_main, y_train_main_, y_val_main = train_test_split(X_train_main, y_train_main, test_size=0.14, stratify=y_train_main, random_state=RAND)"
   ]
  },
  {
   "cell_type": "code",
   "execution_count": 206,
   "id": "0c0f3fab-b6df-4ff0-a130-8a852e921c60",
   "metadata": {},
   "outputs": [],
   "source": [
    "sc = StandardScaler()\n",
    "X_train_main[numeric_columns] = sc.fit_transform(X_train_main[numeric_columns])\n",
    "X_test_main[numeric_columns] = sc.transform(X_test_main[numeric_columns])"
   ]
  },
  {
   "cell_type": "code",
   "execution_count": null,
   "id": "2ebe88d7-8129-41d7-98f4-83dc640a7545",
   "metadata": {},
   "outputs": [],
   "source": [
    "# ratio = pd.Series(y_train).value_counts().iloc[0] / pd.Series(y_train).value_counts().iloc[1]"
   ]
  },
  {
   "cell_type": "code",
   "execution_count": null,
   "id": "7b330a34-a34b-44f3-9d6f-cf143dad8ccc",
   "metadata": {
    "scrolled": true
   },
   "outputs": [],
   "source": [
    "lb = LGBMClassifier(random_state=RAND)\n",
    "validation = [(X_val, y_val)]\n",
    "\n",
    "lb.fit(X_train, y_train)"
   ]
  },
  {
   "cell_type": "code",
   "execution_count": null,
   "id": "db3c1539-ae89-481b-a490-e86a870bc622",
   "metadata": {},
   "outputs": [],
   "source": [
    "y_pred = lb.predict(X_test)"
   ]
  },
  {
   "cell_type": "code",
   "execution_count": null,
   "id": "2a13f784-dadb-4d84-a528-97ffed08777e",
   "metadata": {},
   "outputs": [],
   "source": [
    "metrics = get_metrics_classification(y_train, lb.predict(X_train), lb.predict_proba(X_train), name='LGBM_Baseline_train')\n",
    "metrics = pd.concat([metrics, get_metrics_classification(y_val, lb.predict(X_val), lb.predict_proba(X_val), name='LGBM_Baseline_val')])\n",
    "metrics"
   ]
  },
  {
   "cell_type": "code",
   "execution_count": null,
   "id": "087afe61-ca63-49b3-b1d4-2e406ea88b0f",
   "metadata": {},
   "outputs": [],
   "source": [
    "category_list = X_train.select_dtypes('category').columns.to_list()"
   ]
  },
  {
   "cell_type": "code",
   "execution_count": null,
   "id": "ff145789-95d5-4673-bcc1-49bdc1e58d8c",
   "metadata": {},
   "outputs": [],
   "source": [
    "cb = CatBoostClassifier(random_state=RAND, cat_features=category_list)"
   ]
  },
  {
   "cell_type": "code",
   "execution_count": null,
   "id": "4c63d288-3931-484b-8cdc-643edf1b3aa0",
   "metadata": {},
   "outputs": [],
   "source": [
    "cb.fit(X_train, y_train, eval_set=validation, verbose=0)"
   ]
  },
  {
   "cell_type": "code",
   "execution_count": null,
   "id": "8896c758-80dd-48a5-bbb9-b273db0fc1ce",
   "metadata": {},
   "outputs": [],
   "source": [
    "metrics = pd.concat([metrics, get_metrics_classification(y_train, cb.predict(X_train), cb.predict_proba(X_train), name='CatBoost_Baseline_train')])\n",
    "metrics = pd.concat([metrics, get_metrics_classification(y_val, cb.predict(X_val), cb.predict_proba(X_val), name='CatBoost_Baseline_val')])\n",
    "metrics"
   ]
  },
  {
   "cell_type": "markdown",
   "id": "23f15020-3e33-4aee-894d-c593ab227320",
   "metadata": {
    "jp-MarkdownHeadingCollapsed": true
   },
   "source": [
    "# Training"
   ]
  },
  {
   "cell_type": "code",
   "execution_count": 194,
   "id": "cb2c3d7b-41c8-4252-ad38-82e4287c62e4",
   "metadata": {},
   "outputs": [],
   "source": [
    "models = {\n",
    "    'LGBM': LGBMClassifier(random_state=RAND, is_unbalance=True),\n",
    "    'XGB': XGBClassifier(random_state=RAND, ),\n",
    "    'CatBoost': CatBoostClassifier(random_state=RAND, auto_class_weights='Balanced', verbose=False),\n",
    "    'Rand For': RandomForestClassifier(random_state=RAND, class_weight='balanced'),\n",
    "    'Log Reg': LogisticRegression(random_state=RAND, class_weight='balanced')\n",
    "}"
   ]
  },
  {
   "cell_type": "code",
   "execution_count": 195,
   "id": "2753d282-1e50-4c1d-9cda-3f9054278105",
   "metadata": {},
   "outputs": [
    {
     "name": "stdout",
     "output_type": "stream",
     "text": [
      "Model: LGBM,  score = 0.8591809453632651\n",
      "Model: XGB,  score = 0.8482054142353297\n",
      "Model: CatBoost,  score = 0.856445596268164\n",
      "Model: Rand For,  score = 0.8026867172505355\n",
      "Model: Log Reg,  score = 0.8511730751120326\n"
     ]
    }
   ],
   "source": [
    "cv = StratifiedKFold(n_splits=N_FOLDS, shuffle=True, random_state=RAND)\n",
    "models_keys = list(models.keys())\n",
    "models_values = list(models.values())\n",
    "scores = list()\n",
    "for i in range(len(models)):\n",
    "    to_train = models_values[i]\n",
    "    fold_score = list()\n",
    "    \n",
    "    for fold, (train_idx, val_idx) in enumerate(cv.split(X_train_main, y_train_main)):\n",
    "        X_train_, X_val_ = X_train_main.iloc[train_idx], X_train_main.iloc[val_idx]\n",
    "        y_train_, y_val_ = y_train_main[train_idx], y_train_main[val_idx]\n",
    "        to_train.fit(X_train_, y_train_)\n",
    "        \n",
    "        y_score_ = to_train.predict_proba(X_val_)\n",
    "        to_append = roc_auc_score(y_val_, y_score_[:, 1])\n",
    "        fold_score.append(to_append)\n",
    "        \n",
    "    scores.append(np.mean(fold_score))\n",
    "    print(f'Model: {models_keys[i]},  score = {scores[i]}')"
   ]
  },
  {
   "cell_type": "markdown",
   "id": "d0d80e58-38bd-40b8-ba56-23e393aa870c",
   "metadata": {
    "jp-MarkdownHeadingCollapsed": true
   },
   "source": [
    "# LGBM Baseline"
   ]
  },
  {
   "cell_type": "code",
   "execution_count": 207,
   "id": "42ddb10b-c2a0-450f-972e-cd0a8ba81b50",
   "metadata": {},
   "outputs": [],
   "source": [
    "meta_X = pd.DataFrame()\n",
    "meta_X_test = pd.DataFrame()"
   ]
  },
  {
   "cell_type": "code",
   "execution_count": 212,
   "id": "6d7f3627-93ed-4f03-abda-a6af1c28c4b1",
   "metadata": {},
   "outputs": [
    {
     "name": "stdout",
     "output_type": "stream",
     "text": [
      "Fold: 1 ROC-AUC SCORE 0.857\n",
      "---\n",
      "Fold: 2 ROC-AUC SCORE 0.853\n",
      "---\n",
      "Fold: 3 ROC-AUC SCORE 0.851\n",
      "---\n",
      "Fold: 4 ROC-AUC SCORE 0.845\n",
      "---\n",
      "Fold: 5 ROC-AUC SCORE 0.853\n",
      "---\n"
     ]
    }
   ],
   "source": [
    "pred_val = []\n",
    "pred_score_val = []\n",
    "\n",
    "cv = StratifiedKFold(n_splits=N_FOLDS, shuffle=True, random_state=RAND)\n",
    "for fold, (train_idx, val_idx) in enumerate(cv.split(X_train_main_, y_train_main_)):\n",
    "    X_train_, X_val_ = X_train_main_.iloc[train_idx], X_train_main_.iloc[val_idx]\n",
    "    y_train_, y_val_ = y_train_main_[train_idx], y_train_main_[val_idx]\n",
    "\n",
    "    model1 = LGBMClassifier(random_state=RAND, is_unbalance=True)\n",
    "    model1.fit(X_train_, y_train_, verbose=0)\n",
    "\n",
    "    y_pred_val = model1.predict(X_val_)\n",
    "    y_score_val = model1.predict_proba(X_val_)\n",
    "\n",
    "    print(\"Fold:\", fold + 1, \"ROC-AUC SCORE %.3f\" % roc_auc_score(y_val_, y_score_val[:, 1]))\n",
    "    print(\"---\")\n",
    "\n",
    "    pred_val.append(y_pred_val)\n",
    "    pred_score_val.append(y_score_val)\n",
    "\n",
    "model1.fit(X_train_main_, y_train_main_)\n",
    "\n",
    "meta_X['lgb_base'] = np.concatenate(pred_score_val)[:, 1]\n",
    "meta_X_test['lgb_base'] = model1.predict_proba(X_val_main)[:, 1]"
   ]
  },
  {
   "cell_type": "code",
   "execution_count": 215,
   "id": "c1087076-fcf5-4d5e-87e1-1cb54ec1867b",
   "metadata": {},
   "outputs": [
    {
     "data": {
      "text/html": [
       "<div>\n",
       "<style scoped>\n",
       "    .dataframe tbody tr th:only-of-type {\n",
       "        vertical-align: middle;\n",
       "    }\n",
       "\n",
       "    .dataframe tbody tr th {\n",
       "        vertical-align: top;\n",
       "    }\n",
       "\n",
       "    .dataframe thead th {\n",
       "        text-align: right;\n",
       "    }\n",
       "</style>\n",
       "<table border=\"1\" class=\"dataframe\">\n",
       "  <thead>\n",
       "    <tr style=\"text-align: right;\">\n",
       "      <th></th>\n",
       "      <th>model</th>\n",
       "      <th>Accuracy</th>\n",
       "      <th>ROC_AUC</th>\n",
       "      <th>Precision</th>\n",
       "      <th>Recall</th>\n",
       "      <th>f1</th>\n",
       "      <th>Logloss</th>\n",
       "    </tr>\n",
       "  </thead>\n",
       "  <tbody>\n",
       "    <tr>\n",
       "      <th>0</th>\n",
       "      <td>LGBM Baseline</td>\n",
       "      <td>0.805372</td>\n",
       "      <td>0.866423</td>\n",
       "      <td>0.401429</td>\n",
       "      <td>0.776243</td>\n",
       "      <td>0.52919</td>\n",
       "      <td>0.428424</td>\n",
       "    </tr>\n",
       "  </tbody>\n",
       "</table>\n",
       "</div>"
      ],
      "text/plain": [
       "           model  Accuracy   ROC_AUC  Precision    Recall       f1   Logloss\n",
       "0  LGBM Baseline  0.805372  0.866423   0.401429  0.776243  0.52919  0.428424"
      ]
     },
     "execution_count": 215,
     "metadata": {},
     "output_type": "execute_result"
    }
   ],
   "source": [
    "metrics_val = get_metrics_classification(y_val_main, model1.predict(X_val_main), model1.predict_proba(X_val_main), name='LGBM Baseline')\n",
    "metrics_val"
   ]
  },
  {
   "cell_type": "code",
   "execution_count": 216,
   "id": "5d2b732b-08ee-401c-9970-03aac69c26d3",
   "metadata": {},
   "outputs": [
    {
     "data": {
      "text/html": [
       "<div>\n",
       "<style scoped>\n",
       "    .dataframe tbody tr th:only-of-type {\n",
       "        vertical-align: middle;\n",
       "    }\n",
       "\n",
       "    .dataframe tbody tr th {\n",
       "        vertical-align: top;\n",
       "    }\n",
       "\n",
       "    .dataframe thead th {\n",
       "        text-align: right;\n",
       "    }\n",
       "</style>\n",
       "<table border=\"1\" class=\"dataframe\">\n",
       "  <thead>\n",
       "    <tr style=\"text-align: right;\">\n",
       "      <th></th>\n",
       "      <th>model</th>\n",
       "      <th>Accuracy</th>\n",
       "      <th>ROC_AUC</th>\n",
       "      <th>Precision</th>\n",
       "      <th>Recall</th>\n",
       "      <th>f1</th>\n",
       "      <th>Logloss</th>\n",
       "    </tr>\n",
       "  </thead>\n",
       "  <tbody>\n",
       "    <tr>\n",
       "      <th>0</th>\n",
       "      <td>LGBM Baseline</td>\n",
       "      <td>0.872875</td>\n",
       "      <td>0.799159</td>\n",
       "      <td>0.738255</td>\n",
       "      <td>0.150892</td>\n",
       "      <td>0.250569</td>\n",
       "      <td>0.38549</td>\n",
       "    </tr>\n",
       "  </tbody>\n",
       "</table>\n",
       "</div>"
      ],
      "text/plain": [
       "           model  Accuracy   ROC_AUC  Precision    Recall        f1  Logloss\n",
       "0  LGBM Baseline  0.872875  0.799159   0.738255  0.150892  0.250569  0.38549"
      ]
     },
     "execution_count": 216,
     "metadata": {},
     "output_type": "execute_result"
    }
   ],
   "source": [
    "metrics_test = get_metrics_classification(y_test_main, model1.predict(X_test_main), model1.predict_proba(X_test_main), name='LGBM Baseline')\n",
    "metrics_test"
   ]
  },
  {
   "cell_type": "markdown",
   "id": "aca2e30f-6632-4758-8598-7c520091cbda",
   "metadata": {
    "jp-MarkdownHeadingCollapsed": true
   },
   "source": [
    "# LGBM Tuned"
   ]
  },
  {
   "cell_type": "code",
   "execution_count": 217,
   "id": "f17ffffa-f985-475c-b4fc-bf437258cf0b",
   "metadata": {
    "scrolled": true
   },
   "outputs": [
    {
     "name": "stderr",
     "output_type": "stream",
     "text": [
      "[I 2024-03-21 14:30:21,083] A new study created in memory with name: no-name-a9c0ddb2-9571-422e-84d4-20f6b5ab6d85\n"
     ]
    },
    {
     "data": {
      "application/vnd.jupyter.widget-view+json": {
       "model_id": "a89ecafa90a94d0ca336022b02dea68f",
       "version_major": 2,
       "version_minor": 0
      },
      "text/plain": [
       "  0%|          | 0/25 [00:00<?, ?it/s]"
      ]
     },
     "metadata": {},
     "output_type": "display_data"
    },
    {
     "name": "stdout",
     "output_type": "stream",
     "text": [
      "[I 2024-03-21 14:30:22,059] Trial 0 finished with value: 0.8606993819264169 and parameters: {'n_estimators': 503, 'learning_rate': 0.0012075736692147218, 'max_depth': 8, 'num_leaves': 75, 'subsample': 0.6924916232236012, 'colsample_bytree': 0.9448412246865348}. Best is trial 0 with value: 0.8606993819264169.\n",
      "[I 2024-03-21 14:30:22,863] Trial 1 finished with value: 0.8644318554473838 and parameters: {'n_estimators': 410, 'learning_rate': 0.020609589795782153, 'max_depth': 8, 'num_leaves': 527, 'subsample': 0.705177637398434, 'colsample_bytree': 0.7802308096289293}. Best is trial 1 with value: 0.8644318554473838.\n",
      "[I 2024-03-21 14:30:23,677] Trial 2 finished with value: 0.8345770739510397 and parameters: {'n_estimators': 515, 'learning_rate': 0.09539917853041081, 'max_depth': 8, 'num_leaves': 111, 'subsample': 0.9515533731771788, 'colsample_bytree': 0.7524383521653442}. Best is trial 1 with value: 0.8644318554473838.\n",
      "[I 2024-03-21 14:30:25,219] Trial 3 finished with value: 0.8678645545188964 and parameters: {'n_estimators': 407, 'learning_rate': 0.004995705196606606, 'max_depth': 9, 'num_leaves': 776, 'subsample': 0.5382819647382875, 'colsample_bytree': 0.5235101190193748}. Best is trial 3 with value: 0.8678645545188964.\n",
      "[I 2024-03-21 14:30:25,486] Trial 4 finished with value: 0.8522975615006996 and parameters: {'n_estimators': 417, 'learning_rate': 0.006319327115667419, 'max_depth': 3, 'num_leaves': 110, 'subsample': 0.9263360533228386, 'colsample_bytree': 0.5452194928543366}. Best is trial 3 with value: 0.8678645545188964.\n",
      "[I 2024-03-21 14:30:25,940] Trial 5 finished with value: 0.8495282463883126 and parameters: {'n_estimators': 667, 'learning_rate': 0.0010202241583434975, 'max_depth': 4, 'num_leaves': 396, 'subsample': 0.5758722979624622, 'colsample_bytree': 0.6546175794765348}. Best is trial 3 with value: 0.8678645545188964.\n",
      "[I 2024-03-21 14:30:26,906] Trial 6 finished with value: 0.8477746597340956 and parameters: {'n_estimators': 731, 'learning_rate': 0.06230651383273171, 'max_depth': 7, 'num_leaves': 789, 'subsample': 0.814692492014188, 'colsample_bytree': 0.5891695118965613}. Best is trial 3 with value: 0.8678645545188964.\n",
      "[I 2024-03-21 14:30:28,835] Trial 7 finished with value: 0.8613633917194662 and parameters: {'n_estimators': 461, 'learning_rate': 0.0019220333722225046, 'max_depth': 9, 'num_leaves': 908, 'subsample': 0.7554646964902134, 'colsample_bytree': 0.9971674167107236}. Best is trial 3 with value: 0.8678645545188964.\n",
      "[I 2024-03-21 14:30:29,238] Trial 8 finished with value: 0.8612601291220551 and parameters: {'n_estimators': 898, 'learning_rate': 0.04959129836561026, 'max_depth': 3, 'num_leaves': 647, 'subsample': 0.9476895629998381, 'colsample_bytree': 0.8870734136361385}. Best is trial 3 with value: 0.8678645545188964.\n",
      "[I 2024-03-21 14:30:29,991] Trial 9 finished with value: 0.8546025078416991 and parameters: {'n_estimators': 861, 'learning_rate': 0.0017203459882324315, 'max_depth': 5, 'num_leaves': 824, 'subsample': 0.8084908955559773, 'colsample_bytree': 0.777316753648789}. Best is trial 3 with value: 0.8678645545188964.\n",
      "[I 2024-03-21 14:30:30,936] Trial 10 finished with value: 0.8100744241702068 and parameters: {'n_estimators': 302, 'learning_rate': 0.2794576887392552, 'max_depth': 10, 'num_leaves': 350, 'subsample': 0.5189874921950195, 'colsample_bytree': 0.5161482759331533}. Best is trial 3 with value: 0.8678645545188964.\n",
      "[I 2024-03-21 14:30:32,439] Trial 11 finished with value: 0.8659563868855249 and parameters: {'n_estimators': 330, 'learning_rate': 0.00918197766504457, 'max_depth': 10, 'num_leaves': 606, 'subsample': 0.6362922773796917, 'colsample_bytree': 0.6607046242655643}. Best is trial 3 with value: 0.8678645545188964.\n",
      "[I 2024-03-21 14:30:34,152] Trial 12 finished with value: 0.8661816870980581 and parameters: {'n_estimators': 301, 'learning_rate': 0.00638082298503729, 'max_depth': 10, 'num_leaves': 996, 'subsample': 0.6126596537610411, 'colsample_bytree': 0.6461958138322124}. Best is trial 3 with value: 0.8678645545188964.\n",
      "[I 2024-03-21 14:30:37,287] Trial 13 finished with value: 0.8662192371334805 and parameters: {'n_estimators': 599, 'learning_rate': 0.003898073644268103, 'max_depth': 10, 'num_leaves': 995, 'subsample': 0.5174833848625701, 'colsample_bytree': 0.6288808827250797}. Best is trial 3 with value: 0.8678645545188964.\n",
      "[I 2024-03-21 14:30:38,093] Trial 14 finished with value: 0.8621356707813161 and parameters: {'n_estimators': 627, 'learning_rate': 0.0038812984160556604, 'max_depth': 6, 'num_leaves': 758, 'subsample': 0.5249756945243469, 'colsample_bytree': 0.5898353334940349}. Best is trial 3 with value: 0.8678645545188964.\n",
      "[I 2024-03-21 14:30:39,913] Trial 15 finished with value: 0.8544723343855686 and parameters: {'n_estimators': 760, 'learning_rate': 0.019090879842854448, 'max_depth': 9, 'num_leaves': 997, 'subsample': 0.5068449857794631, 'colsample_bytree': 0.6953652065730057}. Best is trial 3 with value: 0.8678645545188964.\n",
      "[I 2024-03-21 14:30:42,087] Trial 16 finished with value: 0.8682269123607206 and parameters: {'n_estimators': 575, 'learning_rate': 0.0027213754476726384, 'max_depth': 9, 'num_leaves': 698, 'subsample': 0.5809036581178155, 'colsample_bytree': 0.5010681356698323}. Best is trial 16 with value: 0.8682269123607206.\n",
      "[I 2024-03-21 14:30:43,184] Trial 17 finished with value: 0.8652441878803506 and parameters: {'n_estimators': 560, 'learning_rate': 0.0027573582021527846, 'max_depth': 7, 'num_leaves': 688, 'subsample': 0.5836117536849429, 'colsample_bytree': 0.5179092279240194}. Best is trial 16 with value: 0.8682269123607206.\n",
      "[I 2024-03-21 14:30:44,495] Trial 18 finished with value: 0.8659964402566419 and parameters: {'n_estimators': 365, 'learning_rate': 0.011949656687298324, 'max_depth': 9, 'num_leaves': 449, 'subsample': 0.6483400746031647, 'colsample_bytree': 0.8484580105373263}. Best is trial 16 with value: 0.8682269123607206.\n",
      "[I 2024-03-21 14:30:45,308] Trial 19 finished with value: 0.8592768614178392 and parameters: {'n_estimators': 710, 'learning_rate': 0.02988192478873264, 'max_depth': 6, 'num_leaves': 537, 'subsample': 0.5682755288208348, 'colsample_bytree': 0.5716405860924644}. Best is trial 16 with value: 0.8682269123607206.\n",
      "[I 2024-03-21 14:30:46,632] Trial 20 finished with value: 0.8680717055476422 and parameters: {'n_estimators': 545, 'learning_rate': 0.0048595284348894735, 'max_depth': 8, 'num_leaves': 230, 'subsample': 0.6844209042080156, 'colsample_bytree': 0.501883639845265}. Best is trial 16 with value: 0.8682269123607206.\n",
      "[I 2024-03-21 14:30:48,060] Trial 21 finished with value: 0.8680372846818385 and parameters: {'n_estimators': 529, 'learning_rate': 0.004533918250091796, 'max_depth': 8, 'num_leaves': 283, 'subsample': 0.6939324206146795, 'colsample_bytree': 0.5055035424180114}. Best is trial 16 with value: 0.8682269123607206.\n",
      "[I 2024-03-21 14:30:49,618] Trial 22 finished with value: 0.8678576703457357 and parameters: {'n_estimators': 550, 'learning_rate': 0.0029401966482565933, 'max_depth': 8, 'num_leaves': 243, 'subsample': 0.6990090779835397, 'colsample_bytree': 0.5014732265595261}. Best is trial 16 with value: 0.8682269123607206.\n",
      "[I 2024-03-21 14:30:50,574] Trial 23 finished with value: 0.8667130200992823 and parameters: {'n_estimators': 610, 'learning_rate': 0.008923087019178303, 'max_depth': 7, 'num_leaves': 245, 'subsample': 0.7636202326484696, 'colsample_bytree': 0.5715144564369777}. Best is trial 16 with value: 0.8682269123607206.\n",
      "[I 2024-03-21 14:30:51,960] Trial 24 finished with value: 0.8653267979582794 and parameters: {'n_estimators': 493, 'learning_rate': 0.0019244493227642023, 'max_depth': 8, 'num_leaves': 255, 'subsample': 0.6626350172461747, 'colsample_bytree': 0.707751889858345}. Best is trial 16 with value: 0.8682269123607206.\n"
     ]
    }
   ],
   "source": [
    "def objective_lgb(trial, random_state):\n",
    "    lgb_params = {\n",
    "        'n_estimators': trial.suggest_int('n_estimators', 300, 900),\n",
    "        \"learning_rate\": trial.suggest_float(\"learning_rate\", 0.001, 0.3, log=True),\n",
    "        'max_depth': trial.suggest_int('max_depth', 3, 10),\n",
    "        'num_leaves': trial.suggest_int('num_leaves', 10, 1000),\n",
    "        'subsample': trial.suggest_uniform('subsample', 0.5, 1.0),\n",
    "        'colsample_bytree': trial.suggest_uniform('colsample_bytree', 0.5, 1.0)\n",
    "    }\n",
    "\n",
    "    model = LGBMClassifier(**lgb_params, is_unbalance=True, random_state=RAND, metric='AUC')\n",
    "    model.fit(X_train_main_, y_train_main_, verbose=0)\n",
    "\n",
    "    preds = model.predict_proba(X_val_main)[:, 1]\n",
    "    score = roc_auc_score(y_val_main, preds)\n",
    "    return score\n",
    "\n",
    "study = optuna.create_study(direction=\"maximize\")\n",
    "pointer = lambda trial: objective_lgb(trial, random_state=RAND)\n",
    "study.optimize(pointer, n_trials=25, show_progress_bar=True)"
   ]
  },
  {
   "cell_type": "code",
   "execution_count": 218,
   "id": "88268041-57a6-4f18-996d-5636db5d554d",
   "metadata": {},
   "outputs": [
    {
     "data": {
      "text/plain": [
       "{'n_estimators': 575,\n",
       " 'learning_rate': 0.0027213754476726384,\n",
       " 'max_depth': 9,\n",
       " 'num_leaves': 698,\n",
       " 'subsample': 0.5809036581178155,\n",
       " 'colsample_bytree': 0.5010681356698323}"
      ]
     },
     "execution_count": 218,
     "metadata": {},
     "output_type": "execute_result"
    }
   ],
   "source": [
    "study.best_params"
   ]
  },
  {
   "cell_type": "markdown",
   "id": "72abc093-687e-4b63-9034-e6afe5eedcb0",
   "metadata": {},
   "source": [
    "Saved:\n",
    "{'n_estimators': 575,\n",
    " 'learning_rate': 0.0027213754476726384,\n",
    " 'max_depth': 9,\n",
    " 'num_leaves': 698,\n",
    " 'subsample': 0.5809036581178155,\n",
    " 'colsample_bytree': 0.5010681356698323}"
   ]
  },
  {
   "cell_type": "code",
   "execution_count": 219,
   "id": "1f35a296-6a2f-4736-8f73-a6be0c89fe1e",
   "metadata": {},
   "outputs": [
    {
     "data": {
      "application/vnd.plotly.v1+json": {
       "config": {
        "plotlyServerURL": "https://plot.ly"
       },
       "data": [
        {
         "mode": "markers",
         "name": "Objective Value",
         "type": "scatter",
         "x": [
          0,
          1,
          2,
          3,
          4,
          5,
          6,
          7,
          8,
          9,
          10,
          11,
          12,
          13,
          14,
          15,
          16,
          17,
          18,
          19,
          20,
          21,
          22,
          23,
          24
         ],
         "y": [
          0.8606993819264169,
          0.8644318554473838,
          0.8345770739510397,
          0.8678645545188964,
          0.8522975615006996,
          0.8495282463883126,
          0.8477746597340956,
          0.8613633917194662,
          0.8612601291220551,
          0.8546025078416991,
          0.8100744241702068,
          0.8659563868855249,
          0.8661816870980581,
          0.8662192371334805,
          0.8621356707813161,
          0.8544723343855686,
          0.8682269123607206,
          0.8652441878803506,
          0.8659964402566419,
          0.8592768614178392,
          0.8680717055476422,
          0.8680372846818385,
          0.8678576703457357,
          0.8667130200992823,
          0.8653267979582794
         ]
        },
        {
         "mode": "lines",
         "name": "Best Value",
         "type": "scatter",
         "x": [
          0,
          1,
          2,
          3,
          4,
          5,
          6,
          7,
          8,
          9,
          10,
          11,
          12,
          13,
          14,
          15,
          16,
          17,
          18,
          19,
          20,
          21,
          22,
          23,
          24
         ],
         "y": [
          0.8606993819264169,
          0.8644318554473838,
          0.8644318554473838,
          0.8678645545188964,
          0.8678645545188964,
          0.8678645545188964,
          0.8678645545188964,
          0.8678645545188964,
          0.8678645545188964,
          0.8678645545188964,
          0.8678645545188964,
          0.8678645545188964,
          0.8678645545188964,
          0.8678645545188964,
          0.8678645545188964,
          0.8678645545188964,
          0.8682269123607206,
          0.8682269123607206,
          0.8682269123607206,
          0.8682269123607206,
          0.8682269123607206,
          0.8682269123607206,
          0.8682269123607206,
          0.8682269123607206,
          0.8682269123607206
         ]
        },
        {
         "marker": {
          "color": "#cccccc"
         },
         "mode": "markers",
         "name": "Infeasible Trial",
         "showlegend": false,
         "type": "scatter",
         "x": [],
         "y": []
        }
       ],
       "layout": {
        "autosize": true,
        "template": {
         "data": {
          "bar": [
           {
            "error_x": {
             "color": "#2a3f5f"
            },
            "error_y": {
             "color": "#2a3f5f"
            },
            "marker": {
             "line": {
              "color": "#E5ECF6",
              "width": 0.5
             },
             "pattern": {
              "fillmode": "overlay",
              "size": 10,
              "solidity": 0.2
             }
            },
            "type": "bar"
           }
          ],
          "barpolar": [
           {
            "marker": {
             "line": {
              "color": "#E5ECF6",
              "width": 0.5
             },
             "pattern": {
              "fillmode": "overlay",
              "size": 10,
              "solidity": 0.2
             }
            },
            "type": "barpolar"
           }
          ],
          "carpet": [
           {
            "aaxis": {
             "endlinecolor": "#2a3f5f",
             "gridcolor": "white",
             "linecolor": "white",
             "minorgridcolor": "white",
             "startlinecolor": "#2a3f5f"
            },
            "baxis": {
             "endlinecolor": "#2a3f5f",
             "gridcolor": "white",
             "linecolor": "white",
             "minorgridcolor": "white",
             "startlinecolor": "#2a3f5f"
            },
            "type": "carpet"
           }
          ],
          "choropleth": [
           {
            "colorbar": {
             "outlinewidth": 0,
             "ticks": ""
            },
            "type": "choropleth"
           }
          ],
          "contour": [
           {
            "colorbar": {
             "outlinewidth": 0,
             "ticks": ""
            },
            "colorscale": [
             [
              0,
              "#0d0887"
             ],
             [
              0.1111111111111111,
              "#46039f"
             ],
             [
              0.2222222222222222,
              "#7201a8"
             ],
             [
              0.3333333333333333,
              "#9c179e"
             ],
             [
              0.4444444444444444,
              "#bd3786"
             ],
             [
              0.5555555555555556,
              "#d8576b"
             ],
             [
              0.6666666666666666,
              "#ed7953"
             ],
             [
              0.7777777777777778,
              "#fb9f3a"
             ],
             [
              0.8888888888888888,
              "#fdca26"
             ],
             [
              1,
              "#f0f921"
             ]
            ],
            "type": "contour"
           }
          ],
          "contourcarpet": [
           {
            "colorbar": {
             "outlinewidth": 0,
             "ticks": ""
            },
            "type": "contourcarpet"
           }
          ],
          "heatmap": [
           {
            "colorbar": {
             "outlinewidth": 0,
             "ticks": ""
            },
            "colorscale": [
             [
              0,
              "#0d0887"
             ],
             [
              0.1111111111111111,
              "#46039f"
             ],
             [
              0.2222222222222222,
              "#7201a8"
             ],
             [
              0.3333333333333333,
              "#9c179e"
             ],
             [
              0.4444444444444444,
              "#bd3786"
             ],
             [
              0.5555555555555556,
              "#d8576b"
             ],
             [
              0.6666666666666666,
              "#ed7953"
             ],
             [
              0.7777777777777778,
              "#fb9f3a"
             ],
             [
              0.8888888888888888,
              "#fdca26"
             ],
             [
              1,
              "#f0f921"
             ]
            ],
            "type": "heatmap"
           }
          ],
          "heatmapgl": [
           {
            "colorbar": {
             "outlinewidth": 0,
             "ticks": ""
            },
            "colorscale": [
             [
              0,
              "#0d0887"
             ],
             [
              0.1111111111111111,
              "#46039f"
             ],
             [
              0.2222222222222222,
              "#7201a8"
             ],
             [
              0.3333333333333333,
              "#9c179e"
             ],
             [
              0.4444444444444444,
              "#bd3786"
             ],
             [
              0.5555555555555556,
              "#d8576b"
             ],
             [
              0.6666666666666666,
              "#ed7953"
             ],
             [
              0.7777777777777778,
              "#fb9f3a"
             ],
             [
              0.8888888888888888,
              "#fdca26"
             ],
             [
              1,
              "#f0f921"
             ]
            ],
            "type": "heatmapgl"
           }
          ],
          "histogram": [
           {
            "marker": {
             "pattern": {
              "fillmode": "overlay",
              "size": 10,
              "solidity": 0.2
             }
            },
            "type": "histogram"
           }
          ],
          "histogram2d": [
           {
            "colorbar": {
             "outlinewidth": 0,
             "ticks": ""
            },
            "colorscale": [
             [
              0,
              "#0d0887"
             ],
             [
              0.1111111111111111,
              "#46039f"
             ],
             [
              0.2222222222222222,
              "#7201a8"
             ],
             [
              0.3333333333333333,
              "#9c179e"
             ],
             [
              0.4444444444444444,
              "#bd3786"
             ],
             [
              0.5555555555555556,
              "#d8576b"
             ],
             [
              0.6666666666666666,
              "#ed7953"
             ],
             [
              0.7777777777777778,
              "#fb9f3a"
             ],
             [
              0.8888888888888888,
              "#fdca26"
             ],
             [
              1,
              "#f0f921"
             ]
            ],
            "type": "histogram2d"
           }
          ],
          "histogram2dcontour": [
           {
            "colorbar": {
             "outlinewidth": 0,
             "ticks": ""
            },
            "colorscale": [
             [
              0,
              "#0d0887"
             ],
             [
              0.1111111111111111,
              "#46039f"
             ],
             [
              0.2222222222222222,
              "#7201a8"
             ],
             [
              0.3333333333333333,
              "#9c179e"
             ],
             [
              0.4444444444444444,
              "#bd3786"
             ],
             [
              0.5555555555555556,
              "#d8576b"
             ],
             [
              0.6666666666666666,
              "#ed7953"
             ],
             [
              0.7777777777777778,
              "#fb9f3a"
             ],
             [
              0.8888888888888888,
              "#fdca26"
             ],
             [
              1,
              "#f0f921"
             ]
            ],
            "type": "histogram2dcontour"
           }
          ],
          "mesh3d": [
           {
            "colorbar": {
             "outlinewidth": 0,
             "ticks": ""
            },
            "type": "mesh3d"
           }
          ],
          "parcoords": [
           {
            "line": {
             "colorbar": {
              "outlinewidth": 0,
              "ticks": ""
             }
            },
            "type": "parcoords"
           }
          ],
          "pie": [
           {
            "automargin": true,
            "type": "pie"
           }
          ],
          "scatter": [
           {
            "fillpattern": {
             "fillmode": "overlay",
             "size": 10,
             "solidity": 0.2
            },
            "type": "scatter"
           }
          ],
          "scatter3d": [
           {
            "line": {
             "colorbar": {
              "outlinewidth": 0,
              "ticks": ""
             }
            },
            "marker": {
             "colorbar": {
              "outlinewidth": 0,
              "ticks": ""
             }
            },
            "type": "scatter3d"
           }
          ],
          "scattercarpet": [
           {
            "marker": {
             "colorbar": {
              "outlinewidth": 0,
              "ticks": ""
             }
            },
            "type": "scattercarpet"
           }
          ],
          "scattergeo": [
           {
            "marker": {
             "colorbar": {
              "outlinewidth": 0,
              "ticks": ""
             }
            },
            "type": "scattergeo"
           }
          ],
          "scattergl": [
           {
            "marker": {
             "colorbar": {
              "outlinewidth": 0,
              "ticks": ""
             }
            },
            "type": "scattergl"
           }
          ],
          "scattermapbox": [
           {
            "marker": {
             "colorbar": {
              "outlinewidth": 0,
              "ticks": ""
             }
            },
            "type": "scattermapbox"
           }
          ],
          "scatterpolar": [
           {
            "marker": {
             "colorbar": {
              "outlinewidth": 0,
              "ticks": ""
             }
            },
            "type": "scatterpolar"
           }
          ],
          "scatterpolargl": [
           {
            "marker": {
             "colorbar": {
              "outlinewidth": 0,
              "ticks": ""
             }
            },
            "type": "scatterpolargl"
           }
          ],
          "scatterternary": [
           {
            "marker": {
             "colorbar": {
              "outlinewidth": 0,
              "ticks": ""
             }
            },
            "type": "scatterternary"
           }
          ],
          "surface": [
           {
            "colorbar": {
             "outlinewidth": 0,
             "ticks": ""
            },
            "colorscale": [
             [
              0,
              "#0d0887"
             ],
             [
              0.1111111111111111,
              "#46039f"
             ],
             [
              0.2222222222222222,
              "#7201a8"
             ],
             [
              0.3333333333333333,
              "#9c179e"
             ],
             [
              0.4444444444444444,
              "#bd3786"
             ],
             [
              0.5555555555555556,
              "#d8576b"
             ],
             [
              0.6666666666666666,
              "#ed7953"
             ],
             [
              0.7777777777777778,
              "#fb9f3a"
             ],
             [
              0.8888888888888888,
              "#fdca26"
             ],
             [
              1,
              "#f0f921"
             ]
            ],
            "type": "surface"
           }
          ],
          "table": [
           {
            "cells": {
             "fill": {
              "color": "#EBF0F8"
             },
             "line": {
              "color": "white"
             }
            },
            "header": {
             "fill": {
              "color": "#C8D4E3"
             },
             "line": {
              "color": "white"
             }
            },
            "type": "table"
           }
          ]
         },
         "layout": {
          "annotationdefaults": {
           "arrowcolor": "#2a3f5f",
           "arrowhead": 0,
           "arrowwidth": 1
          },
          "autotypenumbers": "strict",
          "coloraxis": {
           "colorbar": {
            "outlinewidth": 0,
            "ticks": ""
           }
          },
          "colorscale": {
           "diverging": [
            [
             0,
             "#8e0152"
            ],
            [
             0.1,
             "#c51b7d"
            ],
            [
             0.2,
             "#de77ae"
            ],
            [
             0.3,
             "#f1b6da"
            ],
            [
             0.4,
             "#fde0ef"
            ],
            [
             0.5,
             "#f7f7f7"
            ],
            [
             0.6,
             "#e6f5d0"
            ],
            [
             0.7,
             "#b8e186"
            ],
            [
             0.8,
             "#7fbc41"
            ],
            [
             0.9,
             "#4d9221"
            ],
            [
             1,
             "#276419"
            ]
           ],
           "sequential": [
            [
             0,
             "#0d0887"
            ],
            [
             0.1111111111111111,
             "#46039f"
            ],
            [
             0.2222222222222222,
             "#7201a8"
            ],
            [
             0.3333333333333333,
             "#9c179e"
            ],
            [
             0.4444444444444444,
             "#bd3786"
            ],
            [
             0.5555555555555556,
             "#d8576b"
            ],
            [
             0.6666666666666666,
             "#ed7953"
            ],
            [
             0.7777777777777778,
             "#fb9f3a"
            ],
            [
             0.8888888888888888,
             "#fdca26"
            ],
            [
             1,
             "#f0f921"
            ]
           ],
           "sequentialminus": [
            [
             0,
             "#0d0887"
            ],
            [
             0.1111111111111111,
             "#46039f"
            ],
            [
             0.2222222222222222,
             "#7201a8"
            ],
            [
             0.3333333333333333,
             "#9c179e"
            ],
            [
             0.4444444444444444,
             "#bd3786"
            ],
            [
             0.5555555555555556,
             "#d8576b"
            ],
            [
             0.6666666666666666,
             "#ed7953"
            ],
            [
             0.7777777777777778,
             "#fb9f3a"
            ],
            [
             0.8888888888888888,
             "#fdca26"
            ],
            [
             1,
             "#f0f921"
            ]
           ]
          },
          "colorway": [
           "#636efa",
           "#EF553B",
           "#00cc96",
           "#ab63fa",
           "#FFA15A",
           "#19d3f3",
           "#FF6692",
           "#B6E880",
           "#FF97FF",
           "#FECB52"
          ],
          "font": {
           "color": "#2a3f5f"
          },
          "geo": {
           "bgcolor": "white",
           "lakecolor": "white",
           "landcolor": "#E5ECF6",
           "showlakes": true,
           "showland": true,
           "subunitcolor": "white"
          },
          "hoverlabel": {
           "align": "left"
          },
          "hovermode": "closest",
          "mapbox": {
           "style": "light"
          },
          "paper_bgcolor": "white",
          "plot_bgcolor": "#E5ECF6",
          "polar": {
           "angularaxis": {
            "gridcolor": "white",
            "linecolor": "white",
            "ticks": ""
           },
           "bgcolor": "#E5ECF6",
           "radialaxis": {
            "gridcolor": "white",
            "linecolor": "white",
            "ticks": ""
           }
          },
          "scene": {
           "xaxis": {
            "backgroundcolor": "#E5ECF6",
            "gridcolor": "white",
            "gridwidth": 2,
            "linecolor": "white",
            "showbackground": true,
            "ticks": "",
            "zerolinecolor": "white"
           },
           "yaxis": {
            "backgroundcolor": "#E5ECF6",
            "gridcolor": "white",
            "gridwidth": 2,
            "linecolor": "white",
            "showbackground": true,
            "ticks": "",
            "zerolinecolor": "white"
           },
           "zaxis": {
            "backgroundcolor": "#E5ECF6",
            "gridcolor": "white",
            "gridwidth": 2,
            "linecolor": "white",
            "showbackground": true,
            "ticks": "",
            "zerolinecolor": "white"
           }
          },
          "shapedefaults": {
           "line": {
            "color": "#2a3f5f"
           }
          },
          "ternary": {
           "aaxis": {
            "gridcolor": "white",
            "linecolor": "white",
            "ticks": ""
           },
           "baxis": {
            "gridcolor": "white",
            "linecolor": "white",
            "ticks": ""
           },
           "bgcolor": "#E5ECF6",
           "caxis": {
            "gridcolor": "white",
            "linecolor": "white",
            "ticks": ""
           }
          },
          "title": {
           "x": 0.05
          },
          "xaxis": {
           "automargin": true,
           "gridcolor": "white",
           "linecolor": "white",
           "ticks": "",
           "title": {
            "standoff": 15
           },
           "zerolinecolor": "white",
           "zerolinewidth": 2
          },
          "yaxis": {
           "automargin": true,
           "gridcolor": "white",
           "linecolor": "white",
           "ticks": "",
           "title": {
            "standoff": 15
           },
           "zerolinecolor": "white",
           "zerolinewidth": 2
          }
         }
        },
        "title": {
         "text": "Optimization History Plot"
        },
        "xaxis": {
         "autorange": true,
         "range": [
          -1.4645669291338583,
          25.46456692913386
         ],
         "title": {
          "text": "Trial"
         },
         "type": "linear"
        },
        "yaxis": {
         "autorange": true,
         "range": [
          0.8052754324263295,
          0.8730259041045979
         ],
         "title": {
          "text": "Objective Value"
         },
         "type": "linear"
        }
       }
      },
      "image/png": "[encoded data removed]",
      "text/html": [
       "<div>                            <div id=\"226f364d-f29c-47b9-b52e-debe6901041c\" class=\"plotly-graph-div\" style=\"height:525px; width:100%;\"></div>            <script type=\"text/javascript\">                require([\"plotly\"], function(Plotly) {                    window.PLOTLYENV=window.PLOTLYENV || {};                                    if (document.getElementById(\"226f364d-f29c-47b9-b52e-debe6901041c\")) {                    Plotly.newPlot(                        \"226f364d-f29c-47b9-b52e-debe6901041c\",                        [{\"mode\":\"markers\",\"name\":\"Objective Value\",\"x\":[0,1,2,3,4,5,6,7,8,9,10,11,12,13,14,15,16,17,18,19,20,21,22,23,24],\"y\":[0.8606993819264169,0.8644318554473838,0.8345770739510397,0.8678645545188964,0.8522975615006996,0.8495282463883126,0.8477746597340956,0.8613633917194662,0.8612601291220551,0.8546025078416991,0.8100744241702068,0.8659563868855249,0.8661816870980581,0.8662192371334805,0.8621356707813161,0.8544723343855686,0.8682269123607206,0.8652441878803506,0.8659964402566419,0.8592768614178392,0.8680717055476422,0.8680372846818385,0.8678576703457357,0.8667130200992823,0.8653267979582794],\"type\":\"scatter\"},{\"mode\":\"lines\",\"name\":\"Best Value\",\"x\":[0,1,2,3,4,5,6,7,8,9,10,11,12,13,14,15,16,17,18,19,20,21,22,23,24],\"y\":[0.8606993819264169,0.8644318554473838,0.8644318554473838,0.8678645545188964,0.8678645545188964,0.8678645545188964,0.8678645545188964,0.8678645545188964,0.8678645545188964,0.8678645545188964,0.8678645545188964,0.8678645545188964,0.8678645545188964,0.8678645545188964,0.8678645545188964,0.8678645545188964,0.8682269123607206,0.8682269123607206,0.8682269123607206,0.8682269123607206,0.8682269123607206,0.8682269123607206,0.8682269123607206,0.8682269123607206,0.8682269123607206],\"type\":\"scatter\"},{\"marker\":{\"color\":\"#cccccc\"},\"mode\":\"markers\",\"name\":\"Infeasible Trial\",\"showlegend\":false,\"x\":[],\"y\":[],\"type\":\"scatter\"}],                        {\"title\":{\"text\":\"Optimization History Plot\"},\"xaxis\":{\"title\":{\"text\":\"Trial\"}},\"yaxis\":{\"title\":{\"text\":\"Objective Value\"}},\"template\":{\"data\":{\"histogram2dcontour\":[{\"type\":\"histogram2dcontour\",\"colorbar\":{\"outlinewidth\":0,\"ticks\":\"\"},\"colorscale\":[[0.0,\"#0d0887\"],[0.1111111111111111,\"#46039f\"],[0.2222222222222222,\"#7201a8\"],[0.3333333333333333,\"#9c179e\"],[0.4444444444444444,\"#bd3786\"],[0.5555555555555556,\"#d8576b\"],[0.6666666666666666,\"#ed7953\"],[0.7777777777777778,\"#fb9f3a\"],[0.8888888888888888,\"#fdca26\"],[1.0,\"#f0f921\"]]}],\"choropleth\":[{\"type\":\"choropleth\",\"colorbar\":{\"outlinewidth\":0,\"ticks\":\"\"}}],\"histogram2d\":[{\"type\":\"histogram2d\",\"colorbar\":{\"outlinewidth\":0,\"ticks\":\"\"},\"colorscale\":[[0.0,\"#0d0887\"],[0.1111111111111111,\"#46039f\"],[0.2222222222222222,\"#7201a8\"],[0.3333333333333333,\"#9c179e\"],[0.4444444444444444,\"#bd3786\"],[0.5555555555555556,\"#d8576b\"],[0.6666666666666666,\"#ed7953\"],[0.7777777777777778,\"#fb9f3a\"],[0.8888888888888888,\"#fdca26\"],[1.0,\"#f0f921\"]]}],\"heatmap\":[{\"type\":\"heatmap\",\"colorbar\":{\"outlinewidth\":0,\"ticks\":\"\"},\"colorscale\":[[0.0,\"#0d0887\"],[0.1111111111111111,\"#46039f\"],[0.2222222222222222,\"#7201a8\"],[0.3333333333333333,\"#9c179e\"],[0.4444444444444444,\"#bd3786\"],[0.5555555555555556,\"#d8576b\"],[0.6666666666666666,\"#ed7953\"],[0.7777777777777778,\"#fb9f3a\"],[0.8888888888888888,\"#fdca26\"],[1.0,\"#f0f921\"]]}],\"heatmapgl\":[{\"type\":\"heatmapgl\",\"colorbar\":{\"outlinewidth\":0,\"ticks\":\"\"},\"colorscale\":[[0.0,\"#0d0887\"],[0.1111111111111111,\"#46039f\"],[0.2222222222222222,\"#7201a8\"],[0.3333333333333333,\"#9c179e\"],[0.4444444444444444,\"#bd3786\"],[0.5555555555555556,\"#d8576b\"],[0.6666666666666666,\"#ed7953\"],[0.7777777777777778,\"#fb9f3a\"],[0.8888888888888888,\"#fdca26\"],[1.0,\"#f0f921\"]]}],\"contourcarpet\":[{\"type\":\"contourcarpet\",\"colorbar\":{\"outlinewidth\":0,\"ticks\":\"\"}}],\"contour\":[{\"type\":\"contour\",\"colorbar\":{\"outlinewidth\":0,\"ticks\":\"\"},\"colorscale\":[[0.0,\"#0d0887\"],[0.1111111111111111,\"#46039f\"],[0.2222222222222222,\"#7201a8\"],[0.3333333333333333,\"#9c179e\"],[0.4444444444444444,\"#bd3786\"],[0.5555555555555556,\"#d8576b\"],[0.6666666666666666,\"#ed7953\"],[0.7777777777777778,\"#fb9f3a\"],[0.8888888888888888,\"#fdca26\"],[1.0,\"#f0f921\"]]}],\"surface\":[{\"type\":\"surface\",\"colorbar\":{\"outlinewidth\":0,\"ticks\":\"\"},\"colorscale\":[[0.0,\"#0d0887\"],[0.1111111111111111,\"#46039f\"],[0.2222222222222222,\"#7201a8\"],[0.3333333333333333,\"#9c179e\"],[0.4444444444444444,\"#bd3786\"],[0.5555555555555556,\"#d8576b\"],[0.6666666666666666,\"#ed7953\"],[0.7777777777777778,\"#fb9f3a\"],[0.8888888888888888,\"#fdca26\"],[1.0,\"#f0f921\"]]}],\"mesh3d\":[{\"type\":\"mesh3d\",\"colorbar\":{\"outlinewidth\":0,\"ticks\":\"\"}}],\"scatter\":[{\"fillpattern\":{\"fillmode\":\"overlay\",\"size\":10,\"solidity\":0.2},\"type\":\"scatter\"}],\"parcoords\":[{\"type\":\"parcoords\",\"line\":{\"colorbar\":{\"outlinewidth\":0,\"ticks\":\"\"}}}],\"scatterpolargl\":[{\"type\":\"scatterpolargl\",\"marker\":{\"colorbar\":{\"outlinewidth\":0,\"ticks\":\"\"}}}],\"bar\":[{\"error_x\":{\"color\":\"#2a3f5f\"},\"error_y\":{\"color\":\"#2a3f5f\"},\"marker\":{\"line\":{\"color\":\"#E5ECF6\",\"width\":0.5},\"pattern\":{\"fillmode\":\"overlay\",\"size\":10,\"solidity\":0.2}},\"type\":\"bar\"}],\"scattergeo\":[{\"type\":\"scattergeo\",\"marker\":{\"colorbar\":{\"outlinewidth\":0,\"ticks\":\"\"}}}],\"scatterpolar\":[{\"type\":\"scatterpolar\",\"marker\":{\"colorbar\":{\"outlinewidth\":0,\"ticks\":\"\"}}}],\"histogram\":[{\"marker\":{\"pattern\":{\"fillmode\":\"overlay\",\"size\":10,\"solidity\":0.2}},\"type\":\"histogram\"}],\"scattergl\":[{\"type\":\"scattergl\",\"marker\":{\"colorbar\":{\"outlinewidth\":0,\"ticks\":\"\"}}}],\"scatter3d\":[{\"type\":\"scatter3d\",\"line\":{\"colorbar\":{\"outlinewidth\":0,\"ticks\":\"\"}},\"marker\":{\"colorbar\":{\"outlinewidth\":0,\"ticks\":\"\"}}}],\"scattermapbox\":[{\"type\":\"scattermapbox\",\"marker\":{\"colorbar\":{\"outlinewidth\":0,\"ticks\":\"\"}}}],\"scatterternary\":[{\"type\":\"scatterternary\",\"marker\":{\"colorbar\":{\"outlinewidth\":0,\"ticks\":\"\"}}}],\"scattercarpet\":[{\"type\":\"scattercarpet\",\"marker\":{\"colorbar\":{\"outlinewidth\":0,\"ticks\":\"\"}}}],\"carpet\":[{\"aaxis\":{\"endlinecolor\":\"#2a3f5f\",\"gridcolor\":\"white\",\"linecolor\":\"white\",\"minorgridcolor\":\"white\",\"startlinecolor\":\"#2a3f5f\"},\"baxis\":{\"endlinecolor\":\"#2a3f5f\",\"gridcolor\":\"white\",\"linecolor\":\"white\",\"minorgridcolor\":\"white\",\"startlinecolor\":\"#2a3f5f\"},\"type\":\"carpet\"}],\"table\":[{\"cells\":{\"fill\":{\"color\":\"#EBF0F8\"},\"line\":{\"color\":\"white\"}},\"header\":{\"fill\":{\"color\":\"#C8D4E3\"},\"line\":{\"color\":\"white\"}},\"type\":\"table\"}],\"barpolar\":[{\"marker\":{\"line\":{\"color\":\"#E5ECF6\",\"width\":0.5},\"pattern\":{\"fillmode\":\"overlay\",\"size\":10,\"solidity\":0.2}},\"type\":\"barpolar\"}],\"pie\":[{\"automargin\":true,\"type\":\"pie\"}]},\"layout\":{\"autotypenumbers\":\"strict\",\"colorway\":[\"#636efa\",\"#EF553B\",\"#00cc96\",\"#ab63fa\",\"#FFA15A\",\"#19d3f3\",\"#FF6692\",\"#B6E880\",\"#FF97FF\",\"#FECB52\"],\"font\":{\"color\":\"#2a3f5f\"},\"hovermode\":\"closest\",\"hoverlabel\":{\"align\":\"left\"},\"paper_bgcolor\":\"white\",\"plot_bgcolor\":\"#E5ECF6\",\"polar\":{\"bgcolor\":\"#E5ECF6\",\"angularaxis\":{\"gridcolor\":\"white\",\"linecolor\":\"white\",\"ticks\":\"\"},\"radialaxis\":{\"gridcolor\":\"white\",\"linecolor\":\"white\",\"ticks\":\"\"}},\"ternary\":{\"bgcolor\":\"#E5ECF6\",\"aaxis\":{\"gridcolor\":\"white\",\"linecolor\":\"white\",\"ticks\":\"\"},\"baxis\":{\"gridcolor\":\"white\",\"linecolor\":\"white\",\"ticks\":\"\"},\"caxis\":{\"gridcolor\":\"white\",\"linecolor\":\"white\",\"ticks\":\"\"}},\"coloraxis\":{\"colorbar\":{\"outlinewidth\":0,\"ticks\":\"\"}},\"colorscale\":{\"sequential\":[[0.0,\"#0d0887\"],[0.1111111111111111,\"#46039f\"],[0.2222222222222222,\"#7201a8\"],[0.3333333333333333,\"#9c179e\"],[0.4444444444444444,\"#bd3786\"],[0.5555555555555556,\"#d8576b\"],[0.6666666666666666,\"#ed7953\"],[0.7777777777777778,\"#fb9f3a\"],[0.8888888888888888,\"#fdca26\"],[1.0,\"#f0f921\"]],\"sequentialminus\":[[0.0,\"#0d0887\"],[0.1111111111111111,\"#46039f\"],[0.2222222222222222,\"#7201a8\"],[0.3333333333333333,\"#9c179e\"],[0.4444444444444444,\"#bd3786\"],[0.5555555555555556,\"#d8576b\"],[0.6666666666666666,\"#ed7953\"],[0.7777777777777778,\"#fb9f3a\"],[0.8888888888888888,\"#fdca26\"],[1.0,\"#f0f921\"]],\"diverging\":[[0,\"#8e0152\"],[0.1,\"#c51b7d\"],[0.2,\"#de77ae\"],[0.3,\"#f1b6da\"],[0.4,\"#fde0ef\"],[0.5,\"#f7f7f7\"],[0.6,\"#e6f5d0\"],[0.7,\"#b8e186\"],[0.8,\"#7fbc41\"],[0.9,\"#4d9221\"],[1,\"#276419\"]]},\"xaxis\":{\"gridcolor\":\"white\",\"linecolor\":\"white\",\"ticks\":\"\",\"title\":{\"standoff\":15},\"zerolinecolor\":\"white\",\"automargin\":true,\"zerolinewidth\":2},\"yaxis\":{\"gridcolor\":\"white\",\"linecolor\":\"white\",\"ticks\":\"\",\"title\":{\"standoff\":15},\"zerolinecolor\":\"white\",\"automargin\":true,\"zerolinewidth\":2},\"scene\":{\"xaxis\":{\"backgroundcolor\":\"#E5ECF6\",\"gridcolor\":\"white\",\"linecolor\":\"white\",\"showbackground\":true,\"ticks\":\"\",\"zerolinecolor\":\"white\",\"gridwidth\":2},\"yaxis\":{\"backgroundcolor\":\"#E5ECF6\",\"gridcolor\":\"white\",\"linecolor\":\"white\",\"showbackground\":true,\"ticks\":\"\",\"zerolinecolor\":\"white\",\"gridwidth\":2},\"zaxis\":{\"backgroundcolor\":\"#E5ECF6\",\"gridcolor\":\"white\",\"linecolor\":\"white\",\"showbackground\":true,\"ticks\":\"\",\"zerolinecolor\":\"white\",\"gridwidth\":2}},\"shapedefaults\":{\"line\":{\"color\":\"#2a3f5f\"}},\"annotationdefaults\":{\"arrowcolor\":\"#2a3f5f\",\"arrowhead\":0,\"arrowwidth\":1},\"geo\":{\"bgcolor\":\"white\",\"landcolor\":\"#E5ECF6\",\"subunitcolor\":\"white\",\"showland\":true,\"showlakes\":true,\"lakecolor\":\"white\"},\"title\":{\"x\":0.05},\"mapbox\":{\"style\":\"light\"}}}},                        {\"responsive\": true}                    ).then(function(){\n",
       "                            \n",
       "var gd = document.getElementById('226f364d-f29c-47b9-b52e-debe6901041c');\n",
       "var x = new MutationObserver(function (mutations, observer) {{\n",
       "        var display = window.getComputedStyle(gd).display;\n",
       "        if (!display || display === 'none') {{\n",
       "            console.log([gd, 'removed!']);\n",
       "            Plotly.purge(gd);\n",
       "            observer.disconnect();\n",
       "        }}\n",
       "}});\n",
       "\n",
       "// Listen for the removal of the full notebook cells\n",
       "var notebookContainer = gd.closest('#notebook-container');\n",
       "if (notebookContainer) {{\n",
       "    x.observe(notebookContainer, {childList: true});\n",
       "}}\n",
       "\n",
       "// Listen for the clearing of the current output cell\n",
       "var outputEl = gd.closest('.output');\n",
       "if (outputEl) {{\n",
       "    x.observe(outputEl, {childList: true});\n",
       "}}\n",
       "\n",
       "                        })                };                });            </script>        </div>"
      ]
     },
     "metadata": {},
     "output_type": "display_data"
    }
   ],
   "source": [
    "optuna.visualization.plot_optimization_history(study)"
   ]
  },
  {
   "cell_type": "code",
   "execution_count": 227,
   "id": "ca3cda75-4f28-4e77-b6ce-052c29fe306d",
   "metadata": {},
   "outputs": [
    {
     "name": "stdout",
     "output_type": "stream",
     "text": [
      "Fold: 1 ROC-AUC SCORE 0.864\n",
      "---\n",
      "Fold: 2 ROC-AUC SCORE 0.861\n",
      "---\n",
      "Fold: 3 ROC-AUC SCORE 0.860\n",
      "---\n",
      "Fold: 4 ROC-AUC SCORE 0.846\n",
      "---\n",
      "Fold: 5 ROC-AUC SCORE 0.862\n",
      "---\n"
     ]
    }
   ],
   "source": [
    "pred_val = []\n",
    "pred_score_val = []\n",
    "\n",
    "cv = StratifiedKFold(n_splits=N_FOLDS, shuffle=True, random_state=RAND)\n",
    "for fold, (train_idx, val_idx) in enumerate(cv.split(X_train_main_, y_train_main_)):\n",
    "    X_train_, X_val_ = X_train_main_.iloc[train_idx], X_train_main_.iloc[val_idx]\n",
    "    y_train_, y_val_ = y_train_main_[train_idx], y_train_main_[val_idx]\n",
    "\n",
    "    model2 = LGBMClassifier(**study.best_params, is_unbalance=True, random_state=RAND, metric='AUC')\n",
    "    model2.fit(X_train_, y_train_, verbose=0)\n",
    "\n",
    "    y_pred_val = model2.predict(X_val_)\n",
    "    y_score_val = model2.predict_proba(X_val_)\n",
    "\n",
    "    print(\"Fold:\", fold + 1, \"ROC-AUC SCORE %.3f\" % roc_auc_score(y_val_, y_score_val[:, 1]))\n",
    "    print(\"---\")\n",
    "\n",
    "    pred_val.append(y_pred_val)\n",
    "    pred_score_val.append(y_score_val)\n",
    "\n",
    "# обучаем модель для предсказания на test\n",
    "model2.fit(X_train_main_, y_train_main_)\n",
    "\n",
    "meta_X['lgb_tuned'] = np.concatenate(pred_score_val)[:,1]\n",
    "meta_X_test['lgb_tuned'] = model2.predict_proba(X_val_main)[:,1]"
   ]
  },
  {
   "cell_type": "code",
   "execution_count": 233,
   "id": "6ce25fde-7eec-4114-a68e-640e8b212863",
   "metadata": {},
   "outputs": [
    {
     "data": {
      "text/html": [
       "<div>\n",
       "<style scoped>\n",
       "    .dataframe tbody tr th:only-of-type {\n",
       "        vertical-align: middle;\n",
       "    }\n",
       "\n",
       "    .dataframe tbody tr th {\n",
       "        vertical-align: top;\n",
       "    }\n",
       "\n",
       "    .dataframe thead th {\n",
       "        text-align: right;\n",
       "    }\n",
       "</style>\n",
       "<table border=\"1\" class=\"dataframe\">\n",
       "  <thead>\n",
       "    <tr style=\"text-align: right;\">\n",
       "      <th></th>\n",
       "      <th>model</th>\n",
       "      <th>Accuracy</th>\n",
       "      <th>ROC_AUC</th>\n",
       "      <th>Precision</th>\n",
       "      <th>Recall</th>\n",
       "      <th>f1</th>\n",
       "      <th>Logloss</th>\n",
       "    </tr>\n",
       "  </thead>\n",
       "  <tbody>\n",
       "    <tr>\n",
       "      <th>0</th>\n",
       "      <td>LGBM Baseline</td>\n",
       "      <td>0.805372</td>\n",
       "      <td>0.866423</td>\n",
       "      <td>0.401429</td>\n",
       "      <td>0.776243</td>\n",
       "      <td>0.529190</td>\n",
       "      <td>0.428424</td>\n",
       "    </tr>\n",
       "    <tr>\n",
       "      <th>0</th>\n",
       "      <td>LGBM Tuned</td>\n",
       "      <td>0.853640</td>\n",
       "      <td>0.868227</td>\n",
       "      <td>0.486056</td>\n",
       "      <td>0.674033</td>\n",
       "      <td>0.564815</td>\n",
       "      <td>0.388048</td>\n",
       "    </tr>\n",
       "  </tbody>\n",
       "</table>\n",
       "</div>"
      ],
      "text/plain": [
       "           model  Accuracy   ROC_AUC  Precision    Recall        f1   Logloss\n",
       "0  LGBM Baseline  0.805372  0.866423   0.401429  0.776243  0.529190  0.428424\n",
       "0     LGBM Tuned  0.853640  0.868227   0.486056  0.674033  0.564815  0.388048"
      ]
     },
     "execution_count": 233,
     "metadata": {},
     "output_type": "execute_result"
    }
   ],
   "source": [
    "metrics_val = pd.concat([metrics_val, get_metrics_classification(y_val_main, model2.predict(X_val_main), model2.predict_proba(X_val_main), name='LGBM Tuned')])\n",
    "metrics_val"
   ]
  },
  {
   "cell_type": "code",
   "execution_count": 234,
   "id": "e613ce70-90ca-494b-8d4d-e7c489d5a1e3",
   "metadata": {},
   "outputs": [
    {
     "data": {
      "text/html": [
       "<div>\n",
       "<style scoped>\n",
       "    .dataframe tbody tr th:only-of-type {\n",
       "        vertical-align: middle;\n",
       "    }\n",
       "\n",
       "    .dataframe tbody tr th {\n",
       "        vertical-align: top;\n",
       "    }\n",
       "\n",
       "    .dataframe thead th {\n",
       "        text-align: right;\n",
       "    }\n",
       "</style>\n",
       "<table border=\"1\" class=\"dataframe\">\n",
       "  <thead>\n",
       "    <tr style=\"text-align: right;\">\n",
       "      <th></th>\n",
       "      <th>model</th>\n",
       "      <th>Accuracy</th>\n",
       "      <th>ROC_AUC</th>\n",
       "      <th>Precision</th>\n",
       "      <th>Recall</th>\n",
       "      <th>f1</th>\n",
       "      <th>Logloss</th>\n",
       "    </tr>\n",
       "  </thead>\n",
       "  <tbody>\n",
       "    <tr>\n",
       "      <th>0</th>\n",
       "      <td>LGBM Baseline</td>\n",
       "      <td>0.872875</td>\n",
       "      <td>0.799159</td>\n",
       "      <td>0.738255</td>\n",
       "      <td>0.150892</td>\n",
       "      <td>0.250569</td>\n",
       "      <td>0.385490</td>\n",
       "    </tr>\n",
       "    <tr>\n",
       "      <th>0</th>\n",
       "      <td>LGBM Tuned</td>\n",
       "      <td>0.880410</td>\n",
       "      <td>0.847495</td>\n",
       "      <td>0.772277</td>\n",
       "      <td>0.213992</td>\n",
       "      <td>0.335124</td>\n",
       "      <td>0.315372</td>\n",
       "    </tr>\n",
       "  </tbody>\n",
       "</table>\n",
       "</div>"
      ],
      "text/plain": [
       "           model  Accuracy   ROC_AUC  Precision    Recall        f1   Logloss\n",
       "0  LGBM Baseline  0.872875  0.799159   0.738255  0.150892  0.250569  0.385490\n",
       "0     LGBM Tuned  0.880410  0.847495   0.772277  0.213992  0.335124  0.315372"
      ]
     },
     "execution_count": 234,
     "metadata": {},
     "output_type": "execute_result"
    }
   ],
   "source": [
    "metrics_test = pd.concat([metrics_test, get_metrics_classification(y_test_main, model2.predict(X_test_main), model2.predict_proba(X_test_main), name='LGBM Tuned')])\n",
    "metrics_test"
   ]
  },
  {
   "cell_type": "code",
   "execution_count": 235,
   "id": "18038360-64c7-4d68-b062-f044e1b8bd88",
   "metadata": {},
   "outputs": [
    {
     "name": "stdout",
     "output_type": "stream",
     "text": [
      "roc_auc_score train: 0.858\n",
      "roc_auc_score test: 0.847\n",
      "delta = 1.2 %\n"
     ]
    }
   ],
   "source": [
    "check_overfitting(model=model2, X_train=X_train_main, X_test=X_test_main, y_train=y_train_main, y_test=y_test_main, metric_fun=roc_auc_score)"
   ]
  },
  {
   "cell_type": "markdown",
   "id": "ba907a65-cccb-49e1-a56b-4fe87e43f7e7",
   "metadata": {
    "jp-MarkdownHeadingCollapsed": true
   },
   "source": [
    "# XGB Tuned"
   ]
  },
  {
   "cell_type": "code",
   "execution_count": 224,
   "id": "11030391-3699-485f-937a-458d3cc46d9c",
   "metadata": {
    "scrolled": true
   },
   "outputs": [
    {
     "name": "stderr",
     "output_type": "stream",
     "text": [
      "[I 2024-03-21 14:35:11,996] A new study created in memory with name: no-name-d4f16cef-374a-4495-ade3-954399a6bccd\n"
     ]
    },
    {
     "data": {
      "application/vnd.jupyter.widget-view+json": {
       "model_id": "ea85190a35d34b849967bdc16e4e6e80",
       "version_major": 2,
       "version_minor": 0
      },
      "text/plain": [
       "  0%|          | 0/35 [00:00<?, ?it/s]"
      ]
     },
     "metadata": {},
     "output_type": "display_data"
    },
    {
     "name": "stdout",
     "output_type": "stream",
     "text": [
      "[I 2024-03-21 14:35:13,383] Trial 0 finished with value: 0.866133497885933 and parameters: {'n_estimators': 639, 'learning_rate': 0.011429375549302493, 'max_depth': 4, 'subsample': 0.7961440734104481, 'colsample_bytree': 0.9958456008249756}. Best is trial 0 with value: 0.866133497885933.\n",
      "[I 2024-03-21 14:35:14,833] Trial 1 finished with value: 0.8395637186551079 and parameters: {'n_estimators': 534, 'learning_rate': 0.24788164055029374, 'max_depth': 5, 'subsample': 0.7338227257882679, 'colsample_bytree': 0.7091373861362809}. Best is trial 0 with value: 0.866133497885933.\n",
      "[I 2024-03-21 14:35:16,817] Trial 2 finished with value: 0.8332590677077206 and parameters: {'n_estimators': 484, 'learning_rate': 0.1193418776646386, 'max_depth': 9, 'subsample': 0.940640636503159, 'colsample_bytree': 0.63920269148991}. Best is trial 0 with value: 0.866133497885933.\n",
      "[I 2024-03-21 14:35:19,491] Trial 3 finished with value: 0.8186996673066862 and parameters: {'n_estimators': 722, 'learning_rate': 0.16535590481434653, 'max_depth': 8, 'subsample': 0.8437679880362985, 'colsample_bytree': 0.7338741912999505}. Best is trial 0 with value: 0.866133497885933.\n",
      "[I 2024-03-21 14:35:21,094] Trial 4 finished with value: 0.857239771996185 and parameters: {'n_estimators': 705, 'learning_rate': 0.003897849074033024, 'max_depth': 4, 'subsample': 0.8739632217667526, 'colsample_bytree': 0.8850786133156887}. Best is trial 0 with value: 0.866133497885933.\n",
      "[I 2024-03-21 14:35:23,323] Trial 5 finished with value: 0.8188461124448326 and parameters: {'n_estimators': 463, 'learning_rate': 0.19818098938182205, 'max_depth': 11, 'subsample': 0.9553702982199138, 'colsample_bytree': 0.8274613516395164}. Best is trial 0 with value: 0.866133497885933.\n",
      "[I 2024-03-21 14:35:25,287] Trial 6 finished with value: 0.8241832241461747 and parameters: {'n_estimators': 369, 'learning_rate': 0.15272570992985893, 'max_depth': 14, 'subsample': 0.9632359717757317, 'colsample_bytree': 0.5407042024722004}. Best is trial 0 with value: 0.866133497885933.\n",
      "[I 2024-03-21 14:35:29,527] Trial 7 finished with value: 0.8189255933531432 and parameters: {'n_estimators': 813, 'learning_rate': 0.07037920619038293, 'max_depth': 14, 'subsample': 0.7495394479741826, 'colsample_bytree': 0.686892900119646}. Best is trial 0 with value: 0.866133497885933.\n",
      "[I 2024-03-21 14:35:32,363] Trial 8 finished with value: 0.8619936064806354 and parameters: {'n_estimators': 534, 'learning_rate': 0.009950203233035738, 'max_depth': 13, 'subsample': 0.6261124457331204, 'colsample_bytree': 0.8194444455825258}. Best is trial 0 with value: 0.866133497885933.\n",
      "[I 2024-03-21 14:35:35,652] Trial 9 finished with value: 0.8600647863277817 and parameters: {'n_estimators': 581, 'learning_rate': 0.006857310058492528, 'max_depth': 15, 'subsample': 0.6952192737826253, 'colsample_bytree': 0.8402141836535425}. Best is trial 0 with value: 0.866133497885933.\n",
      "[I 2024-03-21 14:35:38,103] Trial 10 finished with value: 0.854499245244288 and parameters: {'n_estimators': 890, 'learning_rate': 0.0010066136798527927, 'max_depth': 6, 'subsample': 0.5105765625835879, 'colsample_bytree': 0.987328403630914}. Best is trial 0 with value: 0.866133497885933.\n",
      "[I 2024-03-21 14:35:41,293] Trial 11 finished with value: 0.8440759812450089 and parameters: {'n_estimators': 666, 'learning_rate': 0.02839944146588323, 'max_depth': 11, 'subsample': 0.6095897030311046, 'colsample_bytree': 0.9991133788485953}. Best is trial 0 with value: 0.866133497885933.\n",
      "[I 2024-03-21 14:35:42,045] Trial 12 finished with value: 0.8572009702929153 and parameters: {'n_estimators': 303, 'learning_rate': 0.014698442452869014, 'max_depth': 3, 'subsample': 0.6369536521614358, 'colsample_bytree': 0.9119954623543046}. Best is trial 0 with value: 0.866133497885933.\n",
      "[I 2024-03-21 14:35:45,513] Trial 13 finished with value: 0.865399394693429 and parameters: {'n_estimators': 628, 'learning_rate': 0.004096488513599599, 'max_depth': 12, 'subsample': 0.8382356582389936, 'colsample_bytree': 0.7989861104950269}. Best is trial 0 with value: 0.866133497885933.\n",
      "[I 2024-03-21 14:35:47,629] Trial 14 finished with value: 0.8611812740476684 and parameters: {'n_estimators': 640, 'learning_rate': 0.0023422911883340734, 'max_depth': 7, 'subsample': 0.831035428803528, 'colsample_bytree': 0.572699950288398}. Best is trial 0 with value: 0.866133497885933.\n",
      "[I 2024-03-21 14:35:51,531] Trial 15 finished with value: 0.8321300633093598 and parameters: {'n_estimators': 769, 'learning_rate': 0.03854900598075218, 'max_depth': 11, 'subsample': 0.7920372750855754, 'colsample_bytree': 0.9300702276432083}. Best is trial 0 with value: 0.866133497885933.\n",
      "[I 2024-03-21 14:35:54,432] Trial 16 finished with value: 0.8664044839748966 and parameters: {'n_estimators': 613, 'learning_rate': 0.004024500104438446, 'max_depth': 10, 'subsample': 0.8961078616519671, 'colsample_bytree': 0.7940043400918197}. Best is trial 16 with value: 0.8664044839748966.\n",
      "[I 2024-03-21 14:35:56,102] Trial 17 finished with value: 0.8623146592834952 and parameters: {'n_estimators': 456, 'learning_rate': 0.002480853135567916, 'max_depth': 8, 'subsample': 0.8986774689830863, 'colsample_bytree': 0.6330086842538488}. Best is trial 16 with value: 0.8664044839748966.\n",
      "[I 2024-03-21 14:35:58,346] Trial 18 finished with value: 0.8593920148598008 and parameters: {'n_estimators': 598, 'learning_rate': 0.024536775759034152, 'max_depth': 9, 'subsample': 0.9980935587641939, 'colsample_bytree': 0.7835097362432486}. Best is trial 16 with value: 0.8664044839748966.\n",
      "[I 2024-03-21 14:35:59,919] Trial 19 finished with value: 0.8341195893528126 and parameters: {'n_estimators': 750, 'learning_rate': 0.0010561651322938993, 'max_depth': 3, 'subsample': 0.7848272035095106, 'colsample_bytree': 0.95301793125913}. Best is trial 16 with value: 0.8664044839748966.\n",
      "[I 2024-03-21 14:36:02,277] Trial 20 finished with value: 0.8673532482032308 and parameters: {'n_estimators': 805, 'learning_rate': 0.007467567300346955, 'max_depth': 6, 'subsample': 0.9035025016823985, 'colsample_bytree': 0.8787759081020516}. Best is trial 20 with value: 0.8673532482032308.\n",
      "[I 2024-03-21 14:36:04,454] Trial 21 finished with value: 0.8664614348619535 and parameters: {'n_estimators': 852, 'learning_rate': 0.008213328594519488, 'max_depth': 5, 'subsample': 0.8951537550954632, 'colsample_bytree': 0.882232172237955}. Best is trial 20 with value: 0.8673532482032308.\n",
      "[I 2024-03-21 14:36:07,058] Trial 22 finished with value: 0.8668144051949223 and parameters: {'n_estimators': 895, 'learning_rate': 0.005539851712536511, 'max_depth': 6, 'subsample': 0.9049491617728274, 'colsample_bytree': 0.8751088554018375}. Best is trial 20 with value: 0.8673532482032308.\n",
      "[I 2024-03-21 14:36:09,629] Trial 23 finished with value: 0.8678219978120846 and parameters: {'n_estimators': 896, 'learning_rate': 0.007275973179533175, 'max_depth': 6, 'subsample': 0.9264047141501006, 'colsample_bytree': 0.8677954285658275}. Best is trial 23 with value: 0.8678219978120846.\n",
      "[I 2024-03-21 14:36:12,200] Trial 24 finished with value: 0.8673125689981901 and parameters: {'n_estimators': 890, 'learning_rate': 0.006345208508916955, 'max_depth': 6, 'subsample': 0.9239668896295152, 'colsample_bytree': 0.8697239910030653}. Best is trial 23 with value: 0.8678219978120846.\n",
      "[I 2024-03-21 14:36:14,701] Trial 25 finished with value: 0.8635581912898939 and parameters: {'n_estimators': 818, 'learning_rate': 0.01763208990269091, 'max_depth': 7, 'subsample': 0.9952833396244143, 'colsample_bytree': 0.8531270207456478}. Best is trial 23 with value: 0.8678219978120846.\n",
      "[I 2024-03-21 14:36:17,141] Trial 26 finished with value: 0.8571233668863761 and parameters: {'n_estimators': 834, 'learning_rate': 0.0024077527155354126, 'max_depth': 6, 'subsample': 0.9370723774449042, 'colsample_bytree': 0.9465654620482973}. Best is trial 23 with value: 0.8678219978120846.\n",
      "[I 2024-03-21 14:36:19,672] Trial 27 finished with value: 0.8581121844858273 and parameters: {'n_estimators': 790, 'learning_rate': 0.0016459564880942448, 'max_depth': 7, 'subsample': 0.8515750087438475, 'colsample_bytree': 0.7428843683790185}. Best is trial 23 with value: 0.8678219978120846.\n",
      "[I 2024-03-21 14:36:21,928] Trial 28 finished with value: 0.865439448064546 and parameters: {'n_estimators': 873, 'learning_rate': 0.0057390030257710705, 'max_depth': 5, 'subsample': 0.9269436211580742, 'colsample_bytree': 0.8991819481580038}. Best is trial 23 with value: 0.8678219978120846.\n",
      "[I 2024-03-21 14:36:24,030] Trial 29 finished with value: 0.8663900897946514 and parameters: {'n_estimators': 900, 'learning_rate': 0.013281344819034221, 'max_depth': 4, 'subsample': 0.971848404046035, 'colsample_bytree': 0.7787685246046111}. Best is trial 23 with value: 0.8678219978120846.\n",
      "[I 2024-03-21 14:36:26,989] Trial 30 finished with value: 0.841475015458098 and parameters: {'n_estimators': 795, 'learning_rate': 0.04709040706064154, 'max_depth': 8, 'subsample': 0.8053994383671175, 'colsample_bytree': 0.9649235787142779}. Best is trial 23 with value: 0.8678219978120846.\n",
      "[I 2024-03-21 14:36:29,507] Trial 31 finished with value: 0.8666767217317075 and parameters: {'n_estimators': 861, 'learning_rate': 0.005678692541445231, 'max_depth': 6, 'subsample': 0.9117843317231833, 'colsample_bytree': 0.8702197630333388}. Best is trial 23 with value: 0.8678219978120846.\n",
      "[I 2024-03-21 14:36:31,683] Trial 32 finished with value: 0.8672017963936945 and parameters: {'n_estimators': 847, 'learning_rate': 0.010308876581745514, 'max_depth': 5, 'subsample': 0.8690020449784622, 'colsample_bytree': 0.911763474936504}. Best is trial 23 with value: 0.8678219978120846.\n",
      "[I 2024-03-21 14:36:33,856] Trial 33 finished with value: 0.8672193197435583 and parameters: {'n_estimators': 845, 'learning_rate': 0.0097955324431401, 'max_depth': 5, 'subsample': 0.8737974098563414, 'colsample_bytree': 0.9302619148546866}. Best is trial 23 with value: 0.8678219978120846.\n",
      "[I 2024-03-21 14:36:35,597] Trial 34 finished with value: 0.8680147546605852 and parameters: {'n_estimators': 745, 'learning_rate': 0.02093004760601575, 'max_depth': 4, 'subsample': 0.815587804415079, 'colsample_bytree': 0.9334191677923097}. Best is trial 34 with value: 0.8680147546605852.\n"
     ]
    }
   ],
   "source": [
    "def objective_xgb(trial, random_state):\n",
    "    xgb_params = {\n",
    "        'n_estimators': trial.suggest_int('n_estimators', 300, 900),\n",
    "        \"learning_rate\": trial.suggest_float(\"learning_rate\", 0.001, 0.3, log=True),\n",
    "        'max_depth': trial.suggest_int('max_depth', 3, 15),\n",
    "        # 'num_leaves': trial.suggest_int('num_leaves', 10, 1000),\n",
    "        'subsample': trial.suggest_uniform('subsample', 0.5, 1.0),\n",
    "        'colsample_bytree': trial.suggest_uniform('colsample_bytree', 0.5, 1.0)\n",
    "    }\n",
    "\n",
    "    model = XGBClassifier(**xgb_params, random_state=RAND, objective='binary:logistic')\n",
    "    model.fit(X_train_main_, y_train_main_, eval_metric='auc', eval_set=[(X_val_main, y_val_main)], verbose=False)\n",
    "\n",
    "    preds = model.predict_proba(X_val_main)[:, 1]\n",
    "    score = roc_auc_score(y_val_main, preds)\n",
    "    return score\n",
    "\n",
    "study_xgb = optuna.create_study(direction=\"maximize\")\n",
    "pointer = lambda trial: objective_xgb(trial, random_state=RAND)\n",
    "study_xgb.optimize(pointer, n_trials=35, show_progress_bar=True)"
   ]
  },
  {
   "cell_type": "code",
   "execution_count": 225,
   "id": "e2223e04-1a0e-4cee-963a-0b5367cdca2d",
   "metadata": {},
   "outputs": [
    {
     "data": {
      "text/plain": [
       "{'n_estimators': 745,\n",
       " 'learning_rate': 0.02093004760601575,\n",
       " 'max_depth': 4,\n",
       " 'subsample': 0.815587804415079,\n",
       " 'colsample_bytree': 0.9334191677923097}"
      ]
     },
     "execution_count": 225,
     "metadata": {},
     "output_type": "execute_result"
    }
   ],
   "source": [
    "study_xgb.best_params"
   ]
  },
  {
   "cell_type": "markdown",
   "id": "02f3b310-ff54-4681-b522-6dd1bdd6ad26",
   "metadata": {},
   "source": [
    "Saved:\n",
    "{'n_estimators': 745,\n",
    " 'learning_rate': 0.02093004760601575,\n",
    " 'max_depth': 4,\n",
    " 'subsample': 0.815587804415079,\n",
    " 'colsample_bytree': 0.9334191677923097}"
   ]
  },
  {
   "cell_type": "code",
   "execution_count": 226,
   "id": "8a4fe11a-727c-4bb5-b80d-06e6e183c19d",
   "metadata": {},
   "outputs": [
    {
     "data": {
      "application/vnd.plotly.v1+json": {
       "config": {
        "plotlyServerURL": "https://plot.ly"
       },
       "data": [
        {
         "mode": "markers",
         "name": "Objective Value",
         "type": "scatter",
         "x": [
          0,
          1,
          2,
          3,
          4,
          5,
          6,
          7,
          8,
          9,
          10,
          11,
          12,
          13,
          14,
          15,
          16,
          17,
          18,
          19,
          20,
          21,
          22,
          23,
          24,
          25,
          26,
          27,
          28,
          29,
          30,
          31,
          32,
          33,
          34
         ],
         "y": [
          0.866133497885933,
          0.8395637186551079,
          0.8332590677077206,
          0.8186996673066862,
          0.857239771996185,
          0.8188461124448326,
          0.8241832241461747,
          0.8189255933531432,
          0.8619936064806354,
          0.8600647863277817,
          0.854499245244288,
          0.8440759812450089,
          0.8572009702929153,
          0.865399394693429,
          0.8611812740476684,
          0.8321300633093598,
          0.8664044839748966,
          0.8623146592834952,
          0.8593920148598008,
          0.8341195893528126,
          0.8673532482032308,
          0.8664614348619535,
          0.8668144051949223,
          0.8678219978120846,
          0.8673125689981901,
          0.8635581912898939,
          0.8571233668863761,
          0.8581121844858273,
          0.865439448064546,
          0.8663900897946514,
          0.841475015458098,
          0.8666767217317075,
          0.8672017963936945,
          0.8672193197435583,
          0.8680147546605852
         ]
        },
        {
         "mode": "lines",
         "name": "Best Value",
         "type": "scatter",
         "x": [
          0,
          1,
          2,
          3,
          4,
          5,
          6,
          7,
          8,
          9,
          10,
          11,
          12,
          13,
          14,
          15,
          16,
          17,
          18,
          19,
          20,
          21,
          22,
          23,
          24,
          25,
          26,
          27,
          28,
          29,
          30,
          31,
          32,
          33,
          34
         ],
         "y": [
          0.866133497885933,
          0.866133497885933,
          0.866133497885933,
          0.866133497885933,
          0.866133497885933,
          0.866133497885933,
          0.866133497885933,
          0.866133497885933,
          0.866133497885933,
          0.866133497885933,
          0.866133497885933,
          0.866133497885933,
          0.866133497885933,
          0.866133497885933,
          0.866133497885933,
          0.866133497885933,
          0.8664044839748966,
          0.8664044839748966,
          0.8664044839748966,
          0.8664044839748966,
          0.8673532482032308,
          0.8673532482032308,
          0.8673532482032308,
          0.8678219978120846,
          0.8678219978120846,
          0.8678219978120846,
          0.8678219978120846,
          0.8678219978120846,
          0.8678219978120846,
          0.8678219978120846,
          0.8678219978120846,
          0.8678219978120846,
          0.8678219978120846,
          0.8678219978120846,
          0.8680147546605852
         ]
        },
        {
         "marker": {
          "color": "#cccccc"
         },
         "mode": "markers",
         "name": "Infeasible Trial",
         "showlegend": false,
         "type": "scatter",
         "x": [],
         "y": []
        }
       ],
       "layout": {
        "autosize": true,
        "template": {
         "data": {
          "bar": [
           {
            "error_x": {
             "color": "#2a3f5f"
            },
            "error_y": {
             "color": "#2a3f5f"
            },
            "marker": {
             "line": {
              "color": "#E5ECF6",
              "width": 0.5
             },
             "pattern": {
              "fillmode": "overlay",
              "size": 10,
              "solidity": 0.2
             }
            },
            "type": "bar"
           }
          ],
          "barpolar": [
           {
            "marker": {
             "line": {
              "color": "#E5ECF6",
              "width": 0.5
             },
             "pattern": {
              "fillmode": "overlay",
              "size": 10,
              "solidity": 0.2
             }
            },
            "type": "barpolar"
           }
          ],
          "carpet": [
           {
            "aaxis": {
             "endlinecolor": "#2a3f5f",
             "gridcolor": "white",
             "linecolor": "white",
             "minorgridcolor": "white",
             "startlinecolor": "#2a3f5f"
            },
            "baxis": {
             "endlinecolor": "#2a3f5f",
             "gridcolor": "white",
             "linecolor": "white",
             "minorgridcolor": "white",
             "startlinecolor": "#2a3f5f"
            },
            "type": "carpet"
           }
          ],
          "choropleth": [
           {
            "colorbar": {
             "outlinewidth": 0,
             "ticks": ""
            },
            "type": "choropleth"
           }
          ],
          "contour": [
           {
            "colorbar": {
             "outlinewidth": 0,
             "ticks": ""
            },
            "colorscale": [
             [
              0,
              "#0d0887"
             ],
             [
              0.1111111111111111,
              "#46039f"
             ],
             [
              0.2222222222222222,
              "#7201a8"
             ],
             [
              0.3333333333333333,
              "#9c179e"
             ],
             [
              0.4444444444444444,
              "#bd3786"
             ],
             [
              0.5555555555555556,
              "#d8576b"
             ],
             [
              0.6666666666666666,
              "#ed7953"
             ],
             [
              0.7777777777777778,
              "#fb9f3a"
             ],
             [
              0.8888888888888888,
              "#fdca26"
             ],
             [
              1,
              "#f0f921"
             ]
            ],
            "type": "contour"
           }
          ],
          "contourcarpet": [
           {
            "colorbar": {
             "outlinewidth": 0,
             "ticks": ""
            },
            "type": "contourcarpet"
           }
          ],
          "heatmap": [
           {
            "colorbar": {
             "outlinewidth": 0,
             "ticks": ""
            },
            "colorscale": [
             [
              0,
              "#0d0887"
             ],
             [
              0.1111111111111111,
              "#46039f"
             ],
             [
              0.2222222222222222,
              "#7201a8"
             ],
             [
              0.3333333333333333,
              "#9c179e"
             ],
             [
              0.4444444444444444,
              "#bd3786"
             ],
             [
              0.5555555555555556,
              "#d8576b"
             ],
             [
              0.6666666666666666,
              "#ed7953"
             ],
             [
              0.7777777777777778,
              "#fb9f3a"
             ],
             [
              0.8888888888888888,
              "#fdca26"
             ],
             [
              1,
              "#f0f921"
             ]
            ],
            "type": "heatmap"
           }
          ],
          "heatmapgl": [
           {
            "colorbar": {
             "outlinewidth": 0,
             "ticks": ""
            },
            "colorscale": [
             [
              0,
              "#0d0887"
             ],
             [
              0.1111111111111111,
              "#46039f"
             ],
             [
              0.2222222222222222,
              "#7201a8"
             ],
             [
              0.3333333333333333,
              "#9c179e"
             ],
             [
              0.4444444444444444,
              "#bd3786"
             ],
             [
              0.5555555555555556,
              "#d8576b"
             ],
             [
              0.6666666666666666,
              "#ed7953"
             ],
             [
              0.7777777777777778,
              "#fb9f3a"
             ],
             [
              0.8888888888888888,
              "#fdca26"
             ],
             [
              1,
              "#f0f921"
             ]
            ],
            "type": "heatmapgl"
           }
          ],
          "histogram": [
           {
            "marker": {
             "pattern": {
              "fillmode": "overlay",
              "size": 10,
              "solidity": 0.2
             }
            },
            "type": "histogram"
           }
          ],
          "histogram2d": [
           {
            "colorbar": {
             "outlinewidth": 0,
             "ticks": ""
            },
            "colorscale": [
             [
              0,
              "#0d0887"
             ],
             [
              0.1111111111111111,
              "#46039f"
             ],
             [
              0.2222222222222222,
              "#7201a8"
             ],
             [
              0.3333333333333333,
              "#9c179e"
             ],
             [
              0.4444444444444444,
              "#bd3786"
             ],
             [
              0.5555555555555556,
              "#d8576b"
             ],
             [
              0.6666666666666666,
              "#ed7953"
             ],
             [
              0.7777777777777778,
              "#fb9f3a"
             ],
             [
              0.8888888888888888,
              "#fdca26"
             ],
             [
              1,
              "#f0f921"
             ]
            ],
            "type": "histogram2d"
           }
          ],
          "histogram2dcontour": [
           {
            "colorbar": {
             "outlinewidth": 0,
             "ticks": ""
            },
            "colorscale": [
             [
              0,
              "#0d0887"
             ],
             [
              0.1111111111111111,
              "#46039f"
             ],
             [
              0.2222222222222222,
              "#7201a8"
             ],
             [
              0.3333333333333333,
              "#9c179e"
             ],
             [
              0.4444444444444444,
              "#bd3786"
             ],
             [
              0.5555555555555556,
              "#d8576b"
             ],
             [
              0.6666666666666666,
              "#ed7953"
             ],
             [
              0.7777777777777778,
              "#fb9f3a"
             ],
             [
              0.8888888888888888,
              "#fdca26"
             ],
             [
              1,
              "#f0f921"
             ]
            ],
            "type": "histogram2dcontour"
           }
          ],
          "mesh3d": [
           {
            "colorbar": {
             "outlinewidth": 0,
             "ticks": ""
            },
            "type": "mesh3d"
           }
          ],
          "parcoords": [
           {
            "line": {
             "colorbar": {
              "outlinewidth": 0,
              "ticks": ""
             }
            },
            "type": "parcoords"
           }
          ],
          "pie": [
           {
            "automargin": true,
            "type": "pie"
           }
          ],
          "scatter": [
           {
            "fillpattern": {
             "fillmode": "overlay",
             "size": 10,
             "solidity": 0.2
            },
            "type": "scatter"
           }
          ],
          "scatter3d": [
           {
            "line": {
             "colorbar": {
              "outlinewidth": 0,
              "ticks": ""
             }
            },
            "marker": {
             "colorbar": {
              "outlinewidth": 0,
              "ticks": ""
             }
            },
            "type": "scatter3d"
           }
          ],
          "scattercarpet": [
           {
            "marker": {
             "colorbar": {
              "outlinewidth": 0,
              "ticks": ""
             }
            },
            "type": "scattercarpet"
           }
          ],
          "scattergeo": [
           {
            "marker": {
             "colorbar": {
              "outlinewidth": 0,
              "ticks": ""
             }
            },
            "type": "scattergeo"
           }
          ],
          "scattergl": [
           {
            "marker": {
             "colorbar": {
              "outlinewidth": 0,
              "ticks": ""
             }
            },
            "type": "scattergl"
           }
          ],
          "scattermapbox": [
           {
            "marker": {
             "colorbar": {
              "outlinewidth": 0,
              "ticks": ""
             }
            },
            "type": "scattermapbox"
           }
          ],
          "scatterpolar": [
           {
            "marker": {
             "colorbar": {
              "outlinewidth": 0,
              "ticks": ""
             }
            },
            "type": "scatterpolar"
           }
          ],
          "scatterpolargl": [
           {
            "marker": {
             "colorbar": {
              "outlinewidth": 0,
              "ticks": ""
             }
            },
            "type": "scatterpolargl"
           }
          ],
          "scatterternary": [
           {
            "marker": {
             "colorbar": {
              "outlinewidth": 0,
              "ticks": ""
             }
            },
            "type": "scatterternary"
           }
          ],
          "surface": [
           {
            "colorbar": {
             "outlinewidth": 0,
             "ticks": ""
            },
            "colorscale": [
             [
              0,
              "#0d0887"
             ],
             [
              0.1111111111111111,
              "#46039f"
             ],
             [
              0.2222222222222222,
              "#7201a8"
             ],
             [
              0.3333333333333333,
              "#9c179e"
             ],
             [
              0.4444444444444444,
              "#bd3786"
             ],
             [
              0.5555555555555556,
              "#d8576b"
             ],
             [
              0.6666666666666666,
              "#ed7953"
             ],
             [
              0.7777777777777778,
              "#fb9f3a"
             ],
             [
              0.8888888888888888,
              "#fdca26"
             ],
             [
              1,
              "#f0f921"
             ]
            ],
            "type": "surface"
           }
          ],
          "table": [
           {
            "cells": {
             "fill": {
              "color": "#EBF0F8"
             },
             "line": {
              "color": "white"
             }
            },
            "header": {
             "fill": {
              "color": "#C8D4E3"
             },
             "line": {
              "color": "white"
             }
            },
            "type": "table"
           }
          ]
         },
         "layout": {
          "annotationdefaults": {
           "arrowcolor": "#2a3f5f",
           "arrowhead": 0,
           "arrowwidth": 1
          },
          "autotypenumbers": "strict",
          "coloraxis": {
           "colorbar": {
            "outlinewidth": 0,
            "ticks": ""
           }
          },
          "colorscale": {
           "diverging": [
            [
             0,
             "#8e0152"
            ],
            [
             0.1,
             "#c51b7d"
            ],
            [
             0.2,
             "#de77ae"
            ],
            [
             0.3,
             "#f1b6da"
            ],
            [
             0.4,
             "#fde0ef"
            ],
            [
             0.5,
             "#f7f7f7"
            ],
            [
             0.6,
             "#e6f5d0"
            ],
            [
             0.7,
             "#b8e186"
            ],
            [
             0.8,
             "#7fbc41"
            ],
            [
             0.9,
             "#4d9221"
            ],
            [
             1,
             "#276419"
            ]
           ],
           "sequential": [
            [
             0,
             "#0d0887"
            ],
            [
             0.1111111111111111,
             "#46039f"
            ],
            [
             0.2222222222222222,
             "#7201a8"
            ],
            [
             0.3333333333333333,
             "#9c179e"
            ],
            [
             0.4444444444444444,
             "#bd3786"
            ],
            [
             0.5555555555555556,
             "#d8576b"
            ],
            [
             0.6666666666666666,
             "#ed7953"
            ],
            [
             0.7777777777777778,
             "#fb9f3a"
            ],
            [
             0.8888888888888888,
             "#fdca26"
            ],
            [
             1,
             "#f0f921"
            ]
           ],
           "sequentialminus": [
            [
             0,
             "#0d0887"
            ],
            [
             0.1111111111111111,
             "#46039f"
            ],
            [
             0.2222222222222222,
             "#7201a8"
            ],
            [
             0.3333333333333333,
             "#9c179e"
            ],
            [
             0.4444444444444444,
             "#bd3786"
            ],
            [
             0.5555555555555556,
             "#d8576b"
            ],
            [
             0.6666666666666666,
             "#ed7953"
            ],
            [
             0.7777777777777778,
             "#fb9f3a"
            ],
            [
             0.8888888888888888,
             "#fdca26"
            ],
            [
             1,
             "#f0f921"
            ]
           ]
          },
          "colorway": [
           "#636efa",
           "#EF553B",
           "#00cc96",
           "#ab63fa",
           "#FFA15A",
           "#19d3f3",
           "#FF6692",
           "#B6E880",
           "#FF97FF",
           "#FECB52"
          ],
          "font": {
           "color": "#2a3f5f"
          },
          "geo": {
           "bgcolor": "white",
           "lakecolor": "white",
           "landcolor": "#E5ECF6",
           "showlakes": true,
           "showland": true,
           "subunitcolor": "white"
          },
          "hoverlabel": {
           "align": "left"
          },
          "hovermode": "closest",
          "mapbox": {
           "style": "light"
          },
          "paper_bgcolor": "white",
          "plot_bgcolor": "#E5ECF6",
          "polar": {
           "angularaxis": {
            "gridcolor": "white",
            "linecolor": "white",
            "ticks": ""
           },
           "bgcolor": "#E5ECF6",
           "radialaxis": {
            "gridcolor": "white",
            "linecolor": "white",
            "ticks": ""
           }
          },
          "scene": {
           "xaxis": {
            "backgroundcolor": "#E5ECF6",
            "gridcolor": "white",
            "gridwidth": 2,
            "linecolor": "white",
            "showbackground": true,
            "ticks": "",
            "zerolinecolor": "white"
           },
           "yaxis": {
            "backgroundcolor": "#E5ECF6",
            "gridcolor": "white",
            "gridwidth": 2,
            "linecolor": "white",
            "showbackground": true,
            "ticks": "",
            "zerolinecolor": "white"
           },
           "zaxis": {
            "backgroundcolor": "#E5ECF6",
            "gridcolor": "white",
            "gridwidth": 2,
            "linecolor": "white",
            "showbackground": true,
            "ticks": "",
            "zerolinecolor": "white"
           }
          },
          "shapedefaults": {
           "line": {
            "color": "#2a3f5f"
           }
          },
          "ternary": {
           "aaxis": {
            "gridcolor": "white",
            "linecolor": "white",
            "ticks": ""
           },
           "baxis": {
            "gridcolor": "white",
            "linecolor": "white",
            "ticks": ""
           },
           "bgcolor": "#E5ECF6",
           "caxis": {
            "gridcolor": "white",
            "linecolor": "white",
            "ticks": ""
           }
          },
          "title": {
           "x": 0.05
          },
          "xaxis": {
           "automargin": true,
           "gridcolor": "white",
           "linecolor": "white",
           "ticks": "",
           "title": {
            "standoff": 15
           },
           "zerolinecolor": "white",
           "zerolinewidth": 2
          },
          "yaxis": {
           "automargin": true,
           "gridcolor": "white",
           "linecolor": "white",
           "ticks": "",
           "title": {
            "standoff": 15
           },
           "zerolinecolor": "white",
           "zerolinewidth": 2
          }
         }
        },
        "title": {
         "text": "Optimization History Plot"
        },
        "xaxis": {
         "autorange": true,
         "range": [
          -2.074803149606299,
          36.074803149606296
         ],
         "title": {
          "text": "Trial"
         },
         "type": "linear"
        },
        "yaxis": {
         "autorange": true,
         "range": [
          0.8146299756318499,
          0.8720844463354215
         ],
         "title": {
          "text": "Objective Value"
         },
         "type": "linear"
        }
       }
      },
      "image/png": "[encoded data removed]",
      "text/html": [
       "<div>                            <div id=\"8ff0c9ad-20b5-4707-b700-d605f363cead\" class=\"plotly-graph-div\" style=\"height:525px; width:100%;\"></div>            <script type=\"text/javascript\">                require([\"plotly\"], function(Plotly) {                    window.PLOTLYENV=window.PLOTLYENV || {};                                    if (document.getElementById(\"8ff0c9ad-20b5-4707-b700-d605f363cead\")) {                    Plotly.newPlot(                        \"8ff0c9ad-20b5-4707-b700-d605f363cead\",                        [{\"mode\":\"markers\",\"name\":\"Objective Value\",\"x\":[0,1,2,3,4,5,6,7,8,9,10,11,12,13,14,15,16,17,18,19,20,21,22,23,24,25,26,27,28,29,30,31,32,33,34],\"y\":[0.866133497885933,0.8395637186551079,0.8332590677077206,0.8186996673066862,0.857239771996185,0.8188461124448326,0.8241832241461747,0.8189255933531432,0.8619936064806354,0.8600647863277817,0.854499245244288,0.8440759812450089,0.8572009702929153,0.865399394693429,0.8611812740476684,0.8321300633093598,0.8664044839748966,0.8623146592834952,0.8593920148598008,0.8341195893528126,0.8673532482032308,0.8664614348619535,0.8668144051949223,0.8678219978120846,0.8673125689981901,0.8635581912898939,0.8571233668863761,0.8581121844858273,0.865439448064546,0.8663900897946514,0.841475015458098,0.8666767217317075,0.8672017963936945,0.8672193197435583,0.8680147546605852],\"type\":\"scatter\"},{\"mode\":\"lines\",\"name\":\"Best Value\",\"x\":[0,1,2,3,4,5,6,7,8,9,10,11,12,13,14,15,16,17,18,19,20,21,22,23,24,25,26,27,28,29,30,31,32,33,34],\"y\":[0.866133497885933,0.866133497885933,0.866133497885933,0.866133497885933,0.866133497885933,0.866133497885933,0.866133497885933,0.866133497885933,0.866133497885933,0.866133497885933,0.866133497885933,0.866133497885933,0.866133497885933,0.866133497885933,0.866133497885933,0.866133497885933,0.8664044839748966,0.8664044839748966,0.8664044839748966,0.8664044839748966,0.8673532482032308,0.8673532482032308,0.8673532482032308,0.8678219978120846,0.8678219978120846,0.8678219978120846,0.8678219978120846,0.8678219978120846,0.8678219978120846,0.8678219978120846,0.8678219978120846,0.8678219978120846,0.8678219978120846,0.8678219978120846,0.8680147546605852],\"type\":\"scatter\"},{\"marker\":{\"color\":\"#cccccc\"},\"mode\":\"markers\",\"name\":\"Infeasible Trial\",\"showlegend\":false,\"x\":[],\"y\":[],\"type\":\"scatter\"}],                        {\"title\":{\"text\":\"Optimization History Plot\"},\"xaxis\":{\"title\":{\"text\":\"Trial\"}},\"yaxis\":{\"title\":{\"text\":\"Objective Value\"}},\"template\":{\"data\":{\"histogram2dcontour\":[{\"type\":\"histogram2dcontour\",\"colorbar\":{\"outlinewidth\":0,\"ticks\":\"\"},\"colorscale\":[[0.0,\"#0d0887\"],[0.1111111111111111,\"#46039f\"],[0.2222222222222222,\"#7201a8\"],[0.3333333333333333,\"#9c179e\"],[0.4444444444444444,\"#bd3786\"],[0.5555555555555556,\"#d8576b\"],[0.6666666666666666,\"#ed7953\"],[0.7777777777777778,\"#fb9f3a\"],[0.8888888888888888,\"#fdca26\"],[1.0,\"#f0f921\"]]}],\"choropleth\":[{\"type\":\"choropleth\",\"colorbar\":{\"outlinewidth\":0,\"ticks\":\"\"}}],\"histogram2d\":[{\"type\":\"histogram2d\",\"colorbar\":{\"outlinewidth\":0,\"ticks\":\"\"},\"colorscale\":[[0.0,\"#0d0887\"],[0.1111111111111111,\"#46039f\"],[0.2222222222222222,\"#7201a8\"],[0.3333333333333333,\"#9c179e\"],[0.4444444444444444,\"#bd3786\"],[0.5555555555555556,\"#d8576b\"],[0.6666666666666666,\"#ed7953\"],[0.7777777777777778,\"#fb9f3a\"],[0.8888888888888888,\"#fdca26\"],[1.0,\"#f0f921\"]]}],\"heatmap\":[{\"type\":\"heatmap\",\"colorbar\":{\"outlinewidth\":0,\"ticks\":\"\"},\"colorscale\":[[0.0,\"#0d0887\"],[0.1111111111111111,\"#46039f\"],[0.2222222222222222,\"#7201a8\"],[0.3333333333333333,\"#9c179e\"],[0.4444444444444444,\"#bd3786\"],[0.5555555555555556,\"#d8576b\"],[0.6666666666666666,\"#ed7953\"],[0.7777777777777778,\"#fb9f3a\"],[0.8888888888888888,\"#fdca26\"],[1.0,\"#f0f921\"]]}],\"heatmapgl\":[{\"type\":\"heatmapgl\",\"colorbar\":{\"outlinewidth\":0,\"ticks\":\"\"},\"colorscale\":[[0.0,\"#0d0887\"],[0.1111111111111111,\"#46039f\"],[0.2222222222222222,\"#7201a8\"],[0.3333333333333333,\"#9c179e\"],[0.4444444444444444,\"#bd3786\"],[0.5555555555555556,\"#d8576b\"],[0.6666666666666666,\"#ed7953\"],[0.7777777777777778,\"#fb9f3a\"],[0.8888888888888888,\"#fdca26\"],[1.0,\"#f0f921\"]]}],\"contourcarpet\":[{\"type\":\"contourcarpet\",\"colorbar\":{\"outlinewidth\":0,\"ticks\":\"\"}}],\"contour\":[{\"type\":\"contour\",\"colorbar\":{\"outlinewidth\":0,\"ticks\":\"\"},\"colorscale\":[[0.0,\"#0d0887\"],[0.1111111111111111,\"#46039f\"],[0.2222222222222222,\"#7201a8\"],[0.3333333333333333,\"#9c179e\"],[0.4444444444444444,\"#bd3786\"],[0.5555555555555556,\"#d8576b\"],[0.6666666666666666,\"#ed7953\"],[0.7777777777777778,\"#fb9f3a\"],[0.8888888888888888,\"#fdca26\"],[1.0,\"#f0f921\"]]}],\"surface\":[{\"type\":\"surface\",\"colorbar\":{\"outlinewidth\":0,\"ticks\":\"\"},\"colorscale\":[[0.0,\"#0d0887\"],[0.1111111111111111,\"#46039f\"],[0.2222222222222222,\"#7201a8\"],[0.3333333333333333,\"#9c179e\"],[0.4444444444444444,\"#bd3786\"],[0.5555555555555556,\"#d8576b\"],[0.6666666666666666,\"#ed7953\"],[0.7777777777777778,\"#fb9f3a\"],[0.8888888888888888,\"#fdca26\"],[1.0,\"#f0f921\"]]}],\"mesh3d\":[{\"type\":\"mesh3d\",\"colorbar\":{\"outlinewidth\":0,\"ticks\":\"\"}}],\"scatter\":[{\"fillpattern\":{\"fillmode\":\"overlay\",\"size\":10,\"solidity\":0.2},\"type\":\"scatter\"}],\"parcoords\":[{\"type\":\"parcoords\",\"line\":{\"colorbar\":{\"outlinewidth\":0,\"ticks\":\"\"}}}],\"scatterpolargl\":[{\"type\":\"scatterpolargl\",\"marker\":{\"colorbar\":{\"outlinewidth\":0,\"ticks\":\"\"}}}],\"bar\":[{\"error_x\":{\"color\":\"#2a3f5f\"},\"error_y\":{\"color\":\"#2a3f5f\"},\"marker\":{\"line\":{\"color\":\"#E5ECF6\",\"width\":0.5},\"pattern\":{\"fillmode\":\"overlay\",\"size\":10,\"solidity\":0.2}},\"type\":\"bar\"}],\"scattergeo\":[{\"type\":\"scattergeo\",\"marker\":{\"colorbar\":{\"outlinewidth\":0,\"ticks\":\"\"}}}],\"scatterpolar\":[{\"type\":\"scatterpolar\",\"marker\":{\"colorbar\":{\"outlinewidth\":0,\"ticks\":\"\"}}}],\"histogram\":[{\"marker\":{\"pattern\":{\"fillmode\":\"overlay\",\"size\":10,\"solidity\":0.2}},\"type\":\"histogram\"}],\"scattergl\":[{\"type\":\"scattergl\",\"marker\":{\"colorbar\":{\"outlinewidth\":0,\"ticks\":\"\"}}}],\"scatter3d\":[{\"type\":\"scatter3d\",\"line\":{\"colorbar\":{\"outlinewidth\":0,\"ticks\":\"\"}},\"marker\":{\"colorbar\":{\"outlinewidth\":0,\"ticks\":\"\"}}}],\"scattermapbox\":[{\"type\":\"scattermapbox\",\"marker\":{\"colorbar\":{\"outlinewidth\":0,\"ticks\":\"\"}}}],\"scatterternary\":[{\"type\":\"scatterternary\",\"marker\":{\"colorbar\":{\"outlinewidth\":0,\"ticks\":\"\"}}}],\"scattercarpet\":[{\"type\":\"scattercarpet\",\"marker\":{\"colorbar\":{\"outlinewidth\":0,\"ticks\":\"\"}}}],\"carpet\":[{\"aaxis\":{\"endlinecolor\":\"#2a3f5f\",\"gridcolor\":\"white\",\"linecolor\":\"white\",\"minorgridcolor\":\"white\",\"startlinecolor\":\"#2a3f5f\"},\"baxis\":{\"endlinecolor\":\"#2a3f5f\",\"gridcolor\":\"white\",\"linecolor\":\"white\",\"minorgridcolor\":\"white\",\"startlinecolor\":\"#2a3f5f\"},\"type\":\"carpet\"}],\"table\":[{\"cells\":{\"fill\":{\"color\":\"#EBF0F8\"},\"line\":{\"color\":\"white\"}},\"header\":{\"fill\":{\"color\":\"#C8D4E3\"},\"line\":{\"color\":\"white\"}},\"type\":\"table\"}],\"barpolar\":[{\"marker\":{\"line\":{\"color\":\"#E5ECF6\",\"width\":0.5},\"pattern\":{\"fillmode\":\"overlay\",\"size\":10,\"solidity\":0.2}},\"type\":\"barpolar\"}],\"pie\":[{\"automargin\":true,\"type\":\"pie\"}]},\"layout\":{\"autotypenumbers\":\"strict\",\"colorway\":[\"#636efa\",\"#EF553B\",\"#00cc96\",\"#ab63fa\",\"#FFA15A\",\"#19d3f3\",\"#FF6692\",\"#B6E880\",\"#FF97FF\",\"#FECB52\"],\"font\":{\"color\":\"#2a3f5f\"},\"hovermode\":\"closest\",\"hoverlabel\":{\"align\":\"left\"},\"paper_bgcolor\":\"white\",\"plot_bgcolor\":\"#E5ECF6\",\"polar\":{\"bgcolor\":\"#E5ECF6\",\"angularaxis\":{\"gridcolor\":\"white\",\"linecolor\":\"white\",\"ticks\":\"\"},\"radialaxis\":{\"gridcolor\":\"white\",\"linecolor\":\"white\",\"ticks\":\"\"}},\"ternary\":{\"bgcolor\":\"#E5ECF6\",\"aaxis\":{\"gridcolor\":\"white\",\"linecolor\":\"white\",\"ticks\":\"\"},\"baxis\":{\"gridcolor\":\"white\",\"linecolor\":\"white\",\"ticks\":\"\"},\"caxis\":{\"gridcolor\":\"white\",\"linecolor\":\"white\",\"ticks\":\"\"}},\"coloraxis\":{\"colorbar\":{\"outlinewidth\":0,\"ticks\":\"\"}},\"colorscale\":{\"sequential\":[[0.0,\"#0d0887\"],[0.1111111111111111,\"#46039f\"],[0.2222222222222222,\"#7201a8\"],[0.3333333333333333,\"#9c179e\"],[0.4444444444444444,\"#bd3786\"],[0.5555555555555556,\"#d8576b\"],[0.6666666666666666,\"#ed7953\"],[0.7777777777777778,\"#fb9f3a\"],[0.8888888888888888,\"#fdca26\"],[1.0,\"#f0f921\"]],\"sequentialminus\":[[0.0,\"#0d0887\"],[0.1111111111111111,\"#46039f\"],[0.2222222222222222,\"#7201a8\"],[0.3333333333333333,\"#9c179e\"],[0.4444444444444444,\"#bd3786\"],[0.5555555555555556,\"#d8576b\"],[0.6666666666666666,\"#ed7953\"],[0.7777777777777778,\"#fb9f3a\"],[0.8888888888888888,\"#fdca26\"],[1.0,\"#f0f921\"]],\"diverging\":[[0,\"#8e0152\"],[0.1,\"#c51b7d\"],[0.2,\"#de77ae\"],[0.3,\"#f1b6da\"],[0.4,\"#fde0ef\"],[0.5,\"#f7f7f7\"],[0.6,\"#e6f5d0\"],[0.7,\"#b8e186\"],[0.8,\"#7fbc41\"],[0.9,\"#4d9221\"],[1,\"#276419\"]]},\"xaxis\":{\"gridcolor\":\"white\",\"linecolor\":\"white\",\"ticks\":\"\",\"title\":{\"standoff\":15},\"zerolinecolor\":\"white\",\"automargin\":true,\"zerolinewidth\":2},\"yaxis\":{\"gridcolor\":\"white\",\"linecolor\":\"white\",\"ticks\":\"\",\"title\":{\"standoff\":15},\"zerolinecolor\":\"white\",\"automargin\":true,\"zerolinewidth\":2},\"scene\":{\"xaxis\":{\"backgroundcolor\":\"#E5ECF6\",\"gridcolor\":\"white\",\"linecolor\":\"white\",\"showbackground\":true,\"ticks\":\"\",\"zerolinecolor\":\"white\",\"gridwidth\":2},\"yaxis\":{\"backgroundcolor\":\"#E5ECF6\",\"gridcolor\":\"white\",\"linecolor\":\"white\",\"showbackground\":true,\"ticks\":\"\",\"zerolinecolor\":\"white\",\"gridwidth\":2},\"zaxis\":{\"backgroundcolor\":\"#E5ECF6\",\"gridcolor\":\"white\",\"linecolor\":\"white\",\"showbackground\":true,\"ticks\":\"\",\"zerolinecolor\":\"white\",\"gridwidth\":2}},\"shapedefaults\":{\"line\":{\"color\":\"#2a3f5f\"}},\"annotationdefaults\":{\"arrowcolor\":\"#2a3f5f\",\"arrowhead\":0,\"arrowwidth\":1},\"geo\":{\"bgcolor\":\"white\",\"landcolor\":\"#E5ECF6\",\"subunitcolor\":\"white\",\"showland\":true,\"showlakes\":true,\"lakecolor\":\"white\"},\"title\":{\"x\":0.05},\"mapbox\":{\"style\":\"light\"}}}},                        {\"responsive\": true}                    ).then(function(){\n",
       "                            \n",
       "var gd = document.getElementById('8ff0c9ad-20b5-4707-b700-d605f363cead');\n",
       "var x = new MutationObserver(function (mutations, observer) {{\n",
       "        var display = window.getComputedStyle(gd).display;\n",
       "        if (!display || display === 'none') {{\n",
       "            console.log([gd, 'removed!']);\n",
       "            Plotly.purge(gd);\n",
       "            observer.disconnect();\n",
       "        }}\n",
       "}});\n",
       "\n",
       "// Listen for the removal of the full notebook cells\n",
       "var notebookContainer = gd.closest('#notebook-container');\n",
       "if (notebookContainer) {{\n",
       "    x.observe(notebookContainer, {childList: true});\n",
       "}}\n",
       "\n",
       "// Listen for the clearing of the current output cell\n",
       "var outputEl = gd.closest('.output');\n",
       "if (outputEl) {{\n",
       "    x.observe(outputEl, {childList: true});\n",
       "}}\n",
       "\n",
       "                        })                };                });            </script>        </div>"
      ]
     },
     "metadata": {},
     "output_type": "display_data"
    }
   ],
   "source": [
    "optuna.visualization.plot_optimization_history(study_xgb)"
   ]
  },
  {
   "cell_type": "code",
   "execution_count": 236,
   "id": "a45d0cbc-c7ec-4ec8-a0b5-d76c9d6f10b5",
   "metadata": {},
   "outputs": [
    {
     "name": "stdout",
     "output_type": "stream",
     "text": [
      "Fold: 1 ROC-AUC SCORE 0.873\n",
      "---\n",
      "Fold: 2 ROC-AUC SCORE 0.865\n",
      "---\n",
      "Fold: 3 ROC-AUC SCORE 0.856\n",
      "---\n",
      "Fold: 4 ROC-AUC SCORE 0.851\n",
      "---\n",
      "Fold: 5 ROC-AUC SCORE 0.865\n",
      "---\n"
     ]
    }
   ],
   "source": [
    "pred_val = []\n",
    "pred_score_val = []\n",
    "\n",
    "cv = StratifiedKFold(n_splits=N_FOLDS, shuffle=True, random_state=RAND)\n",
    "for fold, (train_idx, val_idx) in enumerate(cv.split(X_train_main_, y_train_main_)):\n",
    "    X_train_, X_val_ = X_train_main_.iloc[train_idx], X_train_main_.iloc[val_idx]\n",
    "    y_train_, y_val_ = y_train_main_[train_idx], y_train_main_[val_idx]\n",
    "\n",
    "    model3 = XGBClassifier(**study_xgb.best_params, random_state=RAND, objective='binary:logistic')\n",
    "    model3.fit(X_train_, y_train_, eval_metric='auc', eval_set=[(X_val_main, y_val_main)], verbose=0)\n",
    "\n",
    "    y_pred_val = model3.predict(X_val_)\n",
    "    y_score_val = model3.predict_proba(X_val_)\n",
    "\n",
    "    print(\"Fold:\", fold + 1, \"ROC-AUC SCORE %.3f\" % roc_auc_score(y_val_, y_score_val[:, 1]))\n",
    "    print(\"---\")\n",
    "\n",
    "    pred_val.append(y_pred_val)\n",
    "    pred_score_val.append(y_score_val)\n",
    "\n",
    "# обучаем модель для предсказания на test\n",
    "model3.fit(X_train_main_, y_train_main_)\n",
    "\n",
    "meta_X['xgb_tuned'] = np.concatenate(pred_score_val)[:,1]\n",
    "meta_X_test['xgb_tuned'] = model3.predict_proba(X_val_main)[:,1]"
   ]
  },
  {
   "cell_type": "code",
   "execution_count": 240,
   "id": "836d7a6d-6f77-4c3a-87a0-33e6aae1afe8",
   "metadata": {},
   "outputs": [
    {
     "data": {
      "text/html": [
       "<div>\n",
       "<style scoped>\n",
       "    .dataframe tbody tr th:only-of-type {\n",
       "        vertical-align: middle;\n",
       "    }\n",
       "\n",
       "    .dataframe tbody tr th {\n",
       "        vertical-align: top;\n",
       "    }\n",
       "\n",
       "    .dataframe thead th {\n",
       "        text-align: right;\n",
       "    }\n",
       "</style>\n",
       "<table border=\"1\" class=\"dataframe\">\n",
       "  <thead>\n",
       "    <tr style=\"text-align: right;\">\n",
       "      <th></th>\n",
       "      <th>model</th>\n",
       "      <th>Accuracy</th>\n",
       "      <th>ROC_AUC</th>\n",
       "      <th>Precision</th>\n",
       "      <th>Recall</th>\n",
       "      <th>f1</th>\n",
       "      <th>Logloss</th>\n",
       "    </tr>\n",
       "  </thead>\n",
       "  <tbody>\n",
       "    <tr>\n",
       "      <th>0</th>\n",
       "      <td>LGBM Baseline</td>\n",
       "      <td>0.805372</td>\n",
       "      <td>0.866423</td>\n",
       "      <td>0.401429</td>\n",
       "      <td>0.776243</td>\n",
       "      <td>0.529190</td>\n",
       "      <td>0.428424</td>\n",
       "    </tr>\n",
       "    <tr>\n",
       "      <th>0</th>\n",
       "      <td>LGBM Tuned</td>\n",
       "      <td>0.853640</td>\n",
       "      <td>0.868227</td>\n",
       "      <td>0.486056</td>\n",
       "      <td>0.674033</td>\n",
       "      <td>0.564815</td>\n",
       "      <td>0.388048</td>\n",
       "    </tr>\n",
       "    <tr>\n",
       "      <th>0</th>\n",
       "      <td>XGB Tuned</td>\n",
       "      <td>0.886726</td>\n",
       "      <td>0.868015</td>\n",
       "      <td>0.682051</td>\n",
       "      <td>0.367403</td>\n",
       "      <td>0.477558</td>\n",
       "      <td>0.279407</td>\n",
       "    </tr>\n",
       "  </tbody>\n",
       "</table>\n",
       "</div>"
      ],
      "text/plain": [
       "           model  Accuracy   ROC_AUC  Precision    Recall        f1   Logloss\n",
       "0  LGBM Baseline  0.805372  0.866423   0.401429  0.776243  0.529190  0.428424\n",
       "0     LGBM Tuned  0.853640  0.868227   0.486056  0.674033  0.564815  0.388048\n",
       "0      XGB Tuned  0.886726  0.868015   0.682051  0.367403  0.477558  0.279407"
      ]
     },
     "execution_count": 240,
     "metadata": {},
     "output_type": "execute_result"
    }
   ],
   "source": [
    "metrics_val = pd.concat([metrics_val, get_metrics_classification(y_val_main, model3.predict(X_val_main), model3.predict_proba(X_val_main), name='XGB Tuned')])\n",
    "metrics_val"
   ]
  },
  {
   "cell_type": "code",
   "execution_count": 241,
   "id": "164d5c5a-a397-4c1a-ab42-e16918c8b508",
   "metadata": {},
   "outputs": [
    {
     "data": {
      "text/html": [
       "<div>\n",
       "<style scoped>\n",
       "    .dataframe tbody tr th:only-of-type {\n",
       "        vertical-align: middle;\n",
       "    }\n",
       "\n",
       "    .dataframe tbody tr th {\n",
       "        vertical-align: top;\n",
       "    }\n",
       "\n",
       "    .dataframe thead th {\n",
       "        text-align: right;\n",
       "    }\n",
       "</style>\n",
       "<table border=\"1\" class=\"dataframe\">\n",
       "  <thead>\n",
       "    <tr style=\"text-align: right;\">\n",
       "      <th></th>\n",
       "      <th>model</th>\n",
       "      <th>Accuracy</th>\n",
       "      <th>ROC_AUC</th>\n",
       "      <th>Precision</th>\n",
       "      <th>Recall</th>\n",
       "      <th>f1</th>\n",
       "      <th>Logloss</th>\n",
       "    </tr>\n",
       "  </thead>\n",
       "  <tbody>\n",
       "    <tr>\n",
       "      <th>0</th>\n",
       "      <td>LGBM Baseline</td>\n",
       "      <td>0.872875</td>\n",
       "      <td>0.799159</td>\n",
       "      <td>0.738255</td>\n",
       "      <td>0.150892</td>\n",
       "      <td>0.250569</td>\n",
       "      <td>0.385490</td>\n",
       "    </tr>\n",
       "    <tr>\n",
       "      <th>0</th>\n",
       "      <td>LGBM Tuned</td>\n",
       "      <td>0.880410</td>\n",
       "      <td>0.847495</td>\n",
       "      <td>0.772277</td>\n",
       "      <td>0.213992</td>\n",
       "      <td>0.335124</td>\n",
       "      <td>0.315372</td>\n",
       "    </tr>\n",
       "    <tr>\n",
       "      <th>0</th>\n",
       "      <td>XGB Tuned</td>\n",
       "      <td>0.861476</td>\n",
       "      <td>0.848149</td>\n",
       "      <td>0.875000</td>\n",
       "      <td>0.019204</td>\n",
       "      <td>0.037584</td>\n",
       "      <td>0.479110</td>\n",
       "    </tr>\n",
       "  </tbody>\n",
       "</table>\n",
       "</div>"
      ],
      "text/plain": [
       "           model  Accuracy   ROC_AUC  Precision    Recall        f1   Logloss\n",
       "0  LGBM Baseline  0.872875  0.799159   0.738255  0.150892  0.250569  0.385490\n",
       "0     LGBM Tuned  0.880410  0.847495   0.772277  0.213992  0.335124  0.315372\n",
       "0      XGB Tuned  0.861476  0.848149   0.875000  0.019204  0.037584  0.479110"
      ]
     },
     "execution_count": 241,
     "metadata": {},
     "output_type": "execute_result"
    }
   ],
   "source": [
    "metrics_test = pd.concat([metrics_test, get_metrics_classification(y_test_main, model3.predict(X_test_main), model3.predict_proba(X_test_main), name='XGB Tuned')])\n",
    "metrics_test"
   ]
  },
  {
   "cell_type": "code",
   "execution_count": 242,
   "id": "34c3fdc3-4087-4e68-ba26-9dd04d9289d1",
   "metadata": {},
   "outputs": [
    {
     "name": "stdout",
     "output_type": "stream",
     "text": [
      "roc_auc_score train: 0.852\n",
      "roc_auc_score test: 0.848\n",
      "delta = 0.4 %\n"
     ]
    }
   ],
   "source": [
    "check_overfitting(model=model3, X_train=X_train_main, X_test=X_test_main, y_train=y_train_main, y_test=y_test_main, metric_fun=roc_auc_score)"
   ]
  },
  {
   "cell_type": "markdown",
   "id": "0cbf5322-9969-4fd6-832b-fedcf9db5e6c",
   "metadata": {
    "jp-MarkdownHeadingCollapsed": true
   },
   "source": [
    "# Catboost Baseline"
   ]
  },
  {
   "cell_type": "code",
   "execution_count": 243,
   "id": "0d23f6ce-ef40-4c0b-8ad4-e97264e9de4d",
   "metadata": {},
   "outputs": [
    {
     "name": "stdout",
     "output_type": "stream",
     "text": [
      "Fold: 1 ROC-AUC SCORE 0.859\n",
      "---\n",
      "Fold: 2 ROC-AUC SCORE 0.853\n",
      "---\n",
      "Fold: 3 ROC-AUC SCORE 0.847\n",
      "---\n",
      "Fold: 4 ROC-AUC SCORE 0.849\n",
      "---\n",
      "Fold: 5 ROC-AUC SCORE 0.853\n",
      "---\n"
     ]
    }
   ],
   "source": [
    "pred_val = []\n",
    "pred_score_val = []\n",
    "\n",
    "cv = StratifiedKFold(n_splits=N_FOLDS, shuffle=True, random_state=RAND)\n",
    "for fold, (train_idx, val_idx) in enumerate(cv.split(X_train_main_, y_train_main_)):\n",
    "    X_train_, X_val_ = X_train_main_.iloc[train_idx], X_train_main_.iloc[val_idx]\n",
    "    y_train_, y_val_ = y_train_main_[train_idx], y_train_main_[val_idx]\n",
    "\n",
    "    model4 = CatBoostClassifier(random_state=RAND, auto_class_weights='Balanced', verbose=False)\n",
    "    model4.fit(X_train_,\n",
    "              y_train_,\n",
    "              verbose=False)\n",
    "\n",
    "    y_pred_val = model4.predict(X_val_)\n",
    "    y_score_val = model4.predict_proba(X_val_)\n",
    "\n",
    "    print(\"Fold:\", fold + 1, \"ROC-AUC SCORE %.3f\" % roc_auc_score(y_val_, y_score_val[:, 1]))\n",
    "    print(\"---\")\n",
    "\n",
    "    # holdout list\n",
    "    pred_val.append(y_pred_val)\n",
    "    pred_score_val.append(y_score_val)\n",
    "\n",
    "# обучаем модель для предсказания на test\n",
    "model4.fit(X_train_main_, y_train_main_)\n",
    "\n",
    "meta_X['cb_base'] = np.concatenate(pred_score_val)[:,1]\n",
    "meta_X_test['cb_base'] = model4.predict_proba(X_val_main)[:,1]"
   ]
  },
  {
   "cell_type": "code",
   "execution_count": 244,
   "id": "90a97828-9687-447b-8bab-34ed28daa848",
   "metadata": {},
   "outputs": [
    {
     "data": {
      "text/html": [
       "<div>\n",
       "<style scoped>\n",
       "    .dataframe tbody tr th:only-of-type {\n",
       "        vertical-align: middle;\n",
       "    }\n",
       "\n",
       "    .dataframe tbody tr th {\n",
       "        vertical-align: top;\n",
       "    }\n",
       "\n",
       "    .dataframe thead th {\n",
       "        text-align: right;\n",
       "    }\n",
       "</style>\n",
       "<table border=\"1\" class=\"dataframe\">\n",
       "  <thead>\n",
       "    <tr style=\"text-align: right;\">\n",
       "      <th></th>\n",
       "      <th>model</th>\n",
       "      <th>Accuracy</th>\n",
       "      <th>ROC_AUC</th>\n",
       "      <th>Precision</th>\n",
       "      <th>Recall</th>\n",
       "      <th>f1</th>\n",
       "      <th>Logloss</th>\n",
       "    </tr>\n",
       "  </thead>\n",
       "  <tbody>\n",
       "    <tr>\n",
       "      <th>0</th>\n",
       "      <td>LGBM Baseline</td>\n",
       "      <td>0.805372</td>\n",
       "      <td>0.866423</td>\n",
       "      <td>0.401429</td>\n",
       "      <td>0.776243</td>\n",
       "      <td>0.529190</td>\n",
       "      <td>0.428424</td>\n",
       "    </tr>\n",
       "    <tr>\n",
       "      <th>0</th>\n",
       "      <td>LGBM Tuned</td>\n",
       "      <td>0.853640</td>\n",
       "      <td>0.868227</td>\n",
       "      <td>0.486056</td>\n",
       "      <td>0.674033</td>\n",
       "      <td>0.564815</td>\n",
       "      <td>0.388048</td>\n",
       "    </tr>\n",
       "    <tr>\n",
       "      <th>0</th>\n",
       "      <td>XGB Tuned</td>\n",
       "      <td>0.886726</td>\n",
       "      <td>0.868015</td>\n",
       "      <td>0.682051</td>\n",
       "      <td>0.367403</td>\n",
       "      <td>0.477558</td>\n",
       "      <td>0.279407</td>\n",
       "    </tr>\n",
       "    <tr>\n",
       "      <th>0</th>\n",
       "      <td>Catboost Baseline</td>\n",
       "      <td>0.809264</td>\n",
       "      <td>0.860902</td>\n",
       "      <td>0.405882</td>\n",
       "      <td>0.762431</td>\n",
       "      <td>0.529750</td>\n",
       "      <td>0.421407</td>\n",
       "    </tr>\n",
       "  </tbody>\n",
       "</table>\n",
       "</div>"
      ],
      "text/plain": [
       "               model  Accuracy   ROC_AUC  Precision    Recall        f1  \\\n",
       "0      LGBM Baseline  0.805372  0.866423   0.401429  0.776243  0.529190   \n",
       "0         LGBM Tuned  0.853640  0.868227   0.486056  0.674033  0.564815   \n",
       "0          XGB Tuned  0.886726  0.868015   0.682051  0.367403  0.477558   \n",
       "0  Catboost Baseline  0.809264  0.860902   0.405882  0.762431  0.529750   \n",
       "\n",
       "    Logloss  \n",
       "0  0.428424  \n",
       "0  0.388048  \n",
       "0  0.279407  \n",
       "0  0.421407  "
      ]
     },
     "execution_count": 244,
     "metadata": {},
     "output_type": "execute_result"
    }
   ],
   "source": [
    "metrics_val = pd.concat([metrics_val, get_metrics_classification(y_val_main, model4.predict(X_val_main), model4.predict_proba(X_val_main), name='Catboost Baseline')])\n",
    "metrics_val"
   ]
  },
  {
   "cell_type": "code",
   "execution_count": 245,
   "id": "90da527f-9781-45ac-95e6-ccfe5fc6be6f",
   "metadata": {},
   "outputs": [
    {
     "data": {
      "text/html": [
       "<div>\n",
       "<style scoped>\n",
       "    .dataframe tbody tr th:only-of-type {\n",
       "        vertical-align: middle;\n",
       "    }\n",
       "\n",
       "    .dataframe tbody tr th {\n",
       "        vertical-align: top;\n",
       "    }\n",
       "\n",
       "    .dataframe thead th {\n",
       "        text-align: right;\n",
       "    }\n",
       "</style>\n",
       "<table border=\"1\" class=\"dataframe\">\n",
       "  <thead>\n",
       "    <tr style=\"text-align: right;\">\n",
       "      <th></th>\n",
       "      <th>model</th>\n",
       "      <th>Accuracy</th>\n",
       "      <th>ROC_AUC</th>\n",
       "      <th>Precision</th>\n",
       "      <th>Recall</th>\n",
       "      <th>f1</th>\n",
       "      <th>Logloss</th>\n",
       "    </tr>\n",
       "  </thead>\n",
       "  <tbody>\n",
       "    <tr>\n",
       "      <th>0</th>\n",
       "      <td>LGBM Baseline</td>\n",
       "      <td>0.872875</td>\n",
       "      <td>0.799159</td>\n",
       "      <td>0.738255</td>\n",
       "      <td>0.150892</td>\n",
       "      <td>0.250569</td>\n",
       "      <td>0.385490</td>\n",
       "    </tr>\n",
       "    <tr>\n",
       "      <th>0</th>\n",
       "      <td>LGBM Tuned</td>\n",
       "      <td>0.880410</td>\n",
       "      <td>0.847495</td>\n",
       "      <td>0.772277</td>\n",
       "      <td>0.213992</td>\n",
       "      <td>0.335124</td>\n",
       "      <td>0.315372</td>\n",
       "    </tr>\n",
       "    <tr>\n",
       "      <th>0</th>\n",
       "      <td>XGB Tuned</td>\n",
       "      <td>0.861476</td>\n",
       "      <td>0.848149</td>\n",
       "      <td>0.875000</td>\n",
       "      <td>0.019204</td>\n",
       "      <td>0.037584</td>\n",
       "      <td>0.479110</td>\n",
       "    </tr>\n",
       "    <tr>\n",
       "      <th>0</th>\n",
       "      <td>Catboost Baseline</td>\n",
       "      <td>0.872295</td>\n",
       "      <td>0.838464</td>\n",
       "      <td>0.854167</td>\n",
       "      <td>0.112483</td>\n",
       "      <td>0.198788</td>\n",
       "      <td>0.377549</td>\n",
       "    </tr>\n",
       "  </tbody>\n",
       "</table>\n",
       "</div>"
      ],
      "text/plain": [
       "               model  Accuracy   ROC_AUC  Precision    Recall        f1  \\\n",
       "0      LGBM Baseline  0.872875  0.799159   0.738255  0.150892  0.250569   \n",
       "0         LGBM Tuned  0.880410  0.847495   0.772277  0.213992  0.335124   \n",
       "0          XGB Tuned  0.861476  0.848149   0.875000  0.019204  0.037584   \n",
       "0  Catboost Baseline  0.872295  0.838464   0.854167  0.112483  0.198788   \n",
       "\n",
       "    Logloss  \n",
       "0  0.385490  \n",
       "0  0.315372  \n",
       "0  0.479110  \n",
       "0  0.377549  "
      ]
     },
     "execution_count": 245,
     "metadata": {},
     "output_type": "execute_result"
    }
   ],
   "source": [
    "metrics_test = pd.concat([metrics_test, get_metrics_classification(y_test_main, model4.predict(X_test_main), model4.predict_proba(X_test_main), name='Catboost Baseline')])\n",
    "metrics_test"
   ]
  },
  {
   "cell_type": "code",
   "execution_count": 246,
   "id": "597a6fe6-4c3b-4bd3-8e45-60f42e1ca707",
   "metadata": {},
   "outputs": [
    {
     "name": "stdout",
     "output_type": "stream",
     "text": [
      "roc_auc_score train: 0.847\n",
      "roc_auc_score test: 0.838\n",
      "delta = 1.0 %\n"
     ]
    }
   ],
   "source": [
    "check_overfitting(model=model4, X_train=X_train_main, X_test=X_test_main, y_train=y_train_main, y_test=y_test_main, metric_fun=roc_auc_score)"
   ]
  },
  {
   "cell_type": "markdown",
   "id": "8a89046a-7976-4c5b-bef0-dd08c1d35384",
   "metadata": {
    "jp-MarkdownHeadingCollapsed": true
   },
   "source": [
    "# Random Forest Tuned"
   ]
  },
  {
   "cell_type": "code",
   "execution_count": 248,
   "id": "ced85815-f41d-4da4-a7e9-949fe6fee07b",
   "metadata": {
    "scrolled": true
   },
   "outputs": [
    {
     "name": "stderr",
     "output_type": "stream",
     "text": [
      "[I 2024-03-21 14:50:25,365] A new study created in memory with name: no-name-2d14318c-f068-4a0c-a616-4253beac2ad7\n"
     ]
    },
    {
     "data": {
      "application/vnd.jupyter.widget-view+json": {
       "model_id": "616cf77479e6469b8d144d6986a71342",
       "version_major": 2,
       "version_minor": 0
      },
      "text/plain": [
       "  0%|          | 0/25 [00:00<?, ?it/s]"
      ]
     },
     "metadata": {},
     "output_type": "display_data"
    },
    {
     "name": "stdout",
     "output_type": "stream",
     "text": [
      "[I 2024-03-21 14:50:25,901] Trial 0 finished with value: 0.8608627245805035 and parameters: {'n_estimators': 175, 'max_depth': 9, 'bootstrap': True, 'min_samples_leaf': 9, 'min_samples_split': 12, 'max_samples': 0.5020025220019371, 'max_features': 'sqrt', 'n_jobs': -1}. Best is trial 0 with value: 0.8608627245805035.\n",
      "[I 2024-03-21 14:50:28,614] Trial 1 finished with value: 0.8644931871719065 and parameters: {'n_estimators': 853, 'max_depth': 15, 'bootstrap': True, 'min_samples_leaf': 4, 'min_samples_split': 7, 'max_samples': 0.6632651959670838, 'max_features': 'sqrt', 'n_jobs': -1}. Best is trial 1 with value: 0.8644931871719065.\n",
      "[I 2024-03-21 14:50:29,868] Trial 2 finished with value: 0.8645319888751763 and parameters: {'n_estimators': 409, 'max_depth': 12, 'bootstrap': True, 'min_samples_leaf': 1, 'min_samples_split': 13, 'max_samples': 0.6017886306316345, 'max_features': 'log2', 'n_jobs': -1}. Best is trial 2 with value: 0.8645319888751763.\n",
      "[I 2024-03-21 14:50:32,427] Trial 3 finished with value: 0.865008874325038 and parameters: {'n_estimators': 792, 'max_depth': 11, 'bootstrap': True, 'min_samples_leaf': 4, 'min_samples_split': 6, 'max_samples': 0.8838523028135776, 'max_features': 'log2', 'n_jobs': -1}. Best is trial 3 with value: 0.865008874325038.\n",
      "[I 2024-03-21 14:50:34,615] Trial 4 finished with value: 0.8650833485619589 and parameters: {'n_estimators': 786, 'max_depth': 14, 'bootstrap': True, 'min_samples_leaf': 7, 'min_samples_split': 11, 'max_samples': 0.3635328288400233, 'max_features': 'sqrt', 'n_jobs': -1}. Best is trial 4 with value: 0.8650833485619589.\n",
      "[I 2024-03-21 14:50:35,847] Trial 5 finished with value: 0.8542038516323001 and parameters: {'n_estimators': 444, 'max_depth': 6, 'bootstrap': True, 'min_samples_leaf': 9, 'min_samples_split': 7, 'max_samples': 0.4313704399059336, 'max_features': 'log2', 'n_jobs': -1}. Best is trial 4 with value: 0.8650833485619589.\n",
      "[I 2024-03-21 14:50:37,731] Trial 6 finished with value: 0.864570164744522 and parameters: {'n_estimators': 625, 'max_depth': 11, 'bootstrap': True, 'min_samples_leaf': 3, 'min_samples_split': 2, 'max_samples': 0.6563302496128205, 'max_features': 'log2', 'n_jobs': -1}. Best is trial 4 with value: 0.8650833485619589.\n",
      "[I 2024-03-21 14:50:39,318] Trial 7 finished with value: 0.8538633979778054 and parameters: {'n_estimators': 582, 'max_depth': 6, 'bootstrap': True, 'min_samples_leaf': 5, 'min_samples_split': 17, 'max_samples': 0.6077590837232261, 'max_features': 'sqrt', 'n_jobs': -1}. Best is trial 4 with value: 0.8650833485619589.\n",
      "[I 2024-03-21 14:50:39,917] Trial 8 finished with value: 0.863580721311147 and parameters: {'n_estimators': 199, 'max_depth': 10, 'bootstrap': True, 'min_samples_leaf': 7, 'min_samples_split': 11, 'max_samples': 0.6698900536666195, 'max_features': 'log2', 'n_jobs': -1}. Best is trial 4 with value: 0.8650833485619589.\n",
      "[I 2024-03-21 14:50:40,419] Trial 9 finished with value: 0.854077433179712 and parameters: {'n_estimators': 181, 'max_depth': 6, 'bootstrap': True, 'min_samples_leaf': 6, 'min_samples_split': 6, 'max_samples': 0.4227405893424804, 'max_features': 'log2', 'n_jobs': -1}. Best is trial 4 with value: 0.8650833485619589.\n",
      "[I 2024-03-21 14:50:42,455] Trial 10 finished with value: 0.8647416432396167 and parameters: {'n_estimators': 721, 'max_depth': 15, 'bootstrap': True, 'min_samples_leaf': 7, 'min_samples_split': 18, 'max_samples': 0.313068082277186, 'max_features': 'sqrt', 'n_jobs': -1}. Best is trial 4 with value: 0.8650833485619589.\n",
      "[I 2024-03-21 14:50:45,516] Trial 11 finished with value: 0.8621244057706894 and parameters: {'n_estimators': 855, 'max_depth': 13, 'bootstrap': True, 'min_samples_leaf': 2, 'min_samples_split': 2, 'max_samples': 0.8962556365413883, 'max_features': 'sqrt', 'n_jobs': -1}. Best is trial 4 with value: 0.8650833485619589.\n",
      "[I 2024-03-21 14:50:47,537] Trial 12 finished with value: 0.8404849461907992 and parameters: {'n_estimators': 733, 'max_depth': 3, 'bootstrap': True, 'min_samples_leaf': 5, 'min_samples_split': 9, 'max_samples': 0.9449129273515101, 'max_features': 'log2', 'n_jobs': -1}. Best is trial 4 with value: 0.8650833485619589.\n",
      "[I 2024-03-21 14:50:50,232] Trial 13 finished with value: 0.8661848162676766 and parameters: {'n_estimators': 730, 'max_depth': 13, 'bootstrap': True, 'min_samples_leaf': 7, 'min_samples_split': 14, 'max_samples': 0.8053623789842076, 'max_features': 'sqrt', 'n_jobs': -1}. Best is trial 13 with value: 0.8661848162676766.\n",
      "[I 2024-03-21 14:50:52,660] Trial 14 finished with value: 0.8657373450122289 and parameters: {'n_estimators': 621, 'max_depth': 14, 'bootstrap': True, 'min_samples_leaf': 10, 'min_samples_split': 15, 'max_samples': 0.7965914931751463, 'max_features': 'sqrt', 'n_jobs': -1}. Best is trial 13 with value: 0.8661848162676766.\n",
      "[I 2024-03-21 14:50:55,259] Trial 15 finished with value: 0.8656046682204037 and parameters: {'n_estimators': 567, 'max_depth': 13, 'bootstrap': True, 'min_samples_leaf': 10, 'min_samples_split': 15, 'max_samples': 0.7851428518159302, 'max_features': 'sqrt', 'n_jobs': -1}. Best is trial 13 with value: 0.8661848162676766.\n",
      "[I 2024-03-21 14:50:56,598] Trial 16 finished with value: 0.860167423091269 and parameters: {'n_estimators': 355, 'max_depth': 8, 'bootstrap': True, 'min_samples_leaf': 10, 'min_samples_split': 14, 'max_samples': 0.7942134752377661, 'max_features': 'sqrt', 'n_jobs': -1}. Best is trial 13 with value: 0.8661848162676766.\n",
      "[I 2024-03-21 14:50:58,791] Trial 17 finished with value: 0.8656828974608667 and parameters: {'n_estimators': 660, 'max_depth': 13, 'bootstrap': True, 'min_samples_leaf': 8, 'min_samples_split': 20, 'max_samples': 0.7773505482818793, 'max_features': 'sqrt', 'n_jobs': -1}. Best is trial 13 with value: 0.8661848162676766.\n",
      "[I 2024-03-21 14:51:00,615] Trial 18 finished with value: 0.8656991691428828 and parameters: {'n_estimators': 496, 'max_depth': 15, 'bootstrap': True, 'min_samples_leaf': 9, 'min_samples_split': 16, 'max_samples': 0.9825904608400498, 'max_features': 'sqrt', 'n_jobs': -1}. Best is trial 13 with value: 0.8661848162676766.\n",
      "[I 2024-03-21 14:51:01,996] Trial 19 finished with value: 0.8650789677244928 and parameters: {'n_estimators': 330, 'max_depth': 12, 'bootstrap': True, 'min_samples_leaf': 8, 'min_samples_split': 18, 'max_samples': 0.8458068024942892, 'max_features': 'sqrt', 'n_jobs': -1}. Best is trial 13 with value: 0.8661848162676766.\n",
      "[I 2024-03-21 14:51:04,832] Trial 20 finished with value: 0.8627677630442564 and parameters: {'n_estimators': 896, 'max_depth': 9, 'bootstrap': True, 'min_samples_leaf': 6, 'min_samples_split': 20, 'max_samples': 0.7470868637650417, 'max_features': 'sqrt', 'n_jobs': -1}. Best is trial 13 with value: 0.8661848162676766.\n",
      "[I 2024-03-21 14:51:06,766] Trial 21 finished with value: 0.8653023904352549 and parameters: {'n_estimators': 521, 'max_depth': 15, 'bootstrap': True, 'min_samples_leaf': 9, 'min_samples_split': 16, 'max_samples': 0.9854364172477826, 'max_features': 'sqrt', 'n_jobs': -1}. Best is trial 13 with value: 0.8661848162676766.\n",
      "[I 2024-03-21 14:51:08,576] Trial 22 finished with value: 0.8660540169776226 and parameters: {'n_estimators': 493, 'max_depth': 14, 'bootstrap': True, 'min_samples_leaf': 10, 'min_samples_split': 15, 'max_samples': 0.7212797759749507, 'max_features': 'sqrt', 'n_jobs': -1}. Best is trial 13 with value: 0.8661848162676766.\n",
      "[I 2024-03-21 14:51:11,539] Trial 23 finished with value: 0.8659770394050073 and parameters: {'n_estimators': 681, 'max_depth': 14, 'bootstrap': True, 'min_samples_leaf': 10, 'min_samples_split': 14, 'max_samples': 0.7341759194642414, 'max_features': 'sqrt', 'n_jobs': -1}. Best is trial 13 with value: 0.8661848162676766.\n",
      "[I 2024-03-21 14:51:14,349] Trial 24 finished with value: 0.8658243359276235 and parameters: {'n_estimators': 693, 'max_depth': 12, 'bootstrap': True, 'min_samples_leaf': 8, 'min_samples_split': 13, 'max_samples': 0.731212643657674, 'max_features': 'sqrt', 'n_jobs': -1}. Best is trial 13 with value: 0.8661848162676766.\n"
     ]
    }
   ],
   "source": [
    "def objective_rf(trial, random_state):\n",
    "    rf_params = {\n",
    "        'n_estimators': trial.suggest_int('n_estimators', 100, 900),\n",
    "        \"max_depth\": trial.suggest_int(\"max_depth\", 3, 15),\n",
    "        'bootstrap': trial.suggest_categorical(\"bootstrap\", [True]),\n",
    "        'min_samples_leaf': trial.suggest_int('min_samples_leaf', 1, 10),\n",
    "        'min_samples_split': trial.suggest_int('min_samples_split', 2, 20),\n",
    "        'max_samples': trial.suggest_float('max_samples', 0.3, 0.99),\n",
    "        'max_features': trial.suggest_categorical(\"max_features\", ['sqrt', 'log2']),\n",
    "        'n_jobs': trial.suggest_categorical(\"n_jobs\", [-1])\n",
    "    }\n",
    "\n",
    "    model = RandomForestClassifier(**rf_params, random_state=RAND, class_weight='balanced')\n",
    "    model.fit(X_train_main_, y_train_main_)\n",
    "\n",
    "    preds = model.predict_proba(X_val_main)[:, 1]\n",
    "    score = roc_auc_score(y_val_main, preds)\n",
    "    return score\n",
    "\n",
    "study_rf = optuna.create_study(direction=\"maximize\")\n",
    "pointer = lambda trial: objective_rf(trial, random_state=RAND)\n",
    "study_rf.optimize(pointer, n_trials=25, show_progress_bar=True)"
   ]
  },
  {
   "cell_type": "code",
   "execution_count": 249,
   "id": "c2e421c1-807f-46c0-a08d-0f8c5f2afd8f",
   "metadata": {},
   "outputs": [
    {
     "data": {
      "text/plain": [
       "{'n_estimators': 730,\n",
       " 'max_depth': 13,\n",
       " 'bootstrap': True,\n",
       " 'min_samples_leaf': 7,\n",
       " 'min_samples_split': 14,\n",
       " 'max_samples': 0.8053623789842076,\n",
       " 'max_features': 'sqrt',\n",
       " 'n_jobs': -1}"
      ]
     },
     "execution_count": 249,
     "metadata": {},
     "output_type": "execute_result"
    }
   ],
   "source": [
    "study_rf.best_params"
   ]
  },
  {
   "cell_type": "markdown",
   "id": "6de774b8-8f99-4406-aefe-514075c16304",
   "metadata": {},
   "source": [
    "Saved:\n",
    "{'n_estimators': 730,\n",
    " 'max_depth': 13,\n",
    " 'bootstrap': True,\n",
    " 'min_samples_leaf': 7,\n",
    " 'min_samples_split': 14,\n",
    " 'max_samples': 0.8053623789842076,\n",
    " 'max_features': 'sqrt',\n",
    " 'n_jobs': -1}"
   ]
  },
  {
   "cell_type": "code",
   "execution_count": 250,
   "id": "12329846-8358-471f-b55c-2bfb22e7047e",
   "metadata": {},
   "outputs": [
    {
     "data": {
      "application/vnd.plotly.v1+json": {
       "config": {
        "plotlyServerURL": "https://plot.ly"
       },
       "data": [
        {
         "mode": "markers",
         "name": "Objective Value",
         "type": "scatter",
         "x": [
          0,
          1,
          2,
          3,
          4,
          5,
          6,
          7,
          8,
          9,
          10,
          11,
          12,
          13,
          14,
          15,
          16,
          17,
          18,
          19,
          20,
          21,
          22,
          23,
          24
         ],
         "y": [
          0.8608627245805035,
          0.8644931871719065,
          0.8645319888751763,
          0.865008874325038,
          0.8650833485619589,
          0.8542038516323001,
          0.864570164744522,
          0.8538633979778054,
          0.863580721311147,
          0.854077433179712,
          0.8647416432396167,
          0.8621244057706894,
          0.8404849461907992,
          0.8661848162676766,
          0.8657373450122289,
          0.8656046682204037,
          0.860167423091269,
          0.8656828974608667,
          0.8656991691428828,
          0.8650789677244928,
          0.8627677630442564,
          0.8653023904352549,
          0.8660540169776226,
          0.8659770394050073,
          0.8658243359276235
         ]
        },
        {
         "mode": "lines",
         "name": "Best Value",
         "type": "scatter",
         "x": [
          0,
          1,
          2,
          3,
          4,
          5,
          6,
          7,
          8,
          9,
          10,
          11,
          12,
          13,
          14,
          15,
          16,
          17,
          18,
          19,
          20,
          21,
          22,
          23,
          24
         ],
         "y": [
          0.8608627245805035,
          0.8644931871719065,
          0.8645319888751763,
          0.865008874325038,
          0.8650833485619589,
          0.8650833485619589,
          0.8650833485619589,
          0.8650833485619589,
          0.8650833485619589,
          0.8650833485619589,
          0.8650833485619589,
          0.8650833485619589,
          0.8650833485619589,
          0.8661848162676766,
          0.8661848162676766,
          0.8661848162676766,
          0.8661848162676766,
          0.8661848162676766,
          0.8661848162676766,
          0.8661848162676766,
          0.8661848162676766,
          0.8661848162676766,
          0.8661848162676766,
          0.8661848162676766,
          0.8661848162676766
         ]
        },
        {
         "marker": {
          "color": "#cccccc"
         },
         "mode": "markers",
         "name": "Infeasible Trial",
         "showlegend": false,
         "type": "scatter",
         "x": [],
         "y": []
        }
       ],
       "layout": {
        "autosize": true,
        "template": {
         "data": {
          "bar": [
           {
            "error_x": {
             "color": "#2a3f5f"
            },
            "error_y": {
             "color": "#2a3f5f"
            },
            "marker": {
             "line": {
              "color": "#E5ECF6",
              "width": 0.5
             },
             "pattern": {
              "fillmode": "overlay",
              "size": 10,
              "solidity": 0.2
             }
            },
            "type": "bar"
           }
          ],
          "barpolar": [
           {
            "marker": {
             "line": {
              "color": "#E5ECF6",
              "width": 0.5
             },
             "pattern": {
              "fillmode": "overlay",
              "size": 10,
              "solidity": 0.2
             }
            },
            "type": "barpolar"
           }
          ],
          "carpet": [
           {
            "aaxis": {
             "endlinecolor": "#2a3f5f",
             "gridcolor": "white",
             "linecolor": "white",
             "minorgridcolor": "white",
             "startlinecolor": "#2a3f5f"
            },
            "baxis": {
             "endlinecolor": "#2a3f5f",
             "gridcolor": "white",
             "linecolor": "white",
             "minorgridcolor": "white",
             "startlinecolor": "#2a3f5f"
            },
            "type": "carpet"
           }
          ],
          "choropleth": [
           {
            "colorbar": {
             "outlinewidth": 0,
             "ticks": ""
            },
            "type": "choropleth"
           }
          ],
          "contour": [
           {
            "colorbar": {
             "outlinewidth": 0,
             "ticks": ""
            },
            "colorscale": [
             [
              0,
              "#0d0887"
             ],
             [
              0.1111111111111111,
              "#46039f"
             ],
             [
              0.2222222222222222,
              "#7201a8"
             ],
             [
              0.3333333333333333,
              "#9c179e"
             ],
             [
              0.4444444444444444,
              "#bd3786"
             ],
             [
              0.5555555555555556,
              "#d8576b"
             ],
             [
              0.6666666666666666,
              "#ed7953"
             ],
             [
              0.7777777777777778,
              "#fb9f3a"
             ],
             [
              0.8888888888888888,
              "#fdca26"
             ],
             [
              1,
              "#f0f921"
             ]
            ],
            "type": "contour"
           }
          ],
          "contourcarpet": [
           {
            "colorbar": {
             "outlinewidth": 0,
             "ticks": ""
            },
            "type": "contourcarpet"
           }
          ],
          "heatmap": [
           {
            "colorbar": {
             "outlinewidth": 0,
             "ticks": ""
            },
            "colorscale": [
             [
              0,
              "#0d0887"
             ],
             [
              0.1111111111111111,
              "#46039f"
             ],
             [
              0.2222222222222222,
              "#7201a8"
             ],
             [
              0.3333333333333333,
              "#9c179e"
             ],
             [
              0.4444444444444444,
              "#bd3786"
             ],
             [
              0.5555555555555556,
              "#d8576b"
             ],
             [
              0.6666666666666666,
              "#ed7953"
             ],
             [
              0.7777777777777778,
              "#fb9f3a"
             ],
             [
              0.8888888888888888,
              "#fdca26"
             ],
             [
              1,
              "#f0f921"
             ]
            ],
            "type": "heatmap"
           }
          ],
          "heatmapgl": [
           {
            "colorbar": {
             "outlinewidth": 0,
             "ticks": ""
            },
            "colorscale": [
             [
              0,
              "#0d0887"
             ],
             [
              0.1111111111111111,
              "#46039f"
             ],
             [
              0.2222222222222222,
              "#7201a8"
             ],
             [
              0.3333333333333333,
              "#9c179e"
             ],
             [
              0.4444444444444444,
              "#bd3786"
             ],
             [
              0.5555555555555556,
              "#d8576b"
             ],
             [
              0.6666666666666666,
              "#ed7953"
             ],
             [
              0.7777777777777778,
              "#fb9f3a"
             ],
             [
              0.8888888888888888,
              "#fdca26"
             ],
             [
              1,
              "#f0f921"
             ]
            ],
            "type": "heatmapgl"
           }
          ],
          "histogram": [
           {
            "marker": {
             "pattern": {
              "fillmode": "overlay",
              "size": 10,
              "solidity": 0.2
             }
            },
            "type": "histogram"
           }
          ],
          "histogram2d": [
           {
            "colorbar": {
             "outlinewidth": 0,
             "ticks": ""
            },
            "colorscale": [
             [
              0,
              "#0d0887"
             ],
             [
              0.1111111111111111,
              "#46039f"
             ],
             [
              0.2222222222222222,
              "#7201a8"
             ],
             [
              0.3333333333333333,
              "#9c179e"
             ],
             [
              0.4444444444444444,
              "#bd3786"
             ],
             [
              0.5555555555555556,
              "#d8576b"
             ],
             [
              0.6666666666666666,
              "#ed7953"
             ],
             [
              0.7777777777777778,
              "#fb9f3a"
             ],
             [
              0.8888888888888888,
              "#fdca26"
             ],
             [
              1,
              "#f0f921"
             ]
            ],
            "type": "histogram2d"
           }
          ],
          "histogram2dcontour": [
           {
            "colorbar": {
             "outlinewidth": 0,
             "ticks": ""
            },
            "colorscale": [
             [
              0,
              "#0d0887"
             ],
             [
              0.1111111111111111,
              "#46039f"
             ],
             [
              0.2222222222222222,
              "#7201a8"
             ],
             [
              0.3333333333333333,
              "#9c179e"
             ],
             [
              0.4444444444444444,
              "#bd3786"
             ],
             [
              0.5555555555555556,
              "#d8576b"
             ],
             [
              0.6666666666666666,
              "#ed7953"
             ],
             [
              0.7777777777777778,
              "#fb9f3a"
             ],
             [
              0.8888888888888888,
              "#fdca26"
             ],
             [
              1,
              "#f0f921"
             ]
            ],
            "type": "histogram2dcontour"
           }
          ],
          "mesh3d": [
           {
            "colorbar": {
             "outlinewidth": 0,
             "ticks": ""
            },
            "type": "mesh3d"
           }
          ],
          "parcoords": [
           {
            "line": {
             "colorbar": {
              "outlinewidth": 0,
              "ticks": ""
             }
            },
            "type": "parcoords"
           }
          ],
          "pie": [
           {
            "automargin": true,
            "type": "pie"
           }
          ],
          "scatter": [
           {
            "fillpattern": {
             "fillmode": "overlay",
             "size": 10,
             "solidity": 0.2
            },
            "type": "scatter"
           }
          ],
          "scatter3d": [
           {
            "line": {
             "colorbar": {
              "outlinewidth": 0,
              "ticks": ""
             }
            },
            "marker": {
             "colorbar": {
              "outlinewidth": 0,
              "ticks": ""
             }
            },
            "type": "scatter3d"
           }
          ],
          "scattercarpet": [
           {
            "marker": {
             "colorbar": {
              "outlinewidth": 0,
              "ticks": ""
             }
            },
            "type": "scattercarpet"
           }
          ],
          "scattergeo": [
           {
            "marker": {
             "colorbar": {
              "outlinewidth": 0,
              "ticks": ""
             }
            },
            "type": "scattergeo"
           }
          ],
          "scattergl": [
           {
            "marker": {
             "colorbar": {
              "outlinewidth": 0,
              "ticks": ""
             }
            },
            "type": "scattergl"
           }
          ],
          "scattermapbox": [
           {
            "marker": {
             "colorbar": {
              "outlinewidth": 0,
              "ticks": ""
             }
            },
            "type": "scattermapbox"
           }
          ],
          "scatterpolar": [
           {
            "marker": {
             "colorbar": {
              "outlinewidth": 0,
              "ticks": ""
             }
            },
            "type": "scatterpolar"
           }
          ],
          "scatterpolargl": [
           {
            "marker": {
             "colorbar": {
              "outlinewidth": 0,
              "ticks": ""
             }
            },
            "type": "scatterpolargl"
           }
          ],
          "scatterternary": [
           {
            "marker": {
             "colorbar": {
              "outlinewidth": 0,
              "ticks": ""
             }
            },
            "type": "scatterternary"
           }
          ],
          "surface": [
           {
            "colorbar": {
             "outlinewidth": 0,
             "ticks": ""
            },
            "colorscale": [
             [
              0,
              "#0d0887"
             ],
             [
              0.1111111111111111,
              "#46039f"
             ],
             [
              0.2222222222222222,
              "#7201a8"
             ],
             [
              0.3333333333333333,
              "#9c179e"
             ],
             [
              0.4444444444444444,
              "#bd3786"
             ],
             [
              0.5555555555555556,
              "#d8576b"
             ],
             [
              0.6666666666666666,
              "#ed7953"
             ],
             [
              0.7777777777777778,
              "#fb9f3a"
             ],
             [
              0.8888888888888888,
              "#fdca26"
             ],
             [
              1,
              "#f0f921"
             ]
            ],
            "type": "surface"
           }
          ],
          "table": [
           {
            "cells": {
             "fill": {
              "color": "#EBF0F8"
             },
             "line": {
              "color": "white"
             }
            },
            "header": {
             "fill": {
              "color": "#C8D4E3"
             },
             "line": {
              "color": "white"
             }
            },
            "type": "table"
           }
          ]
         },
         "layout": {
          "annotationdefaults": {
           "arrowcolor": "#2a3f5f",
           "arrowhead": 0,
           "arrowwidth": 1
          },
          "autotypenumbers": "strict",
          "coloraxis": {
           "colorbar": {
            "outlinewidth": 0,
            "ticks": ""
           }
          },
          "colorscale": {
           "diverging": [
            [
             0,
             "#8e0152"
            ],
            [
             0.1,
             "#c51b7d"
            ],
            [
             0.2,
             "#de77ae"
            ],
            [
             0.3,
             "#f1b6da"
            ],
            [
             0.4,
             "#fde0ef"
            ],
            [
             0.5,
             "#f7f7f7"
            ],
            [
             0.6,
             "#e6f5d0"
            ],
            [
             0.7,
             "#b8e186"
            ],
            [
             0.8,
             "#7fbc41"
            ],
            [
             0.9,
             "#4d9221"
            ],
            [
             1,
             "#276419"
            ]
           ],
           "sequential": [
            [
             0,
             "#0d0887"
            ],
            [
             0.1111111111111111,
             "#46039f"
            ],
            [
             0.2222222222222222,
             "#7201a8"
            ],
            [
             0.3333333333333333,
             "#9c179e"
            ],
            [
             0.4444444444444444,
             "#bd3786"
            ],
            [
             0.5555555555555556,
             "#d8576b"
            ],
            [
             0.6666666666666666,
             "#ed7953"
            ],
            [
             0.7777777777777778,
             "#fb9f3a"
            ],
            [
             0.8888888888888888,
             "#fdca26"
            ],
            [
             1,
             "#f0f921"
            ]
           ],
           "sequentialminus": [
            [
             0,
             "#0d0887"
            ],
            [
             0.1111111111111111,
             "#46039f"
            ],
            [
             0.2222222222222222,
             "#7201a8"
            ],
            [
             0.3333333333333333,
             "#9c179e"
            ],
            [
             0.4444444444444444,
             "#bd3786"
            ],
            [
             0.5555555555555556,
             "#d8576b"
            ],
            [
             0.6666666666666666,
             "#ed7953"
            ],
            [
             0.7777777777777778,
             "#fb9f3a"
            ],
            [
             0.8888888888888888,
             "#fdca26"
            ],
            [
             1,
             "#f0f921"
            ]
           ]
          },
          "colorway": [
           "#636efa",
           "#EF553B",
           "#00cc96",
           "#ab63fa",
           "#FFA15A",
           "#19d3f3",
           "#FF6692",
           "#B6E880",
           "#FF97FF",
           "#FECB52"
          ],
          "font": {
           "color": "#2a3f5f"
          },
          "geo": {
           "bgcolor": "white",
           "lakecolor": "white",
           "landcolor": "#E5ECF6",
           "showlakes": true,
           "showland": true,
           "subunitcolor": "white"
          },
          "hoverlabel": {
           "align": "left"
          },
          "hovermode": "closest",
          "mapbox": {
           "style": "light"
          },
          "paper_bgcolor": "white",
          "plot_bgcolor": "#E5ECF6",
          "polar": {
           "angularaxis": {
            "gridcolor": "white",
            "linecolor": "white",
            "ticks": ""
           },
           "bgcolor": "#E5ECF6",
           "radialaxis": {
            "gridcolor": "white",
            "linecolor": "white",
            "ticks": ""
           }
          },
          "scene": {
           "xaxis": {
            "backgroundcolor": "#E5ECF6",
            "gridcolor": "white",
            "gridwidth": 2,
            "linecolor": "white",
            "showbackground": true,
            "ticks": "",
            "zerolinecolor": "white"
           },
           "yaxis": {
            "backgroundcolor": "#E5ECF6",
            "gridcolor": "white",
            "gridwidth": 2,
            "linecolor": "white",
            "showbackground": true,
            "ticks": "",
            "zerolinecolor": "white"
           },
           "zaxis": {
            "backgroundcolor": "#E5ECF6",
            "gridcolor": "white",
            "gridwidth": 2,
            "linecolor": "white",
            "showbackground": true,
            "ticks": "",
            "zerolinecolor": "white"
           }
          },
          "shapedefaults": {
           "line": {
            "color": "#2a3f5f"
           }
          },
          "ternary": {
           "aaxis": {
            "gridcolor": "white",
            "linecolor": "white",
            "ticks": ""
           },
           "baxis": {
            "gridcolor": "white",
            "linecolor": "white",
            "ticks": ""
           },
           "bgcolor": "#E5ECF6",
           "caxis": {
            "gridcolor": "white",
            "linecolor": "white",
            "ticks": ""
           }
          },
          "title": {
           "x": 0.05
          },
          "xaxis": {
           "automargin": true,
           "gridcolor": "white",
           "linecolor": "white",
           "ticks": "",
           "title": {
            "standoff": 15
           },
           "zerolinecolor": "white",
           "zerolinewidth": 2
          },
          "yaxis": {
           "automargin": true,
           "gridcolor": "white",
           "linecolor": "white",
           "ticks": "",
           "title": {
            "standoff": 15
           },
           "zerolinecolor": "white",
           "zerolinewidth": 2
          }
         }
        },
        "title": {
         "text": "Optimization History Plot"
        },
        "xaxis": {
         "autorange": true,
         "range": [
          -1.4645669291338583,
          25.46456692913386
         ],
         "title": {
          "text": "Trial"
         },
         "type": "linear"
        },
        "yaxis": {
         "autorange": true,
         "range": [
          0.8383640831262025,
          0.8683056793322733
         ],
         "title": {
          "text": "Objective Value"
         },
         "type": "linear"
        }
       }
      },
      "image/png": "[encoded data removed]",
      "text/html": [
       "<div>                            <div id=\"bd900ae0-c01a-4888-bbd2-8c6058457df9\" class=\"plotly-graph-div\" style=\"height:525px; width:100%;\"></div>            <script type=\"text/javascript\">                require([\"plotly\"], function(Plotly) {                    window.PLOTLYENV=window.PLOTLYENV || {};                                    if (document.getElementById(\"bd900ae0-c01a-4888-bbd2-8c6058457df9\")) {                    Plotly.newPlot(                        \"bd900ae0-c01a-4888-bbd2-8c6058457df9\",                        [{\"mode\":\"markers\",\"name\":\"Objective Value\",\"x\":[0,1,2,3,4,5,6,7,8,9,10,11,12,13,14,15,16,17,18,19,20,21,22,23,24],\"y\":[0.8608627245805035,0.8644931871719065,0.8645319888751763,0.865008874325038,0.8650833485619589,0.8542038516323001,0.864570164744522,0.8538633979778054,0.863580721311147,0.854077433179712,0.8647416432396167,0.8621244057706894,0.8404849461907992,0.8661848162676766,0.8657373450122289,0.8656046682204037,0.860167423091269,0.8656828974608667,0.8656991691428828,0.8650789677244928,0.8627677630442564,0.8653023904352549,0.8660540169776226,0.8659770394050073,0.8658243359276235],\"type\":\"scatter\"},{\"mode\":\"lines\",\"name\":\"Best Value\",\"x\":[0,1,2,3,4,5,6,7,8,9,10,11,12,13,14,15,16,17,18,19,20,21,22,23,24],\"y\":[0.8608627245805035,0.8644931871719065,0.8645319888751763,0.865008874325038,0.8650833485619589,0.8650833485619589,0.8650833485619589,0.8650833485619589,0.8650833485619589,0.8650833485619589,0.8650833485619589,0.8650833485619589,0.8650833485619589,0.8661848162676766,0.8661848162676766,0.8661848162676766,0.8661848162676766,0.8661848162676766,0.8661848162676766,0.8661848162676766,0.8661848162676766,0.8661848162676766,0.8661848162676766,0.8661848162676766,0.8661848162676766],\"type\":\"scatter\"},{\"marker\":{\"color\":\"#cccccc\"},\"mode\":\"markers\",\"name\":\"Infeasible Trial\",\"showlegend\":false,\"x\":[],\"y\":[],\"type\":\"scatter\"}],                        {\"title\":{\"text\":\"Optimization History Plot\"},\"xaxis\":{\"title\":{\"text\":\"Trial\"}},\"yaxis\":{\"title\":{\"text\":\"Objective Value\"}},\"template\":{\"data\":{\"histogram2dcontour\":[{\"type\":\"histogram2dcontour\",\"colorbar\":{\"outlinewidth\":0,\"ticks\":\"\"},\"colorscale\":[[0.0,\"#0d0887\"],[0.1111111111111111,\"#46039f\"],[0.2222222222222222,\"#7201a8\"],[0.3333333333333333,\"#9c179e\"],[0.4444444444444444,\"#bd3786\"],[0.5555555555555556,\"#d8576b\"],[0.6666666666666666,\"#ed7953\"],[0.7777777777777778,\"#fb9f3a\"],[0.8888888888888888,\"#fdca26\"],[1.0,\"#f0f921\"]]}],\"choropleth\":[{\"type\":\"choropleth\",\"colorbar\":{\"outlinewidth\":0,\"ticks\":\"\"}}],\"histogram2d\":[{\"type\":\"histogram2d\",\"colorbar\":{\"outlinewidth\":0,\"ticks\":\"\"},\"colorscale\":[[0.0,\"#0d0887\"],[0.1111111111111111,\"#46039f\"],[0.2222222222222222,\"#7201a8\"],[0.3333333333333333,\"#9c179e\"],[0.4444444444444444,\"#bd3786\"],[0.5555555555555556,\"#d8576b\"],[0.6666666666666666,\"#ed7953\"],[0.7777777777777778,\"#fb9f3a\"],[0.8888888888888888,\"#fdca26\"],[1.0,\"#f0f921\"]]}],\"heatmap\":[{\"type\":\"heatmap\",\"colorbar\":{\"outlinewidth\":0,\"ticks\":\"\"},\"colorscale\":[[0.0,\"#0d0887\"],[0.1111111111111111,\"#46039f\"],[0.2222222222222222,\"#7201a8\"],[0.3333333333333333,\"#9c179e\"],[0.4444444444444444,\"#bd3786\"],[0.5555555555555556,\"#d8576b\"],[0.6666666666666666,\"#ed7953\"],[0.7777777777777778,\"#fb9f3a\"],[0.8888888888888888,\"#fdca26\"],[1.0,\"#f0f921\"]]}],\"heatmapgl\":[{\"type\":\"heatmapgl\",\"colorbar\":{\"outlinewidth\":0,\"ticks\":\"\"},\"colorscale\":[[0.0,\"#0d0887\"],[0.1111111111111111,\"#46039f\"],[0.2222222222222222,\"#7201a8\"],[0.3333333333333333,\"#9c179e\"],[0.4444444444444444,\"#bd3786\"],[0.5555555555555556,\"#d8576b\"],[0.6666666666666666,\"#ed7953\"],[0.7777777777777778,\"#fb9f3a\"],[0.8888888888888888,\"#fdca26\"],[1.0,\"#f0f921\"]]}],\"contourcarpet\":[{\"type\":\"contourcarpet\",\"colorbar\":{\"outlinewidth\":0,\"ticks\":\"\"}}],\"contour\":[{\"type\":\"contour\",\"colorbar\":{\"outlinewidth\":0,\"ticks\":\"\"},\"colorscale\":[[0.0,\"#0d0887\"],[0.1111111111111111,\"#46039f\"],[0.2222222222222222,\"#7201a8\"],[0.3333333333333333,\"#9c179e\"],[0.4444444444444444,\"#bd3786\"],[0.5555555555555556,\"#d8576b\"],[0.6666666666666666,\"#ed7953\"],[0.7777777777777778,\"#fb9f3a\"],[0.8888888888888888,\"#fdca26\"],[1.0,\"#f0f921\"]]}],\"surface\":[{\"type\":\"surface\",\"colorbar\":{\"outlinewidth\":0,\"ticks\":\"\"},\"colorscale\":[[0.0,\"#0d0887\"],[0.1111111111111111,\"#46039f\"],[0.2222222222222222,\"#7201a8\"],[0.3333333333333333,\"#9c179e\"],[0.4444444444444444,\"#bd3786\"],[0.5555555555555556,\"#d8576b\"],[0.6666666666666666,\"#ed7953\"],[0.7777777777777778,\"#fb9f3a\"],[0.8888888888888888,\"#fdca26\"],[1.0,\"#f0f921\"]]}],\"mesh3d\":[{\"type\":\"mesh3d\",\"colorbar\":{\"outlinewidth\":0,\"ticks\":\"\"}}],\"scatter\":[{\"fillpattern\":{\"fillmode\":\"overlay\",\"size\":10,\"solidity\":0.2},\"type\":\"scatter\"}],\"parcoords\":[{\"type\":\"parcoords\",\"line\":{\"colorbar\":{\"outlinewidth\":0,\"ticks\":\"\"}}}],\"scatterpolargl\":[{\"type\":\"scatterpolargl\",\"marker\":{\"colorbar\":{\"outlinewidth\":0,\"ticks\":\"\"}}}],\"bar\":[{\"error_x\":{\"color\":\"#2a3f5f\"},\"error_y\":{\"color\":\"#2a3f5f\"},\"marker\":{\"line\":{\"color\":\"#E5ECF6\",\"width\":0.5},\"pattern\":{\"fillmode\":\"overlay\",\"size\":10,\"solidity\":0.2}},\"type\":\"bar\"}],\"scattergeo\":[{\"type\":\"scattergeo\",\"marker\":{\"colorbar\":{\"outlinewidth\":0,\"ticks\":\"\"}}}],\"scatterpolar\":[{\"type\":\"scatterpolar\",\"marker\":{\"colorbar\":{\"outlinewidth\":0,\"ticks\":\"\"}}}],\"histogram\":[{\"marker\":{\"pattern\":{\"fillmode\":\"overlay\",\"size\":10,\"solidity\":0.2}},\"type\":\"histogram\"}],\"scattergl\":[{\"type\":\"scattergl\",\"marker\":{\"colorbar\":{\"outlinewidth\":0,\"ticks\":\"\"}}}],\"scatter3d\":[{\"type\":\"scatter3d\",\"line\":{\"colorbar\":{\"outlinewidth\":0,\"ticks\":\"\"}},\"marker\":{\"colorbar\":{\"outlinewidth\":0,\"ticks\":\"\"}}}],\"scattermapbox\":[{\"type\":\"scattermapbox\",\"marker\":{\"colorbar\":{\"outlinewidth\":0,\"ticks\":\"\"}}}],\"scatterternary\":[{\"type\":\"scatterternary\",\"marker\":{\"colorbar\":{\"outlinewidth\":0,\"ticks\":\"\"}}}],\"scattercarpet\":[{\"type\":\"scattercarpet\",\"marker\":{\"colorbar\":{\"outlinewidth\":0,\"ticks\":\"\"}}}],\"carpet\":[{\"aaxis\":{\"endlinecolor\":\"#2a3f5f\",\"gridcolor\":\"white\",\"linecolor\":\"white\",\"minorgridcolor\":\"white\",\"startlinecolor\":\"#2a3f5f\"},\"baxis\":{\"endlinecolor\":\"#2a3f5f\",\"gridcolor\":\"white\",\"linecolor\":\"white\",\"minorgridcolor\":\"white\",\"startlinecolor\":\"#2a3f5f\"},\"type\":\"carpet\"}],\"table\":[{\"cells\":{\"fill\":{\"color\":\"#EBF0F8\"},\"line\":{\"color\":\"white\"}},\"header\":{\"fill\":{\"color\":\"#C8D4E3\"},\"line\":{\"color\":\"white\"}},\"type\":\"table\"}],\"barpolar\":[{\"marker\":{\"line\":{\"color\":\"#E5ECF6\",\"width\":0.5},\"pattern\":{\"fillmode\":\"overlay\",\"size\":10,\"solidity\":0.2}},\"type\":\"barpolar\"}],\"pie\":[{\"automargin\":true,\"type\":\"pie\"}]},\"layout\":{\"autotypenumbers\":\"strict\",\"colorway\":[\"#636efa\",\"#EF553B\",\"#00cc96\",\"#ab63fa\",\"#FFA15A\",\"#19d3f3\",\"#FF6692\",\"#B6E880\",\"#FF97FF\",\"#FECB52\"],\"font\":{\"color\":\"#2a3f5f\"},\"hovermode\":\"closest\",\"hoverlabel\":{\"align\":\"left\"},\"paper_bgcolor\":\"white\",\"plot_bgcolor\":\"#E5ECF6\",\"polar\":{\"bgcolor\":\"#E5ECF6\",\"angularaxis\":{\"gridcolor\":\"white\",\"linecolor\":\"white\",\"ticks\":\"\"},\"radialaxis\":{\"gridcolor\":\"white\",\"linecolor\":\"white\",\"ticks\":\"\"}},\"ternary\":{\"bgcolor\":\"#E5ECF6\",\"aaxis\":{\"gridcolor\":\"white\",\"linecolor\":\"white\",\"ticks\":\"\"},\"baxis\":{\"gridcolor\":\"white\",\"linecolor\":\"white\",\"ticks\":\"\"},\"caxis\":{\"gridcolor\":\"white\",\"linecolor\":\"white\",\"ticks\":\"\"}},\"coloraxis\":{\"colorbar\":{\"outlinewidth\":0,\"ticks\":\"\"}},\"colorscale\":{\"sequential\":[[0.0,\"#0d0887\"],[0.1111111111111111,\"#46039f\"],[0.2222222222222222,\"#7201a8\"],[0.3333333333333333,\"#9c179e\"],[0.4444444444444444,\"#bd3786\"],[0.5555555555555556,\"#d8576b\"],[0.6666666666666666,\"#ed7953\"],[0.7777777777777778,\"#fb9f3a\"],[0.8888888888888888,\"#fdca26\"],[1.0,\"#f0f921\"]],\"sequentialminus\":[[0.0,\"#0d0887\"],[0.1111111111111111,\"#46039f\"],[0.2222222222222222,\"#7201a8\"],[0.3333333333333333,\"#9c179e\"],[0.4444444444444444,\"#bd3786\"],[0.5555555555555556,\"#d8576b\"],[0.6666666666666666,\"#ed7953\"],[0.7777777777777778,\"#fb9f3a\"],[0.8888888888888888,\"#fdca26\"],[1.0,\"#f0f921\"]],\"diverging\":[[0,\"#8e0152\"],[0.1,\"#c51b7d\"],[0.2,\"#de77ae\"],[0.3,\"#f1b6da\"],[0.4,\"#fde0ef\"],[0.5,\"#f7f7f7\"],[0.6,\"#e6f5d0\"],[0.7,\"#b8e186\"],[0.8,\"#7fbc41\"],[0.9,\"#4d9221\"],[1,\"#276419\"]]},\"xaxis\":{\"gridcolor\":\"white\",\"linecolor\":\"white\",\"ticks\":\"\",\"title\":{\"standoff\":15},\"zerolinecolor\":\"white\",\"automargin\":true,\"zerolinewidth\":2},\"yaxis\":{\"gridcolor\":\"white\",\"linecolor\":\"white\",\"ticks\":\"\",\"title\":{\"standoff\":15},\"zerolinecolor\":\"white\",\"automargin\":true,\"zerolinewidth\":2},\"scene\":{\"xaxis\":{\"backgroundcolor\":\"#E5ECF6\",\"gridcolor\":\"white\",\"linecolor\":\"white\",\"showbackground\":true,\"ticks\":\"\",\"zerolinecolor\":\"white\",\"gridwidth\":2},\"yaxis\":{\"backgroundcolor\":\"#E5ECF6\",\"gridcolor\":\"white\",\"linecolor\":\"white\",\"showbackground\":true,\"ticks\":\"\",\"zerolinecolor\":\"white\",\"gridwidth\":2},\"zaxis\":{\"backgroundcolor\":\"#E5ECF6\",\"gridcolor\":\"white\",\"linecolor\":\"white\",\"showbackground\":true,\"ticks\":\"\",\"zerolinecolor\":\"white\",\"gridwidth\":2}},\"shapedefaults\":{\"line\":{\"color\":\"#2a3f5f\"}},\"annotationdefaults\":{\"arrowcolor\":\"#2a3f5f\",\"arrowhead\":0,\"arrowwidth\":1},\"geo\":{\"bgcolor\":\"white\",\"landcolor\":\"#E5ECF6\",\"subunitcolor\":\"white\",\"showland\":true,\"showlakes\":true,\"lakecolor\":\"white\"},\"title\":{\"x\":0.05},\"mapbox\":{\"style\":\"light\"}}}},                        {\"responsive\": true}                    ).then(function(){\n",
       "                            \n",
       "var gd = document.getElementById('bd900ae0-c01a-4888-bbd2-8c6058457df9');\n",
       "var x = new MutationObserver(function (mutations, observer) {{\n",
       "        var display = window.getComputedStyle(gd).display;\n",
       "        if (!display || display === 'none') {{\n",
       "            console.log([gd, 'removed!']);\n",
       "            Plotly.purge(gd);\n",
       "            observer.disconnect();\n",
       "        }}\n",
       "}});\n",
       "\n",
       "// Listen for the removal of the full notebook cells\n",
       "var notebookContainer = gd.closest('#notebook-container');\n",
       "if (notebookContainer) {{\n",
       "    x.observe(notebookContainer, {childList: true});\n",
       "}}\n",
       "\n",
       "// Listen for the clearing of the current output cell\n",
       "var outputEl = gd.closest('.output');\n",
       "if (outputEl) {{\n",
       "    x.observe(outputEl, {childList: true});\n",
       "}}\n",
       "\n",
       "                        })                };                });            </script>        </div>"
      ]
     },
     "metadata": {},
     "output_type": "display_data"
    }
   ],
   "source": [
    "optuna.visualization.plot_optimization_history(study_rf)"
   ]
  },
  {
   "cell_type": "code",
   "execution_count": 251,
   "id": "680ac483-45c0-48d9-a689-1cfba9ac8947",
   "metadata": {},
   "outputs": [
    {
     "name": "stdout",
     "output_type": "stream",
     "text": [
      "Fold: 1 ROC-AUC SCORE 0.865\n",
      "---\n",
      "Fold: 2 ROC-AUC SCORE 0.860\n",
      "---\n",
      "Fold: 3 ROC-AUC SCORE 0.860\n",
      "---\n",
      "Fold: 4 ROC-AUC SCORE 0.848\n",
      "---\n",
      "Fold: 5 ROC-AUC SCORE 0.864\n",
      "---\n"
     ]
    }
   ],
   "source": [
    "pred_val = []\n",
    "pred_score_val = []\n",
    "\n",
    "cv = StratifiedKFold(n_splits=N_FOLDS, shuffle=True, random_state=RAND)\n",
    "for fold, (train_idx, val_idx) in enumerate(cv.split(X_train_main_, y_train_main_)):\n",
    "    X_train_, X_val_ = X_train_main_.iloc[train_idx], X_train_main_.iloc[val_idx]\n",
    "    y_train_, y_val_ = y_train_main_[train_idx], y_train_main_[val_idx]\n",
    "\n",
    "    model5 = RandomForestClassifier(**study_rf.best_params, random_state=RAND, class_weight='balanced')\n",
    "    model5.fit(X_train_, y_train_)\n",
    "\n",
    "    y_pred_val = model5.predict(X_val_)\n",
    "    y_score_val = model5.predict_proba(X_val_)\n",
    "\n",
    "    print(\"Fold:\", fold + 1, \"ROC-AUC SCORE %.3f\" % roc_auc_score(y_val_, y_score_val[:, 1]))\n",
    "    print(\"---\")\n",
    "\n",
    "    pred_val.append(y_pred_val)\n",
    "    pred_score_val.append(y_score_val)\n",
    "\n",
    "# обучаем модель для предсказания на test\n",
    "model5.fit(X_train_main_, y_train_main_)\n",
    "\n",
    "meta_X['xgb_tuned'] = np.concatenate(pred_score_val)[:,1]\n",
    "meta_X_test['xgb_tuned'] = model5.predict_proba(X_val_main)[:,1]"
   ]
  },
  {
   "cell_type": "code",
   "execution_count": 252,
   "id": "cd11e56b-0243-4ebb-8a18-6270b03d33ba",
   "metadata": {},
   "outputs": [
    {
     "data": {
      "text/html": [
       "<div>\n",
       "<style scoped>\n",
       "    .dataframe tbody tr th:only-of-type {\n",
       "        vertical-align: middle;\n",
       "    }\n",
       "\n",
       "    .dataframe tbody tr th {\n",
       "        vertical-align: top;\n",
       "    }\n",
       "\n",
       "    .dataframe thead th {\n",
       "        text-align: right;\n",
       "    }\n",
       "</style>\n",
       "<table border=\"1\" class=\"dataframe\">\n",
       "  <thead>\n",
       "    <tr style=\"text-align: right;\">\n",
       "      <th></th>\n",
       "      <th>model</th>\n",
       "      <th>Accuracy</th>\n",
       "      <th>ROC_AUC</th>\n",
       "      <th>Precision</th>\n",
       "      <th>Recall</th>\n",
       "      <th>f1</th>\n",
       "      <th>Logloss</th>\n",
       "    </tr>\n",
       "  </thead>\n",
       "  <tbody>\n",
       "    <tr>\n",
       "      <th>0</th>\n",
       "      <td>LGBM Baseline</td>\n",
       "      <td>0.805372</td>\n",
       "      <td>0.866423</td>\n",
       "      <td>0.401429</td>\n",
       "      <td>0.776243</td>\n",
       "      <td>0.529190</td>\n",
       "      <td>0.428424</td>\n",
       "    </tr>\n",
       "    <tr>\n",
       "      <th>0</th>\n",
       "      <td>LGBM Tuned</td>\n",
       "      <td>0.853640</td>\n",
       "      <td>0.868227</td>\n",
       "      <td>0.486056</td>\n",
       "      <td>0.674033</td>\n",
       "      <td>0.564815</td>\n",
       "      <td>0.388048</td>\n",
       "    </tr>\n",
       "    <tr>\n",
       "      <th>0</th>\n",
       "      <td>XGB Tuned</td>\n",
       "      <td>0.886726</td>\n",
       "      <td>0.868015</td>\n",
       "      <td>0.682051</td>\n",
       "      <td>0.367403</td>\n",
       "      <td>0.477558</td>\n",
       "      <td>0.279407</td>\n",
       "    </tr>\n",
       "    <tr>\n",
       "      <th>0</th>\n",
       "      <td>Catboost Baseline</td>\n",
       "      <td>0.809264</td>\n",
       "      <td>0.860902</td>\n",
       "      <td>0.405882</td>\n",
       "      <td>0.762431</td>\n",
       "      <td>0.529750</td>\n",
       "      <td>0.421407</td>\n",
       "    </tr>\n",
       "    <tr>\n",
       "      <th>0</th>\n",
       "      <td>Rand For Tuned</td>\n",
       "      <td>0.808486</td>\n",
       "      <td>0.866185</td>\n",
       "      <td>0.404692</td>\n",
       "      <td>0.762431</td>\n",
       "      <td>0.528736</td>\n",
       "      <td>0.426545</td>\n",
       "    </tr>\n",
       "  </tbody>\n",
       "</table>\n",
       "</div>"
      ],
      "text/plain": [
       "               model  Accuracy   ROC_AUC  Precision    Recall        f1  \\\n",
       "0      LGBM Baseline  0.805372  0.866423   0.401429  0.776243  0.529190   \n",
       "0         LGBM Tuned  0.853640  0.868227   0.486056  0.674033  0.564815   \n",
       "0          XGB Tuned  0.886726  0.868015   0.682051  0.367403  0.477558   \n",
       "0  Catboost Baseline  0.809264  0.860902   0.405882  0.762431  0.529750   \n",
       "0     Rand For Tuned  0.808486  0.866185   0.404692  0.762431  0.528736   \n",
       "\n",
       "    Logloss  \n",
       "0  0.428424  \n",
       "0  0.388048  \n",
       "0  0.279407  \n",
       "0  0.421407  \n",
       "0  0.426545  "
      ]
     },
     "execution_count": 252,
     "metadata": {},
     "output_type": "execute_result"
    }
   ],
   "source": [
    "metrics_val = pd.concat([metrics_val, get_metrics_classification(y_val_main, model5.predict(X_val_main), model5.predict_proba(X_val_main), name='Rand For Tuned')])\n",
    "metrics_val"
   ]
  },
  {
   "cell_type": "code",
   "execution_count": 253,
   "id": "c74fa09a-7503-45ca-8152-c4fc2f78f56c",
   "metadata": {},
   "outputs": [
    {
     "data": {
      "text/html": [
       "<div>\n",
       "<style scoped>\n",
       "    .dataframe tbody tr th:only-of-type {\n",
       "        vertical-align: middle;\n",
       "    }\n",
       "\n",
       "    .dataframe tbody tr th {\n",
       "        vertical-align: top;\n",
       "    }\n",
       "\n",
       "    .dataframe thead th {\n",
       "        text-align: right;\n",
       "    }\n",
       "</style>\n",
       "<table border=\"1\" class=\"dataframe\">\n",
       "  <thead>\n",
       "    <tr style=\"text-align: right;\">\n",
       "      <th></th>\n",
       "      <th>model</th>\n",
       "      <th>Accuracy</th>\n",
       "      <th>ROC_AUC</th>\n",
       "      <th>Precision</th>\n",
       "      <th>Recall</th>\n",
       "      <th>f1</th>\n",
       "      <th>Logloss</th>\n",
       "    </tr>\n",
       "  </thead>\n",
       "  <tbody>\n",
       "    <tr>\n",
       "      <th>0</th>\n",
       "      <td>LGBM Baseline</td>\n",
       "      <td>0.872875</td>\n",
       "      <td>0.799159</td>\n",
       "      <td>0.738255</td>\n",
       "      <td>0.150892</td>\n",
       "      <td>0.250569</td>\n",
       "      <td>0.385490</td>\n",
       "    </tr>\n",
       "    <tr>\n",
       "      <th>0</th>\n",
       "      <td>LGBM Tuned</td>\n",
       "      <td>0.880410</td>\n",
       "      <td>0.847495</td>\n",
       "      <td>0.772277</td>\n",
       "      <td>0.213992</td>\n",
       "      <td>0.335124</td>\n",
       "      <td>0.315372</td>\n",
       "    </tr>\n",
       "    <tr>\n",
       "      <th>0</th>\n",
       "      <td>XGB Tuned</td>\n",
       "      <td>0.861476</td>\n",
       "      <td>0.848149</td>\n",
       "      <td>0.875000</td>\n",
       "      <td>0.019204</td>\n",
       "      <td>0.037584</td>\n",
       "      <td>0.479110</td>\n",
       "    </tr>\n",
       "    <tr>\n",
       "      <th>0</th>\n",
       "      <td>Catboost Baseline</td>\n",
       "      <td>0.872295</td>\n",
       "      <td>0.838464</td>\n",
       "      <td>0.854167</td>\n",
       "      <td>0.112483</td>\n",
       "      <td>0.198788</td>\n",
       "      <td>0.377549</td>\n",
       "    </tr>\n",
       "    <tr>\n",
       "      <th>0</th>\n",
       "      <td>Rand For Tuned</td>\n",
       "      <td>0.883114</td>\n",
       "      <td>0.855856</td>\n",
       "      <td>0.632479</td>\n",
       "      <td>0.406036</td>\n",
       "      <td>0.494570</td>\n",
       "      <td>0.332283</td>\n",
       "    </tr>\n",
       "  </tbody>\n",
       "</table>\n",
       "</div>"
      ],
      "text/plain": [
       "               model  Accuracy   ROC_AUC  Precision    Recall        f1  \\\n",
       "0      LGBM Baseline  0.872875  0.799159   0.738255  0.150892  0.250569   \n",
       "0         LGBM Tuned  0.880410  0.847495   0.772277  0.213992  0.335124   \n",
       "0          XGB Tuned  0.861476  0.848149   0.875000  0.019204  0.037584   \n",
       "0  Catboost Baseline  0.872295  0.838464   0.854167  0.112483  0.198788   \n",
       "0     Rand For Tuned  0.883114  0.855856   0.632479  0.406036  0.494570   \n",
       "\n",
       "    Logloss  \n",
       "0  0.385490  \n",
       "0  0.315372  \n",
       "0  0.479110  \n",
       "0  0.377549  \n",
       "0  0.332283  "
      ]
     },
     "execution_count": 253,
     "metadata": {},
     "output_type": "execute_result"
    }
   ],
   "source": [
    "metrics_test = pd.concat([metrics_test, get_metrics_classification(y_test_main, model5.predict(X_test_main), model5.predict_proba(X_test_main), name='Rand For Tuned')])\n",
    "metrics_test"
   ]
  },
  {
   "cell_type": "code",
   "execution_count": 254,
   "id": "3b2bae73-3f5c-4fc9-8915-59b90351d224",
   "metadata": {},
   "outputs": [
    {
     "name": "stdout",
     "output_type": "stream",
     "text": [
      "roc_auc_score train: 0.863\n",
      "roc_auc_score test: 0.856\n",
      "delta = 0.8 %\n"
     ]
    }
   ],
   "source": [
    "check_overfitting(model=model5, X_train=X_train_main, X_test=X_test_main, y_train=y_train_main, y_test=y_test_main, metric_fun=roc_auc_score)"
   ]
  },
  {
   "cell_type": "markdown",
   "id": "c9863966-24a8-4c86-9d28-b5d7e09388b4",
   "metadata": {
    "jp-MarkdownHeadingCollapsed": true
   },
   "source": [
    "# Logistic Regression"
   ]
  },
  {
   "cell_type": "code",
   "execution_count": 255,
   "id": "e409a705-02f9-4142-a82b-02bac73d06d6",
   "metadata": {},
   "outputs": [
    {
     "name": "stdout",
     "output_type": "stream",
     "text": [
      "Fold: 1 ROC-AUC SCORE 0.855\n",
      "---\n",
      "Fold: 2 ROC-AUC SCORE 0.856\n",
      "---\n",
      "Fold: 3 ROC-AUC SCORE 0.843\n",
      "---\n",
      "Fold: 4 ROC-AUC SCORE 0.833\n",
      "---\n",
      "Fold: 5 ROC-AUC SCORE 0.853\n",
      "---\n"
     ]
    }
   ],
   "source": [
    "pred_val = []\n",
    "pred_score_val = []\n",
    "\n",
    "cv = StratifiedKFold(n_splits=N_FOLDS, shuffle=True, random_state=RAND)\n",
    "for fold, (train_idx, val_idx) in enumerate(cv.split(X_train_main_, y_train_main_)):\n",
    "    X_train_, X_val_ = X_train_main_.iloc[train_idx], X_train_main_.iloc[val_idx]\n",
    "    y_train_, y_val_ = y_train_main_[train_idx], y_train_main_[val_idx]\n",
    "\n",
    "    model6 = LogisticRegression(class_weight='balanced', random_state=RAND)\n",
    "    model6.fit(X_train_, y_train_)\n",
    "\n",
    "    y_pred_val = model6.predict(X_val_)\n",
    "    y_score_val = model6.predict_proba(X_val_)\n",
    "\n",
    "    print(\"Fold:\", fold + 1, \"ROC-AUC SCORE %.3f\" % roc_auc_score(y_val_, y_score_val[:, 1]))\n",
    "    print(\"---\")\n",
    "\n",
    "    # holdout list\n",
    "    pred_val.append(y_pred_val)\n",
    "    pred_score_val.append(y_score_val)\n",
    "\n",
    "# обучаем модель для предсказания на test\n",
    "model6.fit(X_train_main_, y_train_main_)\n",
    "\n",
    "meta_X['cb_base'] = np.concatenate(pred_score_val)[:,1]\n",
    "meta_X_test['cb_base'] = model6.predict_proba(X_val_main)[:,1]"
   ]
  },
  {
   "cell_type": "code",
   "execution_count": 256,
   "id": "cf2e5994-84c0-47e8-a8c0-f23a810f8825",
   "metadata": {},
   "outputs": [
    {
     "data": {
      "text/html": [
       "<div>\n",
       "<style scoped>\n",
       "    .dataframe tbody tr th:only-of-type {\n",
       "        vertical-align: middle;\n",
       "    }\n",
       "\n",
       "    .dataframe tbody tr th {\n",
       "        vertical-align: top;\n",
       "    }\n",
       "\n",
       "    .dataframe thead th {\n",
       "        text-align: right;\n",
       "    }\n",
       "</style>\n",
       "<table border=\"1\" class=\"dataframe\">\n",
       "  <thead>\n",
       "    <tr style=\"text-align: right;\">\n",
       "      <th></th>\n",
       "      <th>model</th>\n",
       "      <th>Accuracy</th>\n",
       "      <th>ROC_AUC</th>\n",
       "      <th>Precision</th>\n",
       "      <th>Recall</th>\n",
       "      <th>f1</th>\n",
       "      <th>Logloss</th>\n",
       "    </tr>\n",
       "  </thead>\n",
       "  <tbody>\n",
       "    <tr>\n",
       "      <th>0</th>\n",
       "      <td>LGBM Baseline</td>\n",
       "      <td>0.805372</td>\n",
       "      <td>0.866423</td>\n",
       "      <td>0.401429</td>\n",
       "      <td>0.776243</td>\n",
       "      <td>0.529190</td>\n",
       "      <td>0.428424</td>\n",
       "    </tr>\n",
       "    <tr>\n",
       "      <th>0</th>\n",
       "      <td>LGBM Tuned</td>\n",
       "      <td>0.853640</td>\n",
       "      <td>0.868227</td>\n",
       "      <td>0.486056</td>\n",
       "      <td>0.674033</td>\n",
       "      <td>0.564815</td>\n",
       "      <td>0.388048</td>\n",
       "    </tr>\n",
       "    <tr>\n",
       "      <th>0</th>\n",
       "      <td>XGB Tuned</td>\n",
       "      <td>0.886726</td>\n",
       "      <td>0.868015</td>\n",
       "      <td>0.682051</td>\n",
       "      <td>0.367403</td>\n",
       "      <td>0.477558</td>\n",
       "      <td>0.279407</td>\n",
       "    </tr>\n",
       "    <tr>\n",
       "      <th>0</th>\n",
       "      <td>Catboost Baseline</td>\n",
       "      <td>0.809264</td>\n",
       "      <td>0.860902</td>\n",
       "      <td>0.405882</td>\n",
       "      <td>0.762431</td>\n",
       "      <td>0.529750</td>\n",
       "      <td>0.421407</td>\n",
       "    </tr>\n",
       "    <tr>\n",
       "      <th>0</th>\n",
       "      <td>Rand For Tuned</td>\n",
       "      <td>0.808486</td>\n",
       "      <td>0.866185</td>\n",
       "      <td>0.404692</td>\n",
       "      <td>0.762431</td>\n",
       "      <td>0.528736</td>\n",
       "      <td>0.426545</td>\n",
       "    </tr>\n",
       "    <tr>\n",
       "      <th>0</th>\n",
       "      <td>Log Reg Baseline</td>\n",
       "      <td>0.778902</td>\n",
       "      <td>0.848448</td>\n",
       "      <td>0.361559</td>\n",
       "      <td>0.743094</td>\n",
       "      <td>0.486438</td>\n",
       "      <td>0.484596</td>\n",
       "    </tr>\n",
       "  </tbody>\n",
       "</table>\n",
       "</div>"
      ],
      "text/plain": [
       "               model  Accuracy   ROC_AUC  Precision    Recall        f1  \\\n",
       "0      LGBM Baseline  0.805372  0.866423   0.401429  0.776243  0.529190   \n",
       "0         LGBM Tuned  0.853640  0.868227   0.486056  0.674033  0.564815   \n",
       "0          XGB Tuned  0.886726  0.868015   0.682051  0.367403  0.477558   \n",
       "0  Catboost Baseline  0.809264  0.860902   0.405882  0.762431  0.529750   \n",
       "0     Rand For Tuned  0.808486  0.866185   0.404692  0.762431  0.528736   \n",
       "0   Log Reg Baseline  0.778902  0.848448   0.361559  0.743094  0.486438   \n",
       "\n",
       "    Logloss  \n",
       "0  0.428424  \n",
       "0  0.388048  \n",
       "0  0.279407  \n",
       "0  0.421407  \n",
       "0  0.426545  \n",
       "0  0.484596  "
      ]
     },
     "execution_count": 256,
     "metadata": {},
     "output_type": "execute_result"
    }
   ],
   "source": [
    "metrics_val = pd.concat([metrics_val, get_metrics_classification(y_val_main, model6.predict(X_val_main), model6.predict_proba(X_val_main), name='Log Reg Baseline')])\n",
    "metrics_val"
   ]
  },
  {
   "cell_type": "code",
   "execution_count": 257,
   "id": "7c2c9fb9-6992-46f5-9a19-4bc632bb6ed0",
   "metadata": {},
   "outputs": [
    {
     "data": {
      "text/html": [
       "<div>\n",
       "<style scoped>\n",
       "    .dataframe tbody tr th:only-of-type {\n",
       "        vertical-align: middle;\n",
       "    }\n",
       "\n",
       "    .dataframe tbody tr th {\n",
       "        vertical-align: top;\n",
       "    }\n",
       "\n",
       "    .dataframe thead th {\n",
       "        text-align: right;\n",
       "    }\n",
       "</style>\n",
       "<table border=\"1\" class=\"dataframe\">\n",
       "  <thead>\n",
       "    <tr style=\"text-align: right;\">\n",
       "      <th></th>\n",
       "      <th>model</th>\n",
       "      <th>Accuracy</th>\n",
       "      <th>ROC_AUC</th>\n",
       "      <th>Precision</th>\n",
       "      <th>Recall</th>\n",
       "      <th>f1</th>\n",
       "      <th>Logloss</th>\n",
       "    </tr>\n",
       "  </thead>\n",
       "  <tbody>\n",
       "    <tr>\n",
       "      <th>0</th>\n",
       "      <td>LGBM Baseline</td>\n",
       "      <td>0.872875</td>\n",
       "      <td>0.799159</td>\n",
       "      <td>0.738255</td>\n",
       "      <td>0.150892</td>\n",
       "      <td>0.250569</td>\n",
       "      <td>0.385490</td>\n",
       "    </tr>\n",
       "    <tr>\n",
       "      <th>0</th>\n",
       "      <td>LGBM Tuned</td>\n",
       "      <td>0.880410</td>\n",
       "      <td>0.847495</td>\n",
       "      <td>0.772277</td>\n",
       "      <td>0.213992</td>\n",
       "      <td>0.335124</td>\n",
       "      <td>0.315372</td>\n",
       "    </tr>\n",
       "    <tr>\n",
       "      <th>0</th>\n",
       "      <td>XGB Tuned</td>\n",
       "      <td>0.861476</td>\n",
       "      <td>0.848149</td>\n",
       "      <td>0.875000</td>\n",
       "      <td>0.019204</td>\n",
       "      <td>0.037584</td>\n",
       "      <td>0.479110</td>\n",
       "    </tr>\n",
       "    <tr>\n",
       "      <th>0</th>\n",
       "      <td>Catboost Baseline</td>\n",
       "      <td>0.872295</td>\n",
       "      <td>0.838464</td>\n",
       "      <td>0.854167</td>\n",
       "      <td>0.112483</td>\n",
       "      <td>0.198788</td>\n",
       "      <td>0.377549</td>\n",
       "    </tr>\n",
       "    <tr>\n",
       "      <th>0</th>\n",
       "      <td>Rand For Tuned</td>\n",
       "      <td>0.883114</td>\n",
       "      <td>0.855856</td>\n",
       "      <td>0.632479</td>\n",
       "      <td>0.406036</td>\n",
       "      <td>0.494570</td>\n",
       "      <td>0.332283</td>\n",
       "    </tr>\n",
       "    <tr>\n",
       "      <th>0</th>\n",
       "      <td>Log Reg Baseline</td>\n",
       "      <td>0.626352</td>\n",
       "      <td>0.847655</td>\n",
       "      <td>0.257740</td>\n",
       "      <td>0.879287</td>\n",
       "      <td>0.398632</td>\n",
       "      <td>0.662171</td>\n",
       "    </tr>\n",
       "  </tbody>\n",
       "</table>\n",
       "</div>"
      ],
      "text/plain": [
       "               model  Accuracy   ROC_AUC  Precision    Recall        f1  \\\n",
       "0      LGBM Baseline  0.872875  0.799159   0.738255  0.150892  0.250569   \n",
       "0         LGBM Tuned  0.880410  0.847495   0.772277  0.213992  0.335124   \n",
       "0          XGB Tuned  0.861476  0.848149   0.875000  0.019204  0.037584   \n",
       "0  Catboost Baseline  0.872295  0.838464   0.854167  0.112483  0.198788   \n",
       "0     Rand For Tuned  0.883114  0.855856   0.632479  0.406036  0.494570   \n",
       "0   Log Reg Baseline  0.626352  0.847655   0.257740  0.879287  0.398632   \n",
       "\n",
       "    Logloss  \n",
       "0  0.385490  \n",
       "0  0.315372  \n",
       "0  0.479110  \n",
       "0  0.377549  \n",
       "0  0.332283  \n",
       "0  0.662171  "
      ]
     },
     "execution_count": 257,
     "metadata": {},
     "output_type": "execute_result"
    }
   ],
   "source": [
    "metrics_test = pd.concat([metrics_test, get_metrics_classification(y_test_main, model6.predict(X_test_main), model6.predict_proba(X_test_main), name='Log Reg Baseline')])\n",
    "metrics_test"
   ]
  },
  {
   "cell_type": "code",
   "execution_count": 258,
   "id": "934f646f-623f-490d-90b4-b621043c4369",
   "metadata": {},
   "outputs": [
    {
     "name": "stdout",
     "output_type": "stream",
     "text": [
      "roc_auc_score train: 0.847\n",
      "roc_auc_score test: 0.848\n",
      "delta = 0.1 %\n"
     ]
    }
   ],
   "source": [
    "check_overfitting(model=model6, X_train=X_train_main, X_test=X_test_main, y_train=y_train_main, y_test=y_test_main, metric_fun=roc_auc_score)"
   ]
  },
  {
   "cell_type": "markdown",
   "id": "ab779c85-a62d-420f-bb72-03b74330d915",
   "metadata": {
    "jp-MarkdownHeadingCollapsed": true
   },
   "source": [
    "# Voting"
   ]
  },
  {
   "cell_type": "code",
   "execution_count": 262,
   "id": "2be4c0f9-a2b8-4f16-aed8-c4887c41c198",
   "metadata": {},
   "outputs": [],
   "source": [
    "clb_lg1 = CalibratedClassifierCV(base_estimator=model1, method='isotonic', cv=3)\n",
    "clb_lg2 = CalibratedClassifierCV(base_estimator=model2, method='isotonic', cv=3)\n",
    "clb_xg1 = CalibratedClassifierCV(base_estimator=model3, method='isotonic', cv=3)\n",
    "clb_cb1 = CalibratedClassifierCV(base_estimator=model4, method='isotonic', cv=3)\n",
    "clb_rf1 = CalibratedClassifierCV(base_estimator=model5, method='isotonic', cv=3)\n",
    "clb_lr1 = CalibratedClassifierCV(base_estimator=model6, method='isotonic', cv=3)"
   ]
  },
  {
   "cell_type": "code",
   "execution_count": 297,
   "id": "7193a50c-2115-47a5-b301-238bd24271e1",
   "metadata": {},
   "outputs": [
    {
     "data": {
      "text/html": [
       "<style>#sk-container-id-12 {color: black;}#sk-container-id-12 pre{padding: 0;}#sk-container-id-12 div.sk-toggleable {background-color: white;}#sk-container-id-12 label.sk-toggleable__label {cursor: pointer;display: block;width: 100%;margin-bottom: 0;padding: 0.3em;box-sizing: border-box;text-align: center;}#sk-container-id-12 label.sk-toggleable__label-arrow:before {content: \"▸\";float: left;margin-right: 0.25em;color: #696969;}#sk-container-id-12 label.sk-toggleable__label-arrow:hover:before {color: black;}#sk-container-id-12 div.sk-estimator:hover label.sk-toggleable__label-arrow:before {color: black;}#sk-container-id-12 div.sk-toggleable__content {max-height: 0;max-width: 0;overflow: hidden;text-align: left;background-color: #f0f8ff;}#sk-container-id-12 div.sk-toggleable__content pre {margin: 0.2em;color: black;border-radius: 0.25em;background-color: #f0f8ff;}#sk-container-id-12 input.sk-toggleable__control:checked~div.sk-toggleable__content {max-height: 200px;max-width: 100%;overflow: auto;}#sk-container-id-12 input.sk-toggleable__control:checked~label.sk-toggleable__label-arrow:before {content: \"▾\";}#sk-container-id-12 div.sk-estimator input.sk-toggleable__control:checked~label.sk-toggleable__label {background-color: #d4ebff;}#sk-container-id-12 div.sk-label input.sk-toggleable__control:checked~label.sk-toggleable__label {background-color: #d4ebff;}#sk-container-id-12 input.sk-hidden--visually {border: 0;clip: rect(1px 1px 1px 1px);clip: rect(1px, 1px, 1px, 1px);height: 1px;margin: -1px;overflow: hidden;padding: 0;position: absolute;width: 1px;}#sk-container-id-12 div.sk-estimator {font-family: monospace;background-color: #f0f8ff;border: 1px dotted black;border-radius: 0.25em;box-sizing: border-box;margin-bottom: 0.5em;}#sk-container-id-12 div.sk-estimator:hover {background-color: #d4ebff;}#sk-container-id-12 div.sk-parallel-item::after {content: \"\";width: 100%;border-bottom: 1px solid gray;flex-grow: 1;}#sk-container-id-12 div.sk-label:hover label.sk-toggleable__label {background-color: #d4ebff;}#sk-container-id-12 div.sk-serial::before {content: \"\";position: absolute;border-left: 1px solid gray;box-sizing: border-box;top: 0;bottom: 0;left: 50%;z-index: 0;}#sk-container-id-12 div.sk-serial {display: flex;flex-direction: column;align-items: center;background-color: white;padding-right: 0.2em;padding-left: 0.2em;position: relative;}#sk-container-id-12 div.sk-item {position: relative;z-index: 1;}#sk-container-id-12 div.sk-parallel {display: flex;align-items: stretch;justify-content: center;background-color: white;position: relative;}#sk-container-id-12 div.sk-item::before, #sk-container-id-12 div.sk-parallel-item::before {content: \"\";position: absolute;border-left: 1px solid gray;box-sizing: border-box;top: 0;bottom: 0;left: 50%;z-index: -1;}#sk-container-id-12 div.sk-parallel-item {display: flex;flex-direction: column;z-index: 1;position: relative;background-color: white;}#sk-container-id-12 div.sk-parallel-item:first-child::after {align-self: flex-end;width: 50%;}#sk-container-id-12 div.sk-parallel-item:last-child::after {align-self: flex-start;width: 50%;}#sk-container-id-12 div.sk-parallel-item:only-child::after {width: 0;}#sk-container-id-12 div.sk-dashed-wrapped {border: 1px dashed gray;margin: 0 0.4em 0.5em 0.4em;box-sizing: border-box;padding-bottom: 0.4em;background-color: white;}#sk-container-id-12 div.sk-label label {font-family: monospace;font-weight: bold;display: inline-block;line-height: 1.2em;}#sk-container-id-12 div.sk-label-container {text-align: center;}#sk-container-id-12 div.sk-container {/* jupyter's `normalize.less` sets `[hidden] { display: none; }` but bootstrap.min.css set `[hidden] { display: none !important; }` so we also need the `!important` here to be able to override the default hidden behavior on the sphinx rendered scikit-learn.org. See: https://github.com/scikit-learn/scikit-learn/issues/21755 */display: inline-block !important;position: relative;}#sk-container-id-12 div.sk-text-repr-fallback {display: none;}</style><div id=\"sk-container-id-12\" class=\"sk-top-container\"><div class=\"sk-text-repr-fallback\"><pre>VotingClassifier(estimators=[(&#x27;lg1&#x27;,\n",
       "                              CalibratedClassifierCV(base_estimator=LGBMClassifier(is_unbalance=True,\n",
       "                                                                                   random_state=10),\n",
       "                                                     cv=3, method=&#x27;isotonic&#x27;)),\n",
       "                             (&#x27;lg2&#x27;,\n",
       "                              CalibratedClassifierCV(base_estimator=LGBMClassifier(colsample_bytree=0.5010681356698323,\n",
       "                                                                                   is_unbalance=True,\n",
       "                                                                                   learning_rate=0.0027213754476726384,\n",
       "                                                                                   max_depth=9,\n",
       "                                                                                   metric=&#x27;AUC&#x27;,\n",
       "                                                                                   n_estimators=575,\n",
       "                                                                                   num_leave...\n",
       "                              CalibratedClassifierCV(base_estimator=RandomForestClassifier(class_weight=&#x27;balanced&#x27;,\n",
       "                                                                                           max_depth=13,\n",
       "                                                                                           max_samples=0.8053623789842076,\n",
       "                                                                                           min_samples_leaf=7,\n",
       "                                                                                           min_samples_split=14,\n",
       "                                                                                           n_estimators=730,\n",
       "                                                                                           n_jobs=-1,\n",
       "                                                                                           random_state=10),\n",
       "                                                     cv=3, method=&#x27;isotonic&#x27;)),\n",
       "                             (&#x27;lr1&#x27;,\n",
       "                              CalibratedClassifierCV(base_estimator=LogisticRegression(class_weight=&#x27;balanced&#x27;,\n",
       "                                                                                       random_state=10),\n",
       "                                                     cv=3,\n",
       "                                                     method=&#x27;isotonic&#x27;))],\n",
       "                 voting=&#x27;soft&#x27;)</pre><b>In a Jupyter environment, please rerun this cell to show the HTML representation or trust the notebook. <br />On GitHub, the HTML representation is unable to render, please try loading this page with nbviewer.org.</b></div><div class=\"sk-container\" hidden><div class=\"sk-item sk-dashed-wrapped\"><div class=\"sk-label-container\"><div class=\"sk-label sk-toggleable\"><input class=\"sk-toggleable__control sk-hidden--visually\" id=\"sk-estimator-id-60\" type=\"checkbox\" ><label for=\"sk-estimator-id-60\" class=\"sk-toggleable__label sk-toggleable__label-arrow\">VotingClassifier</label><div class=\"sk-toggleable__content\"><pre>VotingClassifier(estimators=[(&#x27;lg1&#x27;,\n",
       "                              CalibratedClassifierCV(base_estimator=LGBMClassifier(is_unbalance=True,\n",
       "                                                                                   random_state=10),\n",
       "                                                     cv=3, method=&#x27;isotonic&#x27;)),\n",
       "                             (&#x27;lg2&#x27;,\n",
       "                              CalibratedClassifierCV(base_estimator=LGBMClassifier(colsample_bytree=0.5010681356698323,\n",
       "                                                                                   is_unbalance=True,\n",
       "                                                                                   learning_rate=0.0027213754476726384,\n",
       "                                                                                   max_depth=9,\n",
       "                                                                                   metric=&#x27;AUC&#x27;,\n",
       "                                                                                   n_estimators=575,\n",
       "                                                                                   num_leave...\n",
       "                              CalibratedClassifierCV(base_estimator=RandomForestClassifier(class_weight=&#x27;balanced&#x27;,\n",
       "                                                                                           max_depth=13,\n",
       "                                                                                           max_samples=0.8053623789842076,\n",
       "                                                                                           min_samples_leaf=7,\n",
       "                                                                                           min_samples_split=14,\n",
       "                                                                                           n_estimators=730,\n",
       "                                                                                           n_jobs=-1,\n",
       "                                                                                           random_state=10),\n",
       "                                                     cv=3, method=&#x27;isotonic&#x27;)),\n",
       "                             (&#x27;lr1&#x27;,\n",
       "                              CalibratedClassifierCV(base_estimator=LogisticRegression(class_weight=&#x27;balanced&#x27;,\n",
       "                                                                                       random_state=10),\n",
       "                                                     cv=3,\n",
       "                                                     method=&#x27;isotonic&#x27;))],\n",
       "                 voting=&#x27;soft&#x27;)</pre></div></div></div><div class=\"sk-parallel\"><div class=\"sk-parallel-item\"><div class=\"sk-item\"><div class=\"sk-label-container\"><div class=\"sk-label sk-toggleable\"><label>lg1</label></div></div><div class=\"sk-serial\"><div class=\"sk-item sk-dashed-wrapped\"><div class=\"sk-parallel\"><div class=\"sk-parallel-item\"><div class=\"sk-item\"><div class=\"sk-label-container\"><div class=\"sk-label sk-toggleable\"><input class=\"sk-toggleable__control sk-hidden--visually\" id=\"sk-estimator-id-61\" type=\"checkbox\" ><label for=\"sk-estimator-id-61\" class=\"sk-toggleable__label sk-toggleable__label-arrow\">base_estimator: LGBMClassifier</label><div class=\"sk-toggleable__content\"><pre>LGBMClassifier(is_unbalance=True, random_state=10)</pre></div></div></div><div class=\"sk-serial\"><div class=\"sk-item\"><div class=\"sk-estimator sk-toggleable\"><input class=\"sk-toggleable__control sk-hidden--visually\" id=\"sk-estimator-id-62\" type=\"checkbox\" ><label for=\"sk-estimator-id-62\" class=\"sk-toggleable__label sk-toggleable__label-arrow\">LGBMClassifier</label><div class=\"sk-toggleable__content\"><pre>LGBMClassifier(is_unbalance=True, random_state=10)</pre></div></div></div></div></div></div></div></div></div></div></div><div class=\"sk-parallel-item\"><div class=\"sk-item\"><div class=\"sk-label-container\"><div class=\"sk-label sk-toggleable\"><label>lg2</label></div></div><div class=\"sk-serial\"><div class=\"sk-item sk-dashed-wrapped\"><div class=\"sk-parallel\"><div class=\"sk-parallel-item\"><div class=\"sk-item\"><div class=\"sk-label-container\"><div class=\"sk-label sk-toggleable\"><input class=\"sk-toggleable__control sk-hidden--visually\" id=\"sk-estimator-id-63\" type=\"checkbox\" ><label for=\"sk-estimator-id-63\" class=\"sk-toggleable__label sk-toggleable__label-arrow\">base_estimator: LGBMClassifier</label><div class=\"sk-toggleable__content\"><pre>LGBMClassifier(colsample_bytree=0.5010681356698323, is_unbalance=True,\n",
       "               learning_rate=0.0027213754476726384, max_depth=9, metric=&#x27;AUC&#x27;,\n",
       "               n_estimators=575, num_leaves=698, random_state=10,\n",
       "               subsample=0.5809036581178155)</pre></div></div></div><div class=\"sk-serial\"><div class=\"sk-item\"><div class=\"sk-estimator sk-toggleable\"><input class=\"sk-toggleable__control sk-hidden--visually\" id=\"sk-estimator-id-64\" type=\"checkbox\" ><label for=\"sk-estimator-id-64\" class=\"sk-toggleable__label sk-toggleable__label-arrow\">LGBMClassifier</label><div class=\"sk-toggleable__content\"><pre>LGBMClassifier(colsample_bytree=0.5010681356698323, is_unbalance=True,\n",
       "               learning_rate=0.0027213754476726384, max_depth=9, metric=&#x27;AUC&#x27;,\n",
       "               n_estimators=575, num_leaves=698, random_state=10,\n",
       "               subsample=0.5809036581178155)</pre></div></div></div></div></div></div></div></div></div></div></div><div class=\"sk-parallel-item\"><div class=\"sk-item\"><div class=\"sk-label-container\"><div class=\"sk-label sk-toggleable\"><label>xg1</label></div></div><div class=\"sk-serial\"><div class=\"sk-item sk-dashed-wrapped\"><div class=\"sk-parallel\"><div class=\"sk-parallel-item\"><div class=\"sk-item\"><div class=\"sk-label-container\"><div class=\"sk-label sk-toggleable\"><input class=\"sk-toggleable__control sk-hidden--visually\" id=\"sk-estimator-id-65\" type=\"checkbox\" ><label for=\"sk-estimator-id-65\" class=\"sk-toggleable__label sk-toggleable__label-arrow\">base_estimator: XGBClassifier</label><div class=\"sk-toggleable__content\"><pre>XGBClassifier(base_score=None, booster=None, callbacks=None,\n",
       "              colsample_bylevel=None, colsample_bynode=None,\n",
       "              colsample_bytree=0.9334191677923097, device=None,\n",
       "              early_stopping_rounds=None, enable_categorical=False,\n",
       "              eval_metric=None, feature_types=None, gamma=None,\n",
       "              grow_policy=None, importance_type=None,\n",
       "              interaction_constraints=None, learning_rate=0.02093004760601575,\n",
       "              max_bin=None, max_cat_threshold=None, max_cat_to_onehot=None,\n",
       "              max_delta_step=None, max_depth=4, max_leaves=None,\n",
       "              min_child_weight=None, missing=nan, monotone_constraints=None,\n",
       "              multi_strategy=None, n_estimators=745, n_jobs=None,\n",
       "              num_parallel_tree=None, random_state=10, ...)</pre></div></div></div><div class=\"sk-serial\"><div class=\"sk-item\"><div class=\"sk-estimator sk-toggleable\"><input class=\"sk-toggleable__control sk-hidden--visually\" id=\"sk-estimator-id-66\" type=\"checkbox\" ><label for=\"sk-estimator-id-66\" class=\"sk-toggleable__label sk-toggleable__label-arrow\">XGBClassifier</label><div class=\"sk-toggleable__content\"><pre>XGBClassifier(base_score=None, booster=None, callbacks=None,\n",
       "              colsample_bylevel=None, colsample_bynode=None,\n",
       "              colsample_bytree=0.9334191677923097, device=None,\n",
       "              early_stopping_rounds=None, enable_categorical=False,\n",
       "              eval_metric=None, feature_types=None, gamma=None,\n",
       "              grow_policy=None, importance_type=None,\n",
       "              interaction_constraints=None, learning_rate=0.02093004760601575,\n",
       "              max_bin=None, max_cat_threshold=None, max_cat_to_onehot=None,\n",
       "              max_delta_step=None, max_depth=4, max_leaves=None,\n",
       "              min_child_weight=None, missing=nan, monotone_constraints=None,\n",
       "              multi_strategy=None, n_estimators=745, n_jobs=None,\n",
       "              num_parallel_tree=None, random_state=10, ...)</pre></div></div></div></div></div></div></div></div></div></div></div><div class=\"sk-parallel-item\"><div class=\"sk-item\"><div class=\"sk-label-container\"><div class=\"sk-label sk-toggleable\"><label>cb1</label></div></div><div class=\"sk-serial\"><div class=\"sk-item sk-dashed-wrapped\"><div class=\"sk-parallel\"><div class=\"sk-parallel-item\"><div class=\"sk-item\"><div class=\"sk-label-container\"><div class=\"sk-label sk-toggleable\"><input class=\"sk-toggleable__control sk-hidden--visually\" id=\"sk-estimator-id-67\" type=\"checkbox\" ><label for=\"sk-estimator-id-67\" class=\"sk-toggleable__label sk-toggleable__label-arrow\">base_estimator: CatBoostClassifier</label><div class=\"sk-toggleable__content\"><pre>&lt;catboost.core.CatBoostClassifier object at 0x000001B9C5AD8290&gt;</pre></div></div></div><div class=\"sk-serial\"><div class=\"sk-item\"><div class=\"sk-estimator sk-toggleable\"><input class=\"sk-toggleable__control sk-hidden--visually\" id=\"sk-estimator-id-68\" type=\"checkbox\" ><label for=\"sk-estimator-id-68\" class=\"sk-toggleable__label sk-toggleable__label-arrow\">CatBoostClassifier</label><div class=\"sk-toggleable__content\"><pre>&lt;catboost.core.CatBoostClassifier object at 0x000001B9C5AD8290&gt;</pre></div></div></div></div></div></div></div></div></div></div></div><div class=\"sk-parallel-item\"><div class=\"sk-item\"><div class=\"sk-label-container\"><div class=\"sk-label sk-toggleable\"><label>rf1</label></div></div><div class=\"sk-serial\"><div class=\"sk-item sk-dashed-wrapped\"><div class=\"sk-parallel\"><div class=\"sk-parallel-item\"><div class=\"sk-item\"><div class=\"sk-label-container\"><div class=\"sk-label sk-toggleable\"><input class=\"sk-toggleable__control sk-hidden--visually\" id=\"sk-estimator-id-69\" type=\"checkbox\" ><label for=\"sk-estimator-id-69\" class=\"sk-toggleable__label sk-toggleable__label-arrow\">base_estimator: RandomForestClassifier</label><div class=\"sk-toggleable__content\"><pre>RandomForestClassifier(class_weight=&#x27;balanced&#x27;, max_depth=13,\n",
       "                       max_samples=0.8053623789842076, min_samples_leaf=7,\n",
       "                       min_samples_split=14, n_estimators=730, n_jobs=-1,\n",
       "                       random_state=10)</pre></div></div></div><div class=\"sk-serial\"><div class=\"sk-item\"><div class=\"sk-estimator sk-toggleable\"><input class=\"sk-toggleable__control sk-hidden--visually\" id=\"sk-estimator-id-70\" type=\"checkbox\" ><label for=\"sk-estimator-id-70\" class=\"sk-toggleable__label sk-toggleable__label-arrow\">RandomForestClassifier</label><div class=\"sk-toggleable__content\"><pre>RandomForestClassifier(class_weight=&#x27;balanced&#x27;, max_depth=13,\n",
       "                       max_samples=0.8053623789842076, min_samples_leaf=7,\n",
       "                       min_samples_split=14, n_estimators=730, n_jobs=-1,\n",
       "                       random_state=10)</pre></div></div></div></div></div></div></div></div></div></div></div><div class=\"sk-parallel-item\"><div class=\"sk-item\"><div class=\"sk-label-container\"><div class=\"sk-label sk-toggleable\"><label>lr1</label></div></div><div class=\"sk-serial\"><div class=\"sk-item sk-dashed-wrapped\"><div class=\"sk-parallel\"><div class=\"sk-parallel-item\"><div class=\"sk-item\"><div class=\"sk-label-container\"><div class=\"sk-label sk-toggleable\"><input class=\"sk-toggleable__control sk-hidden--visually\" id=\"sk-estimator-id-71\" type=\"checkbox\" ><label for=\"sk-estimator-id-71\" class=\"sk-toggleable__label sk-toggleable__label-arrow\">base_estimator: LogisticRegression</label><div class=\"sk-toggleable__content\"><pre>LogisticRegression(class_weight=&#x27;balanced&#x27;, random_state=10)</pre></div></div></div><div class=\"sk-serial\"><div class=\"sk-item\"><div class=\"sk-estimator sk-toggleable\"><input class=\"sk-toggleable__control sk-hidden--visually\" id=\"sk-estimator-id-72\" type=\"checkbox\" ><label for=\"sk-estimator-id-72\" class=\"sk-toggleable__label sk-toggleable__label-arrow\">LogisticRegression</label><div class=\"sk-toggleable__content\"><pre>LogisticRegression(class_weight=&#x27;balanced&#x27;, random_state=10)</pre></div></div></div></div></div></div></div></div></div></div></div></div></div></div></div>"
      ],
      "text/plain": [
       "VotingClassifier(estimators=[('lg1',\n",
       "                              CalibratedClassifierCV(base_estimator=LGBMClassifier(is_unbalance=True,\n",
       "                                                                                   random_state=10),\n",
       "                                                     cv=3, method='isotonic')),\n",
       "                             ('lg2',\n",
       "                              CalibratedClassifierCV(base_estimator=LGBMClassifier(colsample_bytree=0.5010681356698323,\n",
       "                                                                                   is_unbalance=True,\n",
       "                                                                                   learning_rate=0.0027213754476726384,\n",
       "                                                                                   max_depth=9,\n",
       "                                                                                   metric='AUC',\n",
       "                                                                                   n_estimators=575,\n",
       "                                                                                   num_leave...\n",
       "                              CalibratedClassifierCV(base_estimator=RandomForestClassifier(class_weight='balanced',\n",
       "                                                                                           max_depth=13,\n",
       "                                                                                           max_samples=0.8053623789842076,\n",
       "                                                                                           min_samples_leaf=7,\n",
       "                                                                                           min_samples_split=14,\n",
       "                                                                                           n_estimators=730,\n",
       "                                                                                           n_jobs=-1,\n",
       "                                                                                           random_state=10),\n",
       "                                                     cv=3, method='isotonic')),\n",
       "                             ('lr1',\n",
       "                              CalibratedClassifierCV(base_estimator=LogisticRegression(class_weight='balanced',\n",
       "                                                                                       random_state=10),\n",
       "                                                     cv=3,\n",
       "                                                     method='isotonic'))],\n",
       "                 voting='soft')"
      ]
     },
     "execution_count": 297,
     "metadata": {},
     "output_type": "execute_result"
    }
   ],
   "source": [
    "vt_clf = VotingClassifier(estimators=[('lg1', clb_lg1), ('lg2', clb_lg2), ('xg1', clb_xg1), ('cb1', clb_cb1), ('rf1', clb_rf1), ('lr1', clb_lr1)], voting='soft')\n",
    "vt_clf.fit(X_train_main_, y_train_main_)"
   ]
  },
  {
   "cell_type": "code",
   "execution_count": 298,
   "id": "7d749c6c-a0c8-49d1-826a-845be0341de1",
   "metadata": {},
   "outputs": [],
   "source": [
    "y_predicted = vt_clf.predict(X_test_main)\n",
    "y_score = vt_clf.predict_proba(X_test_main)"
   ]
  },
  {
   "cell_type": "code",
   "execution_count": 299,
   "id": "4b32c329-45be-499f-a038-627574693812",
   "metadata": {},
   "outputs": [
    {
     "data": {
      "text/html": [
       "<div>\n",
       "<style scoped>\n",
       "    .dataframe tbody tr th:only-of-type {\n",
       "        vertical-align: middle;\n",
       "    }\n",
       "\n",
       "    .dataframe tbody tr th {\n",
       "        vertical-align: top;\n",
       "    }\n",
       "\n",
       "    .dataframe thead th {\n",
       "        text-align: right;\n",
       "    }\n",
       "</style>\n",
       "<table border=\"1\" class=\"dataframe\">\n",
       "  <thead>\n",
       "    <tr style=\"text-align: right;\">\n",
       "      <th></th>\n",
       "      <th>model</th>\n",
       "      <th>Accuracy</th>\n",
       "      <th>ROC_AUC</th>\n",
       "      <th>Precision</th>\n",
       "      <th>Recall</th>\n",
       "      <th>f1</th>\n",
       "      <th>Logloss</th>\n",
       "    </tr>\n",
       "  </thead>\n",
       "  <tbody>\n",
       "    <tr>\n",
       "      <th>0</th>\n",
       "      <td>VotingClassifier2_soft</td>\n",
       "      <td>0.864181</td>\n",
       "      <td>0.851926</td>\n",
       "      <td>0.933333</td>\n",
       "      <td>0.038409</td>\n",
       "      <td>0.073781</td>\n",
       "      <td>0.330917</td>\n",
       "    </tr>\n",
       "  </tbody>\n",
       "</table>\n",
       "</div>"
      ],
      "text/plain": [
       "                    model  Accuracy   ROC_AUC  Precision    Recall        f1  \\\n",
       "0  VotingClassifier2_soft  0.864181  0.851926   0.933333  0.038409  0.073781   \n",
       "\n",
       "    Logloss  \n",
       "0  0.330917  "
      ]
     },
     "execution_count": 299,
     "metadata": {},
     "output_type": "execute_result"
    }
   ],
   "source": [
    "metrics = get_metrics_classification(y_test_main, y_predicted, y_score, name='VotingClassifier2_soft')\n",
    "metrics"
   ]
  },
  {
   "cell_type": "code",
   "execution_count": 300,
   "id": "d9cffe6b-d7e8-4486-a977-6055522aeca5",
   "metadata": {},
   "outputs": [
    {
     "name": "stdout",
     "output_type": "stream",
     "text": [
      "roc_auc_score train: 0.907\n",
      "roc_auc_score test: 0.852\n",
      "delta = 6.4 %\n"
     ]
    }
   ],
   "source": [
    "check_overfitting(model=vt_clf, X_train=X_train_main_, X_test=X_test_main, y_train=y_train_main_, y_test=y_test_main, metric_fun=roc_auc_score)"
   ]
  },
  {
   "cell_type": "markdown",
   "id": "ad287f22-766a-4ce6-b643-5f9446c69937",
   "metadata": {
    "jp-MarkdownHeadingCollapsed": true
   },
   "source": [
    "# Combining"
   ]
  },
  {
   "cell_type": "markdown",
   "id": "3e7ba362-12fc-4de2-83b5-4d2c181475f1",
   "metadata": {},
   "source": [
    "нужно переобучать для правильного meta_X_test"
   ]
  },
  {
   "cell_type": "code",
   "execution_count": 268,
   "id": "fcb17d25-b344-4151-a8c1-42ef0192950b",
   "metadata": {},
   "outputs": [
    {
     "data": {
      "text/html": [
       "<style>#sk-container-id-8 {color: black;}#sk-container-id-8 pre{padding: 0;}#sk-container-id-8 div.sk-toggleable {background-color: white;}#sk-container-id-8 label.sk-toggleable__label {cursor: pointer;display: block;width: 100%;margin-bottom: 0;padding: 0.3em;box-sizing: border-box;text-align: center;}#sk-container-id-8 label.sk-toggleable__label-arrow:before {content: \"▸\";float: left;margin-right: 0.25em;color: #696969;}#sk-container-id-8 label.sk-toggleable__label-arrow:hover:before {color: black;}#sk-container-id-8 div.sk-estimator:hover label.sk-toggleable__label-arrow:before {color: black;}#sk-container-id-8 div.sk-toggleable__content {max-height: 0;max-width: 0;overflow: hidden;text-align: left;background-color: #f0f8ff;}#sk-container-id-8 div.sk-toggleable__content pre {margin: 0.2em;color: black;border-radius: 0.25em;background-color: #f0f8ff;}#sk-container-id-8 input.sk-toggleable__control:checked~div.sk-toggleable__content {max-height: 200px;max-width: 100%;overflow: auto;}#sk-container-id-8 input.sk-toggleable__control:checked~label.sk-toggleable__label-arrow:before {content: \"▾\";}#sk-container-id-8 div.sk-estimator input.sk-toggleable__control:checked~label.sk-toggleable__label {background-color: #d4ebff;}#sk-container-id-8 div.sk-label input.sk-toggleable__control:checked~label.sk-toggleable__label {background-color: #d4ebff;}#sk-container-id-8 input.sk-hidden--visually {border: 0;clip: rect(1px 1px 1px 1px);clip: rect(1px, 1px, 1px, 1px);height: 1px;margin: -1px;overflow: hidden;padding: 0;position: absolute;width: 1px;}#sk-container-id-8 div.sk-estimator {font-family: monospace;background-color: #f0f8ff;border: 1px dotted black;border-radius: 0.25em;box-sizing: border-box;margin-bottom: 0.5em;}#sk-container-id-8 div.sk-estimator:hover {background-color: #d4ebff;}#sk-container-id-8 div.sk-parallel-item::after {content: \"\";width: 100%;border-bottom: 1px solid gray;flex-grow: 1;}#sk-container-id-8 div.sk-label:hover label.sk-toggleable__label {background-color: #d4ebff;}#sk-container-id-8 div.sk-serial::before {content: \"\";position: absolute;border-left: 1px solid gray;box-sizing: border-box;top: 0;bottom: 0;left: 50%;z-index: 0;}#sk-container-id-8 div.sk-serial {display: flex;flex-direction: column;align-items: center;background-color: white;padding-right: 0.2em;padding-left: 0.2em;position: relative;}#sk-container-id-8 div.sk-item {position: relative;z-index: 1;}#sk-container-id-8 div.sk-parallel {display: flex;align-items: stretch;justify-content: center;background-color: white;position: relative;}#sk-container-id-8 div.sk-item::before, #sk-container-id-8 div.sk-parallel-item::before {content: \"\";position: absolute;border-left: 1px solid gray;box-sizing: border-box;top: 0;bottom: 0;left: 50%;z-index: -1;}#sk-container-id-8 div.sk-parallel-item {display: flex;flex-direction: column;z-index: 1;position: relative;background-color: white;}#sk-container-id-8 div.sk-parallel-item:first-child::after {align-self: flex-end;width: 50%;}#sk-container-id-8 div.sk-parallel-item:last-child::after {align-self: flex-start;width: 50%;}#sk-container-id-8 div.sk-parallel-item:only-child::after {width: 0;}#sk-container-id-8 div.sk-dashed-wrapped {border: 1px dashed gray;margin: 0 0.4em 0.5em 0.4em;box-sizing: border-box;padding-bottom: 0.4em;background-color: white;}#sk-container-id-8 div.sk-label label {font-family: monospace;font-weight: bold;display: inline-block;line-height: 1.2em;}#sk-container-id-8 div.sk-label-container {text-align: center;}#sk-container-id-8 div.sk-container {/* jupyter's `normalize.less` sets `[hidden] { display: none; }` but bootstrap.min.css set `[hidden] { display: none !important; }` so we also need the `!important` here to be able to override the default hidden behavior on the sphinx rendered scikit-learn.org. See: https://github.com/scikit-learn/scikit-learn/issues/21755 */display: inline-block !important;position: relative;}#sk-container-id-8 div.sk-text-repr-fallback {display: none;}</style><div id=\"sk-container-id-8\" class=\"sk-top-container\"><div class=\"sk-text-repr-fallback\"><pre>KNeighborsClassifier()</pre><b>In a Jupyter environment, please rerun this cell to show the HTML representation or trust the notebook. <br />On GitHub, the HTML representation is unable to render, please try loading this page with nbviewer.org.</b></div><div class=\"sk-container\" hidden><div class=\"sk-item\"><div class=\"sk-estimator sk-toggleable\"><input class=\"sk-toggleable__control sk-hidden--visually\" id=\"sk-estimator-id-50\" type=\"checkbox\" checked><label for=\"sk-estimator-id-50\" class=\"sk-toggleable__label sk-toggleable__label-arrow\">KNeighborsClassifier</label><div class=\"sk-toggleable__content\"><pre>KNeighborsClassifier()</pre></div></div></div></div></div>"
      ],
      "text/plain": [
       "KNeighborsClassifier()"
      ]
     },
     "execution_count": 268,
     "metadata": {},
     "output_type": "execute_result"
    }
   ],
   "source": [
    "# st_clf = KNeighborsClassifier()\n",
    "# st_clf.fit(meta_X, y_train_main_)"
   ]
  },
  {
   "cell_type": "code",
   "execution_count": 269,
   "id": "b4e8979e-96a4-4081-8760-deb870f8a121",
   "metadata": {},
   "outputs": [
    {
     "data": {
      "text/plain": [
       "array([0, 0, 0, ..., 0, 0, 0])"
      ]
     },
     "execution_count": 269,
     "metadata": {},
     "output_type": "execute_result"
    }
   ],
   "source": [
    "# st_clf.predict(meta_X_test)"
   ]
  },
  {
   "cell_type": "code",
   "execution_count": 161,
   "id": "165200d9-991e-45de-8e82-3851eba1101c",
   "metadata": {},
   "outputs": [
    {
     "data": {
      "text/html": [
       "<div>\n",
       "<style scoped>\n",
       "    .dataframe tbody tr th:only-of-type {\n",
       "        vertical-align: middle;\n",
       "    }\n",
       "\n",
       "    .dataframe tbody tr th {\n",
       "        vertical-align: top;\n",
       "    }\n",
       "\n",
       "    .dataframe thead th {\n",
       "        text-align: right;\n",
       "    }\n",
       "</style>\n",
       "<table border=\"1\" class=\"dataframe\">\n",
       "  <thead>\n",
       "    <tr style=\"text-align: right;\">\n",
       "      <th></th>\n",
       "      <th>model</th>\n",
       "      <th>Accuracy</th>\n",
       "      <th>ROC_AUC</th>\n",
       "      <th>Precision</th>\n",
       "      <th>Recall</th>\n",
       "      <th>f1</th>\n",
       "      <th>Logloss</th>\n",
       "    </tr>\n",
       "  </thead>\n",
       "  <tbody>\n",
       "    <tr>\n",
       "      <th>0</th>\n",
       "      <td>LGBM Baseline</td>\n",
       "      <td>0.800638</td>\n",
       "      <td>0.862970</td>\n",
       "      <td>0.389952</td>\n",
       "      <td>0.738671</td>\n",
       "      <td>0.510438</td>\n",
       "      <td>0.428073</td>\n",
       "    </tr>\n",
       "    <tr>\n",
       "      <th>0</th>\n",
       "      <td>LGBM Tuned</td>\n",
       "      <td>0.790861</td>\n",
       "      <td>0.865632</td>\n",
       "      <td>0.378765</td>\n",
       "      <td>0.759819</td>\n",
       "      <td>0.505528</td>\n",
       "      <td>0.438761</td>\n",
       "    </tr>\n",
       "    <tr>\n",
       "      <th>0</th>\n",
       "      <td>XGB Tuned</td>\n",
       "      <td>0.889692</td>\n",
       "      <td>0.867243</td>\n",
       "      <td>0.699164</td>\n",
       "      <td>0.379154</td>\n",
       "      <td>0.491675</td>\n",
       "      <td>0.278191</td>\n",
       "    </tr>\n",
       "    <tr>\n",
       "      <th>0</th>\n",
       "      <td>Catboost Baseline</td>\n",
       "      <td>0.809352</td>\n",
       "      <td>0.862692</td>\n",
       "      <td>0.401509</td>\n",
       "      <td>0.723565</td>\n",
       "      <td>0.516442</td>\n",
       "      <td>0.413952</td>\n",
       "    </tr>\n",
       "    <tr>\n",
       "      <th>0</th>\n",
       "      <td>Rand Forest Tuned</td>\n",
       "      <td>0.830818</td>\n",
       "      <td>0.866874</td>\n",
       "      <td>0.438078</td>\n",
       "      <td>0.716012</td>\n",
       "      <td>0.543578</td>\n",
       "      <td>0.398924</td>\n",
       "    </tr>\n",
       "    <tr>\n",
       "      <th>0</th>\n",
       "      <td>Log Reg</td>\n",
       "      <td>0.792986</td>\n",
       "      <td>0.853735</td>\n",
       "      <td>0.381098</td>\n",
       "      <td>0.755287</td>\n",
       "      <td>0.506586</td>\n",
       "      <td>0.474962</td>\n",
       "    </tr>\n",
       "    <tr>\n",
       "      <th>0</th>\n",
       "      <td>VotingClassifier_soft</td>\n",
       "      <td>0.887991</td>\n",
       "      <td>0.867172</td>\n",
       "      <td>0.718447</td>\n",
       "      <td>0.335347</td>\n",
       "      <td>0.457261</td>\n",
       "      <td>0.279168</td>\n",
       "    </tr>\n",
       "    <tr>\n",
       "      <th>0</th>\n",
       "      <td>Meta KNN</td>\n",
       "      <td>0.844208</td>\n",
       "      <td>0.516457</td>\n",
       "      <td>0.191304</td>\n",
       "      <td>0.033233</td>\n",
       "      <td>0.056628</td>\n",
       "      <td>2.550210</td>\n",
       "    </tr>\n",
       "  </tbody>\n",
       "</table>\n",
       "</div>"
      ],
      "text/plain": [
       "                   model  Accuracy   ROC_AUC  Precision    Recall        f1  \\\n",
       "0          LGBM Baseline  0.800638  0.862970   0.389952  0.738671  0.510438   \n",
       "0             LGBM Tuned  0.790861  0.865632   0.378765  0.759819  0.505528   \n",
       "0              XGB Tuned  0.889692  0.867243   0.699164  0.379154  0.491675   \n",
       "0      Catboost Baseline  0.809352  0.862692   0.401509  0.723565  0.516442   \n",
       "0      Rand Forest Tuned  0.830818  0.866874   0.438078  0.716012  0.543578   \n",
       "0                Log Reg  0.792986  0.853735   0.381098  0.755287  0.506586   \n",
       "0  VotingClassifier_soft  0.887991  0.867172   0.718447  0.335347  0.457261   \n",
       "0               Meta KNN  0.844208  0.516457   0.191304  0.033233  0.056628   \n",
       "\n",
       "    Logloss  \n",
       "0  0.428073  \n",
       "0  0.438761  \n",
       "0  0.278191  \n",
       "0  0.413952  \n",
       "0  0.398924  \n",
       "0  0.474962  \n",
       "0  0.279168  \n",
       "0  2.550210  "
      ]
     },
     "execution_count": 161,
     "metadata": {},
     "output_type": "execute_result"
    }
   ],
   "source": [
    "# metrics = pd.concat([metrics, get_metrics_classification(y_test_main, st_clf.predict(meta_X_test), st_clf.predict_proba(meta_X_test), name='Meta KNN')])\n",
    "# metrics"
   ]
  },
  {
   "cell_type": "code",
   "execution_count": 162,
   "id": "8aaeaaed-bded-4f22-bd45-9002e086ec03",
   "metadata": {},
   "outputs": [
    {
     "data": {
      "text/html": [
       "<style>#sk-container-id-4 {color: black;}#sk-container-id-4 pre{padding: 0;}#sk-container-id-4 div.sk-toggleable {background-color: white;}#sk-container-id-4 label.sk-toggleable__label {cursor: pointer;display: block;width: 100%;margin-bottom: 0;padding: 0.3em;box-sizing: border-box;text-align: center;}#sk-container-id-4 label.sk-toggleable__label-arrow:before {content: \"▸\";float: left;margin-right: 0.25em;color: #696969;}#sk-container-id-4 label.sk-toggleable__label-arrow:hover:before {color: black;}#sk-container-id-4 div.sk-estimator:hover label.sk-toggleable__label-arrow:before {color: black;}#sk-container-id-4 div.sk-toggleable__content {max-height: 0;max-width: 0;overflow: hidden;text-align: left;background-color: #f0f8ff;}#sk-container-id-4 div.sk-toggleable__content pre {margin: 0.2em;color: black;border-radius: 0.25em;background-color: #f0f8ff;}#sk-container-id-4 input.sk-toggleable__control:checked~div.sk-toggleable__content {max-height: 200px;max-width: 100%;overflow: auto;}#sk-container-id-4 input.sk-toggleable__control:checked~label.sk-toggleable__label-arrow:before {content: \"▾\";}#sk-container-id-4 div.sk-estimator input.sk-toggleable__control:checked~label.sk-toggleable__label {background-color: #d4ebff;}#sk-container-id-4 div.sk-label input.sk-toggleable__control:checked~label.sk-toggleable__label {background-color: #d4ebff;}#sk-container-id-4 input.sk-hidden--visually {border: 0;clip: rect(1px 1px 1px 1px);clip: rect(1px, 1px, 1px, 1px);height: 1px;margin: -1px;overflow: hidden;padding: 0;position: absolute;width: 1px;}#sk-container-id-4 div.sk-estimator {font-family: monospace;background-color: #f0f8ff;border: 1px dotted black;border-radius: 0.25em;box-sizing: border-box;margin-bottom: 0.5em;}#sk-container-id-4 div.sk-estimator:hover {background-color: #d4ebff;}#sk-container-id-4 div.sk-parallel-item::after {content: \"\";width: 100%;border-bottom: 1px solid gray;flex-grow: 1;}#sk-container-id-4 div.sk-label:hover label.sk-toggleable__label {background-color: #d4ebff;}#sk-container-id-4 div.sk-serial::before {content: \"\";position: absolute;border-left: 1px solid gray;box-sizing: border-box;top: 0;bottom: 0;left: 50%;z-index: 0;}#sk-container-id-4 div.sk-serial {display: flex;flex-direction: column;align-items: center;background-color: white;padding-right: 0.2em;padding-left: 0.2em;position: relative;}#sk-container-id-4 div.sk-item {position: relative;z-index: 1;}#sk-container-id-4 div.sk-parallel {display: flex;align-items: stretch;justify-content: center;background-color: white;position: relative;}#sk-container-id-4 div.sk-item::before, #sk-container-id-4 div.sk-parallel-item::before {content: \"\";position: absolute;border-left: 1px solid gray;box-sizing: border-box;top: 0;bottom: 0;left: 50%;z-index: -1;}#sk-container-id-4 div.sk-parallel-item {display: flex;flex-direction: column;z-index: 1;position: relative;background-color: white;}#sk-container-id-4 div.sk-parallel-item:first-child::after {align-self: flex-end;width: 50%;}#sk-container-id-4 div.sk-parallel-item:last-child::after {align-self: flex-start;width: 50%;}#sk-container-id-4 div.sk-parallel-item:only-child::after {width: 0;}#sk-container-id-4 div.sk-dashed-wrapped {border: 1px dashed gray;margin: 0 0.4em 0.5em 0.4em;box-sizing: border-box;padding-bottom: 0.4em;background-color: white;}#sk-container-id-4 div.sk-label label {font-family: monospace;font-weight: bold;display: inline-block;line-height: 1.2em;}#sk-container-id-4 div.sk-label-container {text-align: center;}#sk-container-id-4 div.sk-container {/* jupyter's `normalize.less` sets `[hidden] { display: none; }` but bootstrap.min.css set `[hidden] { display: none !important; }` so we also need the `!important` here to be able to override the default hidden behavior on the sphinx rendered scikit-learn.org. See: https://github.com/scikit-learn/scikit-learn/issues/21755 */display: inline-block !important;position: relative;}#sk-container-id-4 div.sk-text-repr-fallback {display: none;}</style><div id=\"sk-container-id-4\" class=\"sk-top-container\"><div class=\"sk-text-repr-fallback\"><pre>LogisticRegression(class_weight=&#x27;balanced&#x27;, random_state=10)</pre><b>In a Jupyter environment, please rerun this cell to show the HTML representation or trust the notebook. <br />On GitHub, the HTML representation is unable to render, please try loading this page with nbviewer.org.</b></div><div class=\"sk-container\" hidden><div class=\"sk-item\"><div class=\"sk-estimator sk-toggleable\"><input class=\"sk-toggleable__control sk-hidden--visually\" id=\"sk-estimator-id-16\" type=\"checkbox\" checked><label for=\"sk-estimator-id-16\" class=\"sk-toggleable__label sk-toggleable__label-arrow\">LogisticRegression</label><div class=\"sk-toggleable__content\"><pre>LogisticRegression(class_weight=&#x27;balanced&#x27;, random_state=10)</pre></div></div></div></div></div>"
      ],
      "text/plain": [
       "LogisticRegression(class_weight='balanced', random_state=10)"
      ]
     },
     "execution_count": 162,
     "metadata": {},
     "output_type": "execute_result"
    }
   ],
   "source": [
    "# st_clf = LogisticRegression(random_state=RAND, class_weight='balanced')\n",
    "# st_clf.fit(meta_X, y_train_main)"
   ]
  },
  {
   "cell_type": "code",
   "execution_count": 163,
   "id": "d980ed2c-4d48-4d3b-ab87-438c515db133",
   "metadata": {},
   "outputs": [
    {
     "data": {
      "text/plain": [
       "array([1, 0, 0, ..., 1, 0, 1])"
      ]
     },
     "execution_count": 163,
     "metadata": {},
     "output_type": "execute_result"
    }
   ],
   "source": [
    "# st_clf.predict(meta_X_test)"
   ]
  },
  {
   "cell_type": "code",
   "execution_count": 164,
   "id": "642f9a7a-27a1-4873-8a35-6179c37a9364",
   "metadata": {},
   "outputs": [
    {
     "data": {
      "text/html": [
       "<div>\n",
       "<style scoped>\n",
       "    .dataframe tbody tr th:only-of-type {\n",
       "        vertical-align: middle;\n",
       "    }\n",
       "\n",
       "    .dataframe tbody tr th {\n",
       "        vertical-align: top;\n",
       "    }\n",
       "\n",
       "    .dataframe thead th {\n",
       "        text-align: right;\n",
       "    }\n",
       "</style>\n",
       "<table border=\"1\" class=\"dataframe\">\n",
       "  <thead>\n",
       "    <tr style=\"text-align: right;\">\n",
       "      <th></th>\n",
       "      <th>model</th>\n",
       "      <th>Accuracy</th>\n",
       "      <th>ROC_AUC</th>\n",
       "      <th>Precision</th>\n",
       "      <th>Recall</th>\n",
       "      <th>f1</th>\n",
       "      <th>Logloss</th>\n",
       "    </tr>\n",
       "  </thead>\n",
       "  <tbody>\n",
       "    <tr>\n",
       "      <th>0</th>\n",
       "      <td>LGBM Baseline</td>\n",
       "      <td>0.800638</td>\n",
       "      <td>0.862970</td>\n",
       "      <td>0.389952</td>\n",
       "      <td>0.738671</td>\n",
       "      <td>0.510438</td>\n",
       "      <td>0.428073</td>\n",
       "    </tr>\n",
       "    <tr>\n",
       "      <th>0</th>\n",
       "      <td>LGBM Tuned</td>\n",
       "      <td>0.790861</td>\n",
       "      <td>0.865632</td>\n",
       "      <td>0.378765</td>\n",
       "      <td>0.759819</td>\n",
       "      <td>0.505528</td>\n",
       "      <td>0.438761</td>\n",
       "    </tr>\n",
       "    <tr>\n",
       "      <th>0</th>\n",
       "      <td>XGB Tuned</td>\n",
       "      <td>0.889692</td>\n",
       "      <td>0.867243</td>\n",
       "      <td>0.699164</td>\n",
       "      <td>0.379154</td>\n",
       "      <td>0.491675</td>\n",
       "      <td>0.278191</td>\n",
       "    </tr>\n",
       "    <tr>\n",
       "      <th>0</th>\n",
       "      <td>Catboost Baseline</td>\n",
       "      <td>0.809352</td>\n",
       "      <td>0.862692</td>\n",
       "      <td>0.401509</td>\n",
       "      <td>0.723565</td>\n",
       "      <td>0.516442</td>\n",
       "      <td>0.413952</td>\n",
       "    </tr>\n",
       "    <tr>\n",
       "      <th>0</th>\n",
       "      <td>Rand Forest Tuned</td>\n",
       "      <td>0.830818</td>\n",
       "      <td>0.866874</td>\n",
       "      <td>0.438078</td>\n",
       "      <td>0.716012</td>\n",
       "      <td>0.543578</td>\n",
       "      <td>0.398924</td>\n",
       "    </tr>\n",
       "    <tr>\n",
       "      <th>0</th>\n",
       "      <td>Log Reg</td>\n",
       "      <td>0.792986</td>\n",
       "      <td>0.853735</td>\n",
       "      <td>0.381098</td>\n",
       "      <td>0.755287</td>\n",
       "      <td>0.506586</td>\n",
       "      <td>0.474962</td>\n",
       "    </tr>\n",
       "    <tr>\n",
       "      <th>0</th>\n",
       "      <td>VotingClassifier_soft</td>\n",
       "      <td>0.887991</td>\n",
       "      <td>0.867172</td>\n",
       "      <td>0.718447</td>\n",
       "      <td>0.335347</td>\n",
       "      <td>0.457261</td>\n",
       "      <td>0.279168</td>\n",
       "    </tr>\n",
       "    <tr>\n",
       "      <th>0</th>\n",
       "      <td>Meta KNN</td>\n",
       "      <td>0.844208</td>\n",
       "      <td>0.516457</td>\n",
       "      <td>0.191304</td>\n",
       "      <td>0.033233</td>\n",
       "      <td>0.056628</td>\n",
       "      <td>2.550210</td>\n",
       "    </tr>\n",
       "    <tr>\n",
       "      <th>0</th>\n",
       "      <td>Meta Log Reg</td>\n",
       "      <td>0.416578</td>\n",
       "      <td>0.305151</td>\n",
       "      <td>0.074029</td>\n",
       "      <td>0.273414</td>\n",
       "      <td>0.116511</td>\n",
       "      <td>0.693900</td>\n",
       "    </tr>\n",
       "  </tbody>\n",
       "</table>\n",
       "</div>"
      ],
      "text/plain": [
       "                   model  Accuracy   ROC_AUC  Precision    Recall        f1  \\\n",
       "0          LGBM Baseline  0.800638  0.862970   0.389952  0.738671  0.510438   \n",
       "0             LGBM Tuned  0.790861  0.865632   0.378765  0.759819  0.505528   \n",
       "0              XGB Tuned  0.889692  0.867243   0.699164  0.379154  0.491675   \n",
       "0      Catboost Baseline  0.809352  0.862692   0.401509  0.723565  0.516442   \n",
       "0      Rand Forest Tuned  0.830818  0.866874   0.438078  0.716012  0.543578   \n",
       "0                Log Reg  0.792986  0.853735   0.381098  0.755287  0.506586   \n",
       "0  VotingClassifier_soft  0.887991  0.867172   0.718447  0.335347  0.457261   \n",
       "0               Meta KNN  0.844208  0.516457   0.191304  0.033233  0.056628   \n",
       "0           Meta Log Reg  0.416578  0.305151   0.074029  0.273414  0.116511   \n",
       "\n",
       "    Logloss  \n",
       "0  0.428073  \n",
       "0  0.438761  \n",
       "0  0.278191  \n",
       "0  0.413952  \n",
       "0  0.398924  \n",
       "0  0.474962  \n",
       "0  0.279168  \n",
       "0  2.550210  \n",
       "0  0.693900  "
      ]
     },
     "execution_count": 164,
     "metadata": {},
     "output_type": "execute_result"
    }
   ],
   "source": [
    "# metrics = pd.concat([metrics, get_metrics_classification(y_test_main, st_clf.predict(meta_X_test), st_clf.predict_proba(meta_X_test), name='Meta Log Reg')])\n",
    "# metrics"
   ]
  },
  {
   "cell_type": "markdown",
   "id": "600896a2-a043-4184-802f-4532ede462c2",
   "metadata": {},
   "source": [
    "# Stacking"
   ]
  },
  {
   "cell_type": "code",
   "execution_count": 277,
   "id": "b3e5ed1a-9340-42ba-9413-c26b502b2a2c",
   "metadata": {},
   "outputs": [],
   "source": [
    "estimators = list()\n",
    "estimators.append(('LGBM Baseline', LGBMClassifier(random_state=RAND, is_unbalance=True)))\n",
    "estimators.append(('LGBM Tuned', LGBMClassifier(**study.best_params, is_unbalance=True, random_state=RAND, metric='AUC')))\n",
    "estimators.append(('XGB Tuned', XGBClassifier(**study_xgb.best_params, random_state=RAND, objective='binary:logistic')))\n",
    "estimators.append(('Catboost Baseline', CatBoostClassifier(random_state=RAND, auto_class_weights='Balanced', verbose=False)))\n",
    "estimators.append(('Random Forest Tuned', RandomForestClassifier(**study_rf.best_params, random_state=RAND, class_weight='balanced')))\n",
    "estimators.append(('Logistic Regression', LogisticRegression(class_weight='balanced', random_state=RAND)))\n",
    "# meta_model = KNeighborsClassifier() # Stacking_sklearn\n",
    "meta_model = LogisticRegression(class_weight='balanced', random_state=RAND) # Stacking_sklearn2"
   ]
  },
  {
   "cell_type": "code",
   "execution_count": 301,
   "id": "36d6d035-1241-4e2e-87fc-7b16241f3fda",
   "metadata": {},
   "outputs": [],
   "source": [
    "SC = StackingClassifier(estimators=estimators, final_estimator=meta_model, cv=5)\n",
    "SC.fit(X_train_main_, y_train_main_)\n",
    "y_pred = SC.predict(X_test_main)\n",
    "y_score = SC.predict_proba(X_test_main)"
   ]
  },
  {
   "cell_type": "code",
   "execution_count": 302,
   "id": "16196a9a-94b3-47b3-a6d9-98f420553d84",
   "metadata": {},
   "outputs": [
    {
     "data": {
      "text/html": [
       "<div>\n",
       "<style scoped>\n",
       "    .dataframe tbody tr th:only-of-type {\n",
       "        vertical-align: middle;\n",
       "    }\n",
       "\n",
       "    .dataframe tbody tr th {\n",
       "        vertical-align: top;\n",
       "    }\n",
       "\n",
       "    .dataframe thead th {\n",
       "        text-align: right;\n",
       "    }\n",
       "</style>\n",
       "<table border=\"1\" class=\"dataframe\">\n",
       "  <thead>\n",
       "    <tr style=\"text-align: right;\">\n",
       "      <th></th>\n",
       "      <th>model</th>\n",
       "      <th>Accuracy</th>\n",
       "      <th>ROC_AUC</th>\n",
       "      <th>Precision</th>\n",
       "      <th>Recall</th>\n",
       "      <th>f1</th>\n",
       "      <th>Logloss</th>\n",
       "    </tr>\n",
       "  </thead>\n",
       "  <tbody>\n",
       "    <tr>\n",
       "      <th>0</th>\n",
       "      <td>VotingClassifier2_soft</td>\n",
       "      <td>0.864181</td>\n",
       "      <td>0.851926</td>\n",
       "      <td>0.933333</td>\n",
       "      <td>0.038409</td>\n",
       "      <td>0.073781</td>\n",
       "      <td>0.330917</td>\n",
       "    </tr>\n",
       "    <tr>\n",
       "      <th>0</th>\n",
       "      <td>Stacking_sklearn2</td>\n",
       "      <td>0.880796</td>\n",
       "      <td>0.854871</td>\n",
       "      <td>0.598246</td>\n",
       "      <td>0.467764</td>\n",
       "      <td>0.525019</td>\n",
       "      <td>0.341665</td>\n",
       "    </tr>\n",
       "  </tbody>\n",
       "</table>\n",
       "</div>"
      ],
      "text/plain": [
       "                    model  Accuracy   ROC_AUC  Precision    Recall        f1  \\\n",
       "0  VotingClassifier2_soft  0.864181  0.851926   0.933333  0.038409  0.073781   \n",
       "0       Stacking_sklearn2  0.880796  0.854871   0.598246  0.467764  0.525019   \n",
       "\n",
       "    Logloss  \n",
       "0  0.330917  \n",
       "0  0.341665  "
      ]
     },
     "execution_count": 302,
     "metadata": {},
     "output_type": "execute_result"
    }
   ],
   "source": [
    "metrics = pd.concat([metrics, get_metrics_classification(y_test_main, y_pred, y_score, name='Stacking_sklearn2')])\n",
    "metrics"
   ]
  },
  {
   "cell_type": "code",
   "execution_count": 303,
   "id": "6c32d654-68c0-40d2-b461-a6570c6a91a5",
   "metadata": {},
   "outputs": [
    {
     "name": "stdout",
     "output_type": "stream",
     "text": [
      "roc_auc_score train: 0.900\n",
      "roc_auc_score test: 0.855\n",
      "delta = 5.2 %\n"
     ]
    }
   ],
   "source": [
    "check_overfitting(model=SC, X_train=X_train_main_, X_test=X_test_main, y_train=y_train_main_, y_test=y_test_main, metric_fun=roc_auc_score)"
   ]
  },
  {
   "cell_type": "markdown",
   "id": "2adf295e-bbc5-4e68-b904-3dcdf39dc440",
   "metadata": {
    "jp-MarkdownHeadingCollapsed": true
   },
   "source": [
    "# Blending"
   ]
  },
  {
   "cell_type": "code",
   "execution_count": 284,
   "id": "11c26871-80f4-4350-8f79-a2a323483b84",
   "metadata": {},
   "outputs": [],
   "source": [
    "from sklearn.base import BaseEstimator, ClassifierMixin\n",
    "\n",
    "\n",
    "class BlendingClassifier(BaseEstimator, ClassifierMixin):\n",
    "    def __init__(self, models, ens_model):\n",
    "        \"\"\"\n",
    "        models - базовые модели для стекинга\n",
    "        ens_model - мета-модель\n",
    "        \"\"\"\n",
    "        self.models = models\n",
    "        self.ens_model = ens_model\n",
    "\n",
    "    def fit(self,\n",
    "            X: pd.DataFrame,\n",
    "            y: pd.Series,\n",
    "            test_size: float = 0.15,\n",
    "            random_state: int = 10):\n",
    "        \"\"\"\n",
    "        Обучение ансамбля моделей\n",
    "        \"\"\"\n",
    "        X_train, X_val, y_train, y_val = train_test_split(\n",
    "            X, y, stratify=y, test_size=test_size, random_state=random_state)\n",
    "\n",
    "        # список с новыми признаками на validation\n",
    "        meta_X = list()\n",
    "\n",
    "        for model in self.models:\n",
    "            # обучение на train датасете\n",
    "            model.fit(X_train, y_train)\n",
    "            # ответы на validation выборке\n",
    "            yhat = model.predict(X_val)\n",
    "            # преобразование в столбец\n",
    "            yhat = yhat.reshape(len(yhat), 1)\n",
    "            # запись в новый датасет\n",
    "            meta_X.append(yhat)\n",
    "\n",
    "        meta_X = np.hstack(meta_X)\n",
    "        # обучение мета-алгоритма\n",
    "        self.ens_model.fit(meta_X, y_val)\n",
    "        return self\n",
    "\n",
    "    def predict(self, X: pd.DataFrame) -> np.array:\n",
    "        \"\"\"\n",
    "        получение прогнозов - классов\n",
    "        \"\"\"\n",
    "        meta_X = list()\n",
    "        \n",
    "        for model in self.models:\n",
    "            # ответы на test выборке\n",
    "            yhat = model.predict(X)      \n",
    "            yhat = yhat.reshape(len(yhat), 1)\n",
    "            meta_X.append(yhat)\n",
    "        meta_X = np.hstack(meta_X)\n",
    "        return self.ens_model.predict(meta_X)\n",
    "\n",
    "    def predict_proba(self, X: pd.DataFrame) -> np.array:\n",
    "        \"\"\"\n",
    "        получение прогнозов - вероятностей\n",
    "        \"\"\"\n",
    "        meta_X = list()\n",
    "        \n",
    "        for model in self.models:\n",
    "            # ответы на test выборке\n",
    "            yhat = model.predict(X)\n",
    "            yhat = yhat.reshape(len(yhat), 1)\n",
    "            meta_X.append(yhat)\n",
    "        meta_X = np.hstack(meta_X)\n",
    "        \n",
    "        return self.ens_model.predict_proba(meta_X)"
   ]
  },
  {
   "cell_type": "code",
   "execution_count": 285,
   "id": "6ac6a674-8d7e-41cb-bde5-40ca7b294c73",
   "metadata": {},
   "outputs": [],
   "source": [
    "clb_lg1 = CalibratedClassifierCV(base_estimator=model1, method='isotonic', cv=3)\n",
    "clb_lg2 = CalibratedClassifierCV(base_estimator=model2, method='isotonic', cv=3)\n",
    "clb_xg1 = CalibratedClassifierCV(base_estimator=model3, method='isotonic', cv=3)\n",
    "clb_cb1 = CalibratedClassifierCV(base_estimator=model4, method='isotonic', cv=3)\n",
    "clb_rf1 = CalibratedClassifierCV(base_estimator=model5, method='isotonic', cv=3)\n",
    "clb_lr1 = CalibratedClassifierCV(base_estimator=model6, method='isotonic', cv=3)\n",
    "models = [clb_lg1, clb_lg2, clb_xg1, clb_cb1, clb_rf1, clb_lr1]\n",
    "meta_model = LogisticRegression(class_weight='balanced', random_state=RAND)\n",
    "# meta_model = KNN"
   ]
  },
  {
   "cell_type": "code",
   "execution_count": 292,
   "id": "db0c015b-9fe5-42a7-8164-bfbc4a79b792",
   "metadata": {
    "scrolled": true
   },
   "outputs": [
    {
     "data": {
      "text/html": [
       "<style>#sk-container-id-11 {color: black;}#sk-container-id-11 pre{padding: 0;}#sk-container-id-11 div.sk-toggleable {background-color: white;}#sk-container-id-11 label.sk-toggleable__label {cursor: pointer;display: block;width: 100%;margin-bottom: 0;padding: 0.3em;box-sizing: border-box;text-align: center;}#sk-container-id-11 label.sk-toggleable__label-arrow:before {content: \"▸\";float: left;margin-right: 0.25em;color: #696969;}#sk-container-id-11 label.sk-toggleable__label-arrow:hover:before {color: black;}#sk-container-id-11 div.sk-estimator:hover label.sk-toggleable__label-arrow:before {color: black;}#sk-container-id-11 div.sk-toggleable__content {max-height: 0;max-width: 0;overflow: hidden;text-align: left;background-color: #f0f8ff;}#sk-container-id-11 div.sk-toggleable__content pre {margin: 0.2em;color: black;border-radius: 0.25em;background-color: #f0f8ff;}#sk-container-id-11 input.sk-toggleable__control:checked~div.sk-toggleable__content {max-height: 200px;max-width: 100%;overflow: auto;}#sk-container-id-11 input.sk-toggleable__control:checked~label.sk-toggleable__label-arrow:before {content: \"▾\";}#sk-container-id-11 div.sk-estimator input.sk-toggleable__control:checked~label.sk-toggleable__label {background-color: #d4ebff;}#sk-container-id-11 div.sk-label input.sk-toggleable__control:checked~label.sk-toggleable__label {background-color: #d4ebff;}#sk-container-id-11 input.sk-hidden--visually {border: 0;clip: rect(1px 1px 1px 1px);clip: rect(1px, 1px, 1px, 1px);height: 1px;margin: -1px;overflow: hidden;padding: 0;position: absolute;width: 1px;}#sk-container-id-11 div.sk-estimator {font-family: monospace;background-color: #f0f8ff;border: 1px dotted black;border-radius: 0.25em;box-sizing: border-box;margin-bottom: 0.5em;}#sk-container-id-11 div.sk-estimator:hover {background-color: #d4ebff;}#sk-container-id-11 div.sk-parallel-item::after {content: \"\";width: 100%;border-bottom: 1px solid gray;flex-grow: 1;}#sk-container-id-11 div.sk-label:hover label.sk-toggleable__label {background-color: #d4ebff;}#sk-container-id-11 div.sk-serial::before {content: \"\";position: absolute;border-left: 1px solid gray;box-sizing: border-box;top: 0;bottom: 0;left: 50%;z-index: 0;}#sk-container-id-11 div.sk-serial {display: flex;flex-direction: column;align-items: center;background-color: white;padding-right: 0.2em;padding-left: 0.2em;position: relative;}#sk-container-id-11 div.sk-item {position: relative;z-index: 1;}#sk-container-id-11 div.sk-parallel {display: flex;align-items: stretch;justify-content: center;background-color: white;position: relative;}#sk-container-id-11 div.sk-item::before, #sk-container-id-11 div.sk-parallel-item::before {content: \"\";position: absolute;border-left: 1px solid gray;box-sizing: border-box;top: 0;bottom: 0;left: 50%;z-index: -1;}#sk-container-id-11 div.sk-parallel-item {display: flex;flex-direction: column;z-index: 1;position: relative;background-color: white;}#sk-container-id-11 div.sk-parallel-item:first-child::after {align-self: flex-end;width: 50%;}#sk-container-id-11 div.sk-parallel-item:last-child::after {align-self: flex-start;width: 50%;}#sk-container-id-11 div.sk-parallel-item:only-child::after {width: 0;}#sk-container-id-11 div.sk-dashed-wrapped {border: 1px dashed gray;margin: 0 0.4em 0.5em 0.4em;box-sizing: border-box;padding-bottom: 0.4em;background-color: white;}#sk-container-id-11 div.sk-label label {font-family: monospace;font-weight: bold;display: inline-block;line-height: 1.2em;}#sk-container-id-11 div.sk-label-container {text-align: center;}#sk-container-id-11 div.sk-container {/* jupyter's `normalize.less` sets `[hidden] { display: none; }` but bootstrap.min.css set `[hidden] { display: none !important; }` so we also need the `!important` here to be able to override the default hidden behavior on the sphinx rendered scikit-learn.org. See: https://github.com/scikit-learn/scikit-learn/issues/21755 */display: inline-block !important;position: relative;}#sk-container-id-11 div.sk-text-repr-fallback {display: none;}</style><div id=\"sk-container-id-11\" class=\"sk-top-container\"><div class=\"sk-text-repr-fallback\"><pre>BlendingClassifier(ens_model=LogisticRegression(class_weight=&#x27;balanced&#x27;,\n",
       "                                                random_state=10),\n",
       "                   models=[CalibratedClassifierCV(base_estimator=LGBMClassifier(is_unbalance=True,\n",
       "                                                                                random_state=10),\n",
       "                                                  cv=3, method=&#x27;isotonic&#x27;),\n",
       "                           CalibratedClassifierCV(base_estimator=LGBMClassifier(colsample_bytree=0.5010681356698323,\n",
       "                                                                                is_unbalance=True,\n",
       "                                                                                learning_rate=0.002721375447672638...\n",
       "                           CalibratedClassifierCV(base_estimator=RandomForestClassifier(class_weight=&#x27;balanced&#x27;,\n",
       "                                                                                        max_depth=13,\n",
       "                                                                                        max_samples=0.8053623789842076,\n",
       "                                                                                        min_samples_leaf=7,\n",
       "                                                                                        min_samples_split=14,\n",
       "                                                                                        n_estimators=730,\n",
       "                                                                                        n_jobs=-1,\n",
       "                                                                                        random_state=10),\n",
       "                                                  cv=3, method=&#x27;isotonic&#x27;),\n",
       "                           CalibratedClassifierCV(base_estimator=LogisticRegression(class_weight=&#x27;balanced&#x27;,\n",
       "                                                                                    random_state=10),\n",
       "                                                  cv=3, method=&#x27;isotonic&#x27;)])</pre><b>In a Jupyter environment, please rerun this cell to show the HTML representation or trust the notebook. <br />On GitHub, the HTML representation is unable to render, please try loading this page with nbviewer.org.</b></div><div class=\"sk-container\" hidden><div class=\"sk-item sk-dashed-wrapped\"><div class=\"sk-label-container\"><div class=\"sk-label sk-toggleable\"><input class=\"sk-toggleable__control sk-hidden--visually\" id=\"sk-estimator-id-57\" type=\"checkbox\" ><label for=\"sk-estimator-id-57\" class=\"sk-toggleable__label sk-toggleable__label-arrow\">BlendingClassifier</label><div class=\"sk-toggleable__content\"><pre>BlendingClassifier(ens_model=LogisticRegression(class_weight=&#x27;balanced&#x27;,\n",
       "                                                random_state=10),\n",
       "                   models=[CalibratedClassifierCV(base_estimator=LGBMClassifier(is_unbalance=True,\n",
       "                                                                                random_state=10),\n",
       "                                                  cv=3, method=&#x27;isotonic&#x27;),\n",
       "                           CalibratedClassifierCV(base_estimator=LGBMClassifier(colsample_bytree=0.5010681356698323,\n",
       "                                                                                is_unbalance=True,\n",
       "                                                                                learning_rate=0.002721375447672638...\n",
       "                           CalibratedClassifierCV(base_estimator=RandomForestClassifier(class_weight=&#x27;balanced&#x27;,\n",
       "                                                                                        max_depth=13,\n",
       "                                                                                        max_samples=0.8053623789842076,\n",
       "                                                                                        min_samples_leaf=7,\n",
       "                                                                                        min_samples_split=14,\n",
       "                                                                                        n_estimators=730,\n",
       "                                                                                        n_jobs=-1,\n",
       "                                                                                        random_state=10),\n",
       "                                                  cv=3, method=&#x27;isotonic&#x27;),\n",
       "                           CalibratedClassifierCV(base_estimator=LogisticRegression(class_weight=&#x27;balanced&#x27;,\n",
       "                                                                                    random_state=10),\n",
       "                                                  cv=3, method=&#x27;isotonic&#x27;)])</pre></div></div></div><div class=\"sk-parallel\"><div class=\"sk-parallel-item\"><div class=\"sk-item\"><div class=\"sk-label-container\"><div class=\"sk-label sk-toggleable\"><input class=\"sk-toggleable__control sk-hidden--visually\" id=\"sk-estimator-id-58\" type=\"checkbox\" ><label for=\"sk-estimator-id-58\" class=\"sk-toggleable__label sk-toggleable__label-arrow\">ens_model: LogisticRegression</label><div class=\"sk-toggleable__content\"><pre>LogisticRegression(class_weight=&#x27;balanced&#x27;, random_state=10)</pre></div></div></div><div class=\"sk-serial\"><div class=\"sk-item\"><div class=\"sk-estimator sk-toggleable\"><input class=\"sk-toggleable__control sk-hidden--visually\" id=\"sk-estimator-id-59\" type=\"checkbox\" ><label for=\"sk-estimator-id-59\" class=\"sk-toggleable__label sk-toggleable__label-arrow\">LogisticRegression</label><div class=\"sk-toggleable__content\"><pre>LogisticRegression(class_weight=&#x27;balanced&#x27;, random_state=10)</pre></div></div></div></div></div></div></div></div></div></div>"
      ],
      "text/plain": [
       "BlendingClassifier(ens_model=LogisticRegression(class_weight='balanced',\n",
       "                                                random_state=10),\n",
       "                   models=[CalibratedClassifierCV(base_estimator=LGBMClassifier(is_unbalance=True,\n",
       "                                                                                random_state=10),\n",
       "                                                  cv=3, method='isotonic'),\n",
       "                           CalibratedClassifierCV(base_estimator=LGBMClassifier(colsample_bytree=0.5010681356698323,\n",
       "                                                                                is_unbalance=True,\n",
       "                                                                                learning_rate=0.002721375447672638...\n",
       "                           CalibratedClassifierCV(base_estimator=RandomForestClassifier(class_weight='balanced',\n",
       "                                                                                        max_depth=13,\n",
       "                                                                                        max_samples=0.8053623789842076,\n",
       "                                                                                        min_samples_leaf=7,\n",
       "                                                                                        min_samples_split=14,\n",
       "                                                                                        n_estimators=730,\n",
       "                                                                                        n_jobs=-1,\n",
       "                                                                                        random_state=10),\n",
       "                                                  cv=3, method='isotonic'),\n",
       "                           CalibratedClassifierCV(base_estimator=LogisticRegression(class_weight='balanced',\n",
       "                                                                                    random_state=10),\n",
       "                                                  cv=3, method='isotonic')])"
      ]
     },
     "execution_count": 292,
     "metadata": {},
     "output_type": "execute_result"
    }
   ],
   "source": [
    "blended = BlendingClassifier(models, meta_model)\n",
    "blended.fit(X=X_train_main_, y=y_train_main_, random_state=RAND)"
   ]
  },
  {
   "cell_type": "code",
   "execution_count": 293,
   "id": "d40678e4-efc1-4f33-a6f6-330fa35cff94",
   "metadata": {},
   "outputs": [],
   "source": [
    "y_predicted = blended.predict(X_test_main)\n",
    "y_score = blended.predict_proba(X_test_main)"
   ]
  },
  {
   "cell_type": "code",
   "execution_count": 294,
   "id": "9235188a-1f75-4d43-b563-33429a0e1eed",
   "metadata": {},
   "outputs": [
    {
     "data": {
      "text/html": [
       "<div>\n",
       "<style scoped>\n",
       "    .dataframe tbody tr th:only-of-type {\n",
       "        vertical-align: middle;\n",
       "    }\n",
       "\n",
       "    .dataframe tbody tr th {\n",
       "        vertical-align: top;\n",
       "    }\n",
       "\n",
       "    .dataframe thead th {\n",
       "        text-align: right;\n",
       "    }\n",
       "</style>\n",
       "<table border=\"1\" class=\"dataframe\">\n",
       "  <thead>\n",
       "    <tr style=\"text-align: right;\">\n",
       "      <th></th>\n",
       "      <th>model</th>\n",
       "      <th>Accuracy</th>\n",
       "      <th>ROC_AUC</th>\n",
       "      <th>Precision</th>\n",
       "      <th>Recall</th>\n",
       "      <th>f1</th>\n",
       "      <th>Logloss</th>\n",
       "    </tr>\n",
       "  </thead>\n",
       "  <tbody>\n",
       "    <tr>\n",
       "      <th>0</th>\n",
       "      <td>VotingClassifier2_soft</td>\n",
       "      <td>0.888910</td>\n",
       "      <td>0.868881</td>\n",
       "      <td>0.723837</td>\n",
       "      <td>0.341564</td>\n",
       "      <td>0.464119</td>\n",
       "      <td>0.278015</td>\n",
       "    </tr>\n",
       "    <tr>\n",
       "      <th>0</th>\n",
       "      <td>Stacking_sklearn1</td>\n",
       "      <td>0.870363</td>\n",
       "      <td>0.780259</td>\n",
       "      <td>0.564732</td>\n",
       "      <td>0.347051</td>\n",
       "      <td>0.429907</td>\n",
       "      <td>1.565811</td>\n",
       "    </tr>\n",
       "    <tr>\n",
       "      <th>0</th>\n",
       "      <td>Stacking_sklearn1</td>\n",
       "      <td>0.863988</td>\n",
       "      <td>0.728480</td>\n",
       "      <td>0.735849</td>\n",
       "      <td>0.053498</td>\n",
       "      <td>0.099744</td>\n",
       "      <td>2.063903</td>\n",
       "    </tr>\n",
       "    <tr>\n",
       "      <th>0</th>\n",
       "      <td>Stacking_sklearn2</td>\n",
       "      <td>0.797334</td>\n",
       "      <td>0.868534</td>\n",
       "      <td>0.389959</td>\n",
       "      <td>0.777778</td>\n",
       "      <td>0.519469</td>\n",
       "      <td>0.458494</td>\n",
       "    </tr>\n",
       "    <tr>\n",
       "      <th>0</th>\n",
       "      <td>Stacking_sklearn2</td>\n",
       "      <td>0.880796</td>\n",
       "      <td>0.854871</td>\n",
       "      <td>0.598246</td>\n",
       "      <td>0.467764</td>\n",
       "      <td>0.525019</td>\n",
       "      <td>0.341665</td>\n",
       "    </tr>\n",
       "    <tr>\n",
       "      <th>0</th>\n",
       "      <td>Blending</td>\n",
       "      <td>0.863988</td>\n",
       "      <td>0.730214</td>\n",
       "      <td>0.516426</td>\n",
       "      <td>0.539095</td>\n",
       "      <td>0.527517</td>\n",
       "      <td>0.559061</td>\n",
       "    </tr>\n",
       "    <tr>\n",
       "      <th>0</th>\n",
       "      <td>Blending</td>\n",
       "      <td>0.887172</td>\n",
       "      <td>0.688200</td>\n",
       "      <td>0.667436</td>\n",
       "      <td>0.396433</td>\n",
       "      <td>0.497418</td>\n",
       "      <td>0.563449</td>\n",
       "    </tr>\n",
       "    <tr>\n",
       "      <th>0</th>\n",
       "      <td>Blending</td>\n",
       "      <td>0.863988</td>\n",
       "      <td>0.730214</td>\n",
       "      <td>0.516426</td>\n",
       "      <td>0.539095</td>\n",
       "      <td>0.527517</td>\n",
       "      <td>0.559061</td>\n",
       "    </tr>\n",
       "  </tbody>\n",
       "</table>\n",
       "</div>"
      ],
      "text/plain": [
       "                    model  Accuracy   ROC_AUC  Precision    Recall        f1  \\\n",
       "0  VotingClassifier2_soft  0.888910  0.868881   0.723837  0.341564  0.464119   \n",
       "0       Stacking_sklearn1  0.870363  0.780259   0.564732  0.347051  0.429907   \n",
       "0       Stacking_sklearn1  0.863988  0.728480   0.735849  0.053498  0.099744   \n",
       "0       Stacking_sklearn2  0.797334  0.868534   0.389959  0.777778  0.519469   \n",
       "0       Stacking_sklearn2  0.880796  0.854871   0.598246  0.467764  0.525019   \n",
       "0                Blending  0.863988  0.730214   0.516426  0.539095  0.527517   \n",
       "0                Blending  0.887172  0.688200   0.667436  0.396433  0.497418   \n",
       "0                Blending  0.863988  0.730214   0.516426  0.539095  0.527517   \n",
       "\n",
       "    Logloss  \n",
       "0  0.278015  \n",
       "0  1.565811  \n",
       "0  2.063903  \n",
       "0  0.458494  \n",
       "0  0.341665  \n",
       "0  0.559061  \n",
       "0  0.563449  \n",
       "0  0.559061  "
      ]
     },
     "execution_count": 294,
     "metadata": {},
     "output_type": "execute_result"
    }
   ],
   "source": [
    "metrics = pd.concat([metrics, get_metrics_classification(y_test_main, y_predicted, y_score, name='Blending')])\n",
    "metrics"
   ]
  },
  {
   "cell_type": "code",
   "execution_count": 296,
   "id": "aa16e957-ef39-4aaf-a23d-a86497631354",
   "metadata": {},
   "outputs": [
    {
     "name": "stdout",
     "output_type": "stream",
     "text": [
      "roc_auc_score train: 0.703\n",
      "roc_auc_score test: 0.730\n",
      "delta = 3.7 %\n"
     ]
    }
   ],
   "source": [
    "check_overfitting(model=blended, X_train=X_train_main_, X_test=X_test_main, y_train=y_train_main_, y_test=y_test_main, metric_fun=roc_auc_score)"
   ]
  },
  {
   "cell_type": "markdown",
   "id": "04af8a9d-6e0f-4d1b-ac8f-9e55cd274f00",
   "metadata": {
    "jp-MarkdownHeadingCollapsed": true
   },
   "source": [
    "# Test submission"
   ]
  },
  {
   "cell_type": "code",
   "execution_count": 310,
   "id": "f977a15d-4ec1-49fc-98ab-9297bad3f3a4",
   "metadata": {},
   "outputs": [],
   "source": [
    "test = pd.read_csv('../data/kaggle/affrica_fin_incl/Test.csv')\n",
    "checker = test.copy()\n",
    "checker.drop(columns='uniqueid', inplace=True)\n",
    "checker = pd.get_dummies(checker)\n",
    "checker[numeric_columns] = sc.transform(checker[numeric_columns])"
   ]
  },
  {
   "cell_type": "code",
   "execution_count": 315,
   "id": "8ef5dfb7-be52-42d9-a134-14c190b7429e",
   "metadata": {},
   "outputs": [],
   "source": [
    "test['bank_account'] = model6.predict(checker)\n",
    "submission = pd.DataFrame({\"uniqueid\": test[\"uniqueid\"] + \" x \" + test[\"country\"],\n",
    "                           \"bank_account\": test.bank_account})\n",
    "submission.to_csv('6_sumb.csv', index = False)"
   ]
  },
  {
   "cell_type": "code",
   "execution_count": 312,
   "id": "04c2f794-d4f8-4d2d-a4cc-0a904f19184a",
   "metadata": {},
   "outputs": [
    {
     "data": {
      "text/html": [
       "<div>\n",
       "<style scoped>\n",
       "    .dataframe tbody tr th:only-of-type {\n",
       "        vertical-align: middle;\n",
       "    }\n",
       "\n",
       "    .dataframe tbody tr th {\n",
       "        vertical-align: top;\n",
       "    }\n",
       "\n",
       "    .dataframe thead th {\n",
       "        text-align: right;\n",
       "    }\n",
       "</style>\n",
       "<table border=\"1\" class=\"dataframe\">\n",
       "  <thead>\n",
       "    <tr style=\"text-align: right;\">\n",
       "      <th></th>\n",
       "      <th>model</th>\n",
       "      <th>Accuracy</th>\n",
       "      <th>ROC_AUC</th>\n",
       "      <th>Precision</th>\n",
       "      <th>Recall</th>\n",
       "      <th>f1</th>\n",
       "      <th>Logloss</th>\n",
       "    </tr>\n",
       "  </thead>\n",
       "  <tbody>\n",
       "    <tr>\n",
       "      <th>0</th>\n",
       "      <td>LGBM Baseline</td>\n",
       "      <td>0.872875</td>\n",
       "      <td>0.799159</td>\n",
       "      <td>0.738255</td>\n",
       "      <td>0.150892</td>\n",
       "      <td>0.250569</td>\n",
       "      <td>0.385490</td>\n",
       "    </tr>\n",
       "    <tr>\n",
       "      <th>0</th>\n",
       "      <td>LGBM Tuned</td>\n",
       "      <td>0.880410</td>\n",
       "      <td>0.847495</td>\n",
       "      <td>0.772277</td>\n",
       "      <td>0.213992</td>\n",
       "      <td>0.335124</td>\n",
       "      <td>0.315372</td>\n",
       "    </tr>\n",
       "    <tr>\n",
       "      <th>0</th>\n",
       "      <td>XGB Tuned</td>\n",
       "      <td>0.861476</td>\n",
       "      <td>0.848149</td>\n",
       "      <td>0.875000</td>\n",
       "      <td>0.019204</td>\n",
       "      <td>0.037584</td>\n",
       "      <td>0.479110</td>\n",
       "    </tr>\n",
       "    <tr>\n",
       "      <th>0</th>\n",
       "      <td>Catboost Baseline</td>\n",
       "      <td>0.872295</td>\n",
       "      <td>0.838464</td>\n",
       "      <td>0.854167</td>\n",
       "      <td>0.112483</td>\n",
       "      <td>0.198788</td>\n",
       "      <td>0.377549</td>\n",
       "    </tr>\n",
       "    <tr>\n",
       "      <th>0</th>\n",
       "      <td>Rand For Tuned</td>\n",
       "      <td>0.883114</td>\n",
       "      <td>0.855856</td>\n",
       "      <td>0.632479</td>\n",
       "      <td>0.406036</td>\n",
       "      <td>0.494570</td>\n",
       "      <td>0.332283</td>\n",
       "    </tr>\n",
       "    <tr>\n",
       "      <th>0</th>\n",
       "      <td>Log Reg Baseline</td>\n",
       "      <td>0.626352</td>\n",
       "      <td>0.847655</td>\n",
       "      <td>0.257740</td>\n",
       "      <td>0.879287</td>\n",
       "      <td>0.398632</td>\n",
       "      <td>0.662171</td>\n",
       "    </tr>\n",
       "  </tbody>\n",
       "</table>\n",
       "</div>"
      ],
      "text/plain": [
       "               model  Accuracy   ROC_AUC  Precision    Recall        f1  \\\n",
       "0      LGBM Baseline  0.872875  0.799159   0.738255  0.150892  0.250569   \n",
       "0         LGBM Tuned  0.880410  0.847495   0.772277  0.213992  0.335124   \n",
       "0          XGB Tuned  0.861476  0.848149   0.875000  0.019204  0.037584   \n",
       "0  Catboost Baseline  0.872295  0.838464   0.854167  0.112483  0.198788   \n",
       "0     Rand For Tuned  0.883114  0.855856   0.632479  0.406036  0.494570   \n",
       "0   Log Reg Baseline  0.626352  0.847655   0.257740  0.879287  0.398632   \n",
       "\n",
       "    Logloss  \n",
       "0  0.385490  \n",
       "0  0.315372  \n",
       "0  0.479110  \n",
       "0  0.377549  \n",
       "0  0.332283  \n",
       "0  0.662171  "
      ]
     },
     "execution_count": 312,
     "metadata": {},
     "output_type": "execute_result"
    }
   ],
   "source": [
    "metrics_test"
   ]
  },
  {
   "cell_type": "code",
   "execution_count": null,
   "id": "42678e36-1916-4d76-9c14-8315a68366c7",
   "metadata": {},
   "outputs": [],
   "source": []
  }
 ],
 "metadata": {
  "kernelspec": {
   "display_name": "Python 3 (ipykernel)",
   "language": "python",
   "name": "python3"
  },
  "language_info": {
   "codemirror_mode": {
    "name": "ipython",
    "version": 3
   },
   "file_extension": ".py",
   "mimetype": "text/x-python",
   "name": "python",
   "nbconvert_exporter": "python",
   "pygments_lexer": "ipython3",
   "version": "3.12.1"
  }
 },
 "nbformat": 4,
 "nbformat_minor": 5
}
